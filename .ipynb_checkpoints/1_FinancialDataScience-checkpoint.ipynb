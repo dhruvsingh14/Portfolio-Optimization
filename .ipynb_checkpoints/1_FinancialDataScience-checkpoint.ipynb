{
 "cells": [
  {
   "cell_type": "markdown",
   "metadata": {},
   "source": [
    "<img src=\"http://eikon.tpq.io/refinitiv_logo.png\" width=\"28%\" align=\"left\" style=\"vertical-align: top; padding-top: 23px;\">\n",
    "<img src=\"http://hilpisch.com/tpq_logo_long.png\" width=\"36%\" align=\"right\" style=\"vertical-align: top;\">"
   ]
  },
  {
   "cell_type": "markdown",
   "metadata": {},
   "source": [
    "# Eikon Data API"
   ]
  },
  {
   "cell_type": "markdown",
   "metadata": {},
   "source": [
    "**Cross-Asset Financial Analytics &mdash; The Random Walk Hypothesis Revisited**\n",
    "\n",
    "Dr. Yves J. Hilpisch | The Python Quants GmbH\n",
    "\n",
    "<a href=\"http://tpq.io\" target=\"_blank\">http://tpq.io</a> | <a href=\"http://twitter.com/dyjh\" target=\"_blank\">@dyjh</a> | <a href=\"mailto:training@tpq.io\">training@tpq.io</a>\n",
    "\n",
    "<img src=\"http://hilpisch.com/images/tr_eikon_02.png\" width=350px align=left>"
   ]
  },
  {
   "cell_type": "markdown",
   "metadata": {},
   "source": [
    "## The Agenda"
   ]
  },
  {
   "cell_type": "markdown",
   "metadata": {},
   "source": [
    "This tutorial shows\n",
    "\n",
    "* how to retrieve historical data across asset classes via the Eikon Data API,\n",
    "* how to work with such data using `pandas`, `Plotly` and `Cufflinks` and\n",
    "* how to derive support for the Random Walk Hypothesis from financial time series data."
   ]
  },
  {
   "cell_type": "markdown",
   "metadata": {},
   "source": [
    "## Random Walk Hypothesis"
   ]
  },
  {
   "cell_type": "markdown",
   "metadata": {},
   "source": [
    "Eugene F. Fama (1965): “Random Walks in Stock Market Prices”:\n",
    "\n",
    "> “For many years, economists, statisticians, and teachers of finance have been interested in developing and testing models of stock price behavior. One important model that has evolved from this research is the theory of random walks. This theory casts serious doubt on many other methods for describing and predicting stock price behavior—methods that have considerable popularity outside the academic world. For example, we shall see later that, if the random-walk theory is an accurate description of reality, then the various “technical” or “chartist” procedures for predicting stock prices are completely without value.”"
   ]
  },
  {
   "cell_type": "markdown",
   "metadata": {},
   "source": [
    "Michael Jensen (1978): “Some Anomalous Evidence Regarding Market Efficiency”:\n",
    "\n",
    ">“A market is efficient with respect to an information set S if it is impossible to make economic profits by trading on the basis of information set S.”"
   ]
  },
  {
   "cell_type": "markdown",
   "metadata": {},
   "source": [
    "If a stock price follows a (simple) random walk (no drift & normally distributed returns), then it rises and falls with the same probability of 50% (“toss of a coin”).\n",
    "\n",
    "**In such a case, the best predictor of tomorrow’s stock price — in a least-squares sense — is today’s stock price.**"
   ]
  },
  {
   "cell_type": "markdown",
   "metadata": {},
   "source": [
    "## Importing Required Packages"
   ]
  },
  {
   "cell_type": "code",
   "execution_count": 1,
   "metadata": {},
   "outputs": [
    {
     "data": {
      "text/html": [
       "        <script type=\"text/javascript\">\n",
       "        window.PlotlyConfig = {MathJaxConfig: 'local'};\n",
       "        if (window.MathJax && window.MathJax.Hub && window.MathJax.Hub.Config) {window.MathJax.Hub.Config({SVG: {font: \"STIX-Web\"}});}\n",
       "        if (typeof require !== 'undefined') {\n",
       "        require.undef(\"plotly\");\n",
       "        requirejs.config({\n",
       "            paths: {\n",
       "                'plotly': ['https://cdn.plot.ly/plotly-2.12.1.min']\n",
       "            }\n",
       "        });\n",
       "        require(['plotly'], function(Plotly) {\n",
       "            window._Plotly = Plotly;\n",
       "        });\n",
       "        }\n",
       "        </script>\n",
       "        "
      ]
     },
     "metadata": {},
     "output_type": "display_data"
    }
   ],
   "source": [
    "import eikon as ek  # the Eikon Python wrapper package\n",
    "import numpy as np  # NumPy\n",
    "import pandas as pd  # pandas\n",
    "import cufflinks as cf  # Cufflinks\n",
    "import configparser as cp"
   ]
  },
  {
   "cell_type": "markdown",
   "metadata": {},
   "source": [
    "The following **Python and package versions** are used."
   ]
  },
  {
   "cell_type": "code",
   "execution_count": 2,
   "metadata": {},
   "outputs": [
    {
     "name": "stdout",
     "output_type": "stream",
     "text": [
      "3.9.13 (main, Aug 25 2022, 23:51:50) [MSC v.1916 64 bit (AMD64)]\n"
     ]
    }
   ],
   "source": [
    "import sys\n",
    "print(sys.version)"
   ]
  },
  {
   "cell_type": "code",
   "execution_count": 3,
   "metadata": {},
   "outputs": [
    {
     "data": {
      "text/plain": [
       "'1.1.16'"
      ]
     },
     "execution_count": 3,
     "metadata": {},
     "output_type": "execute_result"
    }
   ],
   "source": [
    "ek.__version__"
   ]
  },
  {
   "cell_type": "code",
   "execution_count": 4,
   "metadata": {},
   "outputs": [
    {
     "data": {
      "text/plain": [
       "'1.21.5'"
      ]
     },
     "execution_count": 4,
     "metadata": {},
     "output_type": "execute_result"
    }
   ],
   "source": [
    "np.__version__"
   ]
  },
  {
   "cell_type": "code",
   "execution_count": 5,
   "metadata": {},
   "outputs": [
    {
     "data": {
      "text/plain": [
       "'1.4.4'"
      ]
     },
     "execution_count": 5,
     "metadata": {},
     "output_type": "execute_result"
    }
   ],
   "source": [
    "pd.__version__"
   ]
  },
  {
   "cell_type": "code",
   "execution_count": 6,
   "metadata": {},
   "outputs": [
    {
     "data": {
      "text/plain": [
       "'0.17.3'"
      ]
     },
     "execution_count": 6,
     "metadata": {},
     "output_type": "execute_result"
    }
   ],
   "source": [
    "cf.__version__"
   ]
  },
  {
   "cell_type": "markdown",
   "metadata": {},
   "source": [
    "## Connecting to Eikon Data API"
   ]
  },
  {
   "cell_type": "markdown",
   "metadata": {},
   "source": [
    "This code sets the `app_id` to connect to the **Eikon Data API Proxy** which needs to be running locally."
   ]
  },
  {
   "cell_type": "code",
   "execution_count": 7,
   "metadata": {},
   "outputs": [
    {
     "data": {
      "text/plain": [
       "[]"
      ]
     },
     "execution_count": 7,
     "metadata": {},
     "output_type": "execute_result"
    }
   ],
   "source": [
    "cfg = cp.ConfigParser()\n",
    "cfg.read('eikon.cfg')"
   ]
  },
  {
   "cell_type": "code",
   "execution_count": 8,
   "metadata": {},
   "outputs": [],
   "source": [
    "# ek.set_app_key(cfg['eikon']['app_id']) #set_app_id function being deprecated\n",
    "ek.set_app_key('92bffb6063bf4087a7c422252d16476aa5fe962a')"
   ]
  },
  {
   "cell_type": "markdown",
   "metadata": {},
   "source": [
    "## Retrieving Cross-Asset Data"
   ]
  },
  {
   "cell_type": "markdown",
   "metadata": {},
   "source": [
    "We first define a **small universe of `RICS`** for which to retrieve data."
   ]
  },
  {
   "cell_type": "markdown",
   "metadata": {},
   "source": [
    "Second, **end-of-day (EOD) data** is retrieved."
   ]
  },
  {
   "cell_type": "code",
   "execution_count": 9,
   "metadata": {},
   "outputs": [],
   "source": [
    "rics = ['JPM', 'BAC', 'WFC', 'MS', 'GS', 'C', 'BCS']"
   ]
  },
  {
   "cell_type": "code",
   "execution_count": 10,
   "metadata": {},
   "outputs": [],
   "source": [
    "data = ek.get_timeseries(rics, \n",
    "                         fields='CLOSE',\n",
    "                         start_date='2017-01-01',\n",
    "                         end_date='2017-12-31')"
   ]
  },
  {
   "cell_type": "code",
   "execution_count": 11,
   "metadata": {},
   "outputs": [
    {
     "data": {
      "text/html": [
       "<div>\n",
       "<style scoped>\n",
       "    .dataframe tbody tr th:only-of-type {\n",
       "        vertical-align: middle;\n",
       "    }\n",
       "\n",
       "    .dataframe tbody tr th {\n",
       "        vertical-align: top;\n",
       "    }\n",
       "\n",
       "    .dataframe thead th {\n",
       "        text-align: right;\n",
       "    }\n",
       "</style>\n",
       "<table border=\"1\" class=\"dataframe\">\n",
       "  <thead>\n",
       "    <tr style=\"text-align: right;\">\n",
       "      <th>CLOSE</th>\n",
       "      <th>JPM</th>\n",
       "      <th>BAC</th>\n",
       "      <th>WFC</th>\n",
       "      <th>MS</th>\n",
       "      <th>GS</th>\n",
       "      <th>C</th>\n",
       "      <th>BCS</th>\n",
       "    </tr>\n",
       "    <tr>\n",
       "      <th>Date</th>\n",
       "      <th></th>\n",
       "      <th></th>\n",
       "      <th></th>\n",
       "      <th></th>\n",
       "      <th></th>\n",
       "      <th></th>\n",
       "      <th></th>\n",
       "    </tr>\n",
       "  </thead>\n",
       "  <tbody>\n",
       "    <tr>\n",
       "      <th>2017-01-03</th>\n",
       "      <td>87.23</td>\n",
       "      <td>22.53</td>\n",
       "      <td>56.0</td>\n",
       "      <td>43.05</td>\n",
       "      <td>241.57</td>\n",
       "      <td>60.59</td>\n",
       "      <td>11.37</td>\n",
       "    </tr>\n",
       "    <tr>\n",
       "      <th>2017-01-04</th>\n",
       "      <td>86.91</td>\n",
       "      <td>22.95</td>\n",
       "      <td>56.05</td>\n",
       "      <td>43.62</td>\n",
       "      <td>243.13</td>\n",
       "      <td>61.41</td>\n",
       "      <td>11.6</td>\n",
       "    </tr>\n",
       "    <tr>\n",
       "      <th>2017-01-05</th>\n",
       "      <td>86.11</td>\n",
       "      <td>22.68</td>\n",
       "      <td>55.18</td>\n",
       "      <td>43.22</td>\n",
       "      <td>241.32</td>\n",
       "      <td>60.34</td>\n",
       "      <td>11.54</td>\n",
       "    </tr>\n",
       "    <tr>\n",
       "      <th>2017-01-06</th>\n",
       "      <td>86.12</td>\n",
       "      <td>22.68</td>\n",
       "      <td>55.04</td>\n",
       "      <td>43.85</td>\n",
       "      <td>244.9</td>\n",
       "      <td>60.55</td>\n",
       "      <td>11.54</td>\n",
       "    </tr>\n",
       "    <tr>\n",
       "      <th>2017-01-09</th>\n",
       "      <td>86.18</td>\n",
       "      <td>22.55</td>\n",
       "      <td>54.24</td>\n",
       "      <td>42.71</td>\n",
       "      <td>242.89</td>\n",
       "      <td>60.22</td>\n",
       "      <td>11.33</td>\n",
       "    </tr>\n",
       "  </tbody>\n",
       "</table>\n",
       "</div>"
      ],
      "text/plain": [
       "CLOSE         JPM    BAC    WFC     MS      GS      C    BCS\n",
       "Date                                                        \n",
       "2017-01-03  87.23  22.53   56.0  43.05  241.57  60.59  11.37\n",
       "2017-01-04  86.91  22.95  56.05  43.62  243.13  61.41   11.6\n",
       "2017-01-05  86.11  22.68  55.18  43.22  241.32  60.34  11.54\n",
       "2017-01-06  86.12  22.68  55.04  43.85   244.9  60.55  11.54\n",
       "2017-01-09  86.18  22.55  54.24  42.71  242.89  60.22  11.33"
      ]
     },
     "execution_count": 11,
     "metadata": {},
     "output_type": "execute_result"
    }
   ],
   "source": [
    "data.head()  # first five rows"
   ]
  },
  {
   "cell_type": "code",
   "execution_count": 12,
   "metadata": {},
   "outputs": [
    {
     "data": {
      "text/html": [
       "<div>\n",
       "<style scoped>\n",
       "    .dataframe tbody tr th:only-of-type {\n",
       "        vertical-align: middle;\n",
       "    }\n",
       "\n",
       "    .dataframe tbody tr th {\n",
       "        vertical-align: top;\n",
       "    }\n",
       "\n",
       "    .dataframe thead th {\n",
       "        text-align: right;\n",
       "    }\n",
       "</style>\n",
       "<table border=\"1\" class=\"dataframe\">\n",
       "  <thead>\n",
       "    <tr style=\"text-align: right;\">\n",
       "      <th>CLOSE</th>\n",
       "      <th>JPM</th>\n",
       "      <th>BAC</th>\n",
       "      <th>WFC</th>\n",
       "      <th>MS</th>\n",
       "      <th>GS</th>\n",
       "      <th>C</th>\n",
       "      <th>BCS</th>\n",
       "    </tr>\n",
       "    <tr>\n",
       "      <th>Date</th>\n",
       "      <th></th>\n",
       "      <th></th>\n",
       "      <th></th>\n",
       "      <th></th>\n",
       "      <th></th>\n",
       "      <th></th>\n",
       "      <th></th>\n",
       "    </tr>\n",
       "  </thead>\n",
       "  <tbody>\n",
       "    <tr>\n",
       "      <th>2017-12-22</th>\n",
       "      <td>107.45</td>\n",
       "      <td>29.88</td>\n",
       "      <td>61.55</td>\n",
       "      <td>52.72</td>\n",
       "      <td>258.97</td>\n",
       "      <td>75.49</td>\n",
       "      <td>10.85</td>\n",
       "    </tr>\n",
       "    <tr>\n",
       "      <th>2017-12-26</th>\n",
       "      <td>107.02</td>\n",
       "      <td>29.78</td>\n",
       "      <td>61.13</td>\n",
       "      <td>52.47</td>\n",
       "      <td>257.72</td>\n",
       "      <td>74.78</td>\n",
       "      <td>10.81</td>\n",
       "    </tr>\n",
       "    <tr>\n",
       "      <th>2017-12-27</th>\n",
       "      <td>107.22</td>\n",
       "      <td>29.73</td>\n",
       "      <td>60.95</td>\n",
       "      <td>52.57</td>\n",
       "      <td>255.95</td>\n",
       "      <td>74.89</td>\n",
       "      <td>10.82</td>\n",
       "    </tr>\n",
       "    <tr>\n",
       "      <th>2017-12-28</th>\n",
       "      <td>107.79</td>\n",
       "      <td>29.8</td>\n",
       "      <td>61.3</td>\n",
       "      <td>52.65</td>\n",
       "      <td>256.5</td>\n",
       "      <td>75.08</td>\n",
       "      <td>10.93</td>\n",
       "    </tr>\n",
       "    <tr>\n",
       "      <th>2017-12-29</th>\n",
       "      <td>106.94</td>\n",
       "      <td>29.52</td>\n",
       "      <td>60.67</td>\n",
       "      <td>52.47</td>\n",
       "      <td>254.76</td>\n",
       "      <td>74.41</td>\n",
       "      <td>10.9</td>\n",
       "    </tr>\n",
       "  </tbody>\n",
       "</table>\n",
       "</div>"
      ],
      "text/plain": [
       "CLOSE          JPM    BAC    WFC     MS      GS      C    BCS\n",
       "Date                                                         \n",
       "2017-12-22  107.45  29.88  61.55  52.72  258.97  75.49  10.85\n",
       "2017-12-26  107.02  29.78  61.13  52.47  257.72  74.78  10.81\n",
       "2017-12-27  107.22  29.73  60.95  52.57  255.95  74.89  10.82\n",
       "2017-12-28  107.79   29.8   61.3  52.65   256.5  75.08  10.93\n",
       "2017-12-29  106.94  29.52  60.67  52.47  254.76  74.41   10.9"
      ]
     },
     "execution_count": 12,
     "metadata": {},
     "output_type": "execute_result"
    }
   ],
   "source": [
    "data.tail()  # final five rows"
   ]
  },
  {
   "cell_type": "markdown",
   "metadata": {},
   "source": [
    "Only complete data rows are selected."
   ]
  },
  {
   "cell_type": "code",
   "execution_count": 13,
   "metadata": {},
   "outputs": [],
   "source": [
    "data.dropna(inplace=True)  # deletes tows with NaN values"
   ]
  },
  {
   "cell_type": "code",
   "execution_count": 14,
   "metadata": {},
   "outputs": [
    {
     "name": "stdout",
     "output_type": "stream",
     "text": [
      "<class 'pandas.core.frame.DataFrame'>\n",
      "DatetimeIndex: 251 entries, 2017-01-03 to 2017-12-29\n",
      "Data columns (total 7 columns):\n",
      " #   Column  Non-Null Count  Dtype  \n",
      "---  ------  --------------  -----  \n",
      " 0   JPM     251 non-null    Float64\n",
      " 1   BAC     251 non-null    Float64\n",
      " 2   WFC     251 non-null    Float64\n",
      " 3   MS      251 non-null    Float64\n",
      " 4   GS      251 non-null    Float64\n",
      " 5   C       251 non-null    Float64\n",
      " 6   BCS     251 non-null    Float64\n",
      "dtypes: Float64(7)\n",
      "memory usage: 17.4 KB\n"
     ]
    }
   ],
   "source": [
    "data.info()  # DataFrame meta information"
   ]
  },
  {
   "cell_type": "markdown",
   "metadata": {},
   "source": [
    "## Calculating the Log Returns"
   ]
  },
  {
   "cell_type": "markdown",
   "metadata": {},
   "source": [
    "We next calculate the **log returns** in vectorized fashion."
   ]
  },
  {
   "cell_type": "code",
   "execution_count": 15,
   "metadata": {},
   "outputs": [],
   "source": [
    "rets = np.log(data / data.shift(1))  # log returns in vectorized fashion"
   ]
  },
  {
   "cell_type": "code",
   "execution_count": 16,
   "metadata": {},
   "outputs": [
    {
     "data": {
      "text/html": [
       "<div>\n",
       "<style scoped>\n",
       "    .dataframe tbody tr th:only-of-type {\n",
       "        vertical-align: middle;\n",
       "    }\n",
       "\n",
       "    .dataframe tbody tr th {\n",
       "        vertical-align: top;\n",
       "    }\n",
       "\n",
       "    .dataframe thead th {\n",
       "        text-align: right;\n",
       "    }\n",
       "</style>\n",
       "<table border=\"1\" class=\"dataframe\">\n",
       "  <thead>\n",
       "    <tr style=\"text-align: right;\">\n",
       "      <th>CLOSE</th>\n",
       "      <th>JPM</th>\n",
       "      <th>BAC</th>\n",
       "      <th>WFC</th>\n",
       "      <th>MS</th>\n",
       "      <th>GS</th>\n",
       "      <th>C</th>\n",
       "      <th>BCS</th>\n",
       "    </tr>\n",
       "    <tr>\n",
       "      <th>Date</th>\n",
       "      <th></th>\n",
       "      <th></th>\n",
       "      <th></th>\n",
       "      <th></th>\n",
       "      <th></th>\n",
       "      <th></th>\n",
       "      <th></th>\n",
       "    </tr>\n",
       "  </thead>\n",
       "  <tbody>\n",
       "    <tr>\n",
       "      <th>2017-01-03</th>\n",
       "      <td>&lt;NA&gt;</td>\n",
       "      <td>&lt;NA&gt;</td>\n",
       "      <td>&lt;NA&gt;</td>\n",
       "      <td>&lt;NA&gt;</td>\n",
       "      <td>&lt;NA&gt;</td>\n",
       "      <td>&lt;NA&gt;</td>\n",
       "      <td>&lt;NA&gt;</td>\n",
       "    </tr>\n",
       "    <tr>\n",
       "      <th>2017-01-04</th>\n",
       "      <td>-0.003675</td>\n",
       "      <td>0.01847</td>\n",
       "      <td>0.000892</td>\n",
       "      <td>0.013154</td>\n",
       "      <td>0.006437</td>\n",
       "      <td>0.013443</td>\n",
       "      <td>0.020027</td>\n",
       "    </tr>\n",
       "    <tr>\n",
       "      <th>2017-01-05</th>\n",
       "      <td>-0.009248</td>\n",
       "      <td>-0.011834</td>\n",
       "      <td>-0.015644</td>\n",
       "      <td>-0.009212</td>\n",
       "      <td>-0.007472</td>\n",
       "      <td>-0.017577</td>\n",
       "      <td>-0.005186</td>\n",
       "    </tr>\n",
       "    <tr>\n",
       "      <th>2017-01-06</th>\n",
       "      <td>0.000116</td>\n",
       "      <td>0.0</td>\n",
       "      <td>-0.00254</td>\n",
       "      <td>0.014471</td>\n",
       "      <td>0.014726</td>\n",
       "      <td>0.003474</td>\n",
       "      <td>0.0</td>\n",
       "    </tr>\n",
       "    <tr>\n",
       "      <th>2017-01-09</th>\n",
       "      <td>0.000696</td>\n",
       "      <td>-0.005748</td>\n",
       "      <td>-0.014642</td>\n",
       "      <td>-0.026342</td>\n",
       "      <td>-0.008241</td>\n",
       "      <td>-0.005465</td>\n",
       "      <td>-0.018365</td>\n",
       "    </tr>\n",
       "  </tbody>\n",
       "</table>\n",
       "</div>"
      ],
      "text/plain": [
       "CLOSE            JPM       BAC       WFC        MS        GS         C  \\\n",
       "Date                                                                     \n",
       "2017-01-03      <NA>      <NA>      <NA>      <NA>      <NA>      <NA>   \n",
       "2017-01-04 -0.003675   0.01847  0.000892  0.013154  0.006437  0.013443   \n",
       "2017-01-05 -0.009248 -0.011834 -0.015644 -0.009212 -0.007472 -0.017577   \n",
       "2017-01-06  0.000116       0.0  -0.00254  0.014471  0.014726  0.003474   \n",
       "2017-01-09  0.000696 -0.005748 -0.014642 -0.026342 -0.008241 -0.005465   \n",
       "\n",
       "CLOSE            BCS  \n",
       "Date                  \n",
       "2017-01-03      <NA>  \n",
       "2017-01-04  0.020027  \n",
       "2017-01-05 -0.005186  \n",
       "2017-01-06       0.0  \n",
       "2017-01-09 -0.018365  "
      ]
     },
     "execution_count": 16,
     "metadata": {},
     "output_type": "execute_result"
    }
   ],
   "source": [
    "rets.head()"
   ]
  },
  {
   "cell_type": "markdown",
   "metadata": {},
   "source": [
    "`pandas` allows to derive the **correlation matrix** with a single method call."
   ]
  },
  {
   "cell_type": "code",
   "execution_count": 17,
   "metadata": {},
   "outputs": [
    {
     "data": {
      "text/html": [
       "<div>\n",
       "<style scoped>\n",
       "    .dataframe tbody tr th:only-of-type {\n",
       "        vertical-align: middle;\n",
       "    }\n",
       "\n",
       "    .dataframe tbody tr th {\n",
       "        vertical-align: top;\n",
       "    }\n",
       "\n",
       "    .dataframe thead th {\n",
       "        text-align: right;\n",
       "    }\n",
       "</style>\n",
       "<table border=\"1\" class=\"dataframe\">\n",
       "  <thead>\n",
       "    <tr style=\"text-align: right;\">\n",
       "      <th>CLOSE</th>\n",
       "      <th>JPM</th>\n",
       "      <th>BAC</th>\n",
       "      <th>WFC</th>\n",
       "      <th>MS</th>\n",
       "      <th>GS</th>\n",
       "      <th>C</th>\n",
       "      <th>BCS</th>\n",
       "    </tr>\n",
       "    <tr>\n",
       "      <th>CLOSE</th>\n",
       "      <th></th>\n",
       "      <th></th>\n",
       "      <th></th>\n",
       "      <th></th>\n",
       "      <th></th>\n",
       "      <th></th>\n",
       "      <th></th>\n",
       "    </tr>\n",
       "  </thead>\n",
       "  <tbody>\n",
       "    <tr>\n",
       "      <th>JPM</th>\n",
       "      <td>1.000000</td>\n",
       "      <td>0.975605</td>\n",
       "      <td>0.501027</td>\n",
       "      <td>0.968018</td>\n",
       "      <td>0.653395</td>\n",
       "      <td>0.891003</td>\n",
       "      <td>-0.431025</td>\n",
       "    </tr>\n",
       "    <tr>\n",
       "      <th>BAC</th>\n",
       "      <td>0.975605</td>\n",
       "      <td>1.000000</td>\n",
       "      <td>0.588259</td>\n",
       "      <td>0.944151</td>\n",
       "      <td>0.705522</td>\n",
       "      <td>0.824035</td>\n",
       "      <td>-0.357441</td>\n",
       "    </tr>\n",
       "    <tr>\n",
       "      <th>WFC</th>\n",
       "      <td>0.501027</td>\n",
       "      <td>0.588259</td>\n",
       "      <td>1.000000</td>\n",
       "      <td>0.476120</td>\n",
       "      <td>0.840336</td>\n",
       "      <td>0.126474</td>\n",
       "      <td>0.422948</td>\n",
       "    </tr>\n",
       "    <tr>\n",
       "      <th>MS</th>\n",
       "      <td>0.968018</td>\n",
       "      <td>0.944151</td>\n",
       "      <td>0.476120</td>\n",
       "      <td>1.000000</td>\n",
       "      <td>0.659818</td>\n",
       "      <td>0.895104</td>\n",
       "      <td>-0.417848</td>\n",
       "    </tr>\n",
       "    <tr>\n",
       "      <th>GS</th>\n",
       "      <td>0.653395</td>\n",
       "      <td>0.705522</td>\n",
       "      <td>0.840336</td>\n",
       "      <td>0.659818</td>\n",
       "      <td>1.000000</td>\n",
       "      <td>0.343072</td>\n",
       "      <td>0.171761</td>\n",
       "    </tr>\n",
       "    <tr>\n",
       "      <th>C</th>\n",
       "      <td>0.891003</td>\n",
       "      <td>0.824035</td>\n",
       "      <td>0.126474</td>\n",
       "      <td>0.895104</td>\n",
       "      <td>0.343072</td>\n",
       "      <td>1.000000</td>\n",
       "      <td>-0.680739</td>\n",
       "    </tr>\n",
       "    <tr>\n",
       "      <th>BCS</th>\n",
       "      <td>-0.431025</td>\n",
       "      <td>-0.357441</td>\n",
       "      <td>0.422948</td>\n",
       "      <td>-0.417848</td>\n",
       "      <td>0.171761</td>\n",
       "      <td>-0.680739</td>\n",
       "      <td>1.000000</td>\n",
       "    </tr>\n",
       "  </tbody>\n",
       "</table>\n",
       "</div>"
      ],
      "text/plain": [
       "CLOSE       JPM       BAC       WFC        MS        GS         C       BCS\n",
       "CLOSE                                                                      \n",
       "JPM    1.000000  0.975605  0.501027  0.968018  0.653395  0.891003 -0.431025\n",
       "BAC    0.975605  1.000000  0.588259  0.944151  0.705522  0.824035 -0.357441\n",
       "WFC    0.501027  0.588259  1.000000  0.476120  0.840336  0.126474  0.422948\n",
       "MS     0.968018  0.944151  0.476120  1.000000  0.659818  0.895104 -0.417848\n",
       "GS     0.653395  0.705522  0.840336  0.659818  1.000000  0.343072  0.171761\n",
       "C      0.891003  0.824035  0.126474  0.895104  0.343072  1.000000 -0.680739\n",
       "BCS   -0.431025 -0.357441  0.422948 -0.417848  0.171761 -0.680739  1.000000"
      ]
     },
     "execution_count": 17,
     "metadata": {},
     "output_type": "execute_result"
    }
   ],
   "source": [
    "data.corr()  # correlation matrix by column"
   ]
  },
  {
   "cell_type": "markdown",
   "metadata": {},
   "source": [
    "## Plotting the Data"
   ]
  },
  {
   "cell_type": "markdown",
   "metadata": {},
   "source": [
    "Using `Cufflinks`, we can plot the normalized financial time series as **line plots** for comparison."
   ]
  },
  {
   "cell_type": "code",
   "execution_count": 18,
   "metadata": {},
   "outputs": [
    {
     "data": {
      "text/html": [
       "        <script type=\"text/javascript\">\n",
       "        window.PlotlyConfig = {MathJaxConfig: 'local'};\n",
       "        if (window.MathJax && window.MathJax.Hub && window.MathJax.Hub.Config) {window.MathJax.Hub.Config({SVG: {font: \"STIX-Web\"}});}\n",
       "        if (typeof require !== 'undefined') {\n",
       "        require.undef(\"plotly\");\n",
       "        requirejs.config({\n",
       "            paths: {\n",
       "                'plotly': ['https://cdn.plot.ly/plotly-2.12.1.min']\n",
       "            }\n",
       "        });\n",
       "        require(['plotly'], function(Plotly) {\n",
       "            window._Plotly = Plotly;\n",
       "        });\n",
       "        }\n",
       "        </script>\n",
       "        "
      ]
     },
     "metadata": {},
     "output_type": "display_data"
    }
   ],
   "source": [
    "cf.set_config_file(offline=True)  # set the plotting mode to offline"
   ]
  },
  {
   "cell_type": "code",
   "execution_count": 19,
   "metadata": {},
   "outputs": [
    {
     "data": {
      "application/vnd.plotly.v1+json": {
       "config": {
        "linkText": "Export to plot.ly",
        "plotlyServerURL": "https://plot.ly",
        "showLink": true
       },
       "data": [
        {
         "line": {
          "color": "rgba(255, 153, 51, 1.0)",
          "dash": "solid",
          "shape": "linear",
          "width": 1.3
         },
         "mode": "lines",
         "name": "JPM",
         "text": "",
         "type": "scatter",
         "x": [
          "2017-01-03",
          "2017-01-04",
          "2017-01-05",
          "2017-01-06",
          "2017-01-09",
          "2017-01-10",
          "2017-01-11",
          "2017-01-12",
          "2017-01-13",
          "2017-01-17",
          "2017-01-18",
          "2017-01-19",
          "2017-01-20",
          "2017-01-23",
          "2017-01-24",
          "2017-01-25",
          "2017-01-26",
          "2017-01-27",
          "2017-01-30",
          "2017-01-31",
          "2017-02-01",
          "2017-02-02",
          "2017-02-03",
          "2017-02-06",
          "2017-02-07",
          "2017-02-08",
          "2017-02-09",
          "2017-02-10",
          "2017-02-13",
          "2017-02-14",
          "2017-02-15",
          "2017-02-16",
          "2017-02-17",
          "2017-02-21",
          "2017-02-22",
          "2017-02-23",
          "2017-02-24",
          "2017-02-27",
          "2017-02-28",
          "2017-03-01",
          "2017-03-02",
          "2017-03-03",
          "2017-03-06",
          "2017-03-07",
          "2017-03-08",
          "2017-03-09",
          "2017-03-10",
          "2017-03-13",
          "2017-03-14",
          "2017-03-15",
          "2017-03-16",
          "2017-03-17",
          "2017-03-20",
          "2017-03-21",
          "2017-03-22",
          "2017-03-23",
          "2017-03-24",
          "2017-03-27",
          "2017-03-28",
          "2017-03-29",
          "2017-03-30",
          "2017-03-31",
          "2017-04-03",
          "2017-04-04",
          "2017-04-05",
          "2017-04-06",
          "2017-04-07",
          "2017-04-10",
          "2017-04-11",
          "2017-04-12",
          "2017-04-13",
          "2017-04-17",
          "2017-04-18",
          "2017-04-19",
          "2017-04-20",
          "2017-04-21",
          "2017-04-24",
          "2017-04-25",
          "2017-04-26",
          "2017-04-27",
          "2017-04-28",
          "2017-05-01",
          "2017-05-02",
          "2017-05-03",
          "2017-05-04",
          "2017-05-05",
          "2017-05-08",
          "2017-05-09",
          "2017-05-10",
          "2017-05-11",
          "2017-05-12",
          "2017-05-15",
          "2017-05-16",
          "2017-05-17",
          "2017-05-18",
          "2017-05-19",
          "2017-05-22",
          "2017-05-23",
          "2017-05-24",
          "2017-05-25",
          "2017-05-26",
          "2017-05-30",
          "2017-05-31",
          "2017-06-01",
          "2017-06-02",
          "2017-06-05",
          "2017-06-06",
          "2017-06-07",
          "2017-06-08",
          "2017-06-09",
          "2017-06-12",
          "2017-06-13",
          "2017-06-14",
          "2017-06-15",
          "2017-06-16",
          "2017-06-19",
          "2017-06-20",
          "2017-06-21",
          "2017-06-22",
          "2017-06-23",
          "2017-06-26",
          "2017-06-27",
          "2017-06-28",
          "2017-06-29",
          "2017-06-30",
          "2017-07-03",
          "2017-07-05",
          "2017-07-06",
          "2017-07-07",
          "2017-07-10",
          "2017-07-11",
          "2017-07-12",
          "2017-07-13",
          "2017-07-14",
          "2017-07-17",
          "2017-07-18",
          "2017-07-19",
          "2017-07-20",
          "2017-07-21",
          "2017-07-24",
          "2017-07-25",
          "2017-07-26",
          "2017-07-27",
          "2017-07-28",
          "2017-07-31",
          "2017-08-01",
          "2017-08-02",
          "2017-08-03",
          "2017-08-04",
          "2017-08-07",
          "2017-08-08",
          "2017-08-09",
          "2017-08-10",
          "2017-08-11",
          "2017-08-14",
          "2017-08-15",
          "2017-08-16",
          "2017-08-17",
          "2017-08-18",
          "2017-08-21",
          "2017-08-22",
          "2017-08-23",
          "2017-08-24",
          "2017-08-25",
          "2017-08-28",
          "2017-08-29",
          "2017-08-30",
          "2017-08-31",
          "2017-09-01",
          "2017-09-05",
          "2017-09-06",
          "2017-09-07",
          "2017-09-08",
          "2017-09-11",
          "2017-09-12",
          "2017-09-13",
          "2017-09-14",
          "2017-09-15",
          "2017-09-18",
          "2017-09-19",
          "2017-09-20",
          "2017-09-21",
          "2017-09-22",
          "2017-09-25",
          "2017-09-26",
          "2017-09-27",
          "2017-09-28",
          "2017-09-29",
          "2017-10-02",
          "2017-10-03",
          "2017-10-04",
          "2017-10-05",
          "2017-10-06",
          "2017-10-09",
          "2017-10-10",
          "2017-10-11",
          "2017-10-12",
          "2017-10-13",
          "2017-10-16",
          "2017-10-17",
          "2017-10-18",
          "2017-10-19",
          "2017-10-20",
          "2017-10-23",
          "2017-10-24",
          "2017-10-25",
          "2017-10-26",
          "2017-10-27",
          "2017-10-30",
          "2017-10-31",
          "2017-11-01",
          "2017-11-02",
          "2017-11-03",
          "2017-11-06",
          "2017-11-07",
          "2017-11-08",
          "2017-11-09",
          "2017-11-10",
          "2017-11-13",
          "2017-11-14",
          "2017-11-15",
          "2017-11-16",
          "2017-11-17",
          "2017-11-20",
          "2017-11-21",
          "2017-11-22",
          "2017-11-24",
          "2017-11-27",
          "2017-11-28",
          "2017-11-29",
          "2017-11-30",
          "2017-12-01",
          "2017-12-04",
          "2017-12-05",
          "2017-12-06",
          "2017-12-07",
          "2017-12-08",
          "2017-12-11",
          "2017-12-12",
          "2017-12-13",
          "2017-12-14",
          "2017-12-15",
          "2017-12-18",
          "2017-12-19",
          "2017-12-20",
          "2017-12-21",
          "2017-12-22",
          "2017-12-26",
          "2017-12-27",
          "2017-12-28",
          "2017-12-29"
         ],
         "y": [
          100,
          99.63315373151438,
          98.71603806030035,
          98.72750200619052,
          98.79628568153159,
          99.08288432878597,
          99.82804081164737,
          98.86506935687262,
          99.3924108678207,
          95.78126791241544,
          96.22836180213228,
          95.49466926516106,
          95.91883526309756,
          95.96469104665825,
          97.12254958156596,
          98.62432649317896,
          99.44973059727158,
          99.65608162329474,
          98.62432649317896,
          97.01937406855438,
          97.38622033704002,
          96.9735182849937,
          99.94268027054912,
          99.47265848905192,
          99.41533875960104,
          98.54407887194772,
          99.96560816232947,
          99.73632924452596,
          101.05468302189612,
          102.67109939241085,
          103.85188581909894,
          103.78310214375787,
          103.43918376705261,
          104.33337154648629,
          104.39069127593719,
          104.47093889716838,
          103.55382322595436,
          103.66846268485612,
          103.88627765676945,
          107.3025335320417,
          105.62879743207611,
          106.38541786082769,
          105.37659062249224,
          104.79192938209331,
          104.56265046428979,
          104.97535251633612,
          104.64289808552103,
          104.73460965264243,
          104.90656884099508,
          105.15877565057895,
          105.05560013756734,
          103.95506133211052,
          103.2099048492491,
          100.1834231342428,
          100.34391837670526,
          100.1834231342428,
          100.06878367534104,
          100.01146394589016,
          101.57056058695402,
          101.19225037257824,
          102.06351026023157,
          100.69930069930071,
          100.33245443081509,
          100.0917115671214,
          98.80774962742174,
          99.14020405823685,
          98.79628568153159,
          98.45236730482631,
          98.2804081164737,
          97.9020979020979,
          96.75570331308036,
          98.42943941304596,
          97.62696320073368,
          96.8244869884214,
          98.07405709045052,
          96.89327066376245,
          100.30952653903474,
          101.18078642668806,
          101.37567350682104,
          100.43562994382667,
          99.73632924452596,
          99.80511291986701,
          99.16313195001719,
          99.73632924452596,
          99.85096870342771,
          99.73632924452596,
          99.85096870342771,
          99.44973059727158,
          100.22927891780351,
          99.91975237876876,
          99.64461767740455,
          100.12610340479193,
          100.43562994382667,
          96.60667201650807,
          96.25128969391264,
          97.19133325690701,
          97.09962168978562,
          98.31479995414422,
          98.25748022469332,
          97.84477817264701,
          97.8562421185372,
          96.18250601857159,
          94.1763154877909,
          95.21953456379686,
          94.73804883640949,
          94.91000802476212,
          95.10489510489509,
          96.19396996446176,
          97.38622033704002,
          99.69047346096525,
          99.7134013527456,
          100.04585578356068,
          99.83950475753754,
          99.24337957124841,
          98.79628568153159,
          100.96297145477473,
          100.33245443081509,
          99.87389659520807,
          99.75925713630632,
          99.5758340020635,
          100.01146394589016,
          100.94004356299438,
          102.96916198555542,
          104.49386678894876,
          104.78046543620314,
          106.32809813137682,
          107.39424509916313,
          107.05032672245787,
          107.58913217929612,
          106.83251175054454,
          106.41980969849823,
          106.0529634300126,
          106.72933623753296,
          105.75490083686805,
          104.76900149031296,
          104.40215522182734,
          104.55118651839963,
          104.55118651839963,
          104.19580419580419,
          104.64289808552103,
          106.38541786082769,
          105.38805456838244,
          104.95242462455576,
          104.64289808552103,
          105.23902327181014,
          106.64908861630174,
          106.74080018342313,
          106.04149948412243,
          107.37131720738277,
          107.78401925942909,
          107.39424509916313,
          107.22228591081048,
          105.68611716152698,
          104.8033933279835,
          106.03003553823226,
          106.30517023959646,
          105.57147770262524,
          103.92066949443999,
          104.02384500745157,
          103.89774160265964,
          104.96388857044595,
          105.08999197523788,
          104.91803278688523,
          105.34219878482173,
          105.00974435400663,
          104.43654705949787,
          104.67728992319157,
          104.19580419580419,
          105.1243838129084,
          102.61377966295998,
          103.3016164163705,
          101.4903129657228,
          101.36420956093086,
          102.9347701478849,
          104.19580419580419,
          104.49386678894876,
          104.28751576292558,
          105.03267224578701,
          106.5229852115098,
          107.6923076923077,
          108.44892812105927,
          108.94187779433682,
          108.7125988765333,
          107.89865871833084,
          107.41717299094348,
          109.11383698268943,
          109.34311590049295,
          109.49214719706524,
          111.01685200045857,
          111.6015132408575,
          110.46658259773012,
          111.30345064771294,
          111.10856356757996,
          110.523902327181,
          111.34930643127363,
          111.01685200045857,
          110.04241659979364,
          109.89338530322136,
          112.1632465894761,
          111.91103977989223,
          112.33520577782872,
          112.47277312851082,
          114.0777255531354,
          113.88283847300241,
          115.69414192365011,
          115.80878138255186,
          116.63418548664448,
          116.66857732431501,
          116.25587527226871,
          115.33875960105469,
          115.69414192365011,
          116.46222629829185,
          116.25587527226871,
          115.53364668118766,
          113.20646566548204,
          111.93396767167259,
          111.9225037257824,
          111.78493637510032,
          112.18617448125644,
          111.50980167373609,
          112.56448469563223,
          112.88547518055714,
          112.50716496618136,
          113.50452825862662,
          113.41281669150523,
          113.08036226069011,
          112.71351599220449,
          112.26642210248767,
          116.19855554281784,
          118.9155107187894,
          119.82116244411326,
          120.130688983148,
          122.60690129542589,
          121.19683595093431,
          120.29118422561045,
          119.93580190301503,
          121.437578814628,
          121.08219649203255,
          122.49226183652414,
          120.95609308724062,
          119.98165768657572,
          121.67832167832167,
          122.61836524131604,
          122.10248767625818,
          121.67832167832167,
          123.6157285337613,
          123.18009858993466,
          122.68714891665711,
          122.91642783446062,
          123.56987275020062,
          122.5954373495357
         ]
        },
        {
         "line": {
          "color": "rgba(55, 128, 191, 1.0)",
          "dash": "solid",
          "shape": "linear",
          "width": 1.3
         },
         "mode": "lines",
         "name": "BAC",
         "text": "",
         "type": "scatter",
         "x": [
          "2017-01-03",
          "2017-01-04",
          "2017-01-05",
          "2017-01-06",
          "2017-01-09",
          "2017-01-10",
          "2017-01-11",
          "2017-01-12",
          "2017-01-13",
          "2017-01-17",
          "2017-01-18",
          "2017-01-19",
          "2017-01-20",
          "2017-01-23",
          "2017-01-24",
          "2017-01-25",
          "2017-01-26",
          "2017-01-27",
          "2017-01-30",
          "2017-01-31",
          "2017-02-01",
          "2017-02-02",
          "2017-02-03",
          "2017-02-06",
          "2017-02-07",
          "2017-02-08",
          "2017-02-09",
          "2017-02-10",
          "2017-02-13",
          "2017-02-14",
          "2017-02-15",
          "2017-02-16",
          "2017-02-17",
          "2017-02-21",
          "2017-02-22",
          "2017-02-23",
          "2017-02-24",
          "2017-02-27",
          "2017-02-28",
          "2017-03-01",
          "2017-03-02",
          "2017-03-03",
          "2017-03-06",
          "2017-03-07",
          "2017-03-08",
          "2017-03-09",
          "2017-03-10",
          "2017-03-13",
          "2017-03-14",
          "2017-03-15",
          "2017-03-16",
          "2017-03-17",
          "2017-03-20",
          "2017-03-21",
          "2017-03-22",
          "2017-03-23",
          "2017-03-24",
          "2017-03-27",
          "2017-03-28",
          "2017-03-29",
          "2017-03-30",
          "2017-03-31",
          "2017-04-03",
          "2017-04-04",
          "2017-04-05",
          "2017-04-06",
          "2017-04-07",
          "2017-04-10",
          "2017-04-11",
          "2017-04-12",
          "2017-04-13",
          "2017-04-17",
          "2017-04-18",
          "2017-04-19",
          "2017-04-20",
          "2017-04-21",
          "2017-04-24",
          "2017-04-25",
          "2017-04-26",
          "2017-04-27",
          "2017-04-28",
          "2017-05-01",
          "2017-05-02",
          "2017-05-03",
          "2017-05-04",
          "2017-05-05",
          "2017-05-08",
          "2017-05-09",
          "2017-05-10",
          "2017-05-11",
          "2017-05-12",
          "2017-05-15",
          "2017-05-16",
          "2017-05-17",
          "2017-05-18",
          "2017-05-19",
          "2017-05-22",
          "2017-05-23",
          "2017-05-24",
          "2017-05-25",
          "2017-05-26",
          "2017-05-30",
          "2017-05-31",
          "2017-06-01",
          "2017-06-02",
          "2017-06-05",
          "2017-06-06",
          "2017-06-07",
          "2017-06-08",
          "2017-06-09",
          "2017-06-12",
          "2017-06-13",
          "2017-06-14",
          "2017-06-15",
          "2017-06-16",
          "2017-06-19",
          "2017-06-20",
          "2017-06-21",
          "2017-06-22",
          "2017-06-23",
          "2017-06-26",
          "2017-06-27",
          "2017-06-28",
          "2017-06-29",
          "2017-06-30",
          "2017-07-03",
          "2017-07-05",
          "2017-07-06",
          "2017-07-07",
          "2017-07-10",
          "2017-07-11",
          "2017-07-12",
          "2017-07-13",
          "2017-07-14",
          "2017-07-17",
          "2017-07-18",
          "2017-07-19",
          "2017-07-20",
          "2017-07-21",
          "2017-07-24",
          "2017-07-25",
          "2017-07-26",
          "2017-07-27",
          "2017-07-28",
          "2017-07-31",
          "2017-08-01",
          "2017-08-02",
          "2017-08-03",
          "2017-08-04",
          "2017-08-07",
          "2017-08-08",
          "2017-08-09",
          "2017-08-10",
          "2017-08-11",
          "2017-08-14",
          "2017-08-15",
          "2017-08-16",
          "2017-08-17",
          "2017-08-18",
          "2017-08-21",
          "2017-08-22",
          "2017-08-23",
          "2017-08-24",
          "2017-08-25",
          "2017-08-28",
          "2017-08-29",
          "2017-08-30",
          "2017-08-31",
          "2017-09-01",
          "2017-09-05",
          "2017-09-06",
          "2017-09-07",
          "2017-09-08",
          "2017-09-11",
          "2017-09-12",
          "2017-09-13",
          "2017-09-14",
          "2017-09-15",
          "2017-09-18",
          "2017-09-19",
          "2017-09-20",
          "2017-09-21",
          "2017-09-22",
          "2017-09-25",
          "2017-09-26",
          "2017-09-27",
          "2017-09-28",
          "2017-09-29",
          "2017-10-02",
          "2017-10-03",
          "2017-10-04",
          "2017-10-05",
          "2017-10-06",
          "2017-10-09",
          "2017-10-10",
          "2017-10-11",
          "2017-10-12",
          "2017-10-13",
          "2017-10-16",
          "2017-10-17",
          "2017-10-18",
          "2017-10-19",
          "2017-10-20",
          "2017-10-23",
          "2017-10-24",
          "2017-10-25",
          "2017-10-26",
          "2017-10-27",
          "2017-10-30",
          "2017-10-31",
          "2017-11-01",
          "2017-11-02",
          "2017-11-03",
          "2017-11-06",
          "2017-11-07",
          "2017-11-08",
          "2017-11-09",
          "2017-11-10",
          "2017-11-13",
          "2017-11-14",
          "2017-11-15",
          "2017-11-16",
          "2017-11-17",
          "2017-11-20",
          "2017-11-21",
          "2017-11-22",
          "2017-11-24",
          "2017-11-27",
          "2017-11-28",
          "2017-11-29",
          "2017-11-30",
          "2017-12-01",
          "2017-12-04",
          "2017-12-05",
          "2017-12-06",
          "2017-12-07",
          "2017-12-08",
          "2017-12-11",
          "2017-12-12",
          "2017-12-13",
          "2017-12-14",
          "2017-12-15",
          "2017-12-18",
          "2017-12-19",
          "2017-12-20",
          "2017-12-21",
          "2017-12-22",
          "2017-12-26",
          "2017-12-27",
          "2017-12-28",
          "2017-12-29"
         ],
         "y": [
          100,
          101.8641810918775,
          100.66577896138482,
          100.66577896138482,
          100.08877052818464,
          101.81979582778517,
          102.39680426098533,
          101.73102529960055,
          102.13049267643142,
          97.86950732356857,
          100.44385264092321,
          100,
          100.48823790501554,
          100.13315579227695,
          101.8641810918775,
          103.72836218375498,
          104.03905903240125,
          103.68397691966267,
          101.8641810918775,
          100.48823790501554,
          101.59786950732357,
          100.8433200177541,
          103.37328007101641,
          102.61873058144695,
          101.64225477141588,
          100.6213936972925,
          102.61873058144695,
          102.44118952507766,
          103.86151797603193,
          106.79094540612515,
          109.09897913892586,
          109.09897913892586,
          108.83266755437194,
          109.9866844207723,
          110.03106968486462,
          109.09897913892586,
          107.54549489569463,
          109.05459387483356,
          109.5428317798491,
          113.18242343541944,
          111.98402130492676,
          112.91611185086552,
          112.07279183311141,
          111.89525077674212,
          112.11717709720372,
          112.51664447403462,
          112.33910341766533,
          112.29471815357302,
          112.38348868175765,
          111.76209498446514,
          111.93963604083443,
          110.34176653351086,
          108.47758544163338,
          102.17487794052373,
          101.81979582778517,
          102.39680426098533,
          102.61873058144695,
          102.21926320461607,
          104.21660008877052,
          103.63959165557036,
          105.94762538837105,
          104.70483799378604,
          104.70483799378604,
          104.03905903240125,
          102.84065690190857,
          103.24012427873946,
          102.79627163781623,
          102.17487794052373,
          101.73102529960055,
          100.53262316910785,
          99.15667998224589,
          101.242787394585,
          100.79893475366177,
          100.93209054593875,
          102.39680426098533,
          100.79893475366177,
          104.88237905015534,
          106.43586329338659,
          106.03639591655569,
          104.97114957833998,
          103.59520639147803,
          104.79360852197071,
          104.43852640923213,
          105.50377274744784,
          105.85885486018643,
          105.37061695517087,
          106.34709276520195,
          106.43586329338659,
          107.19041278295605,
          106.83533067021749,
          106.52463382157123,
          106.79094540612515,
          106.4802485574789,
          100.1775410563693,
          100.93209054593875,
          102.30803373280071,
          102.2636484687084,
          103.81713271193964,
          103.68397691966267,
          103.19573901464713,
          103.15135375055479,
          101.6866400355082,
          99.46737683089214,
          100.44385264092321,
          99.64491788726141,
          99.46737683089214,
          98.66844207723035,
          100.31069684864624,
          101.95295162006212,
          105.05992010652463,
          105.54815801154017,
          105.50377274744784,
          105.45938748335553,
          104.48291167332444,
          103.99467376830891,
          106.12516644474034,
          104.26098535286283,
          102.66311584553927,
          101.77541056369286,
          101.2871726586773,
          101.59786950732357,
          103.28450954283177,
          105.99201065246338,
          107.94496227252553,
          107.6786506879716,
          109.5428317798491,
          110.60807811806481,
          109.67598757212605,
          110.2086107412339,
          110.47492232578784,
          109.18774966711051,
          108.0781180648025,
          109.27652019529516,
          107.45672436750999,
          106.61340434975588,
          106.080781180648,
          106.79094540612515,
          106.2583222370173,
          105.63692853972482,
          106.12516644474034,
          108.65512649800266,
          107.45672436750999,
          107.01287172658675,
          106.6577896138482,
          107.0572569906791,
          108.52197070572569,
          109.1433644030182,
          108.16688859298714,
          110.8300044385264,
          110.78561917443407,
          110.51930758988016,
          109.80914336440301,
          107.0572569906791,
          105.90324012427874,
          108.38881491344874,
          108.61074123391032,
          107.36795383932534,
          104.92676431424768,
          104.83799378606302,
          103.77274744784731,
          105.77008433200177,
          105.45938748335553,
          105.81446959609409,
          105.50377274744784,
          105.28184642698623,
          104.66045272969373,
          105.94762538837105,
          106.03639591655569,
          106.92410119840213,
          103.46205059920106,
          103.90590324012427,
          101.95295162006212,
          101.59786950732357,
          103.68397691966267,
          106.30270750110962,
          107.98934753661781,
          107.58988015978694,
          108.21127385707945,
          109.63160230803372,
          110.34176653351086,
          111.2294718153573,
          111.67332445628051,
          111.05193075898801,
          109.89791389258767,
          110.11984021304926,
          112.78295605858855,
          112.96049711495782,
          112.47225920994228,
          113.71504660452729,
          114.78029294274302,
          114.11451398135819,
          115.97869507323568,
          116.33377718597427,
          114.73590767865069,
          115.09098979138925,
          114.64713715046604,
          112.96049711495782,
          114.64713715046604,
          116.46693297825121,
          116.28939192188193,
          117.53217931646694,
          117.97603195739012,
          120.5947625388371,
          120.55037727474478,
          122.85841100754548,
          122.63648468708388,
          123.12472259209942,
          123.39103417665336,
          122.50332889480693,
          121.57123834886818,
          122.19263204616067,
          123.7017310252996,
          123.47980470483799,
          123.16910785619173,
          120.63914780292941,
          118.9081225033289,
          117.57656458055925,
          117.6653351087439,
          117.17709720372835,
          116.46693297825121,
          118.9081225033289,
          118.77496671105192,
          118.15357301375944,
          118.68619618286726,
          118.64181091877496,
          118.3311140701287,
          118.02041722148246,
          118.02041722148246,
          122.68086995117619,
          125.52152685308478,
          125.03328894806924,
          124.722592099423,
          128.98357745228583,
          128.40656901908565,
          127.11939636040835,
          127.74079005770085,
          128.93919218819352,
          128.450954283178,
          130.13759431868618,
          128.00710164225478,
          127.51886373723924,
          128.89480692410118,
          130.84775854416333,
          130.71460275188636,
          130.84775854416333,
          132.35685752330227,
          132.6231691078562,
          132.17931646693296,
          131.95739014647137,
          132.2680869951176,
          131.0252996005326
         ]
        },
        {
         "line": {
          "color": "rgba(50, 171, 96, 1.0)",
          "dash": "solid",
          "shape": "linear",
          "width": 1.3
         },
         "mode": "lines",
         "name": "WFC",
         "text": "",
         "type": "scatter",
         "x": [
          "2017-01-03",
          "2017-01-04",
          "2017-01-05",
          "2017-01-06",
          "2017-01-09",
          "2017-01-10",
          "2017-01-11",
          "2017-01-12",
          "2017-01-13",
          "2017-01-17",
          "2017-01-18",
          "2017-01-19",
          "2017-01-20",
          "2017-01-23",
          "2017-01-24",
          "2017-01-25",
          "2017-01-26",
          "2017-01-27",
          "2017-01-30",
          "2017-01-31",
          "2017-02-01",
          "2017-02-02",
          "2017-02-03",
          "2017-02-06",
          "2017-02-07",
          "2017-02-08",
          "2017-02-09",
          "2017-02-10",
          "2017-02-13",
          "2017-02-14",
          "2017-02-15",
          "2017-02-16",
          "2017-02-17",
          "2017-02-21",
          "2017-02-22",
          "2017-02-23",
          "2017-02-24",
          "2017-02-27",
          "2017-02-28",
          "2017-03-01",
          "2017-03-02",
          "2017-03-03",
          "2017-03-06",
          "2017-03-07",
          "2017-03-08",
          "2017-03-09",
          "2017-03-10",
          "2017-03-13",
          "2017-03-14",
          "2017-03-15",
          "2017-03-16",
          "2017-03-17",
          "2017-03-20",
          "2017-03-21",
          "2017-03-22",
          "2017-03-23",
          "2017-03-24",
          "2017-03-27",
          "2017-03-28",
          "2017-03-29",
          "2017-03-30",
          "2017-03-31",
          "2017-04-03",
          "2017-04-04",
          "2017-04-05",
          "2017-04-06",
          "2017-04-07",
          "2017-04-10",
          "2017-04-11",
          "2017-04-12",
          "2017-04-13",
          "2017-04-17",
          "2017-04-18",
          "2017-04-19",
          "2017-04-20",
          "2017-04-21",
          "2017-04-24",
          "2017-04-25",
          "2017-04-26",
          "2017-04-27",
          "2017-04-28",
          "2017-05-01",
          "2017-05-02",
          "2017-05-03",
          "2017-05-04",
          "2017-05-05",
          "2017-05-08",
          "2017-05-09",
          "2017-05-10",
          "2017-05-11",
          "2017-05-12",
          "2017-05-15",
          "2017-05-16",
          "2017-05-17",
          "2017-05-18",
          "2017-05-19",
          "2017-05-22",
          "2017-05-23",
          "2017-05-24",
          "2017-05-25",
          "2017-05-26",
          "2017-05-30",
          "2017-05-31",
          "2017-06-01",
          "2017-06-02",
          "2017-06-05",
          "2017-06-06",
          "2017-06-07",
          "2017-06-08",
          "2017-06-09",
          "2017-06-12",
          "2017-06-13",
          "2017-06-14",
          "2017-06-15",
          "2017-06-16",
          "2017-06-19",
          "2017-06-20",
          "2017-06-21",
          "2017-06-22",
          "2017-06-23",
          "2017-06-26",
          "2017-06-27",
          "2017-06-28",
          "2017-06-29",
          "2017-06-30",
          "2017-07-03",
          "2017-07-05",
          "2017-07-06",
          "2017-07-07",
          "2017-07-10",
          "2017-07-11",
          "2017-07-12",
          "2017-07-13",
          "2017-07-14",
          "2017-07-17",
          "2017-07-18",
          "2017-07-19",
          "2017-07-20",
          "2017-07-21",
          "2017-07-24",
          "2017-07-25",
          "2017-07-26",
          "2017-07-27",
          "2017-07-28",
          "2017-07-31",
          "2017-08-01",
          "2017-08-02",
          "2017-08-03",
          "2017-08-04",
          "2017-08-07",
          "2017-08-08",
          "2017-08-09",
          "2017-08-10",
          "2017-08-11",
          "2017-08-14",
          "2017-08-15",
          "2017-08-16",
          "2017-08-17",
          "2017-08-18",
          "2017-08-21",
          "2017-08-22",
          "2017-08-23",
          "2017-08-24",
          "2017-08-25",
          "2017-08-28",
          "2017-08-29",
          "2017-08-30",
          "2017-08-31",
          "2017-09-01",
          "2017-09-05",
          "2017-09-06",
          "2017-09-07",
          "2017-09-08",
          "2017-09-11",
          "2017-09-12",
          "2017-09-13",
          "2017-09-14",
          "2017-09-15",
          "2017-09-18",
          "2017-09-19",
          "2017-09-20",
          "2017-09-21",
          "2017-09-22",
          "2017-09-25",
          "2017-09-26",
          "2017-09-27",
          "2017-09-28",
          "2017-09-29",
          "2017-10-02",
          "2017-10-03",
          "2017-10-04",
          "2017-10-05",
          "2017-10-06",
          "2017-10-09",
          "2017-10-10",
          "2017-10-11",
          "2017-10-12",
          "2017-10-13",
          "2017-10-16",
          "2017-10-17",
          "2017-10-18",
          "2017-10-19",
          "2017-10-20",
          "2017-10-23",
          "2017-10-24",
          "2017-10-25",
          "2017-10-26",
          "2017-10-27",
          "2017-10-30",
          "2017-10-31",
          "2017-11-01",
          "2017-11-02",
          "2017-11-03",
          "2017-11-06",
          "2017-11-07",
          "2017-11-08",
          "2017-11-09",
          "2017-11-10",
          "2017-11-13",
          "2017-11-14",
          "2017-11-15",
          "2017-11-16",
          "2017-11-17",
          "2017-11-20",
          "2017-11-21",
          "2017-11-22",
          "2017-11-24",
          "2017-11-27",
          "2017-11-28",
          "2017-11-29",
          "2017-11-30",
          "2017-12-01",
          "2017-12-04",
          "2017-12-05",
          "2017-12-06",
          "2017-12-07",
          "2017-12-08",
          "2017-12-11",
          "2017-12-12",
          "2017-12-13",
          "2017-12-14",
          "2017-12-15",
          "2017-12-18",
          "2017-12-19",
          "2017-12-20",
          "2017-12-21",
          "2017-12-22",
          "2017-12-26",
          "2017-12-27",
          "2017-12-28",
          "2017-12-29"
         ],
         "y": [
          100,
          100.08928571428571,
          98.53571428571428,
          98.28571428571429,
          96.85714285714286,
          97.53571428571428,
          97.85714285714285,
          97.32142857142857,
          98.76785714285715,
          96.03571428571429,
          96.91071428571429,
          97.46428571428571,
          98.33928571428572,
          96.875,
          97.67857142857143,
          101.10714285714286,
          102.10714285714286,
          101.05357142857143,
          100.14285714285714,
          100.58928571428571,
          99.83928571428571,
          99.55357142857143,
          102.26785714285715,
          100.98214285714285,
          100.60714285714288,
          99.33928571428572,
          101.30357142857143,
          101.53571428571428,
          101.92857142857143,
          103.53571428571429,
          104.55357142857142,
          103.78571428571428,
          103.73214285714288,
          104.01785714285714,
          104.21428571428571,
          104.44642857142858,
          103.23214285714286,
          103.67857142857144,
          103.35714285714286,
          106.66071428571429,
          104.83928571428571,
          105.16071428571429,
          104.66071428571428,
          104.10714285714285,
          103.94642857142857,
          104.82142857142858,
          105.08928571428571,
          104.82142857142858,
          104.92857142857142,
          104.83928571428571,
          105.92857142857144,
          104.76785714285714,
          102.9107142857143,
          99.73214285714286,
          98.80357142857143,
          98.66071428571429,
          99.69642857142857,
          98.91071428571429,
          99.92857142857143,
          99.41071428571429,
          100.42857142857142,
          99.39285714285714,
          99.08928571428571,
          98.57142857142858,
          98.17857142857143,
          98.87499999999999,
          97.92857142857143,
          97.39285714285714,
          96.71428571428571,
          94.85714285714285,
          91.69642857142858,
          94.14285714285714,
          93.66071428571429,
          93.125,
          95.53571428571429,
          94.64285714285714,
          95.80357142857142,
          97.42857142857143,
          97.39285714285714,
          97.21428571428571,
          96.14285714285715,
          97.25,
          97.39285714285714,
          97.94642857142858,
          98.53571428571428,
          98.41071428571428,
          98.28571428571429,
          97.64285714285714,
          97.71428571428571,
          95.96428571428571,
          94.67857142857143,
          95.21428571428572,
          95.10714285714286,
          93.28571428571429,
          93.53571428571429,
          94.75,
          94.66071428571429,
          95.33928571428572,
          94.80357142857143,
          94.25,
          93.58928571428571,
          93.14285714285714,
          91.32142857142857,
          93,
          92.51785714285715,
          92.35714285714286,
          92.51785714285715,
          93.01785714285715,
          93.85714285714286,
          96.07142857142857,
          96.58928571428572,
          97.23214285714286,
          97.375,
          96.25,
          96.23214285714286,
          96.85714285714286,
          95.46428571428571,
          94.60714285714286,
          93.73214285714286,
          93.66071428571429,
          94.46428571428571,
          94.92857142857142,
          97.01785714285714,
          99.60714285714286,
          98.94642857142857,
          99.60714285714286,
          99.60714285714286,
          99.21428571428572,
          99.53571428571429,
          99.26785714285715,
          98.28571428571429,
          98.51785714285714,
          99.28571428571429,
          98.19642857142857,
          97.69642857142857,
          97.85714285714285,
          98.10714285714285,
          98.00000000000001,
          96.73214285714286,
          96.91071428571429,
          98.32142857142857,
          98.05357142857142,
          97.69642857142857,
          95.17857142857142,
          96.32142857142857,
          96.57142857142857,
          95.74999999999999,
          95.35714285714285,
          94.35714285714286,
          93.82142857142857,
          94.125,
          94.26785714285714,
          92.76785714285715,
          92.75,
          94.35714285714286,
          94.375,
          94.08928571428571,
          92.5,
          92.28571428571428,
          92.53571428571429,
          93.25,
          92.91071428571429,
          93.14285714285714,
          92.44642857142857,
          92.19642857142858,
          91.82142857142857,
          91.71428571428571,
          91.19642857142857,
          91.01785714285714,
          89.46428571428572,
          89.07142857142858,
          88.71428571428571,
          88.53571428571428,
          90.46428571428571,
          92.08928571428572,
          91.89285714285714,
          91.58928571428572,
          92.25,
          94.125,
          95.28571428571428,
          95.98214285714286,
          96.53571428571429,
          96.875,
          96.48214285714286,
          96.07142857142857,
          96.80357142857143,
          96.875,
          98.48214285714285,
          99.05357142857143,
          99.25,
          98.14285714285714,
          98.91071428571429,
          99.25,
          98.46428571428572,
          99.30357142857143,
          99.39285714285714,
          98.58928571428571,
          95.875,
          96.07142857142857,
          94.98214285714285,
          95.375,
          95.98214285714286,
          98.07142857142857,
          98.05357142857142,
          98.96428571428572,
          98.66071428571429,
          99.32142857142857,
          99.76785714285714,
          99.73214285714286,
          100.25,
          100.37499999999999,
          100.85714285714285,
          100.62500000000001,
          100.32142857142856,
          98.30357142857142,
          96.89285714285714,
          96.42857142857143,
          96.08928571428572,
          95.92857142857143,
          96.5,
          95.98214285714286,
          97.5,
          96.69642857142857,
          96.51785714285714,
          97.35714285714286,
          96.53571428571429,
          96.58928571428572,
          96.33928571428572,
          99.23214285714286,
          101.21428571428572,
          100.83928571428571,
          100.35714285714286,
          102.48214285714286,
          104.55357142857142,
          104.58928571428572,
          106,
          105.91071428571428,
          105.125,
          107.73214285714286,
          106.07142857142857,
          105.74999999999999,
          106.91071428571428,
          108.78571428571429,
          107.78571428571428,
          107.39285714285714,
          110.01785714285714,
          109.91071428571428,
          109.1607142857143,
          108.83928571428572,
          109.46428571428571,
          108.33928571428572
         ]
        },
        {
         "line": {
          "color": "rgba(128, 0, 128, 1.0)",
          "dash": "solid",
          "shape": "linear",
          "width": 1.3
         },
         "mode": "lines",
         "name": "MS",
         "text": "",
         "type": "scatter",
         "x": [
          "2017-01-03",
          "2017-01-04",
          "2017-01-05",
          "2017-01-06",
          "2017-01-09",
          "2017-01-10",
          "2017-01-11",
          "2017-01-12",
          "2017-01-13",
          "2017-01-17",
          "2017-01-18",
          "2017-01-19",
          "2017-01-20",
          "2017-01-23",
          "2017-01-24",
          "2017-01-25",
          "2017-01-26",
          "2017-01-27",
          "2017-01-30",
          "2017-01-31",
          "2017-02-01",
          "2017-02-02",
          "2017-02-03",
          "2017-02-06",
          "2017-02-07",
          "2017-02-08",
          "2017-02-09",
          "2017-02-10",
          "2017-02-13",
          "2017-02-14",
          "2017-02-15",
          "2017-02-16",
          "2017-02-17",
          "2017-02-21",
          "2017-02-22",
          "2017-02-23",
          "2017-02-24",
          "2017-02-27",
          "2017-02-28",
          "2017-03-01",
          "2017-03-02",
          "2017-03-03",
          "2017-03-06",
          "2017-03-07",
          "2017-03-08",
          "2017-03-09",
          "2017-03-10",
          "2017-03-13",
          "2017-03-14",
          "2017-03-15",
          "2017-03-16",
          "2017-03-17",
          "2017-03-20",
          "2017-03-21",
          "2017-03-22",
          "2017-03-23",
          "2017-03-24",
          "2017-03-27",
          "2017-03-28",
          "2017-03-29",
          "2017-03-30",
          "2017-03-31",
          "2017-04-03",
          "2017-04-04",
          "2017-04-05",
          "2017-04-06",
          "2017-04-07",
          "2017-04-10",
          "2017-04-11",
          "2017-04-12",
          "2017-04-13",
          "2017-04-17",
          "2017-04-18",
          "2017-04-19",
          "2017-04-20",
          "2017-04-21",
          "2017-04-24",
          "2017-04-25",
          "2017-04-26",
          "2017-04-27",
          "2017-04-28",
          "2017-05-01",
          "2017-05-02",
          "2017-05-03",
          "2017-05-04",
          "2017-05-05",
          "2017-05-08",
          "2017-05-09",
          "2017-05-10",
          "2017-05-11",
          "2017-05-12",
          "2017-05-15",
          "2017-05-16",
          "2017-05-17",
          "2017-05-18",
          "2017-05-19",
          "2017-05-22",
          "2017-05-23",
          "2017-05-24",
          "2017-05-25",
          "2017-05-26",
          "2017-05-30",
          "2017-05-31",
          "2017-06-01",
          "2017-06-02",
          "2017-06-05",
          "2017-06-06",
          "2017-06-07",
          "2017-06-08",
          "2017-06-09",
          "2017-06-12",
          "2017-06-13",
          "2017-06-14",
          "2017-06-15",
          "2017-06-16",
          "2017-06-19",
          "2017-06-20",
          "2017-06-21",
          "2017-06-22",
          "2017-06-23",
          "2017-06-26",
          "2017-06-27",
          "2017-06-28",
          "2017-06-29",
          "2017-06-30",
          "2017-07-03",
          "2017-07-05",
          "2017-07-06",
          "2017-07-07",
          "2017-07-10",
          "2017-07-11",
          "2017-07-12",
          "2017-07-13",
          "2017-07-14",
          "2017-07-17",
          "2017-07-18",
          "2017-07-19",
          "2017-07-20",
          "2017-07-21",
          "2017-07-24",
          "2017-07-25",
          "2017-07-26",
          "2017-07-27",
          "2017-07-28",
          "2017-07-31",
          "2017-08-01",
          "2017-08-02",
          "2017-08-03",
          "2017-08-04",
          "2017-08-07",
          "2017-08-08",
          "2017-08-09",
          "2017-08-10",
          "2017-08-11",
          "2017-08-14",
          "2017-08-15",
          "2017-08-16",
          "2017-08-17",
          "2017-08-18",
          "2017-08-21",
          "2017-08-22",
          "2017-08-23",
          "2017-08-24",
          "2017-08-25",
          "2017-08-28",
          "2017-08-29",
          "2017-08-30",
          "2017-08-31",
          "2017-09-01",
          "2017-09-05",
          "2017-09-06",
          "2017-09-07",
          "2017-09-08",
          "2017-09-11",
          "2017-09-12",
          "2017-09-13",
          "2017-09-14",
          "2017-09-15",
          "2017-09-18",
          "2017-09-19",
          "2017-09-20",
          "2017-09-21",
          "2017-09-22",
          "2017-09-25",
          "2017-09-26",
          "2017-09-27",
          "2017-09-28",
          "2017-09-29",
          "2017-10-02",
          "2017-10-03",
          "2017-10-04",
          "2017-10-05",
          "2017-10-06",
          "2017-10-09",
          "2017-10-10",
          "2017-10-11",
          "2017-10-12",
          "2017-10-13",
          "2017-10-16",
          "2017-10-17",
          "2017-10-18",
          "2017-10-19",
          "2017-10-20",
          "2017-10-23",
          "2017-10-24",
          "2017-10-25",
          "2017-10-26",
          "2017-10-27",
          "2017-10-30",
          "2017-10-31",
          "2017-11-01",
          "2017-11-02",
          "2017-11-03",
          "2017-11-06",
          "2017-11-07",
          "2017-11-08",
          "2017-11-09",
          "2017-11-10",
          "2017-11-13",
          "2017-11-14",
          "2017-11-15",
          "2017-11-16",
          "2017-11-17",
          "2017-11-20",
          "2017-11-21",
          "2017-11-22",
          "2017-11-24",
          "2017-11-27",
          "2017-11-28",
          "2017-11-29",
          "2017-11-30",
          "2017-12-01",
          "2017-12-04",
          "2017-12-05",
          "2017-12-06",
          "2017-12-07",
          "2017-12-08",
          "2017-12-11",
          "2017-12-12",
          "2017-12-13",
          "2017-12-14",
          "2017-12-15",
          "2017-12-18",
          "2017-12-19",
          "2017-12-20",
          "2017-12-21",
          "2017-12-22",
          "2017-12-26",
          "2017-12-27",
          "2017-12-28",
          "2017-12-29"
         ],
         "y": [
          100,
          101.32404181184668,
          100.39488966318235,
          101.8583042973287,
          99.21022067363532,
          100.02322880371662,
          101.44018583042975,
          101.3472706155633,
          101.76538908246226,
          97.90940766550523,
          99.55865272938445,
          98.6062717770035,
          98.93147502903602,
          97.46806039488966,
          99.25667828106852,
          101.8815331010453,
          102.25319396051104,
          101.39372822299653,
          100.16260162601627,
          98.69918699186992,
          99.18699186991871,
          97.86295005807202,
          103.20557491289199,
          103.67015098722416,
          104.22764227642276,
          101.99767711962832,
          104.18118466898956,
          103.83275261324043,
          105.13356562137051,
          106.94541231126597,
          107.99070847851337,
          107.10801393728224,
          107.20092915214867,
          108.15331010452962,
          108.06039488966319,
          108.19976771196285,
          105.76074332171895,
          106.48083623693381,
          106.08594657375146,
          108.73403019744485,
          107.50290360046459,
          108.78048780487805,
          108.17653890824623,
          107.61904761904762,
          107.75842044134727,
          108.43205574912893,
          107.99070847851337,
          107.45644599303137,
          107.2938443670151,
          106.50406504065042,
          107.61904761904762,
          104.57607433217191,
          103.57723577235774,
          99.09407665505226,
          98.04878048780489,
          98.93147502903602,
          98.62950058072009,
          96.58536585365853,
          98.69918699186992,
          99.41927990708479,
          100.88269454123113,
          99.51219512195124,
          99.21022067363532,
          98.74564459930313,
          96.95702671312428,
          97.7700348432056,
          97.44483159117307,
          97.35191637630662,
          96.58536585365853,
          95.4006968641115,
          94.51800232288036,
          96.37630662020908,
          95.72590011614402,
          97.65389082462254,
          98.72241579558654,
          97.09639953542393,
          101.18466898954705,
          102.83391405342626,
          103.06620209059234,
          101.13821138211382,
          100.74332171893148,
          101.602787456446,
          100.69686411149827,
          100.99883855981417,
          100.534262485482,
          100.06968641114983,
          99.93031358885018,
          99.48896631823462,
          100.11614401858304,
          99.58188153310104,
          99.25667828106852,
          100.88269454123113,
          100.76655052264809,
          95.16840882694541,
          95.95818815331012,
          97.09639953542393,
          96.7711962833914,
          98.53658536585367,
          99.02439024390245,
          99.02439024390245,
          99.51219512195124,
          98.21138211382114,
          96.95702671312428,
          98.97793263646922,
          98.76887340301977,
          99.62833914053427,
          99.74448315911731,
          100.534262485482,
          102.4390243902439,
          104.3205574912892,
          104.18118466898956,
          104.8780487804878,
          104.3205574912892,
          103.80952380952382,
          103.32171893147503,
          106.2020905923345,
          105.6910569105691,
          104.3205574912892,
          103.62369337979094,
          101.48664343786295,
          102.20673635307782,
          102.71777003484321,
          102.9500580720093,
          103.94889663182347,
          103.50754936120792,
          105.9465737514518,
          107.22415795586527,
          107.15447154471546,
          106.96864111498259,
          106.82926829268294,
          105.64459930313588,
          104.43670150987225,
          105.73751451800233,
          104.99419279907085,
          105.29616724738675,
          104.8548199767712,
          108.29268292682927,
          108.03716608594658,
          108.22299651567945,
          108.50174216027875,
          110.59233449477352,
          109.6631823461092,
          109.38443670150988,
          108.38559814169571,
          108.9430894308943,
          109.6631823461092,
          109.94192799070848,
          109.77932636469222,
          111.68408826945412,
          112.21835075493614,
          111.33565621370501,
          110.68524970963995,
          107.5493612078978,
          106.03948896631823,
          108.03716608594658,
          107.85133565621372,
          106.87572590011614,
          104.73867595818818,
          105.43554006968643,
          103.7862950058072,
          105.85365853658537,
          106.38792102206736,
          106.85249709639955,
          106.7131242740999,
          105.64459930313588,
          105.34262485481997,
          106.06271777003484,
          105.6910569105691,
          107.2938443670151,
          104.3205574912892,
          104.69221835075496,
          102.36933797909408,
          102.22996515679444,
          104.90127758420442,
          106.27177700348433,
          107.36353077816494,
          107.82810685249711,
          108.24622531939607,
          109.91869918699189,
          110.73170731707319,
          111.24274099883857,
          112.10220673635307,
          112.00929152148665,
          110.89430894308944,
          110.2439024390244,
          111.66085946573752,
          111.84668989547039,
          111.89314750290362,
          113.63530778164926,
          114.47154471544717,
          113.84436701509873,
          115.28455284552848,
          115.58652729384437,
          114.70383275261324,
          114.95934959349594,
          114.23925667828108,
          112.86875725900119,
          112.19512195121952,
          113.68176538908246,
          114.09988385598142,
          116.49245063879209,
          115.65621370499419,
          117.72357723577235,
          117.56097560975611,
          118.6295005807201,
          117.37514518002324,
          117.93263646922185,
          118.83855981416957,
          117.21254355400698,
          116.14401858304298,
          115.28455284552848,
          117.11962833914053,
          116.1904761904762,
          116.46922183507552,
          114.72706155632986,
          113.91405342624856,
          113.40301974448317,
          113.26364692218351,
          112.96167247386761,
          112.38095238095241,
          111.73054587688736,
          112.89198606271778,
          113.12427409988386,
          114.07665505226481,
          114.70383275261324,
          114.0301974448316,
          113.96051103368178,
          113.8211382113821,
          117.07317073170734,
          119.21022067363532,
          119.88385598141696,
          120.67363530778165,
          122.36933797909408,
          120.81300813008131,
          120.06968641114983,
          121.60278745644601,
          122.85714285714286,
          122.57839721254358,
          125.0871080139373,
          123.5307781649245,
          122.27642276422766,
          123.34494773519165,
          123.67015098722418,
          122.9500580720093,
          121.97444831591173,
          122.83391405342626,
          122.4622531939605,
          121.8815331010453,
          122.11382113821139,
          122.29965156794424,
          121.8815331010453
         ]
        },
        {
         "line": {
          "color": "rgba(219, 64, 82, 1.0)",
          "dash": "solid",
          "shape": "linear",
          "width": 1.3
         },
         "mode": "lines",
         "name": "GS",
         "text": "",
         "type": "scatter",
         "x": [
          "2017-01-03",
          "2017-01-04",
          "2017-01-05",
          "2017-01-06",
          "2017-01-09",
          "2017-01-10",
          "2017-01-11",
          "2017-01-12",
          "2017-01-13",
          "2017-01-17",
          "2017-01-18",
          "2017-01-19",
          "2017-01-20",
          "2017-01-23",
          "2017-01-24",
          "2017-01-25",
          "2017-01-26",
          "2017-01-27",
          "2017-01-30",
          "2017-01-31",
          "2017-02-01",
          "2017-02-02",
          "2017-02-03",
          "2017-02-06",
          "2017-02-07",
          "2017-02-08",
          "2017-02-09",
          "2017-02-10",
          "2017-02-13",
          "2017-02-14",
          "2017-02-15",
          "2017-02-16",
          "2017-02-17",
          "2017-02-21",
          "2017-02-22",
          "2017-02-23",
          "2017-02-24",
          "2017-02-27",
          "2017-02-28",
          "2017-03-01",
          "2017-03-02",
          "2017-03-03",
          "2017-03-06",
          "2017-03-07",
          "2017-03-08",
          "2017-03-09",
          "2017-03-10",
          "2017-03-13",
          "2017-03-14",
          "2017-03-15",
          "2017-03-16",
          "2017-03-17",
          "2017-03-20",
          "2017-03-21",
          "2017-03-22",
          "2017-03-23",
          "2017-03-24",
          "2017-03-27",
          "2017-03-28",
          "2017-03-29",
          "2017-03-30",
          "2017-03-31",
          "2017-04-03",
          "2017-04-04",
          "2017-04-05",
          "2017-04-06",
          "2017-04-07",
          "2017-04-10",
          "2017-04-11",
          "2017-04-12",
          "2017-04-13",
          "2017-04-17",
          "2017-04-18",
          "2017-04-19",
          "2017-04-20",
          "2017-04-21",
          "2017-04-24",
          "2017-04-25",
          "2017-04-26",
          "2017-04-27",
          "2017-04-28",
          "2017-05-01",
          "2017-05-02",
          "2017-05-03",
          "2017-05-04",
          "2017-05-05",
          "2017-05-08",
          "2017-05-09",
          "2017-05-10",
          "2017-05-11",
          "2017-05-12",
          "2017-05-15",
          "2017-05-16",
          "2017-05-17",
          "2017-05-18",
          "2017-05-19",
          "2017-05-22",
          "2017-05-23",
          "2017-05-24",
          "2017-05-25",
          "2017-05-26",
          "2017-05-30",
          "2017-05-31",
          "2017-06-01",
          "2017-06-02",
          "2017-06-05",
          "2017-06-06",
          "2017-06-07",
          "2017-06-08",
          "2017-06-09",
          "2017-06-12",
          "2017-06-13",
          "2017-06-14",
          "2017-06-15",
          "2017-06-16",
          "2017-06-19",
          "2017-06-20",
          "2017-06-21",
          "2017-06-22",
          "2017-06-23",
          "2017-06-26",
          "2017-06-27",
          "2017-06-28",
          "2017-06-29",
          "2017-06-30",
          "2017-07-03",
          "2017-07-05",
          "2017-07-06",
          "2017-07-07",
          "2017-07-10",
          "2017-07-11",
          "2017-07-12",
          "2017-07-13",
          "2017-07-14",
          "2017-07-17",
          "2017-07-18",
          "2017-07-19",
          "2017-07-20",
          "2017-07-21",
          "2017-07-24",
          "2017-07-25",
          "2017-07-26",
          "2017-07-27",
          "2017-07-28",
          "2017-07-31",
          "2017-08-01",
          "2017-08-02",
          "2017-08-03",
          "2017-08-04",
          "2017-08-07",
          "2017-08-08",
          "2017-08-09",
          "2017-08-10",
          "2017-08-11",
          "2017-08-14",
          "2017-08-15",
          "2017-08-16",
          "2017-08-17",
          "2017-08-18",
          "2017-08-21",
          "2017-08-22",
          "2017-08-23",
          "2017-08-24",
          "2017-08-25",
          "2017-08-28",
          "2017-08-29",
          "2017-08-30",
          "2017-08-31",
          "2017-09-01",
          "2017-09-05",
          "2017-09-06",
          "2017-09-07",
          "2017-09-08",
          "2017-09-11",
          "2017-09-12",
          "2017-09-13",
          "2017-09-14",
          "2017-09-15",
          "2017-09-18",
          "2017-09-19",
          "2017-09-20",
          "2017-09-21",
          "2017-09-22",
          "2017-09-25",
          "2017-09-26",
          "2017-09-27",
          "2017-09-28",
          "2017-09-29",
          "2017-10-02",
          "2017-10-03",
          "2017-10-04",
          "2017-10-05",
          "2017-10-06",
          "2017-10-09",
          "2017-10-10",
          "2017-10-11",
          "2017-10-12",
          "2017-10-13",
          "2017-10-16",
          "2017-10-17",
          "2017-10-18",
          "2017-10-19",
          "2017-10-20",
          "2017-10-23",
          "2017-10-24",
          "2017-10-25",
          "2017-10-26",
          "2017-10-27",
          "2017-10-30",
          "2017-10-31",
          "2017-11-01",
          "2017-11-02",
          "2017-11-03",
          "2017-11-06",
          "2017-11-07",
          "2017-11-08",
          "2017-11-09",
          "2017-11-10",
          "2017-11-13",
          "2017-11-14",
          "2017-11-15",
          "2017-11-16",
          "2017-11-17",
          "2017-11-20",
          "2017-11-21",
          "2017-11-22",
          "2017-11-24",
          "2017-11-27",
          "2017-11-28",
          "2017-11-29",
          "2017-11-30",
          "2017-12-01",
          "2017-12-04",
          "2017-12-05",
          "2017-12-06",
          "2017-12-07",
          "2017-12-08",
          "2017-12-11",
          "2017-12-12",
          "2017-12-13",
          "2017-12-14",
          "2017-12-15",
          "2017-12-18",
          "2017-12-19",
          "2017-12-20",
          "2017-12-21",
          "2017-12-22",
          "2017-12-26",
          "2017-12-27",
          "2017-12-28",
          "2017-12-29"
         ],
         "y": [
          100,
          100.64577555159995,
          99.89651032826924,
          101.37848242745375,
          100.54642546673843,
          100.41395868692304,
          101.73448689820756,
          100.9396862193153,
          101.13010721529992,
          97.58662085523865,
          96.98638075920023,
          95.79417974086186,
          96.12120710353108,
          96.3157676863849,
          96.73386596017718,
          98.21169847249244,
          99.17622221302315,
          98.08751086641553,
          96.82493687130025,
          94.9290060851927,
          95.4878503125388,
          95.38022105393881,
          99.74334561410771,
          99.34180568779236,
          99.19278056050007,
          98.4103986422155,
          99.99172082626154,
          100.4760524899615,
          101.9456058285383,
          103.26613403982283,
          103.7132094216997,
          103.25785486608436,
          103.64697603179202,
          104.21823901974582,
          104.20582025913814,
          103.98228256819971,
          102.3926812104152,
          103.21231941052285,
          102.68659187813056,
          104.61149977232273,
          103.9284679388997,
          104.68601233596885,
          104.32172869147661,
          103.86223454899202,
          103.58902181562281,
          103.56418429440741,
          102.81905865794594,
          102.72798774682286,
          102.54584592457674,
          102.15672475886907,
          102.75282526803826,
          100.98108208800762,
          100.23595645154613,
          96.4523740530695,
          95.65343378730803,
          95.99701949745416,
          94.55230368009273,
          93.33940472740821,
          94.93314567206194,
          94.56886202756965,
          95.71552759034648,
          95.09458955996192,
          94.7799809579004,
          94.90416856397731,
          94.24183466490045,
          94.64751417808502,
          94.33290557602352,
          94.75100384981579,
          94.2749513598543,
          93.45117357287744,
          92.44525396365442,
          93.66229250320818,
          89.2453533137393,
          88.62441528335474,
          90.26783127043922,
          89.77108084613157,
          92.40385809496212,
          93.8154572173697,
          93.63745498199279,
          93.47601109409281,
          92.64395413337749,
          93.07861075464669,
          93.19037960011592,
          93.68299043755434,
          93.79889886989278,
          93.91480730223124,
          93.15312331829284,
          92.62739578590057,
          93.09102951525438,
          93.04135447282361,
          92.23827462019291,
          93.19037960011592,
          93.38907976983897,
          88.47125056919319,
          89.06735107836238,
          89.16256157635468,
          89.4233555491162,
          90.92188599577761,
          92.65637289398518,
          92.09338907976984,
          92.53218528790828,
          90.41685639773151,
          87.4529121993625,
          89.00525727532393,
          88.30152750755474,
          88.58301941466242,
          88.80655710560086,
          89.32400546425467,
          90.55760235128534,
          92.08097031916215,
          91.86157221509293,
          92.80953760814671,
          93.76578217493893,
          92.40799768183136,
          91.82017634640063,
          93.60847787390819,
          93.18210042637745,
          92.10166825350831,
          90.97570062507762,
          89.90768721281617,
          91.25305294531606,
          91.18681955540838,
          92.40385809496212,
          92.89646893240054,
          91.8574326282237,
          94.08453036386969,
          94.3991389659312,
          93.8402947385851,
          93.2566129900236,
          93.4884298547005,
          93.94792399718509,
          94.13006581943122,
          95.3760814670696,
          94.63095583060812,
          94.90416856397731,
          92.44111437678521,
          92.25897255453907,
          92.02301610299293,
          91.14542368671607,
          90.31750631286998,
          91.72496584840833,
          92.00231816864677,
          91.68356997971601,
          92.56530198286211,
          93.27731092436976,
          93.96862193153123,
          93.66643209007741,
          92.72260628389287,
          95.12356666804654,
          96.41925735811566,
          96.05911330049261,
          95.62859626609264,
          93.34768390114667,
          92.78883967380057,
          94.11764705882354,
          94.21285755681583,
          93.39321935670822,
          91.65873245850064,
          91.96092229995448,
          91.39793848573913,
          92.55288322225442,
          92.20515792523906,
          92.30864759696983,
          92.09338907976984,
          91.21579666349298,
          91.054352775593,
          92.07269114542368,
          92.61911661216212,
          93.50498820217742,
          90.15192283810076,
          90.58657945936997,
          89.34884298547006,
          89.91596638655463,
          91.50970733120835,
          93.53396531026203,
          93.7864801092851,
          93.90652812849277,
          93.23177546880822,
          94.18802003560045,
          94.75928302355425,
          95.12356666804654,
          95.7445046984311,
          95.6368754398311,
          95.31812725090036,
          95.18566047108499,
          97.18094134205406,
          97.47485200976944,
          98.18686095127707,
          99.61915800803081,
          100.02069793434616,
          99.47841205447698,
          101.85867450428448,
          101.84211615680756,
          100.50916918491535,
          100.42637744753074,
          100.34358571014614,
          99.26729312414622,
          98.74156559175394,
          100.34772529701537,
          97.73150639566171,
          100.19042099598461,
          99.3459452746616,
          101.30810945067682,
          100.2318168646769,
          101.35364490623837,
          100.05795421616924,
          100.06209380303845,
          100.05795421616924,
          99.71850809289232,
          100.37670240509998,
          101.113548867823,
          102.19812062756137,
          101.17150308399223,
          100.79480067889226,
          99.27143271101544,
          99.86753322018463,
          99.67711222420003,
          99.41217866456928,
          99.46185370700005,
          98.20755888562323,
          98.36072359978475,
          99.08929088876931,
          98.5304466614232,
          98.57598211698473,
          98.5304466614232,
          97.87225234921554,
          97.67355217949249,
          97.32582688247714,
          99.10584923624623,
          99.91306867574616,
          102.51272922962289,
          103.05501510949206,
          103.75874487726125,
          102.7983607235998,
          101.81313904872293,
          102.89357122159208,
          103.63455727118433,
          103.54348636006128,
          106.66887444633026,
          105.79128203005341,
          105.75816533509956,
          106.45775551599952,
          107.63753777373017,
          106.1721240220226,
          105.63397772902266,
          108.047356873784,
          107.20288115246099,
          106.6854327938072,
          105.95272591795339,
          106.18040319576107,
          105.46011508051495
         ]
        },
        {
         "line": {
          "color": "rgba(0, 128, 128, 1.0)",
          "dash": "solid",
          "shape": "linear",
          "width": 1.3
         },
         "mode": "lines",
         "name": "C",
         "text": "",
         "type": "scatter",
         "x": [
          "2017-01-03",
          "2017-01-04",
          "2017-01-05",
          "2017-01-06",
          "2017-01-09",
          "2017-01-10",
          "2017-01-11",
          "2017-01-12",
          "2017-01-13",
          "2017-01-17",
          "2017-01-18",
          "2017-01-19",
          "2017-01-20",
          "2017-01-23",
          "2017-01-24",
          "2017-01-25",
          "2017-01-26",
          "2017-01-27",
          "2017-01-30",
          "2017-01-31",
          "2017-02-01",
          "2017-02-02",
          "2017-02-03",
          "2017-02-06",
          "2017-02-07",
          "2017-02-08",
          "2017-02-09",
          "2017-02-10",
          "2017-02-13",
          "2017-02-14",
          "2017-02-15",
          "2017-02-16",
          "2017-02-17",
          "2017-02-21",
          "2017-02-22",
          "2017-02-23",
          "2017-02-24",
          "2017-02-27",
          "2017-02-28",
          "2017-03-01",
          "2017-03-02",
          "2017-03-03",
          "2017-03-06",
          "2017-03-07",
          "2017-03-08",
          "2017-03-09",
          "2017-03-10",
          "2017-03-13",
          "2017-03-14",
          "2017-03-15",
          "2017-03-16",
          "2017-03-17",
          "2017-03-20",
          "2017-03-21",
          "2017-03-22",
          "2017-03-23",
          "2017-03-24",
          "2017-03-27",
          "2017-03-28",
          "2017-03-29",
          "2017-03-30",
          "2017-03-31",
          "2017-04-03",
          "2017-04-04",
          "2017-04-05",
          "2017-04-06",
          "2017-04-07",
          "2017-04-10",
          "2017-04-11",
          "2017-04-12",
          "2017-04-13",
          "2017-04-17",
          "2017-04-18",
          "2017-04-19",
          "2017-04-20",
          "2017-04-21",
          "2017-04-24",
          "2017-04-25",
          "2017-04-26",
          "2017-04-27",
          "2017-04-28",
          "2017-05-01",
          "2017-05-02",
          "2017-05-03",
          "2017-05-04",
          "2017-05-05",
          "2017-05-08",
          "2017-05-09",
          "2017-05-10",
          "2017-05-11",
          "2017-05-12",
          "2017-05-15",
          "2017-05-16",
          "2017-05-17",
          "2017-05-18",
          "2017-05-19",
          "2017-05-22",
          "2017-05-23",
          "2017-05-24",
          "2017-05-25",
          "2017-05-26",
          "2017-05-30",
          "2017-05-31",
          "2017-06-01",
          "2017-06-02",
          "2017-06-05",
          "2017-06-06",
          "2017-06-07",
          "2017-06-08",
          "2017-06-09",
          "2017-06-12",
          "2017-06-13",
          "2017-06-14",
          "2017-06-15",
          "2017-06-16",
          "2017-06-19",
          "2017-06-20",
          "2017-06-21",
          "2017-06-22",
          "2017-06-23",
          "2017-06-26",
          "2017-06-27",
          "2017-06-28",
          "2017-06-29",
          "2017-06-30",
          "2017-07-03",
          "2017-07-05",
          "2017-07-06",
          "2017-07-07",
          "2017-07-10",
          "2017-07-11",
          "2017-07-12",
          "2017-07-13",
          "2017-07-14",
          "2017-07-17",
          "2017-07-18",
          "2017-07-19",
          "2017-07-20",
          "2017-07-21",
          "2017-07-24",
          "2017-07-25",
          "2017-07-26",
          "2017-07-27",
          "2017-07-28",
          "2017-07-31",
          "2017-08-01",
          "2017-08-02",
          "2017-08-03",
          "2017-08-04",
          "2017-08-07",
          "2017-08-08",
          "2017-08-09",
          "2017-08-10",
          "2017-08-11",
          "2017-08-14",
          "2017-08-15",
          "2017-08-16",
          "2017-08-17",
          "2017-08-18",
          "2017-08-21",
          "2017-08-22",
          "2017-08-23",
          "2017-08-24",
          "2017-08-25",
          "2017-08-28",
          "2017-08-29",
          "2017-08-30",
          "2017-08-31",
          "2017-09-01",
          "2017-09-05",
          "2017-09-06",
          "2017-09-07",
          "2017-09-08",
          "2017-09-11",
          "2017-09-12",
          "2017-09-13",
          "2017-09-14",
          "2017-09-15",
          "2017-09-18",
          "2017-09-19",
          "2017-09-20",
          "2017-09-21",
          "2017-09-22",
          "2017-09-25",
          "2017-09-26",
          "2017-09-27",
          "2017-09-28",
          "2017-09-29",
          "2017-10-02",
          "2017-10-03",
          "2017-10-04",
          "2017-10-05",
          "2017-10-06",
          "2017-10-09",
          "2017-10-10",
          "2017-10-11",
          "2017-10-12",
          "2017-10-13",
          "2017-10-16",
          "2017-10-17",
          "2017-10-18",
          "2017-10-19",
          "2017-10-20",
          "2017-10-23",
          "2017-10-24",
          "2017-10-25",
          "2017-10-26",
          "2017-10-27",
          "2017-10-30",
          "2017-10-31",
          "2017-11-01",
          "2017-11-02",
          "2017-11-03",
          "2017-11-06",
          "2017-11-07",
          "2017-11-08",
          "2017-11-09",
          "2017-11-10",
          "2017-11-13",
          "2017-11-14",
          "2017-11-15",
          "2017-11-16",
          "2017-11-17",
          "2017-11-20",
          "2017-11-21",
          "2017-11-22",
          "2017-11-24",
          "2017-11-27",
          "2017-11-28",
          "2017-11-29",
          "2017-11-30",
          "2017-12-01",
          "2017-12-04",
          "2017-12-05",
          "2017-12-06",
          "2017-12-07",
          "2017-12-08",
          "2017-12-11",
          "2017-12-12",
          "2017-12-13",
          "2017-12-14",
          "2017-12-15",
          "2017-12-18",
          "2017-12-19",
          "2017-12-20",
          "2017-12-21",
          "2017-12-22",
          "2017-12-26",
          "2017-12-27",
          "2017-12-28",
          "2017-12-29"
         ],
         "y": [
          100,
          101.3533586400396,
          99.58739065852451,
          99.93398250536391,
          99.38933817461627,
          99.40584254827527,
          98.96022445948176,
          97.75540518237332,
          98.41558012873412,
          96.35253342135665,
          94.7186004291137,
          93.51378115200527,
          92.6060406007592,
          91.89635253342135,
          93.64581614127744,
          95.2137316388843,
          94.66908730813664,
          94.25647796666115,
          93.43125928371018,
          92.14391813830665,
          92.50701435880508,
          92.39148374319194,
          95.32926225449744,
          95.1312097705892,
          94.38851295593331,
          92.9526324475986,
          94.50404357154645,
          95.11470539693019,
          97.29328271992078,
          98.7456676019145,
          99.85146063706883,
          99.65340815316058,
          99.30681630632118,
          99.93398250536391,
          100.04951312097705,
          100.04951312097705,
          98.30004951312098,
          99.05925070143587,
          98.71265885459647,
          101.56791549760686,
          100.06601749463609,
          100.6766793200198,
          99.48836441657039,
          99.85146063706883,
          100.85822743026903,
          101.58441987126588,
          101.48539362931177,
          101.55141112394783,
          101.40287176101666,
          100.41260934147549,
          100.92424492490508,
          99.63690377950157,
          98.34956263409804,
          95.79138471694999,
          95.34576662815645,
          95.807889090609,
          95.84089783792705,
          96.27001155306155,
          98.0689882818947,
          98.01947516091764,
          99.86796501072783,
          98.72916322825547,
          98.49810199702921,
          98.49810199702921,
          98.34956263409804,
          98.84469384386863,
          98.08549265555372,
          97.83792705066843,
          97.42531770919294,
          96.5670902789239,
          95.79138471694999,
          97.35930021455685,
          96.41855091599274,
          95.27974913352037,
          96.40204654233371,
          95.26324475986135,
          98.10199702921273,
          99.37283380095725,
          99.19128569070803,
          98.01947516091764,
          97.5738570721241,
          98.13500577653078,
          98.54761511800628,
          99.4223469219343,
          99.37283380095725,
          99.4223469219343,
          99.85146063706883,
          99.40584254827527,
          99.63690377950157,
          100.18154811024922,
          100.79220993563294,
          101.36986301369863,
          103.13583099521372,
          98.99323320679979,
          99.15827694338999,
          100.84172305661,
          100.77570556197392,
          101.84848984981019,
          102.77273477471529,
          102.24459481762666,
          102.44264730153489,
          101.73295923419705,
          99.9174781317049,
          100.80871430929194,
          100.85822743026903,
          101.08928866149529,
          100.6931836936788,
          102.12906420201352,
          104.32414589866315,
          106.37068823238158,
          106.1561313748143,
          106.76679320019804,
          106.81630632117512,
          105.79303515431589,
          105.44644330747647,
          106.42020135335864,
          105.47945205479449,
          105.34741706552235,
          105.00082521868295,
          104.65423337184352,
          105.26489519722726,
          106.00759201188315,
          107.57550750949001,
          110.54629476811355,
          110.38125103152335,
          112.65885459646807,
          112.97243769598944,
          111.61907905594981,
          112.08120151840237,
          111.65208780326788,
          110.28222478956921,
          110.44726852615942,
          110.61231226274961,
          110.11718105297903,
          110.29872916322824,
          110.39775540518238,
          110.08417230566099,
          109.52302360125432,
          108.92886614952961,
          109.0939098861198,
          112.27925400231061,
          112.1967321340155,
          111.56956593497276,
          111.28899158276944,
          112.97243769598944,
          114.87044066677667,
          114.57336194091434,
          112.44429773890079,
          113.84716949991748,
          113.94619574187159,
          113.68212576332726,
          112.93942894867139,
          110.94239973593001,
          110.24921604225118,
          112.04819277108433,
          112.18022776035647,
          111.75111404522198,
          109.91912856907078,
          109.88611982175276,
          108.84634428123452,
          110.33173791054627,
          110.95890410958904,
          111.71810529790393,
          111.98217527644825,
          111.91615778181219,
          111.37151345106453,
          112.24624525499259,
          112.27925400231061,
          113.18699455355667,
          110.84337349397589,
          111.1074434725202,
          109.02789239148373,
          109.20944050173296,
          111.75111404522198,
          113.5335864003961,
          114.52384881993727,
          114.27628321505196,
          113.94619574187159,
          116.52087803267865,
          117.42861858392475,
          117.94025416735434,
          118.43538537712494,
          117.84122792540023,
          116.91698300049514,
          117.08202673708531,
          119.29361280739394,
          119.90427463277769,
          120.05281399570885,
          121.80227760356492,
          122.34692193431258,
          122.23139131869945,
          124.97111734609672,
          124.83908235682455,
          124.42647301534906,
          124.07988116850966,
          123.68377620069317,
          119.44215217032514,
          119.01303845519062,
          118.45188975078393,
          119.14507344446277,
          120.67998019475161,
          120.28387522693514,
          121.35665951477141,
          121.35665951477141,
          122.5284700445618,
          121.5051988777026,
          121.78577322990594,
          121.91780821917808,
          121.76926885624691,
          121.30714639379434,
          122.1818781977224,
          123.35368872751278,
          122.21488694504043,
          121.80227760356492,
          120.00330087473179,
          119.39263904934808,
          119.54117841227925,
          119.24409968641689,
          118.81498597128237,
          118.05578478296748,
          118.38587225614788,
          118.28684601419374,
          117.72569730978708,
          118.9140122132365,
          119.45865654398413,
          119.26060406007592,
          118.86449909225945,
          117.8247235517412,
          121.63723386697474,
          123.84881993728338,
          124.60802112559828,
          124.62452549925732,
          127.2487209110414,
          126.32447598613632,
          124.50899488364415,
          123.74979369532926,
          124.95461297243769,
          125.18567420366395,
          125.68080541343456,
          124.01386367387357,
          122.00033008747317,
          123.40320184848983,
          124.88859547780163,
          123.28767123287672,
          123.2216537382406,
          125.1361610826869,
          124.59151675193925,
          123.41970622214886,
          123.60125433239809,
          123.91483743191944,
          122.80904439676512
         ]
        },
        {
         "line": {
          "color": "rgba(255, 255, 51, 1.0)",
          "dash": "solid",
          "shape": "linear",
          "width": 1.3
         },
         "mode": "lines",
         "name": "BCS",
         "text": "",
         "type": "scatter",
         "x": [
          "2017-01-03",
          "2017-01-04",
          "2017-01-05",
          "2017-01-06",
          "2017-01-09",
          "2017-01-10",
          "2017-01-11",
          "2017-01-12",
          "2017-01-13",
          "2017-01-17",
          "2017-01-18",
          "2017-01-19",
          "2017-01-20",
          "2017-01-23",
          "2017-01-24",
          "2017-01-25",
          "2017-01-26",
          "2017-01-27",
          "2017-01-30",
          "2017-01-31",
          "2017-02-01",
          "2017-02-02",
          "2017-02-03",
          "2017-02-06",
          "2017-02-07",
          "2017-02-08",
          "2017-02-09",
          "2017-02-10",
          "2017-02-13",
          "2017-02-14",
          "2017-02-15",
          "2017-02-16",
          "2017-02-17",
          "2017-02-21",
          "2017-02-22",
          "2017-02-23",
          "2017-02-24",
          "2017-02-27",
          "2017-02-28",
          "2017-03-01",
          "2017-03-02",
          "2017-03-03",
          "2017-03-06",
          "2017-03-07",
          "2017-03-08",
          "2017-03-09",
          "2017-03-10",
          "2017-03-13",
          "2017-03-14",
          "2017-03-15",
          "2017-03-16",
          "2017-03-17",
          "2017-03-20",
          "2017-03-21",
          "2017-03-22",
          "2017-03-23",
          "2017-03-24",
          "2017-03-27",
          "2017-03-28",
          "2017-03-29",
          "2017-03-30",
          "2017-03-31",
          "2017-04-03",
          "2017-04-04",
          "2017-04-05",
          "2017-04-06",
          "2017-04-07",
          "2017-04-10",
          "2017-04-11",
          "2017-04-12",
          "2017-04-13",
          "2017-04-17",
          "2017-04-18",
          "2017-04-19",
          "2017-04-20",
          "2017-04-21",
          "2017-04-24",
          "2017-04-25",
          "2017-04-26",
          "2017-04-27",
          "2017-04-28",
          "2017-05-01",
          "2017-05-02",
          "2017-05-03",
          "2017-05-04",
          "2017-05-05",
          "2017-05-08",
          "2017-05-09",
          "2017-05-10",
          "2017-05-11",
          "2017-05-12",
          "2017-05-15",
          "2017-05-16",
          "2017-05-17",
          "2017-05-18",
          "2017-05-19",
          "2017-05-22",
          "2017-05-23",
          "2017-05-24",
          "2017-05-25",
          "2017-05-26",
          "2017-05-30",
          "2017-05-31",
          "2017-06-01",
          "2017-06-02",
          "2017-06-05",
          "2017-06-06",
          "2017-06-07",
          "2017-06-08",
          "2017-06-09",
          "2017-06-12",
          "2017-06-13",
          "2017-06-14",
          "2017-06-15",
          "2017-06-16",
          "2017-06-19",
          "2017-06-20",
          "2017-06-21",
          "2017-06-22",
          "2017-06-23",
          "2017-06-26",
          "2017-06-27",
          "2017-06-28",
          "2017-06-29",
          "2017-06-30",
          "2017-07-03",
          "2017-07-05",
          "2017-07-06",
          "2017-07-07",
          "2017-07-10",
          "2017-07-11",
          "2017-07-12",
          "2017-07-13",
          "2017-07-14",
          "2017-07-17",
          "2017-07-18",
          "2017-07-19",
          "2017-07-20",
          "2017-07-21",
          "2017-07-24",
          "2017-07-25",
          "2017-07-26",
          "2017-07-27",
          "2017-07-28",
          "2017-07-31",
          "2017-08-01",
          "2017-08-02",
          "2017-08-03",
          "2017-08-04",
          "2017-08-07",
          "2017-08-08",
          "2017-08-09",
          "2017-08-10",
          "2017-08-11",
          "2017-08-14",
          "2017-08-15",
          "2017-08-16",
          "2017-08-17",
          "2017-08-18",
          "2017-08-21",
          "2017-08-22",
          "2017-08-23",
          "2017-08-24",
          "2017-08-25",
          "2017-08-28",
          "2017-08-29",
          "2017-08-30",
          "2017-08-31",
          "2017-09-01",
          "2017-09-05",
          "2017-09-06",
          "2017-09-07",
          "2017-09-08",
          "2017-09-11",
          "2017-09-12",
          "2017-09-13",
          "2017-09-14",
          "2017-09-15",
          "2017-09-18",
          "2017-09-19",
          "2017-09-20",
          "2017-09-21",
          "2017-09-22",
          "2017-09-25",
          "2017-09-26",
          "2017-09-27",
          "2017-09-28",
          "2017-09-29",
          "2017-10-02",
          "2017-10-03",
          "2017-10-04",
          "2017-10-05",
          "2017-10-06",
          "2017-10-09",
          "2017-10-10",
          "2017-10-11",
          "2017-10-12",
          "2017-10-13",
          "2017-10-16",
          "2017-10-17",
          "2017-10-18",
          "2017-10-19",
          "2017-10-20",
          "2017-10-23",
          "2017-10-24",
          "2017-10-25",
          "2017-10-26",
          "2017-10-27",
          "2017-10-30",
          "2017-10-31",
          "2017-11-01",
          "2017-11-02",
          "2017-11-03",
          "2017-11-06",
          "2017-11-07",
          "2017-11-08",
          "2017-11-09",
          "2017-11-10",
          "2017-11-13",
          "2017-11-14",
          "2017-11-15",
          "2017-11-16",
          "2017-11-17",
          "2017-11-20",
          "2017-11-21",
          "2017-11-22",
          "2017-11-24",
          "2017-11-27",
          "2017-11-28",
          "2017-11-29",
          "2017-11-30",
          "2017-12-01",
          "2017-12-04",
          "2017-12-05",
          "2017-12-06",
          "2017-12-07",
          "2017-12-08",
          "2017-12-11",
          "2017-12-12",
          "2017-12-13",
          "2017-12-14",
          "2017-12-15",
          "2017-12-18",
          "2017-12-19",
          "2017-12-20",
          "2017-12-21",
          "2017-12-22",
          "2017-12-26",
          "2017-12-27",
          "2017-12-28",
          "2017-12-29"
         ],
         "y": [
          100,
          102.02286719437114,
          101.49516270888303,
          101.49516270888303,
          99.64819700967459,
          100.79155672823221,
          100.9674582233949,
          100.1759014951627,
          100.08795074758137,
          99.73614775725595,
          98.59278803869834,
          98.6807387862797,
          98.41688654353563,
          98.94459102902375,
          100.79155672823221,
          102.99032541776607,
          102.81442392260334,
          101.31926121372032,
          98.41688654353563,
          97.36147757255938,
          98.76868953386105,
          97.80123131046614,
          100.70360598065085,
          99.38434476693054,
          99.38434476693054,
          99.12049252418646,
          100.79155672823221,
          100.35180299032542,
          101.7590149516271,
          103.34212840809147,
          104.57343887423045,
          104.57343887423045,
          103.51802990325419,
          103.16622691292876,
          102.9023746701847,
          100.9674582233949,
          98.76868953386105,
          98.41688654353563,
          98.41688654353563,
          99.8240985048373,
          98.24098504837292,
          99.64819700967459,
          97.44942832014073,
          97.0976253298153,
          98.59278803869834,
          98.8566402814424,
          99.03254177660511,
          98.59278803869834,
          96.9217238346526,
          97.36147757255938,
          99.91204925241864,
          100,
          98.41688654353563,
          99.29639401934917,
          98.32893579595428,
          98.76868953386105,
          99.03254177660511,
          99.56024626209323,
          100,
          99.12049252418646,
          100.26385224274408,
          98.8566402814424,
          97.62532981530343,
          95.51451187335093,
          94.98680738786281,
          94.63500439753739,
          93.93139841688655,
          94.19525065963063,
          94.72295514511873,
          93.93139841688655,
          92.34828496042216,
          94.0193491644679,
          93.13984168865436,
          92.96394019349165,
          93.57959542656114,
          92.8759894459103,
          98.32893579595428,
          99.8240985048373,
          100.79155672823221,
          101.23131046613895,
          95.07475813544416,
          96.30606860158312,
          94.89885664028144,
          94.98680738786281,
          95.77836411609499,
          94.10729991204926,
          93.22779243623572,
          93.66754617414249,
          95.42656112576957,
          93.22779243623572,
          93.49164467897978,
          95.33861037818822,
          96.21811785400176,
          93.93139841688655,
          96.74582233948989,
          97.97713280562887,
          97.97713280562887,
          98.32893579595428,
          98.15303430079156,
          96.83377308707124,
          94.81090589270009,
          93.75549692172385,
          94.72295514511873,
          95.51451187335093,
          95.25065963060688,
          95.51451187335093,
          94.54705364995604,
          94.81090589270009,
          93.40369393139841,
          93.051890941073,
          91.64467897977133,
          92.78803869832895,
          92.34828496042216,
          91.1169744942832,
          91.46877748460864,
          92.61213720316623,
          89.53386103781882,
          88.83025505716799,
          87.24714160070361,
          88.30255057167986,
          89.53386103781882,
          91.29287598944592,
          92.61213720316623,
          93.57959542656114,
          93.13984168865436,
          94.10729991204926,
          93.66754617414249,
          94.89885664028144,
          94.54705364995604,
          94.28320140721198,
          93.57959542656114,
          94.72295514511873,
          96.39401934916448,
          96.21811785400176,
          95.86631486367635,
          94.54705364995604,
          94.37115215479332,
          95.07475813544416,
          93.66754617414249,
          94.63500439753739,
          95.95426561125771,
          97.0976253298153,
          95.60246262093229,
          95.16270888302552,
          94.37115215479332,
          96.21811785400176,
          96.39401934916448,
          96.04221635883906,
          95.86631486367635,
          95.95426561125771,
          95.16270888302552,
          94.81090589270009,
          92.52418645558488,
          90.9410729991205,
          90.85312225153915,
          90.41336851363236,
          90.50131926121372,
          88.12664907651715,
          88.39050131926123,
          87.42304309586632,
          87.33509234828496,
          86.8953386103782,
          87.59894459102904,
          87.95074758135445,
          87.42304309586632,
          86.71943711521548,
          86.45558487247142,
          86.80738786279683,
          87.42304309586632,
          85.40017590149517,
          85.22427440633246,
          84.60861917326297,
          86.45558487247142,
          86.36763412489007,
          89.09410729991207,
          88.83025505716799,
          88.74230430958664,
          89.09410729991207,
          89.09410729991207,
          89.44591029023748,
          88.74230430958664,
          90.85312225153915,
          91.1169744942832,
          89.62181178540017,
          89.27000879507476,
          89.97361477572561,
          90.9410729991205,
          91.02902374670185,
          90.06156552330695,
          90.32541776605102,
          89.53386103781882,
          88.2145998240985,
          87.77484608619174,
          87.24714160070361,
          88.91820580474933,
          88.74230430958664,
          89.27000879507476,
          89.27000879507476,
          88.2145998240985,
          88.56640281442392,
          89.27000879507476,
          89.18205804749341,
          90.67722075637644,
          90.32541776605102,
          91.20492524186456,
          91.82058047493405,
          83.11345646437994,
          84.60861917326297,
          84.9604221635884,
          86.54353562005278,
          85.22427440633246,
          85.40017590149517,
          84.16886543535621,
          84.34476693051892,
          83.37730870712402,
          83.02550571679859,
          83.02550571679859,
          83.02550571679859,
          82.32189973614777,
          83.64116094986808,
          84.25681618293757,
          85.40017590149517,
          85.83992963940193,
          87.6868953386104,
          87.95074758135445,
          88.30255057167986,
          88.65435356200528,
          87.59894459102904,
          88.30255057167986,
          91.02902374670185,
          91.02902374670185,
          90.23746701846966,
          91.29287598944592,
          89.7977132805629,
          89.18205804749341,
          90.41336851363236,
          92.43623570800352,
          92.96394019349165,
          93.66754617414249,
          94.72295514511873,
          95.16270888302552,
          94.0193491644679,
          95.42656112576957,
          95.42656112576957,
          95.33861037818822,
          95.95426561125771,
          95.42656112576957,
          95.07475813544416,
          95.16270888302552,
          96.1301671064204,
          95.86631486367635
         ]
        }
       ],
       "layout": {
        "legend": {
         "bgcolor": "#F5F6F9",
         "font": {
          "color": "#4D5663"
         }
        },
        "paper_bgcolor": "#F5F6F9",
        "plot_bgcolor": "#F5F6F9",
        "template": {
         "data": {
          "bar": [
           {
            "error_x": {
             "color": "#2a3f5f"
            },
            "error_y": {
             "color": "#2a3f5f"
            },
            "marker": {
             "line": {
              "color": "#E5ECF6",
              "width": 0.5
             },
             "pattern": {
              "fillmode": "overlay",
              "size": 10,
              "solidity": 0.2
             }
            },
            "type": "bar"
           }
          ],
          "barpolar": [
           {
            "marker": {
             "line": {
              "color": "#E5ECF6",
              "width": 0.5
             },
             "pattern": {
              "fillmode": "overlay",
              "size": 10,
              "solidity": 0.2
             }
            },
            "type": "barpolar"
           }
          ],
          "carpet": [
           {
            "aaxis": {
             "endlinecolor": "#2a3f5f",
             "gridcolor": "white",
             "linecolor": "white",
             "minorgridcolor": "white",
             "startlinecolor": "#2a3f5f"
            },
            "baxis": {
             "endlinecolor": "#2a3f5f",
             "gridcolor": "white",
             "linecolor": "white",
             "minorgridcolor": "white",
             "startlinecolor": "#2a3f5f"
            },
            "type": "carpet"
           }
          ],
          "choropleth": [
           {
            "colorbar": {
             "outlinewidth": 0,
             "ticks": ""
            },
            "type": "choropleth"
           }
          ],
          "contour": [
           {
            "colorbar": {
             "outlinewidth": 0,
             "ticks": ""
            },
            "colorscale": [
             [
              0,
              "#0d0887"
             ],
             [
              0.1111111111111111,
              "#46039f"
             ],
             [
              0.2222222222222222,
              "#7201a8"
             ],
             [
              0.3333333333333333,
              "#9c179e"
             ],
             [
              0.4444444444444444,
              "#bd3786"
             ],
             [
              0.5555555555555556,
              "#d8576b"
             ],
             [
              0.6666666666666666,
              "#ed7953"
             ],
             [
              0.7777777777777778,
              "#fb9f3a"
             ],
             [
              0.8888888888888888,
              "#fdca26"
             ],
             [
              1,
              "#f0f921"
             ]
            ],
            "type": "contour"
           }
          ],
          "contourcarpet": [
           {
            "colorbar": {
             "outlinewidth": 0,
             "ticks": ""
            },
            "type": "contourcarpet"
           }
          ],
          "heatmap": [
           {
            "colorbar": {
             "outlinewidth": 0,
             "ticks": ""
            },
            "colorscale": [
             [
              0,
              "#0d0887"
             ],
             [
              0.1111111111111111,
              "#46039f"
             ],
             [
              0.2222222222222222,
              "#7201a8"
             ],
             [
              0.3333333333333333,
              "#9c179e"
             ],
             [
              0.4444444444444444,
              "#bd3786"
             ],
             [
              0.5555555555555556,
              "#d8576b"
             ],
             [
              0.6666666666666666,
              "#ed7953"
             ],
             [
              0.7777777777777778,
              "#fb9f3a"
             ],
             [
              0.8888888888888888,
              "#fdca26"
             ],
             [
              1,
              "#f0f921"
             ]
            ],
            "type": "heatmap"
           }
          ],
          "heatmapgl": [
           {
            "colorbar": {
             "outlinewidth": 0,
             "ticks": ""
            },
            "colorscale": [
             [
              0,
              "#0d0887"
             ],
             [
              0.1111111111111111,
              "#46039f"
             ],
             [
              0.2222222222222222,
              "#7201a8"
             ],
             [
              0.3333333333333333,
              "#9c179e"
             ],
             [
              0.4444444444444444,
              "#bd3786"
             ],
             [
              0.5555555555555556,
              "#d8576b"
             ],
             [
              0.6666666666666666,
              "#ed7953"
             ],
             [
              0.7777777777777778,
              "#fb9f3a"
             ],
             [
              0.8888888888888888,
              "#fdca26"
             ],
             [
              1,
              "#f0f921"
             ]
            ],
            "type": "heatmapgl"
           }
          ],
          "histogram": [
           {
            "marker": {
             "pattern": {
              "fillmode": "overlay",
              "size": 10,
              "solidity": 0.2
             }
            },
            "type": "histogram"
           }
          ],
          "histogram2d": [
           {
            "colorbar": {
             "outlinewidth": 0,
             "ticks": ""
            },
            "colorscale": [
             [
              0,
              "#0d0887"
             ],
             [
              0.1111111111111111,
              "#46039f"
             ],
             [
              0.2222222222222222,
              "#7201a8"
             ],
             [
              0.3333333333333333,
              "#9c179e"
             ],
             [
              0.4444444444444444,
              "#bd3786"
             ],
             [
              0.5555555555555556,
              "#d8576b"
             ],
             [
              0.6666666666666666,
              "#ed7953"
             ],
             [
              0.7777777777777778,
              "#fb9f3a"
             ],
             [
              0.8888888888888888,
              "#fdca26"
             ],
             [
              1,
              "#f0f921"
             ]
            ],
            "type": "histogram2d"
           }
          ],
          "histogram2dcontour": [
           {
            "colorbar": {
             "outlinewidth": 0,
             "ticks": ""
            },
            "colorscale": [
             [
              0,
              "#0d0887"
             ],
             [
              0.1111111111111111,
              "#46039f"
             ],
             [
              0.2222222222222222,
              "#7201a8"
             ],
             [
              0.3333333333333333,
              "#9c179e"
             ],
             [
              0.4444444444444444,
              "#bd3786"
             ],
             [
              0.5555555555555556,
              "#d8576b"
             ],
             [
              0.6666666666666666,
              "#ed7953"
             ],
             [
              0.7777777777777778,
              "#fb9f3a"
             ],
             [
              0.8888888888888888,
              "#fdca26"
             ],
             [
              1,
              "#f0f921"
             ]
            ],
            "type": "histogram2dcontour"
           }
          ],
          "mesh3d": [
           {
            "colorbar": {
             "outlinewidth": 0,
             "ticks": ""
            },
            "type": "mesh3d"
           }
          ],
          "parcoords": [
           {
            "line": {
             "colorbar": {
              "outlinewidth": 0,
              "ticks": ""
             }
            },
            "type": "parcoords"
           }
          ],
          "pie": [
           {
            "automargin": true,
            "type": "pie"
           }
          ],
          "scatter": [
           {
            "fillpattern": {
             "fillmode": "overlay",
             "size": 10,
             "solidity": 0.2
            },
            "type": "scatter"
           }
          ],
          "scatter3d": [
           {
            "line": {
             "colorbar": {
              "outlinewidth": 0,
              "ticks": ""
             }
            },
            "marker": {
             "colorbar": {
              "outlinewidth": 0,
              "ticks": ""
             }
            },
            "type": "scatter3d"
           }
          ],
          "scattercarpet": [
           {
            "marker": {
             "colorbar": {
              "outlinewidth": 0,
              "ticks": ""
             }
            },
            "type": "scattercarpet"
           }
          ],
          "scattergeo": [
           {
            "marker": {
             "colorbar": {
              "outlinewidth": 0,
              "ticks": ""
             }
            },
            "type": "scattergeo"
           }
          ],
          "scattergl": [
           {
            "marker": {
             "colorbar": {
              "outlinewidth": 0,
              "ticks": ""
             }
            },
            "type": "scattergl"
           }
          ],
          "scattermapbox": [
           {
            "marker": {
             "colorbar": {
              "outlinewidth": 0,
              "ticks": ""
             }
            },
            "type": "scattermapbox"
           }
          ],
          "scatterpolar": [
           {
            "marker": {
             "colorbar": {
              "outlinewidth": 0,
              "ticks": ""
             }
            },
            "type": "scatterpolar"
           }
          ],
          "scatterpolargl": [
           {
            "marker": {
             "colorbar": {
              "outlinewidth": 0,
              "ticks": ""
             }
            },
            "type": "scatterpolargl"
           }
          ],
          "scatterternary": [
           {
            "marker": {
             "colorbar": {
              "outlinewidth": 0,
              "ticks": ""
             }
            },
            "type": "scatterternary"
           }
          ],
          "surface": [
           {
            "colorbar": {
             "outlinewidth": 0,
             "ticks": ""
            },
            "colorscale": [
             [
              0,
              "#0d0887"
             ],
             [
              0.1111111111111111,
              "#46039f"
             ],
             [
              0.2222222222222222,
              "#7201a8"
             ],
             [
              0.3333333333333333,
              "#9c179e"
             ],
             [
              0.4444444444444444,
              "#bd3786"
             ],
             [
              0.5555555555555556,
              "#d8576b"
             ],
             [
              0.6666666666666666,
              "#ed7953"
             ],
             [
              0.7777777777777778,
              "#fb9f3a"
             ],
             [
              0.8888888888888888,
              "#fdca26"
             ],
             [
              1,
              "#f0f921"
             ]
            ],
            "type": "surface"
           }
          ],
          "table": [
           {
            "cells": {
             "fill": {
              "color": "#EBF0F8"
             },
             "line": {
              "color": "white"
             }
            },
            "header": {
             "fill": {
              "color": "#C8D4E3"
             },
             "line": {
              "color": "white"
             }
            },
            "type": "table"
           }
          ]
         },
         "layout": {
          "annotationdefaults": {
           "arrowcolor": "#2a3f5f",
           "arrowhead": 0,
           "arrowwidth": 1
          },
          "autotypenumbers": "strict",
          "coloraxis": {
           "colorbar": {
            "outlinewidth": 0,
            "ticks": ""
           }
          },
          "colorscale": {
           "diverging": [
            [
             0,
             "#8e0152"
            ],
            [
             0.1,
             "#c51b7d"
            ],
            [
             0.2,
             "#de77ae"
            ],
            [
             0.3,
             "#f1b6da"
            ],
            [
             0.4,
             "#fde0ef"
            ],
            [
             0.5,
             "#f7f7f7"
            ],
            [
             0.6,
             "#e6f5d0"
            ],
            [
             0.7,
             "#b8e186"
            ],
            [
             0.8,
             "#7fbc41"
            ],
            [
             0.9,
             "#4d9221"
            ],
            [
             1,
             "#276419"
            ]
           ],
           "sequential": [
            [
             0,
             "#0d0887"
            ],
            [
             0.1111111111111111,
             "#46039f"
            ],
            [
             0.2222222222222222,
             "#7201a8"
            ],
            [
             0.3333333333333333,
             "#9c179e"
            ],
            [
             0.4444444444444444,
             "#bd3786"
            ],
            [
             0.5555555555555556,
             "#d8576b"
            ],
            [
             0.6666666666666666,
             "#ed7953"
            ],
            [
             0.7777777777777778,
             "#fb9f3a"
            ],
            [
             0.8888888888888888,
             "#fdca26"
            ],
            [
             1,
             "#f0f921"
            ]
           ],
           "sequentialminus": [
            [
             0,
             "#0d0887"
            ],
            [
             0.1111111111111111,
             "#46039f"
            ],
            [
             0.2222222222222222,
             "#7201a8"
            ],
            [
             0.3333333333333333,
             "#9c179e"
            ],
            [
             0.4444444444444444,
             "#bd3786"
            ],
            [
             0.5555555555555556,
             "#d8576b"
            ],
            [
             0.6666666666666666,
             "#ed7953"
            ],
            [
             0.7777777777777778,
             "#fb9f3a"
            ],
            [
             0.8888888888888888,
             "#fdca26"
            ],
            [
             1,
             "#f0f921"
            ]
           ]
          },
          "colorway": [
           "#636efa",
           "#EF553B",
           "#00cc96",
           "#ab63fa",
           "#FFA15A",
           "#19d3f3",
           "#FF6692",
           "#B6E880",
           "#FF97FF",
           "#FECB52"
          ],
          "font": {
           "color": "#2a3f5f"
          },
          "geo": {
           "bgcolor": "white",
           "lakecolor": "white",
           "landcolor": "#E5ECF6",
           "showlakes": true,
           "showland": true,
           "subunitcolor": "white"
          },
          "hoverlabel": {
           "align": "left"
          },
          "hovermode": "closest",
          "mapbox": {
           "style": "light"
          },
          "paper_bgcolor": "white",
          "plot_bgcolor": "#E5ECF6",
          "polar": {
           "angularaxis": {
            "gridcolor": "white",
            "linecolor": "white",
            "ticks": ""
           },
           "bgcolor": "#E5ECF6",
           "radialaxis": {
            "gridcolor": "white",
            "linecolor": "white",
            "ticks": ""
           }
          },
          "scene": {
           "xaxis": {
            "backgroundcolor": "#E5ECF6",
            "gridcolor": "white",
            "gridwidth": 2,
            "linecolor": "white",
            "showbackground": true,
            "ticks": "",
            "zerolinecolor": "white"
           },
           "yaxis": {
            "backgroundcolor": "#E5ECF6",
            "gridcolor": "white",
            "gridwidth": 2,
            "linecolor": "white",
            "showbackground": true,
            "ticks": "",
            "zerolinecolor": "white"
           },
           "zaxis": {
            "backgroundcolor": "#E5ECF6",
            "gridcolor": "white",
            "gridwidth": 2,
            "linecolor": "white",
            "showbackground": true,
            "ticks": "",
            "zerolinecolor": "white"
           }
          },
          "shapedefaults": {
           "line": {
            "color": "#2a3f5f"
           }
          },
          "ternary": {
           "aaxis": {
            "gridcolor": "white",
            "linecolor": "white",
            "ticks": ""
           },
           "baxis": {
            "gridcolor": "white",
            "linecolor": "white",
            "ticks": ""
           },
           "bgcolor": "#E5ECF6",
           "caxis": {
            "gridcolor": "white",
            "linecolor": "white",
            "ticks": ""
           }
          },
          "title": {
           "x": 0.05
          },
          "xaxis": {
           "automargin": true,
           "gridcolor": "white",
           "linecolor": "white",
           "ticks": "",
           "title": {
            "standoff": 15
           },
           "zerolinecolor": "white",
           "zerolinewidth": 2
          },
          "yaxis": {
           "automargin": true,
           "gridcolor": "white",
           "linecolor": "white",
           "ticks": "",
           "title": {
            "standoff": 15
           },
           "zerolinecolor": "white",
           "zerolinewidth": 2
          }
         }
        },
        "title": {
         "font": {
          "color": "#4D5663"
         }
        },
        "xaxis": {
         "gridcolor": "#E1E5ED",
         "showgrid": true,
         "tickfont": {
          "color": "#4D5663"
         },
         "title": {
          "font": {
           "color": "#4D5663"
          },
          "text": ""
         },
         "zerolinecolor": "#E1E5ED"
        },
        "yaxis": {
         "gridcolor": "#E1E5ED",
         "showgrid": true,
         "tickfont": {
          "color": "#4D5663"
         },
         "title": {
          "font": {
           "color": "#4D5663"
          },
          "text": ""
         },
         "zerolinecolor": "#E1E5ED"
        }
       }
      },
      "text/html": [
       "<div>                            <div id=\"7b04941c-c577-4c3a-abcd-796814cf897a\" class=\"plotly-graph-div\" style=\"height:525px; width:100%;\"></div>            <script type=\"text/javascript\">                require([\"plotly\"], function(Plotly) {                    window.PLOTLYENV=window.PLOTLYENV || {};\n",
       "                    window.PLOTLYENV.BASE_URL='https://plot.ly';                                    if (document.getElementById(\"7b04941c-c577-4c3a-abcd-796814cf897a\")) {                    Plotly.newPlot(                        \"7b04941c-c577-4c3a-abcd-796814cf897a\",                        [{\"line\":{\"color\":\"rgba(255, 153, 51, 1.0)\",\"dash\":\"solid\",\"shape\":\"linear\",\"width\":1.3},\"mode\":\"lines\",\"name\":\"JPM\",\"text\":\"\",\"x\":[\"2017-01-03\",\"2017-01-04\",\"2017-01-05\",\"2017-01-06\",\"2017-01-09\",\"2017-01-10\",\"2017-01-11\",\"2017-01-12\",\"2017-01-13\",\"2017-01-17\",\"2017-01-18\",\"2017-01-19\",\"2017-01-20\",\"2017-01-23\",\"2017-01-24\",\"2017-01-25\",\"2017-01-26\",\"2017-01-27\",\"2017-01-30\",\"2017-01-31\",\"2017-02-01\",\"2017-02-02\",\"2017-02-03\",\"2017-02-06\",\"2017-02-07\",\"2017-02-08\",\"2017-02-09\",\"2017-02-10\",\"2017-02-13\",\"2017-02-14\",\"2017-02-15\",\"2017-02-16\",\"2017-02-17\",\"2017-02-21\",\"2017-02-22\",\"2017-02-23\",\"2017-02-24\",\"2017-02-27\",\"2017-02-28\",\"2017-03-01\",\"2017-03-02\",\"2017-03-03\",\"2017-03-06\",\"2017-03-07\",\"2017-03-08\",\"2017-03-09\",\"2017-03-10\",\"2017-03-13\",\"2017-03-14\",\"2017-03-15\",\"2017-03-16\",\"2017-03-17\",\"2017-03-20\",\"2017-03-21\",\"2017-03-22\",\"2017-03-23\",\"2017-03-24\",\"2017-03-27\",\"2017-03-28\",\"2017-03-29\",\"2017-03-30\",\"2017-03-31\",\"2017-04-03\",\"2017-04-04\",\"2017-04-05\",\"2017-04-06\",\"2017-04-07\",\"2017-04-10\",\"2017-04-11\",\"2017-04-12\",\"2017-04-13\",\"2017-04-17\",\"2017-04-18\",\"2017-04-19\",\"2017-04-20\",\"2017-04-21\",\"2017-04-24\",\"2017-04-25\",\"2017-04-26\",\"2017-04-27\",\"2017-04-28\",\"2017-05-01\",\"2017-05-02\",\"2017-05-03\",\"2017-05-04\",\"2017-05-05\",\"2017-05-08\",\"2017-05-09\",\"2017-05-10\",\"2017-05-11\",\"2017-05-12\",\"2017-05-15\",\"2017-05-16\",\"2017-05-17\",\"2017-05-18\",\"2017-05-19\",\"2017-05-22\",\"2017-05-23\",\"2017-05-24\",\"2017-05-25\",\"2017-05-26\",\"2017-05-30\",\"2017-05-31\",\"2017-06-01\",\"2017-06-02\",\"2017-06-05\",\"2017-06-06\",\"2017-06-07\",\"2017-06-08\",\"2017-06-09\",\"2017-06-12\",\"2017-06-13\",\"2017-06-14\",\"2017-06-15\",\"2017-06-16\",\"2017-06-19\",\"2017-06-20\",\"2017-06-21\",\"2017-06-22\",\"2017-06-23\",\"2017-06-26\",\"2017-06-27\",\"2017-06-28\",\"2017-06-29\",\"2017-06-30\",\"2017-07-03\",\"2017-07-05\",\"2017-07-06\",\"2017-07-07\",\"2017-07-10\",\"2017-07-11\",\"2017-07-12\",\"2017-07-13\",\"2017-07-14\",\"2017-07-17\",\"2017-07-18\",\"2017-07-19\",\"2017-07-20\",\"2017-07-21\",\"2017-07-24\",\"2017-07-25\",\"2017-07-26\",\"2017-07-27\",\"2017-07-28\",\"2017-07-31\",\"2017-08-01\",\"2017-08-02\",\"2017-08-03\",\"2017-08-04\",\"2017-08-07\",\"2017-08-08\",\"2017-08-09\",\"2017-08-10\",\"2017-08-11\",\"2017-08-14\",\"2017-08-15\",\"2017-08-16\",\"2017-08-17\",\"2017-08-18\",\"2017-08-21\",\"2017-08-22\",\"2017-08-23\",\"2017-08-24\",\"2017-08-25\",\"2017-08-28\",\"2017-08-29\",\"2017-08-30\",\"2017-08-31\",\"2017-09-01\",\"2017-09-05\",\"2017-09-06\",\"2017-09-07\",\"2017-09-08\",\"2017-09-11\",\"2017-09-12\",\"2017-09-13\",\"2017-09-14\",\"2017-09-15\",\"2017-09-18\",\"2017-09-19\",\"2017-09-20\",\"2017-09-21\",\"2017-09-22\",\"2017-09-25\",\"2017-09-26\",\"2017-09-27\",\"2017-09-28\",\"2017-09-29\",\"2017-10-02\",\"2017-10-03\",\"2017-10-04\",\"2017-10-05\",\"2017-10-06\",\"2017-10-09\",\"2017-10-10\",\"2017-10-11\",\"2017-10-12\",\"2017-10-13\",\"2017-10-16\",\"2017-10-17\",\"2017-10-18\",\"2017-10-19\",\"2017-10-20\",\"2017-10-23\",\"2017-10-24\",\"2017-10-25\",\"2017-10-26\",\"2017-10-27\",\"2017-10-30\",\"2017-10-31\",\"2017-11-01\",\"2017-11-02\",\"2017-11-03\",\"2017-11-06\",\"2017-11-07\",\"2017-11-08\",\"2017-11-09\",\"2017-11-10\",\"2017-11-13\",\"2017-11-14\",\"2017-11-15\",\"2017-11-16\",\"2017-11-17\",\"2017-11-20\",\"2017-11-21\",\"2017-11-22\",\"2017-11-24\",\"2017-11-27\",\"2017-11-28\",\"2017-11-29\",\"2017-11-30\",\"2017-12-01\",\"2017-12-04\",\"2017-12-05\",\"2017-12-06\",\"2017-12-07\",\"2017-12-08\",\"2017-12-11\",\"2017-12-12\",\"2017-12-13\",\"2017-12-14\",\"2017-12-15\",\"2017-12-18\",\"2017-12-19\",\"2017-12-20\",\"2017-12-21\",\"2017-12-22\",\"2017-12-26\",\"2017-12-27\",\"2017-12-28\",\"2017-12-29\"],\"y\":[100.0,99.63315373151438,98.71603806030035,98.72750200619052,98.79628568153159,99.08288432878597,99.82804081164737,98.86506935687262,99.3924108678207,95.78126791241544,96.22836180213228,95.49466926516106,95.91883526309756,95.96469104665825,97.12254958156596,98.62432649317896,99.44973059727158,99.65608162329474,98.62432649317896,97.01937406855438,97.38622033704002,96.9735182849937,99.94268027054912,99.47265848905192,99.41533875960104,98.54407887194772,99.96560816232947,99.73632924452596,101.05468302189612,102.67109939241085,103.85188581909894,103.78310214375787,103.43918376705261,104.33337154648629,104.39069127593719,104.47093889716838,103.55382322595436,103.66846268485612,103.88627765676945,107.3025335320417,105.62879743207611,106.38541786082769,105.37659062249224,104.79192938209331,104.56265046428979,104.97535251633612,104.64289808552103,104.73460965264243,104.90656884099508,105.15877565057895,105.05560013756734,103.95506133211052,103.2099048492491,100.1834231342428,100.34391837670526,100.1834231342428,100.06878367534104,100.01146394589016,101.57056058695402,101.19225037257824,102.06351026023157,100.69930069930071,100.33245443081509,100.0917115671214,98.80774962742174,99.14020405823685,98.79628568153159,98.45236730482631,98.2804081164737,97.9020979020979,96.75570331308036,98.42943941304596,97.62696320073368,96.8244869884214,98.07405709045052,96.89327066376245,100.30952653903474,101.18078642668806,101.37567350682104,100.43562994382667,99.73632924452596,99.80511291986701,99.16313195001719,99.73632924452596,99.85096870342771,99.73632924452596,99.85096870342771,99.44973059727158,100.22927891780351,99.91975237876876,99.64461767740455,100.12610340479193,100.43562994382667,96.60667201650807,96.25128969391264,97.19133325690701,97.09962168978562,98.31479995414422,98.25748022469332,97.84477817264701,97.8562421185372,96.18250601857159,94.1763154877909,95.21953456379686,94.73804883640949,94.91000802476212,95.10489510489509,96.19396996446176,97.38622033704002,99.69047346096525,99.7134013527456,100.04585578356068,99.83950475753754,99.24337957124841,98.79628568153159,100.96297145477473,100.33245443081509,99.87389659520807,99.75925713630632,99.5758340020635,100.01146394589016,100.94004356299438,102.96916198555542,104.49386678894876,104.78046543620314,106.32809813137682,107.39424509916313,107.05032672245787,107.58913217929612,106.83251175054454,106.41980969849823,106.0529634300126,106.72933623753296,105.75490083686805,104.76900149031296,104.40215522182734,104.55118651839963,104.55118651839963,104.19580419580419,104.64289808552103,106.38541786082769,105.38805456838244,104.95242462455576,104.64289808552103,105.23902327181014,106.64908861630174,106.74080018342313,106.04149948412243,107.37131720738277,107.78401925942909,107.39424509916313,107.22228591081048,105.68611716152698,104.8033933279835,106.03003553823226,106.30517023959646,105.57147770262524,103.92066949443999,104.02384500745157,103.89774160265964,104.96388857044595,105.08999197523788,104.91803278688523,105.34219878482173,105.00974435400663,104.43654705949787,104.67728992319157,104.19580419580419,105.1243838129084,102.61377966295998,103.3016164163705,101.4903129657228,101.36420956093086,102.9347701478849,104.19580419580419,104.49386678894876,104.28751576292558,105.03267224578701,106.5229852115098,107.6923076923077,108.44892812105927,108.94187779433682,108.7125988765333,107.89865871833084,107.41717299094348,109.11383698268943,109.34311590049295,109.49214719706524,111.01685200045857,111.6015132408575,110.46658259773012,111.30345064771294,111.10856356757996,110.523902327181,111.34930643127363,111.01685200045857,110.04241659979364,109.89338530322136,112.1632465894761,111.91103977989223,112.33520577782872,112.47277312851082,114.0777255531354,113.88283847300241,115.69414192365011,115.80878138255186,116.63418548664448,116.66857732431501,116.25587527226871,115.33875960105469,115.69414192365011,116.46222629829185,116.25587527226871,115.53364668118766,113.20646566548204,111.93396767167259,111.9225037257824,111.78493637510032,112.18617448125644,111.50980167373609,112.56448469563223,112.88547518055714,112.50716496618136,113.50452825862662,113.41281669150523,113.08036226069011,112.71351599220449,112.26642210248767,116.19855554281784,118.9155107187894,119.82116244411326,120.130688983148,122.60690129542589,121.19683595093431,120.29118422561045,119.93580190301503,121.437578814628,121.08219649203255,122.49226183652414,120.95609308724062,119.98165768657572,121.67832167832167,122.61836524131604,122.10248767625818,121.67832167832167,123.6157285337613,123.18009858993466,122.68714891665711,122.91642783446062,123.56987275020062,122.5954373495357],\"type\":\"scatter\"},{\"line\":{\"color\":\"rgba(55, 128, 191, 1.0)\",\"dash\":\"solid\",\"shape\":\"linear\",\"width\":1.3},\"mode\":\"lines\",\"name\":\"BAC\",\"text\":\"\",\"x\":[\"2017-01-03\",\"2017-01-04\",\"2017-01-05\",\"2017-01-06\",\"2017-01-09\",\"2017-01-10\",\"2017-01-11\",\"2017-01-12\",\"2017-01-13\",\"2017-01-17\",\"2017-01-18\",\"2017-01-19\",\"2017-01-20\",\"2017-01-23\",\"2017-01-24\",\"2017-01-25\",\"2017-01-26\",\"2017-01-27\",\"2017-01-30\",\"2017-01-31\",\"2017-02-01\",\"2017-02-02\",\"2017-02-03\",\"2017-02-06\",\"2017-02-07\",\"2017-02-08\",\"2017-02-09\",\"2017-02-10\",\"2017-02-13\",\"2017-02-14\",\"2017-02-15\",\"2017-02-16\",\"2017-02-17\",\"2017-02-21\",\"2017-02-22\",\"2017-02-23\",\"2017-02-24\",\"2017-02-27\",\"2017-02-28\",\"2017-03-01\",\"2017-03-02\",\"2017-03-03\",\"2017-03-06\",\"2017-03-07\",\"2017-03-08\",\"2017-03-09\",\"2017-03-10\",\"2017-03-13\",\"2017-03-14\",\"2017-03-15\",\"2017-03-16\",\"2017-03-17\",\"2017-03-20\",\"2017-03-21\",\"2017-03-22\",\"2017-03-23\",\"2017-03-24\",\"2017-03-27\",\"2017-03-28\",\"2017-03-29\",\"2017-03-30\",\"2017-03-31\",\"2017-04-03\",\"2017-04-04\",\"2017-04-05\",\"2017-04-06\",\"2017-04-07\",\"2017-04-10\",\"2017-04-11\",\"2017-04-12\",\"2017-04-13\",\"2017-04-17\",\"2017-04-18\",\"2017-04-19\",\"2017-04-20\",\"2017-04-21\",\"2017-04-24\",\"2017-04-25\",\"2017-04-26\",\"2017-04-27\",\"2017-04-28\",\"2017-05-01\",\"2017-05-02\",\"2017-05-03\",\"2017-05-04\",\"2017-05-05\",\"2017-05-08\",\"2017-05-09\",\"2017-05-10\",\"2017-05-11\",\"2017-05-12\",\"2017-05-15\",\"2017-05-16\",\"2017-05-17\",\"2017-05-18\",\"2017-05-19\",\"2017-05-22\",\"2017-05-23\",\"2017-05-24\",\"2017-05-25\",\"2017-05-26\",\"2017-05-30\",\"2017-05-31\",\"2017-06-01\",\"2017-06-02\",\"2017-06-05\",\"2017-06-06\",\"2017-06-07\",\"2017-06-08\",\"2017-06-09\",\"2017-06-12\",\"2017-06-13\",\"2017-06-14\",\"2017-06-15\",\"2017-06-16\",\"2017-06-19\",\"2017-06-20\",\"2017-06-21\",\"2017-06-22\",\"2017-06-23\",\"2017-06-26\",\"2017-06-27\",\"2017-06-28\",\"2017-06-29\",\"2017-06-30\",\"2017-07-03\",\"2017-07-05\",\"2017-07-06\",\"2017-07-07\",\"2017-07-10\",\"2017-07-11\",\"2017-07-12\",\"2017-07-13\",\"2017-07-14\",\"2017-07-17\",\"2017-07-18\",\"2017-07-19\",\"2017-07-20\",\"2017-07-21\",\"2017-07-24\",\"2017-07-25\",\"2017-07-26\",\"2017-07-27\",\"2017-07-28\",\"2017-07-31\",\"2017-08-01\",\"2017-08-02\",\"2017-08-03\",\"2017-08-04\",\"2017-08-07\",\"2017-08-08\",\"2017-08-09\",\"2017-08-10\",\"2017-08-11\",\"2017-08-14\",\"2017-08-15\",\"2017-08-16\",\"2017-08-17\",\"2017-08-18\",\"2017-08-21\",\"2017-08-22\",\"2017-08-23\",\"2017-08-24\",\"2017-08-25\",\"2017-08-28\",\"2017-08-29\",\"2017-08-30\",\"2017-08-31\",\"2017-09-01\",\"2017-09-05\",\"2017-09-06\",\"2017-09-07\",\"2017-09-08\",\"2017-09-11\",\"2017-09-12\",\"2017-09-13\",\"2017-09-14\",\"2017-09-15\",\"2017-09-18\",\"2017-09-19\",\"2017-09-20\",\"2017-09-21\",\"2017-09-22\",\"2017-09-25\",\"2017-09-26\",\"2017-09-27\",\"2017-09-28\",\"2017-09-29\",\"2017-10-02\",\"2017-10-03\",\"2017-10-04\",\"2017-10-05\",\"2017-10-06\",\"2017-10-09\",\"2017-10-10\",\"2017-10-11\",\"2017-10-12\",\"2017-10-13\",\"2017-10-16\",\"2017-10-17\",\"2017-10-18\",\"2017-10-19\",\"2017-10-20\",\"2017-10-23\",\"2017-10-24\",\"2017-10-25\",\"2017-10-26\",\"2017-10-27\",\"2017-10-30\",\"2017-10-31\",\"2017-11-01\",\"2017-11-02\",\"2017-11-03\",\"2017-11-06\",\"2017-11-07\",\"2017-11-08\",\"2017-11-09\",\"2017-11-10\",\"2017-11-13\",\"2017-11-14\",\"2017-11-15\",\"2017-11-16\",\"2017-11-17\",\"2017-11-20\",\"2017-11-21\",\"2017-11-22\",\"2017-11-24\",\"2017-11-27\",\"2017-11-28\",\"2017-11-29\",\"2017-11-30\",\"2017-12-01\",\"2017-12-04\",\"2017-12-05\",\"2017-12-06\",\"2017-12-07\",\"2017-12-08\",\"2017-12-11\",\"2017-12-12\",\"2017-12-13\",\"2017-12-14\",\"2017-12-15\",\"2017-12-18\",\"2017-12-19\",\"2017-12-20\",\"2017-12-21\",\"2017-12-22\",\"2017-12-26\",\"2017-12-27\",\"2017-12-28\",\"2017-12-29\"],\"y\":[100.0,101.8641810918775,100.66577896138482,100.66577896138482,100.08877052818464,101.81979582778517,102.39680426098533,101.73102529960055,102.13049267643142,97.86950732356857,100.44385264092321,100.0,100.48823790501554,100.13315579227695,101.8641810918775,103.72836218375498,104.03905903240125,103.68397691966267,101.8641810918775,100.48823790501554,101.59786950732357,100.8433200177541,103.37328007101641,102.61873058144695,101.64225477141588,100.6213936972925,102.61873058144695,102.44118952507766,103.86151797603193,106.79094540612515,109.09897913892586,109.09897913892586,108.83266755437194,109.9866844207723,110.03106968486462,109.09897913892586,107.54549489569463,109.05459387483356,109.5428317798491,113.18242343541944,111.98402130492676,112.91611185086552,112.07279183311141,111.89525077674212,112.11717709720372,112.51664447403462,112.33910341766533,112.29471815357302,112.38348868175765,111.76209498446514,111.93963604083443,110.34176653351086,108.47758544163338,102.17487794052373,101.81979582778517,102.39680426098533,102.61873058144695,102.21926320461607,104.21660008877052,103.63959165557036,105.94762538837105,104.70483799378604,104.70483799378604,104.03905903240125,102.84065690190857,103.24012427873946,102.79627163781623,102.17487794052373,101.73102529960055,100.53262316910785,99.15667998224589,101.242787394585,100.79893475366177,100.93209054593875,102.39680426098533,100.79893475366177,104.88237905015534,106.43586329338659,106.03639591655569,104.97114957833998,103.59520639147803,104.79360852197071,104.43852640923213,105.50377274744784,105.85885486018643,105.37061695517087,106.34709276520195,106.43586329338659,107.19041278295605,106.83533067021749,106.52463382157123,106.79094540612515,106.4802485574789,100.1775410563693,100.93209054593875,102.30803373280071,102.2636484687084,103.81713271193964,103.68397691966267,103.19573901464713,103.15135375055479,101.6866400355082,99.46737683089214,100.44385264092321,99.64491788726141,99.46737683089214,98.66844207723035,100.31069684864624,101.95295162006212,105.05992010652463,105.54815801154017,105.50377274744784,105.45938748335553,104.48291167332444,103.99467376830891,106.12516644474034,104.26098535286283,102.66311584553927,101.77541056369286,101.2871726586773,101.59786950732357,103.28450954283177,105.99201065246338,107.94496227252553,107.6786506879716,109.5428317798491,110.60807811806481,109.67598757212605,110.2086107412339,110.47492232578784,109.18774966711051,108.0781180648025,109.27652019529516,107.45672436750999,106.61340434975588,106.080781180648,106.79094540612515,106.2583222370173,105.63692853972482,106.12516644474034,108.65512649800266,107.45672436750999,107.01287172658675,106.6577896138482,107.0572569906791,108.52197070572569,109.1433644030182,108.16688859298714,110.8300044385264,110.78561917443407,110.51930758988016,109.80914336440301,107.0572569906791,105.90324012427874,108.38881491344874,108.61074123391032,107.36795383932534,104.92676431424768,104.83799378606302,103.77274744784731,105.77008433200177,105.45938748335553,105.81446959609409,105.50377274744784,105.28184642698623,104.66045272969373,105.94762538837105,106.03639591655569,106.92410119840213,103.46205059920106,103.90590324012427,101.95295162006212,101.59786950732357,103.68397691966267,106.30270750110962,107.98934753661781,107.58988015978694,108.21127385707945,109.63160230803372,110.34176653351086,111.2294718153573,111.67332445628051,111.05193075898801,109.89791389258767,110.11984021304926,112.78295605858855,112.96049711495782,112.47225920994228,113.71504660452729,114.78029294274302,114.11451398135819,115.97869507323568,116.33377718597427,114.73590767865069,115.09098979138925,114.64713715046604,112.96049711495782,114.64713715046604,116.46693297825121,116.28939192188193,117.53217931646694,117.97603195739012,120.5947625388371,120.55037727474478,122.85841100754548,122.63648468708388,123.12472259209942,123.39103417665336,122.50332889480693,121.57123834886818,122.19263204616067,123.7017310252996,123.47980470483799,123.16910785619173,120.63914780292941,118.9081225033289,117.57656458055925,117.6653351087439,117.17709720372835,116.46693297825121,118.9081225033289,118.77496671105192,118.15357301375944,118.68619618286726,118.64181091877496,118.3311140701287,118.02041722148246,118.02041722148246,122.68086995117619,125.52152685308478,125.03328894806924,124.722592099423,128.98357745228583,128.40656901908565,127.11939636040835,127.74079005770085,128.93919218819352,128.450954283178,130.13759431868618,128.00710164225478,127.51886373723924,128.89480692410118,130.84775854416333,130.71460275188636,130.84775854416333,132.35685752330227,132.6231691078562,132.17931646693296,131.95739014647137,132.2680869951176,131.0252996005326],\"type\":\"scatter\"},{\"line\":{\"color\":\"rgba(50, 171, 96, 1.0)\",\"dash\":\"solid\",\"shape\":\"linear\",\"width\":1.3},\"mode\":\"lines\",\"name\":\"WFC\",\"text\":\"\",\"x\":[\"2017-01-03\",\"2017-01-04\",\"2017-01-05\",\"2017-01-06\",\"2017-01-09\",\"2017-01-10\",\"2017-01-11\",\"2017-01-12\",\"2017-01-13\",\"2017-01-17\",\"2017-01-18\",\"2017-01-19\",\"2017-01-20\",\"2017-01-23\",\"2017-01-24\",\"2017-01-25\",\"2017-01-26\",\"2017-01-27\",\"2017-01-30\",\"2017-01-31\",\"2017-02-01\",\"2017-02-02\",\"2017-02-03\",\"2017-02-06\",\"2017-02-07\",\"2017-02-08\",\"2017-02-09\",\"2017-02-10\",\"2017-02-13\",\"2017-02-14\",\"2017-02-15\",\"2017-02-16\",\"2017-02-17\",\"2017-02-21\",\"2017-02-22\",\"2017-02-23\",\"2017-02-24\",\"2017-02-27\",\"2017-02-28\",\"2017-03-01\",\"2017-03-02\",\"2017-03-03\",\"2017-03-06\",\"2017-03-07\",\"2017-03-08\",\"2017-03-09\",\"2017-03-10\",\"2017-03-13\",\"2017-03-14\",\"2017-03-15\",\"2017-03-16\",\"2017-03-17\",\"2017-03-20\",\"2017-03-21\",\"2017-03-22\",\"2017-03-23\",\"2017-03-24\",\"2017-03-27\",\"2017-03-28\",\"2017-03-29\",\"2017-03-30\",\"2017-03-31\",\"2017-04-03\",\"2017-04-04\",\"2017-04-05\",\"2017-04-06\",\"2017-04-07\",\"2017-04-10\",\"2017-04-11\",\"2017-04-12\",\"2017-04-13\",\"2017-04-17\",\"2017-04-18\",\"2017-04-19\",\"2017-04-20\",\"2017-04-21\",\"2017-04-24\",\"2017-04-25\",\"2017-04-26\",\"2017-04-27\",\"2017-04-28\",\"2017-05-01\",\"2017-05-02\",\"2017-05-03\",\"2017-05-04\",\"2017-05-05\",\"2017-05-08\",\"2017-05-09\",\"2017-05-10\",\"2017-05-11\",\"2017-05-12\",\"2017-05-15\",\"2017-05-16\",\"2017-05-17\",\"2017-05-18\",\"2017-05-19\",\"2017-05-22\",\"2017-05-23\",\"2017-05-24\",\"2017-05-25\",\"2017-05-26\",\"2017-05-30\",\"2017-05-31\",\"2017-06-01\",\"2017-06-02\",\"2017-06-05\",\"2017-06-06\",\"2017-06-07\",\"2017-06-08\",\"2017-06-09\",\"2017-06-12\",\"2017-06-13\",\"2017-06-14\",\"2017-06-15\",\"2017-06-16\",\"2017-06-19\",\"2017-06-20\",\"2017-06-21\",\"2017-06-22\",\"2017-06-23\",\"2017-06-26\",\"2017-06-27\",\"2017-06-28\",\"2017-06-29\",\"2017-06-30\",\"2017-07-03\",\"2017-07-05\",\"2017-07-06\",\"2017-07-07\",\"2017-07-10\",\"2017-07-11\",\"2017-07-12\",\"2017-07-13\",\"2017-07-14\",\"2017-07-17\",\"2017-07-18\",\"2017-07-19\",\"2017-07-20\",\"2017-07-21\",\"2017-07-24\",\"2017-07-25\",\"2017-07-26\",\"2017-07-27\",\"2017-07-28\",\"2017-07-31\",\"2017-08-01\",\"2017-08-02\",\"2017-08-03\",\"2017-08-04\",\"2017-08-07\",\"2017-08-08\",\"2017-08-09\",\"2017-08-10\",\"2017-08-11\",\"2017-08-14\",\"2017-08-15\",\"2017-08-16\",\"2017-08-17\",\"2017-08-18\",\"2017-08-21\",\"2017-08-22\",\"2017-08-23\",\"2017-08-24\",\"2017-08-25\",\"2017-08-28\",\"2017-08-29\",\"2017-08-30\",\"2017-08-31\",\"2017-09-01\",\"2017-09-05\",\"2017-09-06\",\"2017-09-07\",\"2017-09-08\",\"2017-09-11\",\"2017-09-12\",\"2017-09-13\",\"2017-09-14\",\"2017-09-15\",\"2017-09-18\",\"2017-09-19\",\"2017-09-20\",\"2017-09-21\",\"2017-09-22\",\"2017-09-25\",\"2017-09-26\",\"2017-09-27\",\"2017-09-28\",\"2017-09-29\",\"2017-10-02\",\"2017-10-03\",\"2017-10-04\",\"2017-10-05\",\"2017-10-06\",\"2017-10-09\",\"2017-10-10\",\"2017-10-11\",\"2017-10-12\",\"2017-10-13\",\"2017-10-16\",\"2017-10-17\",\"2017-10-18\",\"2017-10-19\",\"2017-10-20\",\"2017-10-23\",\"2017-10-24\",\"2017-10-25\",\"2017-10-26\",\"2017-10-27\",\"2017-10-30\",\"2017-10-31\",\"2017-11-01\",\"2017-11-02\",\"2017-11-03\",\"2017-11-06\",\"2017-11-07\",\"2017-11-08\",\"2017-11-09\",\"2017-11-10\",\"2017-11-13\",\"2017-11-14\",\"2017-11-15\",\"2017-11-16\",\"2017-11-17\",\"2017-11-20\",\"2017-11-21\",\"2017-11-22\",\"2017-11-24\",\"2017-11-27\",\"2017-11-28\",\"2017-11-29\",\"2017-11-30\",\"2017-12-01\",\"2017-12-04\",\"2017-12-05\",\"2017-12-06\",\"2017-12-07\",\"2017-12-08\",\"2017-12-11\",\"2017-12-12\",\"2017-12-13\",\"2017-12-14\",\"2017-12-15\",\"2017-12-18\",\"2017-12-19\",\"2017-12-20\",\"2017-12-21\",\"2017-12-22\",\"2017-12-26\",\"2017-12-27\",\"2017-12-28\",\"2017-12-29\"],\"y\":[100.0,100.08928571428571,98.53571428571428,98.28571428571429,96.85714285714286,97.53571428571428,97.85714285714285,97.32142857142857,98.76785714285715,96.03571428571429,96.91071428571429,97.46428571428571,98.33928571428572,96.875,97.67857142857143,101.10714285714286,102.10714285714286,101.05357142857143,100.14285714285714,100.58928571428571,99.83928571428571,99.55357142857143,102.26785714285715,100.98214285714285,100.60714285714288,99.33928571428572,101.30357142857143,101.53571428571428,101.92857142857143,103.53571428571429,104.55357142857142,103.78571428571428,103.73214285714288,104.01785714285714,104.21428571428571,104.44642857142858,103.23214285714286,103.67857142857144,103.35714285714286,106.66071428571429,104.83928571428571,105.16071428571429,104.66071428571428,104.10714285714285,103.94642857142857,104.82142857142858,105.08928571428571,104.82142857142858,104.92857142857142,104.83928571428571,105.92857142857144,104.76785714285714,102.9107142857143,99.73214285714286,98.80357142857143,98.66071428571429,99.69642857142857,98.91071428571429,99.92857142857143,99.41071428571429,100.42857142857142,99.39285714285714,99.08928571428571,98.57142857142858,98.17857142857143,98.87499999999999,97.92857142857143,97.39285714285714,96.71428571428571,94.85714285714285,91.69642857142858,94.14285714285714,93.66071428571429,93.125,95.53571428571429,94.64285714285714,95.80357142857142,97.42857142857143,97.39285714285714,97.21428571428571,96.14285714285715,97.25,97.39285714285714,97.94642857142858,98.53571428571428,98.41071428571428,98.28571428571429,97.64285714285714,97.71428571428571,95.96428571428571,94.67857142857143,95.21428571428572,95.10714285714286,93.28571428571429,93.53571428571429,94.75,94.66071428571429,95.33928571428572,94.80357142857143,94.25,93.58928571428571,93.14285714285714,91.32142857142857,93.0,92.51785714285715,92.35714285714286,92.51785714285715,93.01785714285715,93.85714285714286,96.07142857142857,96.58928571428572,97.23214285714286,97.375,96.25,96.23214285714286,96.85714285714286,95.46428571428571,94.60714285714286,93.73214285714286,93.66071428571429,94.46428571428571,94.92857142857142,97.01785714285714,99.60714285714286,98.94642857142857,99.60714285714286,99.60714285714286,99.21428571428572,99.53571428571429,99.26785714285715,98.28571428571429,98.51785714285714,99.28571428571429,98.19642857142857,97.69642857142857,97.85714285714285,98.10714285714285,98.00000000000001,96.73214285714286,96.91071428571429,98.32142857142857,98.05357142857142,97.69642857142857,95.17857142857142,96.32142857142857,96.57142857142857,95.74999999999999,95.35714285714285,94.35714285714286,93.82142857142857,94.125,94.26785714285714,92.76785714285715,92.75,94.35714285714286,94.375,94.08928571428571,92.5,92.28571428571428,92.53571428571429,93.25,92.91071428571429,93.14285714285714,92.44642857142857,92.19642857142858,91.82142857142857,91.71428571428571,91.19642857142857,91.01785714285714,89.46428571428572,89.07142857142858,88.71428571428571,88.53571428571428,90.46428571428571,92.08928571428572,91.89285714285714,91.58928571428572,92.25,94.125,95.28571428571428,95.98214285714286,96.53571428571429,96.875,96.48214285714286,96.07142857142857,96.80357142857143,96.875,98.48214285714285,99.05357142857143,99.25,98.14285714285714,98.91071428571429,99.25,98.46428571428572,99.30357142857143,99.39285714285714,98.58928571428571,95.875,96.07142857142857,94.98214285714285,95.375,95.98214285714286,98.07142857142857,98.05357142857142,98.96428571428572,98.66071428571429,99.32142857142857,99.76785714285714,99.73214285714286,100.25,100.37499999999999,100.85714285714285,100.62500000000001,100.32142857142856,98.30357142857142,96.89285714285714,96.42857142857143,96.08928571428572,95.92857142857143,96.5,95.98214285714286,97.5,96.69642857142857,96.51785714285714,97.35714285714286,96.53571428571429,96.58928571428572,96.33928571428572,99.23214285714286,101.21428571428572,100.83928571428571,100.35714285714286,102.48214285714286,104.55357142857142,104.58928571428572,106.0,105.91071428571428,105.125,107.73214285714286,106.07142857142857,105.74999999999999,106.91071428571428,108.78571428571429,107.78571428571428,107.39285714285714,110.01785714285714,109.91071428571428,109.1607142857143,108.83928571428572,109.46428571428571,108.33928571428572],\"type\":\"scatter\"},{\"line\":{\"color\":\"rgba(128, 0, 128, 1.0)\",\"dash\":\"solid\",\"shape\":\"linear\",\"width\":1.3},\"mode\":\"lines\",\"name\":\"MS\",\"text\":\"\",\"x\":[\"2017-01-03\",\"2017-01-04\",\"2017-01-05\",\"2017-01-06\",\"2017-01-09\",\"2017-01-10\",\"2017-01-11\",\"2017-01-12\",\"2017-01-13\",\"2017-01-17\",\"2017-01-18\",\"2017-01-19\",\"2017-01-20\",\"2017-01-23\",\"2017-01-24\",\"2017-01-25\",\"2017-01-26\",\"2017-01-27\",\"2017-01-30\",\"2017-01-31\",\"2017-02-01\",\"2017-02-02\",\"2017-02-03\",\"2017-02-06\",\"2017-02-07\",\"2017-02-08\",\"2017-02-09\",\"2017-02-10\",\"2017-02-13\",\"2017-02-14\",\"2017-02-15\",\"2017-02-16\",\"2017-02-17\",\"2017-02-21\",\"2017-02-22\",\"2017-02-23\",\"2017-02-24\",\"2017-02-27\",\"2017-02-28\",\"2017-03-01\",\"2017-03-02\",\"2017-03-03\",\"2017-03-06\",\"2017-03-07\",\"2017-03-08\",\"2017-03-09\",\"2017-03-10\",\"2017-03-13\",\"2017-03-14\",\"2017-03-15\",\"2017-03-16\",\"2017-03-17\",\"2017-03-20\",\"2017-03-21\",\"2017-03-22\",\"2017-03-23\",\"2017-03-24\",\"2017-03-27\",\"2017-03-28\",\"2017-03-29\",\"2017-03-30\",\"2017-03-31\",\"2017-04-03\",\"2017-04-04\",\"2017-04-05\",\"2017-04-06\",\"2017-04-07\",\"2017-04-10\",\"2017-04-11\",\"2017-04-12\",\"2017-04-13\",\"2017-04-17\",\"2017-04-18\",\"2017-04-19\",\"2017-04-20\",\"2017-04-21\",\"2017-04-24\",\"2017-04-25\",\"2017-04-26\",\"2017-04-27\",\"2017-04-28\",\"2017-05-01\",\"2017-05-02\",\"2017-05-03\",\"2017-05-04\",\"2017-05-05\",\"2017-05-08\",\"2017-05-09\",\"2017-05-10\",\"2017-05-11\",\"2017-05-12\",\"2017-05-15\",\"2017-05-16\",\"2017-05-17\",\"2017-05-18\",\"2017-05-19\",\"2017-05-22\",\"2017-05-23\",\"2017-05-24\",\"2017-05-25\",\"2017-05-26\",\"2017-05-30\",\"2017-05-31\",\"2017-06-01\",\"2017-06-02\",\"2017-06-05\",\"2017-06-06\",\"2017-06-07\",\"2017-06-08\",\"2017-06-09\",\"2017-06-12\",\"2017-06-13\",\"2017-06-14\",\"2017-06-15\",\"2017-06-16\",\"2017-06-19\",\"2017-06-20\",\"2017-06-21\",\"2017-06-22\",\"2017-06-23\",\"2017-06-26\",\"2017-06-27\",\"2017-06-28\",\"2017-06-29\",\"2017-06-30\",\"2017-07-03\",\"2017-07-05\",\"2017-07-06\",\"2017-07-07\",\"2017-07-10\",\"2017-07-11\",\"2017-07-12\",\"2017-07-13\",\"2017-07-14\",\"2017-07-17\",\"2017-07-18\",\"2017-07-19\",\"2017-07-20\",\"2017-07-21\",\"2017-07-24\",\"2017-07-25\",\"2017-07-26\",\"2017-07-27\",\"2017-07-28\",\"2017-07-31\",\"2017-08-01\",\"2017-08-02\",\"2017-08-03\",\"2017-08-04\",\"2017-08-07\",\"2017-08-08\",\"2017-08-09\",\"2017-08-10\",\"2017-08-11\",\"2017-08-14\",\"2017-08-15\",\"2017-08-16\",\"2017-08-17\",\"2017-08-18\",\"2017-08-21\",\"2017-08-22\",\"2017-08-23\",\"2017-08-24\",\"2017-08-25\",\"2017-08-28\",\"2017-08-29\",\"2017-08-30\",\"2017-08-31\",\"2017-09-01\",\"2017-09-05\",\"2017-09-06\",\"2017-09-07\",\"2017-09-08\",\"2017-09-11\",\"2017-09-12\",\"2017-09-13\",\"2017-09-14\",\"2017-09-15\",\"2017-09-18\",\"2017-09-19\",\"2017-09-20\",\"2017-09-21\",\"2017-09-22\",\"2017-09-25\",\"2017-09-26\",\"2017-09-27\",\"2017-09-28\",\"2017-09-29\",\"2017-10-02\",\"2017-10-03\",\"2017-10-04\",\"2017-10-05\",\"2017-10-06\",\"2017-10-09\",\"2017-10-10\",\"2017-10-11\",\"2017-10-12\",\"2017-10-13\",\"2017-10-16\",\"2017-10-17\",\"2017-10-18\",\"2017-10-19\",\"2017-10-20\",\"2017-10-23\",\"2017-10-24\",\"2017-10-25\",\"2017-10-26\",\"2017-10-27\",\"2017-10-30\",\"2017-10-31\",\"2017-11-01\",\"2017-11-02\",\"2017-11-03\",\"2017-11-06\",\"2017-11-07\",\"2017-11-08\",\"2017-11-09\",\"2017-11-10\",\"2017-11-13\",\"2017-11-14\",\"2017-11-15\",\"2017-11-16\",\"2017-11-17\",\"2017-11-20\",\"2017-11-21\",\"2017-11-22\",\"2017-11-24\",\"2017-11-27\",\"2017-11-28\",\"2017-11-29\",\"2017-11-30\",\"2017-12-01\",\"2017-12-04\",\"2017-12-05\",\"2017-12-06\",\"2017-12-07\",\"2017-12-08\",\"2017-12-11\",\"2017-12-12\",\"2017-12-13\",\"2017-12-14\",\"2017-12-15\",\"2017-12-18\",\"2017-12-19\",\"2017-12-20\",\"2017-12-21\",\"2017-12-22\",\"2017-12-26\",\"2017-12-27\",\"2017-12-28\",\"2017-12-29\"],\"y\":[100.0,101.32404181184668,100.39488966318235,101.8583042973287,99.21022067363532,100.02322880371662,101.44018583042975,101.3472706155633,101.76538908246226,97.90940766550523,99.55865272938445,98.6062717770035,98.93147502903602,97.46806039488966,99.25667828106852,101.8815331010453,102.25319396051104,101.39372822299653,100.16260162601627,98.69918699186992,99.18699186991871,97.86295005807202,103.20557491289199,103.67015098722416,104.22764227642276,101.99767711962832,104.18118466898956,103.83275261324043,105.13356562137051,106.94541231126597,107.99070847851337,107.10801393728224,107.20092915214867,108.15331010452962,108.06039488966319,108.19976771196285,105.76074332171895,106.48083623693381,106.08594657375146,108.73403019744485,107.50290360046459,108.78048780487805,108.17653890824623,107.61904761904762,107.75842044134727,108.43205574912893,107.99070847851337,107.45644599303137,107.2938443670151,106.50406504065042,107.61904761904762,104.57607433217191,103.57723577235774,99.09407665505226,98.04878048780489,98.93147502903602,98.62950058072009,96.58536585365853,98.69918699186992,99.41927990708479,100.88269454123113,99.51219512195124,99.21022067363532,98.74564459930313,96.95702671312428,97.7700348432056,97.44483159117307,97.35191637630662,96.58536585365853,95.4006968641115,94.51800232288036,96.37630662020908,95.72590011614402,97.65389082462254,98.72241579558654,97.09639953542393,101.18466898954705,102.83391405342626,103.06620209059234,101.13821138211382,100.74332171893148,101.602787456446,100.69686411149827,100.99883855981417,100.534262485482,100.06968641114983,99.93031358885018,99.48896631823462,100.11614401858304,99.58188153310104,99.25667828106852,100.88269454123113,100.76655052264809,95.16840882694541,95.95818815331012,97.09639953542393,96.7711962833914,98.53658536585367,99.02439024390245,99.02439024390245,99.51219512195124,98.21138211382114,96.95702671312428,98.97793263646922,98.76887340301977,99.62833914053427,99.74448315911731,100.534262485482,102.4390243902439,104.3205574912892,104.18118466898956,104.8780487804878,104.3205574912892,103.80952380952382,103.32171893147503,106.2020905923345,105.6910569105691,104.3205574912892,103.62369337979094,101.48664343786295,102.20673635307782,102.71777003484321,102.9500580720093,103.94889663182347,103.50754936120792,105.9465737514518,107.22415795586527,107.15447154471546,106.96864111498259,106.82926829268294,105.64459930313588,104.43670150987225,105.73751451800233,104.99419279907085,105.29616724738675,104.8548199767712,108.29268292682927,108.03716608594658,108.22299651567945,108.50174216027875,110.59233449477352,109.6631823461092,109.38443670150988,108.38559814169571,108.9430894308943,109.6631823461092,109.94192799070848,109.77932636469222,111.68408826945412,112.21835075493614,111.33565621370501,110.68524970963995,107.5493612078978,106.03948896631823,108.03716608594658,107.85133565621372,106.87572590011614,104.73867595818818,105.43554006968643,103.7862950058072,105.85365853658537,106.38792102206736,106.85249709639955,106.7131242740999,105.64459930313588,105.34262485481997,106.06271777003484,105.6910569105691,107.2938443670151,104.3205574912892,104.69221835075496,102.36933797909408,102.22996515679444,104.90127758420442,106.27177700348433,107.36353077816494,107.82810685249711,108.24622531939607,109.91869918699189,110.73170731707319,111.24274099883857,112.10220673635307,112.00929152148665,110.89430894308944,110.2439024390244,111.66085946573752,111.84668989547039,111.89314750290362,113.63530778164926,114.47154471544717,113.84436701509873,115.28455284552848,115.58652729384437,114.70383275261324,114.95934959349594,114.23925667828108,112.86875725900119,112.19512195121952,113.68176538908246,114.09988385598142,116.49245063879209,115.65621370499419,117.72357723577235,117.56097560975611,118.6295005807201,117.37514518002324,117.93263646922185,118.83855981416957,117.21254355400698,116.14401858304298,115.28455284552848,117.11962833914053,116.1904761904762,116.46922183507552,114.72706155632986,113.91405342624856,113.40301974448317,113.26364692218351,112.96167247386761,112.38095238095241,111.73054587688736,112.89198606271778,113.12427409988386,114.07665505226481,114.70383275261324,114.0301974448316,113.96051103368178,113.8211382113821,117.07317073170734,119.21022067363532,119.88385598141696,120.67363530778165,122.36933797909408,120.81300813008131,120.06968641114983,121.60278745644601,122.85714285714286,122.57839721254358,125.0871080139373,123.5307781649245,122.27642276422766,123.34494773519165,123.67015098722418,122.9500580720093,121.97444831591173,122.83391405342626,122.4622531939605,121.8815331010453,122.11382113821139,122.29965156794424,121.8815331010453],\"type\":\"scatter\"},{\"line\":{\"color\":\"rgba(219, 64, 82, 1.0)\",\"dash\":\"solid\",\"shape\":\"linear\",\"width\":1.3},\"mode\":\"lines\",\"name\":\"GS\",\"text\":\"\",\"x\":[\"2017-01-03\",\"2017-01-04\",\"2017-01-05\",\"2017-01-06\",\"2017-01-09\",\"2017-01-10\",\"2017-01-11\",\"2017-01-12\",\"2017-01-13\",\"2017-01-17\",\"2017-01-18\",\"2017-01-19\",\"2017-01-20\",\"2017-01-23\",\"2017-01-24\",\"2017-01-25\",\"2017-01-26\",\"2017-01-27\",\"2017-01-30\",\"2017-01-31\",\"2017-02-01\",\"2017-02-02\",\"2017-02-03\",\"2017-02-06\",\"2017-02-07\",\"2017-02-08\",\"2017-02-09\",\"2017-02-10\",\"2017-02-13\",\"2017-02-14\",\"2017-02-15\",\"2017-02-16\",\"2017-02-17\",\"2017-02-21\",\"2017-02-22\",\"2017-02-23\",\"2017-02-24\",\"2017-02-27\",\"2017-02-28\",\"2017-03-01\",\"2017-03-02\",\"2017-03-03\",\"2017-03-06\",\"2017-03-07\",\"2017-03-08\",\"2017-03-09\",\"2017-03-10\",\"2017-03-13\",\"2017-03-14\",\"2017-03-15\",\"2017-03-16\",\"2017-03-17\",\"2017-03-20\",\"2017-03-21\",\"2017-03-22\",\"2017-03-23\",\"2017-03-24\",\"2017-03-27\",\"2017-03-28\",\"2017-03-29\",\"2017-03-30\",\"2017-03-31\",\"2017-04-03\",\"2017-04-04\",\"2017-04-05\",\"2017-04-06\",\"2017-04-07\",\"2017-04-10\",\"2017-04-11\",\"2017-04-12\",\"2017-04-13\",\"2017-04-17\",\"2017-04-18\",\"2017-04-19\",\"2017-04-20\",\"2017-04-21\",\"2017-04-24\",\"2017-04-25\",\"2017-04-26\",\"2017-04-27\",\"2017-04-28\",\"2017-05-01\",\"2017-05-02\",\"2017-05-03\",\"2017-05-04\",\"2017-05-05\",\"2017-05-08\",\"2017-05-09\",\"2017-05-10\",\"2017-05-11\",\"2017-05-12\",\"2017-05-15\",\"2017-05-16\",\"2017-05-17\",\"2017-05-18\",\"2017-05-19\",\"2017-05-22\",\"2017-05-23\",\"2017-05-24\",\"2017-05-25\",\"2017-05-26\",\"2017-05-30\",\"2017-05-31\",\"2017-06-01\",\"2017-06-02\",\"2017-06-05\",\"2017-06-06\",\"2017-06-07\",\"2017-06-08\",\"2017-06-09\",\"2017-06-12\",\"2017-06-13\",\"2017-06-14\",\"2017-06-15\",\"2017-06-16\",\"2017-06-19\",\"2017-06-20\",\"2017-06-21\",\"2017-06-22\",\"2017-06-23\",\"2017-06-26\",\"2017-06-27\",\"2017-06-28\",\"2017-06-29\",\"2017-06-30\",\"2017-07-03\",\"2017-07-05\",\"2017-07-06\",\"2017-07-07\",\"2017-07-10\",\"2017-07-11\",\"2017-07-12\",\"2017-07-13\",\"2017-07-14\",\"2017-07-17\",\"2017-07-18\",\"2017-07-19\",\"2017-07-20\",\"2017-07-21\",\"2017-07-24\",\"2017-07-25\",\"2017-07-26\",\"2017-07-27\",\"2017-07-28\",\"2017-07-31\",\"2017-08-01\",\"2017-08-02\",\"2017-08-03\",\"2017-08-04\",\"2017-08-07\",\"2017-08-08\",\"2017-08-09\",\"2017-08-10\",\"2017-08-11\",\"2017-08-14\",\"2017-08-15\",\"2017-08-16\",\"2017-08-17\",\"2017-08-18\",\"2017-08-21\",\"2017-08-22\",\"2017-08-23\",\"2017-08-24\",\"2017-08-25\",\"2017-08-28\",\"2017-08-29\",\"2017-08-30\",\"2017-08-31\",\"2017-09-01\",\"2017-09-05\",\"2017-09-06\",\"2017-09-07\",\"2017-09-08\",\"2017-09-11\",\"2017-09-12\",\"2017-09-13\",\"2017-09-14\",\"2017-09-15\",\"2017-09-18\",\"2017-09-19\",\"2017-09-20\",\"2017-09-21\",\"2017-09-22\",\"2017-09-25\",\"2017-09-26\",\"2017-09-27\",\"2017-09-28\",\"2017-09-29\",\"2017-10-02\",\"2017-10-03\",\"2017-10-04\",\"2017-10-05\",\"2017-10-06\",\"2017-10-09\",\"2017-10-10\",\"2017-10-11\",\"2017-10-12\",\"2017-10-13\",\"2017-10-16\",\"2017-10-17\",\"2017-10-18\",\"2017-10-19\",\"2017-10-20\",\"2017-10-23\",\"2017-10-24\",\"2017-10-25\",\"2017-10-26\",\"2017-10-27\",\"2017-10-30\",\"2017-10-31\",\"2017-11-01\",\"2017-11-02\",\"2017-11-03\",\"2017-11-06\",\"2017-11-07\",\"2017-11-08\",\"2017-11-09\",\"2017-11-10\",\"2017-11-13\",\"2017-11-14\",\"2017-11-15\",\"2017-11-16\",\"2017-11-17\",\"2017-11-20\",\"2017-11-21\",\"2017-11-22\",\"2017-11-24\",\"2017-11-27\",\"2017-11-28\",\"2017-11-29\",\"2017-11-30\",\"2017-12-01\",\"2017-12-04\",\"2017-12-05\",\"2017-12-06\",\"2017-12-07\",\"2017-12-08\",\"2017-12-11\",\"2017-12-12\",\"2017-12-13\",\"2017-12-14\",\"2017-12-15\",\"2017-12-18\",\"2017-12-19\",\"2017-12-20\",\"2017-12-21\",\"2017-12-22\",\"2017-12-26\",\"2017-12-27\",\"2017-12-28\",\"2017-12-29\"],\"y\":[100.0,100.64577555159995,99.89651032826924,101.37848242745375,100.54642546673843,100.41395868692304,101.73448689820756,100.9396862193153,101.13010721529992,97.58662085523865,96.98638075920023,95.79417974086186,96.12120710353108,96.3157676863849,96.73386596017718,98.21169847249244,99.17622221302315,98.08751086641553,96.82493687130025,94.9290060851927,95.4878503125388,95.38022105393881,99.74334561410771,99.34180568779236,99.19278056050007,98.4103986422155,99.99172082626154,100.4760524899615,101.9456058285383,103.26613403982283,103.7132094216997,103.25785486608436,103.64697603179202,104.21823901974582,104.20582025913814,103.98228256819971,102.3926812104152,103.21231941052285,102.68659187813056,104.61149977232273,103.9284679388997,104.68601233596885,104.32172869147661,103.86223454899202,103.58902181562281,103.56418429440741,102.81905865794594,102.72798774682286,102.54584592457674,102.15672475886907,102.75282526803826,100.98108208800762,100.23595645154613,96.4523740530695,95.65343378730803,95.99701949745416,94.55230368009273,93.33940472740821,94.93314567206194,94.56886202756965,95.71552759034648,95.09458955996192,94.7799809579004,94.90416856397731,94.24183466490045,94.64751417808502,94.33290557602352,94.75100384981579,94.2749513598543,93.45117357287744,92.44525396365442,93.66229250320818,89.2453533137393,88.62441528335474,90.26783127043922,89.77108084613157,92.40385809496212,93.8154572173697,93.63745498199279,93.47601109409281,92.64395413337749,93.07861075464669,93.19037960011592,93.68299043755434,93.79889886989278,93.91480730223124,93.15312331829284,92.62739578590057,93.09102951525438,93.04135447282361,92.23827462019291,93.19037960011592,93.38907976983897,88.47125056919319,89.06735107836238,89.16256157635468,89.4233555491162,90.92188599577761,92.65637289398518,92.09338907976984,92.53218528790828,90.41685639773151,87.4529121993625,89.00525727532393,88.30152750755474,88.58301941466242,88.80655710560086,89.32400546425467,90.55760235128534,92.08097031916215,91.86157221509293,92.80953760814671,93.76578217493893,92.40799768183136,91.82017634640063,93.60847787390819,93.18210042637745,92.10166825350831,90.97570062507762,89.90768721281617,91.25305294531606,91.18681955540838,92.40385809496212,92.89646893240054,91.8574326282237,94.08453036386969,94.3991389659312,93.8402947385851,93.2566129900236,93.4884298547005,93.94792399718509,94.13006581943122,95.3760814670696,94.63095583060812,94.90416856397731,92.44111437678521,92.25897255453907,92.02301610299293,91.14542368671607,90.31750631286998,91.72496584840833,92.00231816864677,91.68356997971601,92.56530198286211,93.27731092436976,93.96862193153123,93.66643209007741,92.72260628389287,95.12356666804654,96.41925735811566,96.05911330049261,95.62859626609264,93.34768390114667,92.78883967380057,94.11764705882354,94.21285755681583,93.39321935670822,91.65873245850064,91.96092229995448,91.39793848573913,92.55288322225442,92.20515792523906,92.30864759696983,92.09338907976984,91.21579666349298,91.054352775593,92.07269114542368,92.61911661216212,93.50498820217742,90.15192283810076,90.58657945936997,89.34884298547006,89.91596638655463,91.50970733120835,93.53396531026203,93.7864801092851,93.90652812849277,93.23177546880822,94.18802003560045,94.75928302355425,95.12356666804654,95.7445046984311,95.6368754398311,95.31812725090036,95.18566047108499,97.18094134205406,97.47485200976944,98.18686095127707,99.61915800803081,100.02069793434616,99.47841205447698,101.85867450428448,101.84211615680756,100.50916918491535,100.42637744753074,100.34358571014614,99.26729312414622,98.74156559175394,100.34772529701537,97.73150639566171,100.19042099598461,99.3459452746616,101.30810945067682,100.2318168646769,101.35364490623837,100.05795421616924,100.06209380303845,100.05795421616924,99.71850809289232,100.37670240509998,101.113548867823,102.19812062756137,101.17150308399223,100.79480067889226,99.27143271101544,99.86753322018463,99.67711222420003,99.41217866456928,99.46185370700005,98.20755888562323,98.36072359978475,99.08929088876931,98.5304466614232,98.57598211698473,98.5304466614232,97.87225234921554,97.67355217949249,97.32582688247714,99.10584923624623,99.91306867574616,102.51272922962289,103.05501510949206,103.75874487726125,102.7983607235998,101.81313904872293,102.89357122159208,103.63455727118433,103.54348636006128,106.66887444633026,105.79128203005341,105.75816533509956,106.45775551599952,107.63753777373017,106.1721240220226,105.63397772902266,108.047356873784,107.20288115246099,106.6854327938072,105.95272591795339,106.18040319576107,105.46011508051495],\"type\":\"scatter\"},{\"line\":{\"color\":\"rgba(0, 128, 128, 1.0)\",\"dash\":\"solid\",\"shape\":\"linear\",\"width\":1.3},\"mode\":\"lines\",\"name\":\"C\",\"text\":\"\",\"x\":[\"2017-01-03\",\"2017-01-04\",\"2017-01-05\",\"2017-01-06\",\"2017-01-09\",\"2017-01-10\",\"2017-01-11\",\"2017-01-12\",\"2017-01-13\",\"2017-01-17\",\"2017-01-18\",\"2017-01-19\",\"2017-01-20\",\"2017-01-23\",\"2017-01-24\",\"2017-01-25\",\"2017-01-26\",\"2017-01-27\",\"2017-01-30\",\"2017-01-31\",\"2017-02-01\",\"2017-02-02\",\"2017-02-03\",\"2017-02-06\",\"2017-02-07\",\"2017-02-08\",\"2017-02-09\",\"2017-02-10\",\"2017-02-13\",\"2017-02-14\",\"2017-02-15\",\"2017-02-16\",\"2017-02-17\",\"2017-02-21\",\"2017-02-22\",\"2017-02-23\",\"2017-02-24\",\"2017-02-27\",\"2017-02-28\",\"2017-03-01\",\"2017-03-02\",\"2017-03-03\",\"2017-03-06\",\"2017-03-07\",\"2017-03-08\",\"2017-03-09\",\"2017-03-10\",\"2017-03-13\",\"2017-03-14\",\"2017-03-15\",\"2017-03-16\",\"2017-03-17\",\"2017-03-20\",\"2017-03-21\",\"2017-03-22\",\"2017-03-23\",\"2017-03-24\",\"2017-03-27\",\"2017-03-28\",\"2017-03-29\",\"2017-03-30\",\"2017-03-31\",\"2017-04-03\",\"2017-04-04\",\"2017-04-05\",\"2017-04-06\",\"2017-04-07\",\"2017-04-10\",\"2017-04-11\",\"2017-04-12\",\"2017-04-13\",\"2017-04-17\",\"2017-04-18\",\"2017-04-19\",\"2017-04-20\",\"2017-04-21\",\"2017-04-24\",\"2017-04-25\",\"2017-04-26\",\"2017-04-27\",\"2017-04-28\",\"2017-05-01\",\"2017-05-02\",\"2017-05-03\",\"2017-05-04\",\"2017-05-05\",\"2017-05-08\",\"2017-05-09\",\"2017-05-10\",\"2017-05-11\",\"2017-05-12\",\"2017-05-15\",\"2017-05-16\",\"2017-05-17\",\"2017-05-18\",\"2017-05-19\",\"2017-05-22\",\"2017-05-23\",\"2017-05-24\",\"2017-05-25\",\"2017-05-26\",\"2017-05-30\",\"2017-05-31\",\"2017-06-01\",\"2017-06-02\",\"2017-06-05\",\"2017-06-06\",\"2017-06-07\",\"2017-06-08\",\"2017-06-09\",\"2017-06-12\",\"2017-06-13\",\"2017-06-14\",\"2017-06-15\",\"2017-06-16\",\"2017-06-19\",\"2017-06-20\",\"2017-06-21\",\"2017-06-22\",\"2017-06-23\",\"2017-06-26\",\"2017-06-27\",\"2017-06-28\",\"2017-06-29\",\"2017-06-30\",\"2017-07-03\",\"2017-07-05\",\"2017-07-06\",\"2017-07-07\",\"2017-07-10\",\"2017-07-11\",\"2017-07-12\",\"2017-07-13\",\"2017-07-14\",\"2017-07-17\",\"2017-07-18\",\"2017-07-19\",\"2017-07-20\",\"2017-07-21\",\"2017-07-24\",\"2017-07-25\",\"2017-07-26\",\"2017-07-27\",\"2017-07-28\",\"2017-07-31\",\"2017-08-01\",\"2017-08-02\",\"2017-08-03\",\"2017-08-04\",\"2017-08-07\",\"2017-08-08\",\"2017-08-09\",\"2017-08-10\",\"2017-08-11\",\"2017-08-14\",\"2017-08-15\",\"2017-08-16\",\"2017-08-17\",\"2017-08-18\",\"2017-08-21\",\"2017-08-22\",\"2017-08-23\",\"2017-08-24\",\"2017-08-25\",\"2017-08-28\",\"2017-08-29\",\"2017-08-30\",\"2017-08-31\",\"2017-09-01\",\"2017-09-05\",\"2017-09-06\",\"2017-09-07\",\"2017-09-08\",\"2017-09-11\",\"2017-09-12\",\"2017-09-13\",\"2017-09-14\",\"2017-09-15\",\"2017-09-18\",\"2017-09-19\",\"2017-09-20\",\"2017-09-21\",\"2017-09-22\",\"2017-09-25\",\"2017-09-26\",\"2017-09-27\",\"2017-09-28\",\"2017-09-29\",\"2017-10-02\",\"2017-10-03\",\"2017-10-04\",\"2017-10-05\",\"2017-10-06\",\"2017-10-09\",\"2017-10-10\",\"2017-10-11\",\"2017-10-12\",\"2017-10-13\",\"2017-10-16\",\"2017-10-17\",\"2017-10-18\",\"2017-10-19\",\"2017-10-20\",\"2017-10-23\",\"2017-10-24\",\"2017-10-25\",\"2017-10-26\",\"2017-10-27\",\"2017-10-30\",\"2017-10-31\",\"2017-11-01\",\"2017-11-02\",\"2017-11-03\",\"2017-11-06\",\"2017-11-07\",\"2017-11-08\",\"2017-11-09\",\"2017-11-10\",\"2017-11-13\",\"2017-11-14\",\"2017-11-15\",\"2017-11-16\",\"2017-11-17\",\"2017-11-20\",\"2017-11-21\",\"2017-11-22\",\"2017-11-24\",\"2017-11-27\",\"2017-11-28\",\"2017-11-29\",\"2017-11-30\",\"2017-12-01\",\"2017-12-04\",\"2017-12-05\",\"2017-12-06\",\"2017-12-07\",\"2017-12-08\",\"2017-12-11\",\"2017-12-12\",\"2017-12-13\",\"2017-12-14\",\"2017-12-15\",\"2017-12-18\",\"2017-12-19\",\"2017-12-20\",\"2017-12-21\",\"2017-12-22\",\"2017-12-26\",\"2017-12-27\",\"2017-12-28\",\"2017-12-29\"],\"y\":[100.0,101.3533586400396,99.58739065852451,99.93398250536391,99.38933817461627,99.40584254827527,98.96022445948176,97.75540518237332,98.41558012873412,96.35253342135665,94.7186004291137,93.51378115200527,92.6060406007592,91.89635253342135,93.64581614127744,95.2137316388843,94.66908730813664,94.25647796666115,93.43125928371018,92.14391813830665,92.50701435880508,92.39148374319194,95.32926225449744,95.1312097705892,94.38851295593331,92.9526324475986,94.50404357154645,95.11470539693019,97.29328271992078,98.7456676019145,99.85146063706883,99.65340815316058,99.30681630632118,99.93398250536391,100.04951312097705,100.04951312097705,98.30004951312098,99.05925070143587,98.71265885459647,101.56791549760686,100.06601749463609,100.6766793200198,99.48836441657039,99.85146063706883,100.85822743026903,101.58441987126588,101.48539362931177,101.55141112394783,101.40287176101666,100.41260934147549,100.92424492490508,99.63690377950157,98.34956263409804,95.79138471694999,95.34576662815645,95.807889090609,95.84089783792705,96.27001155306155,98.0689882818947,98.01947516091764,99.86796501072783,98.72916322825547,98.49810199702921,98.49810199702921,98.34956263409804,98.84469384386863,98.08549265555372,97.83792705066843,97.42531770919294,96.5670902789239,95.79138471694999,97.35930021455685,96.41855091599274,95.27974913352037,96.40204654233371,95.26324475986135,98.10199702921273,99.37283380095725,99.19128569070803,98.01947516091764,97.5738570721241,98.13500577653078,98.54761511800628,99.4223469219343,99.37283380095725,99.4223469219343,99.85146063706883,99.40584254827527,99.63690377950157,100.18154811024922,100.79220993563294,101.36986301369863,103.13583099521372,98.99323320679979,99.15827694338999,100.84172305661,100.77570556197392,101.84848984981019,102.77273477471529,102.24459481762666,102.44264730153489,101.73295923419705,99.9174781317049,100.80871430929194,100.85822743026903,101.08928866149529,100.6931836936788,102.12906420201352,104.32414589866315,106.37068823238158,106.1561313748143,106.76679320019804,106.81630632117512,105.79303515431589,105.44644330747647,106.42020135335864,105.47945205479449,105.34741706552235,105.00082521868295,104.65423337184352,105.26489519722726,106.00759201188315,107.57550750949001,110.54629476811355,110.38125103152335,112.65885459646807,112.97243769598944,111.61907905594981,112.08120151840237,111.65208780326788,110.28222478956921,110.44726852615942,110.61231226274961,110.11718105297903,110.29872916322824,110.39775540518238,110.08417230566099,109.52302360125432,108.92886614952961,109.0939098861198,112.27925400231061,112.1967321340155,111.56956593497276,111.28899158276944,112.97243769598944,114.87044066677667,114.57336194091434,112.44429773890079,113.84716949991748,113.94619574187159,113.68212576332726,112.93942894867139,110.94239973593001,110.24921604225118,112.04819277108433,112.18022776035647,111.75111404522198,109.91912856907078,109.88611982175276,108.84634428123452,110.33173791054627,110.95890410958904,111.71810529790393,111.98217527644825,111.91615778181219,111.37151345106453,112.24624525499259,112.27925400231061,113.18699455355667,110.84337349397589,111.1074434725202,109.02789239148373,109.20944050173296,111.75111404522198,113.5335864003961,114.52384881993727,114.27628321505196,113.94619574187159,116.52087803267865,117.42861858392475,117.94025416735434,118.43538537712494,117.84122792540023,116.91698300049514,117.08202673708531,119.29361280739394,119.90427463277769,120.05281399570885,121.80227760356492,122.34692193431258,122.23139131869945,124.97111734609672,124.83908235682455,124.42647301534906,124.07988116850966,123.68377620069317,119.44215217032514,119.01303845519062,118.45188975078393,119.14507344446277,120.67998019475161,120.28387522693514,121.35665951477141,121.35665951477141,122.5284700445618,121.5051988777026,121.78577322990594,121.91780821917808,121.76926885624691,121.30714639379434,122.1818781977224,123.35368872751278,122.21488694504043,121.80227760356492,120.00330087473179,119.39263904934808,119.54117841227925,119.24409968641689,118.81498597128237,118.05578478296748,118.38587225614788,118.28684601419374,117.72569730978708,118.9140122132365,119.45865654398413,119.26060406007592,118.86449909225945,117.8247235517412,121.63723386697474,123.84881993728338,124.60802112559828,124.62452549925732,127.2487209110414,126.32447598613632,124.50899488364415,123.74979369532926,124.95461297243769,125.18567420366395,125.68080541343456,124.01386367387357,122.00033008747317,123.40320184848983,124.88859547780163,123.28767123287672,123.2216537382406,125.1361610826869,124.59151675193925,123.41970622214886,123.60125433239809,123.91483743191944,122.80904439676512],\"type\":\"scatter\"},{\"line\":{\"color\":\"rgba(255, 255, 51, 1.0)\",\"dash\":\"solid\",\"shape\":\"linear\",\"width\":1.3},\"mode\":\"lines\",\"name\":\"BCS\",\"text\":\"\",\"x\":[\"2017-01-03\",\"2017-01-04\",\"2017-01-05\",\"2017-01-06\",\"2017-01-09\",\"2017-01-10\",\"2017-01-11\",\"2017-01-12\",\"2017-01-13\",\"2017-01-17\",\"2017-01-18\",\"2017-01-19\",\"2017-01-20\",\"2017-01-23\",\"2017-01-24\",\"2017-01-25\",\"2017-01-26\",\"2017-01-27\",\"2017-01-30\",\"2017-01-31\",\"2017-02-01\",\"2017-02-02\",\"2017-02-03\",\"2017-02-06\",\"2017-02-07\",\"2017-02-08\",\"2017-02-09\",\"2017-02-10\",\"2017-02-13\",\"2017-02-14\",\"2017-02-15\",\"2017-02-16\",\"2017-02-17\",\"2017-02-21\",\"2017-02-22\",\"2017-02-23\",\"2017-02-24\",\"2017-02-27\",\"2017-02-28\",\"2017-03-01\",\"2017-03-02\",\"2017-03-03\",\"2017-03-06\",\"2017-03-07\",\"2017-03-08\",\"2017-03-09\",\"2017-03-10\",\"2017-03-13\",\"2017-03-14\",\"2017-03-15\",\"2017-03-16\",\"2017-03-17\",\"2017-03-20\",\"2017-03-21\",\"2017-03-22\",\"2017-03-23\",\"2017-03-24\",\"2017-03-27\",\"2017-03-28\",\"2017-03-29\",\"2017-03-30\",\"2017-03-31\",\"2017-04-03\",\"2017-04-04\",\"2017-04-05\",\"2017-04-06\",\"2017-04-07\",\"2017-04-10\",\"2017-04-11\",\"2017-04-12\",\"2017-04-13\",\"2017-04-17\",\"2017-04-18\",\"2017-04-19\",\"2017-04-20\",\"2017-04-21\",\"2017-04-24\",\"2017-04-25\",\"2017-04-26\",\"2017-04-27\",\"2017-04-28\",\"2017-05-01\",\"2017-05-02\",\"2017-05-03\",\"2017-05-04\",\"2017-05-05\",\"2017-05-08\",\"2017-05-09\",\"2017-05-10\",\"2017-05-11\",\"2017-05-12\",\"2017-05-15\",\"2017-05-16\",\"2017-05-17\",\"2017-05-18\",\"2017-05-19\",\"2017-05-22\",\"2017-05-23\",\"2017-05-24\",\"2017-05-25\",\"2017-05-26\",\"2017-05-30\",\"2017-05-31\",\"2017-06-01\",\"2017-06-02\",\"2017-06-05\",\"2017-06-06\",\"2017-06-07\",\"2017-06-08\",\"2017-06-09\",\"2017-06-12\",\"2017-06-13\",\"2017-06-14\",\"2017-06-15\",\"2017-06-16\",\"2017-06-19\",\"2017-06-20\",\"2017-06-21\",\"2017-06-22\",\"2017-06-23\",\"2017-06-26\",\"2017-06-27\",\"2017-06-28\",\"2017-06-29\",\"2017-06-30\",\"2017-07-03\",\"2017-07-05\",\"2017-07-06\",\"2017-07-07\",\"2017-07-10\",\"2017-07-11\",\"2017-07-12\",\"2017-07-13\",\"2017-07-14\",\"2017-07-17\",\"2017-07-18\",\"2017-07-19\",\"2017-07-20\",\"2017-07-21\",\"2017-07-24\",\"2017-07-25\",\"2017-07-26\",\"2017-07-27\",\"2017-07-28\",\"2017-07-31\",\"2017-08-01\",\"2017-08-02\",\"2017-08-03\",\"2017-08-04\",\"2017-08-07\",\"2017-08-08\",\"2017-08-09\",\"2017-08-10\",\"2017-08-11\",\"2017-08-14\",\"2017-08-15\",\"2017-08-16\",\"2017-08-17\",\"2017-08-18\",\"2017-08-21\",\"2017-08-22\",\"2017-08-23\",\"2017-08-24\",\"2017-08-25\",\"2017-08-28\",\"2017-08-29\",\"2017-08-30\",\"2017-08-31\",\"2017-09-01\",\"2017-09-05\",\"2017-09-06\",\"2017-09-07\",\"2017-09-08\",\"2017-09-11\",\"2017-09-12\",\"2017-09-13\",\"2017-09-14\",\"2017-09-15\",\"2017-09-18\",\"2017-09-19\",\"2017-09-20\",\"2017-09-21\",\"2017-09-22\",\"2017-09-25\",\"2017-09-26\",\"2017-09-27\",\"2017-09-28\",\"2017-09-29\",\"2017-10-02\",\"2017-10-03\",\"2017-10-04\",\"2017-10-05\",\"2017-10-06\",\"2017-10-09\",\"2017-10-10\",\"2017-10-11\",\"2017-10-12\",\"2017-10-13\",\"2017-10-16\",\"2017-10-17\",\"2017-10-18\",\"2017-10-19\",\"2017-10-20\",\"2017-10-23\",\"2017-10-24\",\"2017-10-25\",\"2017-10-26\",\"2017-10-27\",\"2017-10-30\",\"2017-10-31\",\"2017-11-01\",\"2017-11-02\",\"2017-11-03\",\"2017-11-06\",\"2017-11-07\",\"2017-11-08\",\"2017-11-09\",\"2017-11-10\",\"2017-11-13\",\"2017-11-14\",\"2017-11-15\",\"2017-11-16\",\"2017-11-17\",\"2017-11-20\",\"2017-11-21\",\"2017-11-22\",\"2017-11-24\",\"2017-11-27\",\"2017-11-28\",\"2017-11-29\",\"2017-11-30\",\"2017-12-01\",\"2017-12-04\",\"2017-12-05\",\"2017-12-06\",\"2017-12-07\",\"2017-12-08\",\"2017-12-11\",\"2017-12-12\",\"2017-12-13\",\"2017-12-14\",\"2017-12-15\",\"2017-12-18\",\"2017-12-19\",\"2017-12-20\",\"2017-12-21\",\"2017-12-22\",\"2017-12-26\",\"2017-12-27\",\"2017-12-28\",\"2017-12-29\"],\"y\":[100.0,102.02286719437114,101.49516270888303,101.49516270888303,99.64819700967459,100.79155672823221,100.9674582233949,100.1759014951627,100.08795074758137,99.73614775725595,98.59278803869834,98.6807387862797,98.41688654353563,98.94459102902375,100.79155672823221,102.99032541776607,102.81442392260334,101.31926121372032,98.41688654353563,97.36147757255938,98.76868953386105,97.80123131046614,100.70360598065085,99.38434476693054,99.38434476693054,99.12049252418646,100.79155672823221,100.35180299032542,101.7590149516271,103.34212840809147,104.57343887423045,104.57343887423045,103.51802990325419,103.16622691292876,102.9023746701847,100.9674582233949,98.76868953386105,98.41688654353563,98.41688654353563,99.8240985048373,98.24098504837292,99.64819700967459,97.44942832014073,97.0976253298153,98.59278803869834,98.8566402814424,99.03254177660511,98.59278803869834,96.9217238346526,97.36147757255938,99.91204925241864,100.0,98.41688654353563,99.29639401934917,98.32893579595428,98.76868953386105,99.03254177660511,99.56024626209323,100.0,99.12049252418646,100.26385224274408,98.8566402814424,97.62532981530343,95.51451187335093,94.98680738786281,94.63500439753739,93.93139841688655,94.19525065963063,94.72295514511873,93.93139841688655,92.34828496042216,94.0193491644679,93.13984168865436,92.96394019349165,93.57959542656114,92.8759894459103,98.32893579595428,99.8240985048373,100.79155672823221,101.23131046613895,95.07475813544416,96.30606860158312,94.89885664028144,94.98680738786281,95.77836411609499,94.10729991204926,93.22779243623572,93.66754617414249,95.42656112576957,93.22779243623572,93.49164467897978,95.33861037818822,96.21811785400176,93.93139841688655,96.74582233948989,97.97713280562887,97.97713280562887,98.32893579595428,98.15303430079156,96.83377308707124,94.81090589270009,93.75549692172385,94.72295514511873,95.51451187335093,95.25065963060688,95.51451187335093,94.54705364995604,94.81090589270009,93.40369393139841,93.051890941073,91.64467897977133,92.78803869832895,92.34828496042216,91.1169744942832,91.46877748460864,92.61213720316623,89.53386103781882,88.83025505716799,87.24714160070361,88.30255057167986,89.53386103781882,91.29287598944592,92.61213720316623,93.57959542656114,93.13984168865436,94.10729991204926,93.66754617414249,94.89885664028144,94.54705364995604,94.28320140721198,93.57959542656114,94.72295514511873,96.39401934916448,96.21811785400176,95.86631486367635,94.54705364995604,94.37115215479332,95.07475813544416,93.66754617414249,94.63500439753739,95.95426561125771,97.0976253298153,95.60246262093229,95.16270888302552,94.37115215479332,96.21811785400176,96.39401934916448,96.04221635883906,95.86631486367635,95.95426561125771,95.16270888302552,94.81090589270009,92.52418645558488,90.9410729991205,90.85312225153915,90.41336851363236,90.50131926121372,88.12664907651715,88.39050131926123,87.42304309586632,87.33509234828496,86.8953386103782,87.59894459102904,87.95074758135445,87.42304309586632,86.71943711521548,86.45558487247142,86.80738786279683,87.42304309586632,85.40017590149517,85.22427440633246,84.60861917326297,86.45558487247142,86.36763412489007,89.09410729991207,88.83025505716799,88.74230430958664,89.09410729991207,89.09410729991207,89.44591029023748,88.74230430958664,90.85312225153915,91.1169744942832,89.62181178540017,89.27000879507476,89.97361477572561,90.9410729991205,91.02902374670185,90.06156552330695,90.32541776605102,89.53386103781882,88.2145998240985,87.77484608619174,87.24714160070361,88.91820580474933,88.74230430958664,89.27000879507476,89.27000879507476,88.2145998240985,88.56640281442392,89.27000879507476,89.18205804749341,90.67722075637644,90.32541776605102,91.20492524186456,91.82058047493405,83.11345646437994,84.60861917326297,84.9604221635884,86.54353562005278,85.22427440633246,85.40017590149517,84.16886543535621,84.34476693051892,83.37730870712402,83.02550571679859,83.02550571679859,83.02550571679859,82.32189973614777,83.64116094986808,84.25681618293757,85.40017590149517,85.83992963940193,87.6868953386104,87.95074758135445,88.30255057167986,88.65435356200528,87.59894459102904,88.30255057167986,91.02902374670185,91.02902374670185,90.23746701846966,91.29287598944592,89.7977132805629,89.18205804749341,90.41336851363236,92.43623570800352,92.96394019349165,93.66754617414249,94.72295514511873,95.16270888302552,94.0193491644679,95.42656112576957,95.42656112576957,95.33861037818822,95.95426561125771,95.42656112576957,95.07475813544416,95.16270888302552,96.1301671064204,95.86631486367635],\"type\":\"scatter\"}],                        {\"legend\":{\"bgcolor\":\"#F5F6F9\",\"font\":{\"color\":\"#4D5663\"}},\"paper_bgcolor\":\"#F5F6F9\",\"plot_bgcolor\":\"#F5F6F9\",\"template\":{\"data\":{\"barpolar\":[{\"marker\":{\"line\":{\"color\":\"#E5ECF6\",\"width\":0.5},\"pattern\":{\"fillmode\":\"overlay\",\"size\":10,\"solidity\":0.2}},\"type\":\"barpolar\"}],\"bar\":[{\"error_x\":{\"color\":\"#2a3f5f\"},\"error_y\":{\"color\":\"#2a3f5f\"},\"marker\":{\"line\":{\"color\":\"#E5ECF6\",\"width\":0.5},\"pattern\":{\"fillmode\":\"overlay\",\"size\":10,\"solidity\":0.2}},\"type\":\"bar\"}],\"carpet\":[{\"aaxis\":{\"endlinecolor\":\"#2a3f5f\",\"gridcolor\":\"white\",\"linecolor\":\"white\",\"minorgridcolor\":\"white\",\"startlinecolor\":\"#2a3f5f\"},\"baxis\":{\"endlinecolor\":\"#2a3f5f\",\"gridcolor\":\"white\",\"linecolor\":\"white\",\"minorgridcolor\":\"white\",\"startlinecolor\":\"#2a3f5f\"},\"type\":\"carpet\"}],\"choropleth\":[{\"colorbar\":{\"outlinewidth\":0,\"ticks\":\"\"},\"type\":\"choropleth\"}],\"contourcarpet\":[{\"colorbar\":{\"outlinewidth\":0,\"ticks\":\"\"},\"type\":\"contourcarpet\"}],\"contour\":[{\"colorbar\":{\"outlinewidth\":0,\"ticks\":\"\"},\"colorscale\":[[0.0,\"#0d0887\"],[0.1111111111111111,\"#46039f\"],[0.2222222222222222,\"#7201a8\"],[0.3333333333333333,\"#9c179e\"],[0.4444444444444444,\"#bd3786\"],[0.5555555555555556,\"#d8576b\"],[0.6666666666666666,\"#ed7953\"],[0.7777777777777778,\"#fb9f3a\"],[0.8888888888888888,\"#fdca26\"],[1.0,\"#f0f921\"]],\"type\":\"contour\"}],\"heatmapgl\":[{\"colorbar\":{\"outlinewidth\":0,\"ticks\":\"\"},\"colorscale\":[[0.0,\"#0d0887\"],[0.1111111111111111,\"#46039f\"],[0.2222222222222222,\"#7201a8\"],[0.3333333333333333,\"#9c179e\"],[0.4444444444444444,\"#bd3786\"],[0.5555555555555556,\"#d8576b\"],[0.6666666666666666,\"#ed7953\"],[0.7777777777777778,\"#fb9f3a\"],[0.8888888888888888,\"#fdca26\"],[1.0,\"#f0f921\"]],\"type\":\"heatmapgl\"}],\"heatmap\":[{\"colorbar\":{\"outlinewidth\":0,\"ticks\":\"\"},\"colorscale\":[[0.0,\"#0d0887\"],[0.1111111111111111,\"#46039f\"],[0.2222222222222222,\"#7201a8\"],[0.3333333333333333,\"#9c179e\"],[0.4444444444444444,\"#bd3786\"],[0.5555555555555556,\"#d8576b\"],[0.6666666666666666,\"#ed7953\"],[0.7777777777777778,\"#fb9f3a\"],[0.8888888888888888,\"#fdca26\"],[1.0,\"#f0f921\"]],\"type\":\"heatmap\"}],\"histogram2dcontour\":[{\"colorbar\":{\"outlinewidth\":0,\"ticks\":\"\"},\"colorscale\":[[0.0,\"#0d0887\"],[0.1111111111111111,\"#46039f\"],[0.2222222222222222,\"#7201a8\"],[0.3333333333333333,\"#9c179e\"],[0.4444444444444444,\"#bd3786\"],[0.5555555555555556,\"#d8576b\"],[0.6666666666666666,\"#ed7953\"],[0.7777777777777778,\"#fb9f3a\"],[0.8888888888888888,\"#fdca26\"],[1.0,\"#f0f921\"]],\"type\":\"histogram2dcontour\"}],\"histogram2d\":[{\"colorbar\":{\"outlinewidth\":0,\"ticks\":\"\"},\"colorscale\":[[0.0,\"#0d0887\"],[0.1111111111111111,\"#46039f\"],[0.2222222222222222,\"#7201a8\"],[0.3333333333333333,\"#9c179e\"],[0.4444444444444444,\"#bd3786\"],[0.5555555555555556,\"#d8576b\"],[0.6666666666666666,\"#ed7953\"],[0.7777777777777778,\"#fb9f3a\"],[0.8888888888888888,\"#fdca26\"],[1.0,\"#f0f921\"]],\"type\":\"histogram2d\"}],\"histogram\":[{\"marker\":{\"pattern\":{\"fillmode\":\"overlay\",\"size\":10,\"solidity\":0.2}},\"type\":\"histogram\"}],\"mesh3d\":[{\"colorbar\":{\"outlinewidth\":0,\"ticks\":\"\"},\"type\":\"mesh3d\"}],\"parcoords\":[{\"line\":{\"colorbar\":{\"outlinewidth\":0,\"ticks\":\"\"}},\"type\":\"parcoords\"}],\"pie\":[{\"automargin\":true,\"type\":\"pie\"}],\"scatter3d\":[{\"line\":{\"colorbar\":{\"outlinewidth\":0,\"ticks\":\"\"}},\"marker\":{\"colorbar\":{\"outlinewidth\":0,\"ticks\":\"\"}},\"type\":\"scatter3d\"}],\"scattercarpet\":[{\"marker\":{\"colorbar\":{\"outlinewidth\":0,\"ticks\":\"\"}},\"type\":\"scattercarpet\"}],\"scattergeo\":[{\"marker\":{\"colorbar\":{\"outlinewidth\":0,\"ticks\":\"\"}},\"type\":\"scattergeo\"}],\"scattergl\":[{\"marker\":{\"colorbar\":{\"outlinewidth\":0,\"ticks\":\"\"}},\"type\":\"scattergl\"}],\"scattermapbox\":[{\"marker\":{\"colorbar\":{\"outlinewidth\":0,\"ticks\":\"\"}},\"type\":\"scattermapbox\"}],\"scatterpolargl\":[{\"marker\":{\"colorbar\":{\"outlinewidth\":0,\"ticks\":\"\"}},\"type\":\"scatterpolargl\"}],\"scatterpolar\":[{\"marker\":{\"colorbar\":{\"outlinewidth\":0,\"ticks\":\"\"}},\"type\":\"scatterpolar\"}],\"scatter\":[{\"fillpattern\":{\"fillmode\":\"overlay\",\"size\":10,\"solidity\":0.2},\"type\":\"scatter\"}],\"scatterternary\":[{\"marker\":{\"colorbar\":{\"outlinewidth\":0,\"ticks\":\"\"}},\"type\":\"scatterternary\"}],\"surface\":[{\"colorbar\":{\"outlinewidth\":0,\"ticks\":\"\"},\"colorscale\":[[0.0,\"#0d0887\"],[0.1111111111111111,\"#46039f\"],[0.2222222222222222,\"#7201a8\"],[0.3333333333333333,\"#9c179e\"],[0.4444444444444444,\"#bd3786\"],[0.5555555555555556,\"#d8576b\"],[0.6666666666666666,\"#ed7953\"],[0.7777777777777778,\"#fb9f3a\"],[0.8888888888888888,\"#fdca26\"],[1.0,\"#f0f921\"]],\"type\":\"surface\"}],\"table\":[{\"cells\":{\"fill\":{\"color\":\"#EBF0F8\"},\"line\":{\"color\":\"white\"}},\"header\":{\"fill\":{\"color\":\"#C8D4E3\"},\"line\":{\"color\":\"white\"}},\"type\":\"table\"}]},\"layout\":{\"annotationdefaults\":{\"arrowcolor\":\"#2a3f5f\",\"arrowhead\":0,\"arrowwidth\":1},\"autotypenumbers\":\"strict\",\"coloraxis\":{\"colorbar\":{\"outlinewidth\":0,\"ticks\":\"\"}},\"colorscale\":{\"diverging\":[[0,\"#8e0152\"],[0.1,\"#c51b7d\"],[0.2,\"#de77ae\"],[0.3,\"#f1b6da\"],[0.4,\"#fde0ef\"],[0.5,\"#f7f7f7\"],[0.6,\"#e6f5d0\"],[0.7,\"#b8e186\"],[0.8,\"#7fbc41\"],[0.9,\"#4d9221\"],[1,\"#276419\"]],\"sequential\":[[0.0,\"#0d0887\"],[0.1111111111111111,\"#46039f\"],[0.2222222222222222,\"#7201a8\"],[0.3333333333333333,\"#9c179e\"],[0.4444444444444444,\"#bd3786\"],[0.5555555555555556,\"#d8576b\"],[0.6666666666666666,\"#ed7953\"],[0.7777777777777778,\"#fb9f3a\"],[0.8888888888888888,\"#fdca26\"],[1.0,\"#f0f921\"]],\"sequentialminus\":[[0.0,\"#0d0887\"],[0.1111111111111111,\"#46039f\"],[0.2222222222222222,\"#7201a8\"],[0.3333333333333333,\"#9c179e\"],[0.4444444444444444,\"#bd3786\"],[0.5555555555555556,\"#d8576b\"],[0.6666666666666666,\"#ed7953\"],[0.7777777777777778,\"#fb9f3a\"],[0.8888888888888888,\"#fdca26\"],[1.0,\"#f0f921\"]]},\"colorway\":[\"#636efa\",\"#EF553B\",\"#00cc96\",\"#ab63fa\",\"#FFA15A\",\"#19d3f3\",\"#FF6692\",\"#B6E880\",\"#FF97FF\",\"#FECB52\"],\"font\":{\"color\":\"#2a3f5f\"},\"geo\":{\"bgcolor\":\"white\",\"lakecolor\":\"white\",\"landcolor\":\"#E5ECF6\",\"showlakes\":true,\"showland\":true,\"subunitcolor\":\"white\"},\"hoverlabel\":{\"align\":\"left\"},\"hovermode\":\"closest\",\"mapbox\":{\"style\":\"light\"},\"paper_bgcolor\":\"white\",\"plot_bgcolor\":\"#E5ECF6\",\"polar\":{\"angularaxis\":{\"gridcolor\":\"white\",\"linecolor\":\"white\",\"ticks\":\"\"},\"bgcolor\":\"#E5ECF6\",\"radialaxis\":{\"gridcolor\":\"white\",\"linecolor\":\"white\",\"ticks\":\"\"}},\"scene\":{\"xaxis\":{\"backgroundcolor\":\"#E5ECF6\",\"gridcolor\":\"white\",\"gridwidth\":2,\"linecolor\":\"white\",\"showbackground\":true,\"ticks\":\"\",\"zerolinecolor\":\"white\"},\"yaxis\":{\"backgroundcolor\":\"#E5ECF6\",\"gridcolor\":\"white\",\"gridwidth\":2,\"linecolor\":\"white\",\"showbackground\":true,\"ticks\":\"\",\"zerolinecolor\":\"white\"},\"zaxis\":{\"backgroundcolor\":\"#E5ECF6\",\"gridcolor\":\"white\",\"gridwidth\":2,\"linecolor\":\"white\",\"showbackground\":true,\"ticks\":\"\",\"zerolinecolor\":\"white\"}},\"shapedefaults\":{\"line\":{\"color\":\"#2a3f5f\"}},\"ternary\":{\"aaxis\":{\"gridcolor\":\"white\",\"linecolor\":\"white\",\"ticks\":\"\"},\"baxis\":{\"gridcolor\":\"white\",\"linecolor\":\"white\",\"ticks\":\"\"},\"bgcolor\":\"#E5ECF6\",\"caxis\":{\"gridcolor\":\"white\",\"linecolor\":\"white\",\"ticks\":\"\"}},\"title\":{\"x\":0.05},\"xaxis\":{\"automargin\":true,\"gridcolor\":\"white\",\"linecolor\":\"white\",\"ticks\":\"\",\"title\":{\"standoff\":15},\"zerolinecolor\":\"white\",\"zerolinewidth\":2},\"yaxis\":{\"automargin\":true,\"gridcolor\":\"white\",\"linecolor\":\"white\",\"ticks\":\"\",\"title\":{\"standoff\":15},\"zerolinecolor\":\"white\",\"zerolinewidth\":2}}},\"title\":{\"font\":{\"color\":\"#4D5663\"}},\"xaxis\":{\"gridcolor\":\"#E1E5ED\",\"showgrid\":true,\"tickfont\":{\"color\":\"#4D5663\"},\"title\":{\"font\":{\"color\":\"#4D5663\"},\"text\":\"\"},\"zerolinecolor\":\"#E1E5ED\"},\"yaxis\":{\"gridcolor\":\"#E1E5ED\",\"showgrid\":true,\"tickfont\":{\"color\":\"#4D5663\"},\"title\":{\"font\":{\"color\":\"#4D5663\"},\"text\":\"\"},\"zerolinecolor\":\"#E1E5ED\"}},                        {\"showLink\": true, \"linkText\": \"Export to plot.ly\", \"plotlyServerURL\": \"https://plot.ly\", \"responsive\": true}                    ).then(function(){\n",
       "                            \n",
       "var gd = document.getElementById('7b04941c-c577-4c3a-abcd-796814cf897a');\n",
       "var x = new MutationObserver(function (mutations, observer) {{\n",
       "        var display = window.getComputedStyle(gd).display;\n",
       "        if (!display || display === 'none') {{\n",
       "            console.log([gd, 'removed!']);\n",
       "            Plotly.purge(gd);\n",
       "            observer.disconnect();\n",
       "        }}\n",
       "}});\n",
       "\n",
       "// Listen for the removal of the full notebook cells\n",
       "var notebookContainer = gd.closest('#notebook-container');\n",
       "if (notebookContainer) {{\n",
       "    x.observe(notebookContainer, {childList: true});\n",
       "}}\n",
       "\n",
       "// Listen for the clearing of the current output cell\n",
       "var outputEl = gd.closest('.output');\n",
       "if (outputEl) {{\n",
       "    x.observe(outputEl, {childList: true});\n",
       "}}\n",
       "\n",
       "                        })                };                });            </script>        </div>"
      ]
     },
     "metadata": {},
     "output_type": "display_data"
    }
   ],
   "source": [
    "data.normalize().iplot(kind='lines')"
   ]
  },
  {
   "cell_type": "markdown",
   "metadata": {},
   "source": [
    "The frequeny distributions, i.e. the **histograms**, of the log returns per `RIC`."
   ]
  },
  {
   "cell_type": "code",
   "execution_count": 20,
   "metadata": {},
   "outputs": [
    {
     "data": {
      "application/vnd.plotly.v1+json": {
       "config": {
        "linkText": "Export to plot.ly",
        "plotlyServerURL": "https://plot.ly",
        "showLink": true
       },
       "data": [
        {
         "histfunc": "count",
         "histnorm": "",
         "marker": {
          "color": "rgba(255, 153, 51, 1.0)",
          "line": {
           "color": "#4D5663",
           "width": 1.3
          }
         },
         "name": "JPM",
         "opacity": 0.8,
         "orientation": "v",
         "type": "histogram",
         "x": [
          null,
          -0.003675207995758522,
          -0.00924755174129482,
          0.00011612378808861422,
          0.0006964596915296963,
          0.0028967055768547656,
          0.007492398601799683,
          -0.00969312920565968,
          0.005319776625809223,
          -0.037008628745093565,
          0.004657002864042137,
          -0.007653708732647819,
          0.004431941134710349,
          0.00047795436445772235,
          0.01199325662118616,
          0.015344371340105658,
          0.008334346193711782,
          0.002072778264004428,
          -0.010407124457716235,
          -0.01640725895124227,
          0.0037740344359266133,
          -0.004246791802017897,
          0.030158890494323517,
          -0.0047140070048483276,
          -0.0005764021140622202,
          -0.00880246591702639,
          0.014322259140624398,
          -0.002296212260350268,
          0.01313179018929556,
          0.015868882886674745,
          0.011435039950642418,
          -0.0006625441938475151,
          -0.0033193214809396454,
          0.008607424582854933,
          0.0005492393173716478,
          0.0007684286013994361,
          -0.008817427346283232,
          0.0011064395906367748,
          0.0020988684866034136,
          0.03235544424455416,
          -0.015721223975775384,
          0.0071374802843840145,
          -0.009528006251654583,
          -0.0055637518747729715,
          -0.002190341473660357,
          0.00393916692757363,
          -0.003172001565820487,
          0.0008760403538798185,
          0.0016405100195867025,
          0.002401223594277475,
          -0.0009816219362694845,
          -0.010531031945966484,
          -0.007193877518942829,
          -0.029762088480932477,
          0.0016007321048937151,
          -0.0016007321048936956,
          -0.0011449508921944334,
          -0.0005729674138302442,
          0.01546891627760687,
          -0.0037315585788937236,
          0.008573092553438287,
          -0.013456413824359248,
          -0.003649639087549504,
          -0.0024023348509547714,
          -0.012910842163408442,
          0.003359011671645018,
          -0.0034750411432608874,
          -0.0034871591771118158,
          -0.0017481503199156259,
          -0.003856721896140414,
          -0.011778699192612763,
          0.017150661194502988,
          -0.008186222771135801,
          -0.008253790519481203,
          0.012822950832404952,
          -0.012112807590346528,
          0.03465060061571279,
          0.008648210477832527,
          0.0019242747462427077,
          -0.009316131909371389,
          -0.0069870280236887655,
          0.0006894174695677843,
          -0.0064531221863178955,
          0.005763704716750134,
          0.0011487652038733585,
          -0.0011487652038733708,
          0.0011487652038733585,
          -0.004026465031488516,
          0.007808054365831175,
          -0.0030929631163806454,
          -0.0027573546881901633,
          0.00482039266918606,
          0.0030865986208574387,
          -0.03886921689401049,
          -0.0036854348318297475,
          0.009719170972058827,
          -0.0009440642664823142,
          0.012437095664483182,
          -0.0005831924117006113,
          -0.004209055670341778,
          0.0001171577530482844,
          -0.01725199352033738,
          -0.021078768989883447,
          0.01101639371933042,
          -0.005069413391224449,
          0.0018134563393314449,
          0.0020512827705571396,
          0.011386231960706303,
          0.012318052235963122,
          0.023385394695012864,
          0.00022996435653836105,
          0.0033285540057275058,
          -0.0020646944705717102,
          -0.005988731476965911,
          -0.0045152030399903025,
          0.021693820629675974,
          -0.006264614143697051,
          -0.004580860048965925,
          -0.0011485013321710948,
          -0.0018403501858582326,
          0.004365314226752419,
          0.00924189360878679,
          0.019902832717376792,
          0.014698833465080222,
          0.0027389773354322177,
          0.014662223027440194,
          0.00997701780191748,
          -0.0032075297466711045,
          0.005020573489726949,
          -0.007057343234953638,
          -0.0038705563857229603,
          -0.0034531166286138914,
          0.006357437499794132,
          -0.009171901362384757,
          -0.009366219636526328,
          -0.003507621704383178,
          0.0014264555005585038,
          0,
          -0.0034049129496067356,
          0.004281721423141134,
          0.016514934238334722,
          -0.009419221916491527,
          -0.004142146755143699,
          -0.0029535655666994595,
          0.005680592072624579,
          0.013309724154022439,
          0.0008595681199710813,
          -0.006572945382058857,
          0.012462559237016191,
          0.0038363218405887438,
          -0.003622806306522439,
          -0.0016024788430023156,
          -0.014430575635956717,
          -0.008387391906904625,
          0.011636257662570378,
          0.0025915142459661,
          -0.006925685078859008,
          -0.01576042253241557,
          0.0009923370349577015,
          -0.0012129901691275806,
          0.010209211017675683,
          0.0012006768893183522,
          -0.0016376443421965542,
          0.004034681881305934,
          -0.003160937832709108,
          -0.005473467414171931,
          0.0023025063623360914,
          -0.004610326497569786,
          0.008872395131740256,
          -0.024172028379571584,
          0.006680795364098236,
          -0.01768966862398816,
          -0.0012432892248605463,
          0.015375422134620068,
          0.012176373597961811,
          0.0028565169939929933,
          -0.0019767192907016286,
          0.007119806624625618,
          0.014089319443612228,
          0.010917372696640504,
          0.007001195458983561,
          0.004535155165391363,
          -0.0021068163275878935,
          -0.007515251036474201,
          -0.004472374614785248,
          0.01567164644858801,
          0.00209907717711378,
          0.0013620411765680874,
          0.013829178023211439,
          0.00525259974835096,
          -0.010221554071538028,
          0.007547205635382904,
          -0.0017524874337285989,
          -0.005275965272036025,
          0.007440356737950153,
          -0.0029901553443813715,
          -0.008816112694412268,
          -0.0013552256439602949,
          0.020444697647431766,
          -0.0022511009199155272,
          0.00378304218872554,
          0.0012238655275724783,
          0.014168843451771397,
          -0.0017098319478663047,
          0.015779814093652464,
          0.0009903932670494062,
          0.007102022354712464,
          0.00029482580922127367,
          -0.0035436595799351743,
          -0.007920049319945598,
          0.003076467468897674,
          0.006616981330596552,
          -0.0017733994795486846,
          -0.00623178237145295,
          -0.020348519471220843,
          -0.011304158256471892,
          -0.00010242228717920995,
          -0.0012298863905523204,
          0.003582949013949707,
          -0.006047268979628566,
          0.009413760299849838,
          0.0028475560785119498,
          -0.0033569025979533203,
          0.008825824472665944,
          -0.000808325799292081,
          -0.002935670479042409,
          -0.00324939359830951,
          -0.003974527525076113,
          0.0344255982801804,
          0.023112833430853092,
          0.007587071208674986,
          0.002579906834438755,
          0.02040308804156427,
          -0.011567345792326189,
          -0.007500628566268769,
          -0.002958723227354604,
          0.012443760665939791,
          -0.002930751329617699,
          0.011578234486369491,
          -0.012620246611155765,
          -0.008088734209939058,
          0.014041976455687237,
          0.0076959553939387314,
          -0.004216055338613279,
          -0.0034799000553254757,
          0.015796935494232098,
          -0.003530289805461487,
          -0.004009890205361018,
          0.0018670655162331604,
          0.0053020913941455,
          -0.00791696027295167
         ],
         "xaxis": "x",
         "yaxis": "y"
        },
        {
         "histfunc": "count",
         "histnorm": "",
         "marker": {
          "color": "rgba(55, 128, 191, 1.0)",
          "line": {
           "color": "#4D5663",
           "width": 1.3
          }
         },
         "name": "BAC",
         "opacity": 0.8,
         "orientation": "v",
         "type": "histogram",
         "x": [
          null,
          0.018470182062401055,
          -0.011834457647002796,
          0,
          -0.005748412910863897,
          0.017147045752537313,
          0.005650960484437601,
          -0.006523180339123372,
          0.003919012200735602,
          -0.04261630215441958,
          0.02596385775259098,
          -0.004428705201292813,
          0.004870498890829086,
          -0.0035398267051241737,
          0.01713950987669599,
          0.01813521204421258,
          0.0029908161580453475,
          -0.003418806748785609,
          -0.017707221453472203,
          -0.01359968317157189,
          0.01098188062949322,
          -0.00745454011152479,
          0.024778490043298955,
          -0.007326040092072786,
          -0.009561133243982847,
          -0.010094446040756239,
          0.01965557928473899,
          -0.0017316021642780463,
          0.013769580723757035,
          0.027814688182876978,
          0.021382393591355856,
          0,
          -0.002443993069878102,
          0.010547765132985904,
          0.00040346984610264075,
          -0.008507241909210463,
          -0.014341569309454264,
          0.013934651704653307,
          0.004467012504099228,
          0.03268525312719344,
          -0.010644689511414113,
          0.00828897581895508,
          -0.007496582750552631,
          -0.0015854145215403767,
          0.0019813757225165345,
          0.003556613114847021,
          -0.001579155480159582,
          -0.00039517882355808733,
          0.0007902015425008826,
          -0.005544568659774406,
          0.00158730192057241,
          -0.014377244454208394,
          -0.017038951779170395,
          -0.05985773100965803,
          -0.003481291592511891,
          0.005650960484437601,
          0.002164971618514349,
          -0.0039003299715829236,
          0.019351281127301775,
          -0.005552010844989358,
          0.022025456235832356,
          -0.011799546931155168,
          0,
          -0.006378928710771681,
          -0.011585626264527062,
          0.003876808646233512,
          -0.004308494385723955,
          -0.006063249411057968,
          -0.004353511447197664,
          -0.011850039917495956,
          -0.013781058287988313,
          0.020820242655242054,
          -0.004393680178829515,
          0.0013201322049228162,
          0.014407583863272354,
          -0.015727716068195154,
          0.03971173508134931,
          0.014703058400551677,
          -0.003760188261650018,
          -0.01009684639977632,
          -0.013194488079532019,
          0.011501724239011683,
          -0.0033941483581503163,
          0.010148078632831483,
          0.0033599359622477677,
          -0.004622828152828393,
          0.009224384065726733,
          0.0008343763521195829,
          0.007064230499213516,
          -0.0033181283036010653,
          -0.0029124214470350185,
          0.002496880198587146,
          -0.0029136336949296356,
          -0.06101548602215886,
          0.007503897492945586,
          0.013540281120267679,
          -0.0004339336149670938,
          0.015076744768397266,
          -0.001283422636061436,
          -0.004720025926660967,
          -0.00043020004965489206,
          -0.014301435518306248,
          -0.022066208652568524,
          0.009769171832610352,
          -0.007985845457182703,
          -0.001783326375427594,
          -0.008064559836730408,
          0.01650717830213503,
          0.01623911042276664,
          0.030019406824885752,
          0.004636467736743234,
          -0.0004206098905333207,
          -0.0004207868776582507,
          -0.009302392662313674,
          -0.004683849312426314,
          0.020279528950529088,
          -0.017721982799411968,
          -0.015444322427473631,
          -0.008684379373534709,
          -0.0048087524358834625,
          0.003062789530545731,
          0.01646484334972504,
          0.025876311210200967,
          0.018257768573564963,
          -0.0024701535820621447,
          0.017164295521282954,
          0.009677494882065438,
          -0.008462673918733767,
          0.004844579519556496,
          0.0024135168594254575,
          -0.011719673441183487,
          -0.010214593409718295,
          0.011027271227708696,
          -0.016793349806340313,
          -0.00787895429812964,
          -0.005008357714372519,
          0.006672251609067942,
          -0.0050000104167056405,
          -0.005865119452398134,
          0.004611200792804335,
          0.023559676173891996,
          -0.011090686694158173,
          -0.00413907875688754,
          -0.0033236424447020785,
          0.003738322110607158,
          0.013588844061896359,
          0.005709640307220206,
          -0.00898698859098632,
          0.024322236654566867,
          -0.00040056079045485744,
          -0.002406740030565088,
          -0.006446436506320104,
          -0.02537999510535707,
          -0.010837955189214758,
          0.023199052012788768,
          0.0020454087720215516,
          -0.011508552832644299,
          -0.02299913208403847,
          -0.0008463817686811865,
          -0.01021285472529398,
          0.019064335066728447,
          -0.0029417966162064617,
          0.0033613477027047063,
          -0.002940560825046444,
          -0.0021057072425778867,
          -0.005919679020299842,
          0.012223545241513995,
          0.0008375209869793744,
          0.008336855289061789,
          -0.03291436357911425,
          0.0042808284551536,
          -0.01897426480181255,
          -0.00348888273653147,
          0.020325023995550837,
          0.024943165896897882,
          0.015741832938506877,
          -0.003705995594317536,
          0.005758962852011695,
          0.013040119580806062,
          0.006456842448633647,
          0.008012863385357201,
          0.003982482364317568,
          -0.005579926793474761,
          -0.010446057222369626,
          0.0020173498873142536,
          0.023895999628363168,
          0.0015729456644590803,
          -0.004331568103538748,
          0.010989121575595165,
          0.009324076875123244,
          -0.0058173520659132024,
          0.016204058254722972,
          0.0030569378027939425,
          -0.013830416380876835,
          0.003089998596134904,
          -0.0038639924428239833,
          -0.014820864111217327,
          0.014820864111217327,
          0.015748356968139112,
          -0.0015255533088370686,
          0.01063032030175633,
          0.003769322216291696,
          0.02195437015315732,
          -0.00036812074776109853,
          0.01896482805897337,
          -0.0018079918141436508,
          0.003973275951360364,
          0.0021606058099059074,
          -0.00722024797348702,
          -0.007637789448117538,
          0.005098335879529238,
          0.012274522339340973,
          -0.0017956549985599628,
          -0.0025193463028533383,
          -0.020754431469445875,
          -0.014452725166480357,
          -0.011261380272539073,
          0.000754717016955996,
          -0.004158010148663788,
          -0.006079046076382226,
          0.02074371948062911,
          -0.0011204482964896065,
          -0.00524542229306218,
          0.00449775870683139,
          -0.0003740415229694193,
          -0.00262221540026501,
          -0.0026291094956341454,
          0,
          0.038728793644540675,
          0.0228908421289029,
          -0.003897259140090715,
          -0.002488005548581121,
          0.03359308180243657,
          -0.004483539154093044,
          -0.010074776895598846,
          0.0048763593667769355,
          0.009337781838698366,
          -0.0037937620945823745,
          0.013045155815112806,
          -0.01650656460170241,
          -0.0038214394255501405,
          0.010732316965397016,
          0.015037877364540502,
          -0.0010181572235402208,
          0.0010181572235401738,
          0.011467242015456508,
          0.0020100509280241,
          -0.003352333008753561,
          -0.0016803902458566334,
          0.0023517565013524023,
          -0.009440393779087073
         ],
         "xaxis": "x2",
         "yaxis": "y2"
        },
        {
         "histfunc": "count",
         "histnorm": "",
         "marker": {
          "color": "rgba(50, 171, 96, 1.0)",
          "line": {
           "color": "#4D5663",
           "width": 1.3
          }
         },
         "name": "WFC",
         "opacity": 0.8,
         "orientation": "v",
         "type": "histogram",
         "x": [
          null,
          0.0008924587830195697,
          -0.015643580729028852,
          -0.002540375164051832,
          -0.014641549992948005,
          0.0069814724134187114,
          0.0032900779084108996,
          -0.005489492284771369,
          0.014753022337388299,
          -0.02805207316586801,
          0.009069937234594838,
          0.00569592720487882,
          0.008937587994197688,
          -0.015002110853821202,
          0.008260717007366532,
          0.034498570255817915,
          0.009841907210412247,
          -0.010371895739733178,
          -0.009053048428097957,
          0.004448010180288025,
          -0.0074839978680687255,
          -0.002865844698325757,
          0.026899516065537952,
          -0.012651723843636562,
          -0.003720440113902765,
          -0.012682138361024706,
          0.019580547251273905,
          0.0022889348843779657,
          0.0038616863857818947,
          0.01564433088487367,
          0.009782966550216932,
          -0.007371251341644151,
          -0.0005163066976408969,
          0.002750560441368776,
          0.001886631208774953,
          0.0022250758003496303,
          -0.011694028360549653,
          0.00431518750209915,
          -0.003105056833200687,
          0.03146250498093139,
          -0.017224336668120045,
          0.003061226880384751,
          -0.004765966468141552,
          -0.005303237131891155,
          -0.0015449320728025,
          0.008382565550406715,
          0.002552106872235017,
          -0.00255210687223494,
          0.0010216244716257697,
          -0.0008512812295819727,
          0.010336447193636744,
          -0.011017994331962823,
          -0.017885257489193507,
          -0.03137373993336523,
          -0.009354268605191429,
          -0.0014469165121561833,
          0.010443018924406935,
          -0.007912287277256543,
          0.010238077752267902,
          -0.005195747601864008,
          0.010186845306992997,
          -0.010366491404664885,
          -0.003058931759934778,
          -0.005239871054760283,
          -0.003993470545950079,
          0.007068448097776079,
          -0.0096180761407621,
          -0.005485477276671203,
          -0.006991748813422911,
          -0.019389123435841153,
          -0.033888568793611115,
          0.0263299538196844,
          -0.005134555351945508,
          -0.005736153395524857,
          0.02555747245517936,
          -0.009389740349839032,
          0.012189555524585696,
          0.01681954445849916,
          -0.0003666361177643039,
          -0.0018351996341771785,
          -0.011082492446792852,
          0.011449801909141135,
          0.00146789017182891,
          0.005667809303796848,
          0.005998382067900745,
          -0.0012693808939960648,
          -0.001270994270055777,
          -0.006562181769339366,
          0.0007312614585461406,
          -0.01807167012694981,
          -0.013488402326465629,
          0.005642294449628339,
          -0.0011259149247217393,
          -0.019337095417610434,
          0.002676354111390257,
          0.012898509630027784,
          -0.0009427737098789107,
          0.007142887512380204,
          -0.005634875916514723,
          -0.005856255520402096,
          -0.0070349182611031775,
          -0.004781495195677377,
          -0.019748947755356867,
          0.018214028037273185,
          -0.005197817073616841,
          -0.001738626923040245,
          0.001738626923040219,
          0.005389810930403206,
          0.008982382419254895,
          0.02331809299138363,
          0.005375858715596984,
          0.006633523495633877,
          0.0014681595590007532,
          -0.011620531023018759,
          -0.00018554596954613596,
          0.006473711686734737,
          -0.014484932921367238,
          -0.009019226866849367,
          -0.009291808579715165,
          -0.0007623404219021534,
          0.00854300402194743,
          0.004902894980790797,
          0.021770326718387186,
          0.026338821635911287,
          -0.006655299320084645,
          0.006655299320084671,
          0,
          -0.003951864313199878,
          0.0032345041676590976,
          -0.0026946930884240612,
          -0.00994313534028993,
          0.0023591336592513217,
          0.007763873972197273,
          -0.01103185073681333,
          -0.005104842443988808,
          0.0016436858782352328,
          0.0025514867131578908,
          -0.0010926972494979662,
          -0.013021733747822277,
          0.001844338405505939,
          0.014451911639147842,
          -0.0027280184236800667,
          -0.003648973215046648,
          -0.026110176903935797,
          0.011935986539785077,
          0.0025921140231246744,
          -0.008542298926895444,
          -0.004111386841664102,
          -0.010542266312024545,
          -0.005693695396730814,
          0.0032304066097216433,
          0.0015165879684092532,
          -0.01604006129028838,
          -0.00019251131063410175,
          0.01717927341952237,
          0.00018923266212202077,
          -0.003032028095052299,
          -0.017035534955757083,
          -0.0023192897910908937,
          0.002705315659617424,
          0.007689388137018748,
          -0.003645087968770615,
          0.0024954423161851966,
          -0.007505086704587387,
          -0.002707932022252286,
          -0.004075697053814357,
          -0.0011675424560377012,
          -0.005662418722153214,
          -0.0019600163076022212,
          -0.017216216261131175,
          -0.004400887278983418,
          -0.004017683186612418,
          -0.002014911018178889,
          0.02154911796648472,
          0.0178034634893384,
          -0.002135301209269411,
          -0.003309005452421103,
          0.007187986266517238,
          0.020121403199421243,
          0.012256210740252784,
          0.0072822654004039596,
          0.005750873840529434,
          0.0035084515722673517,
          -0.004063544564594522,
          -0.004265980688235778,
          0.00759192610450806,
          0.0007375991483220427,
          0.01645375327894243,
          0.005785588367631671,
          0.001981090247214421,
          -0.011217776400263696,
          0.0077934241309186,
          0.003424352269345057,
          -0.007948018718706939,
          0.00848763560382181,
          0.0008987148982720303,
          -0.008117659801791443,
          -0.027917331861475197,
          0.002046702733260578,
          -0.011403058413512504,
          0.00412758559745275,
          0.006345672656093384,
          0.0215339138919982,
          -0.00018209960898909908,
          0.009245058144051209,
          -0.0030721990369701403,
          0.006674508407956477,
          0.004484714665238609,
          -0.00035803795584763776,
          0.0051790454185266215,
          0.0012461060802471558,
          0.004791916171002952,
          -0.002304352699201238,
          -0.0030214188096877098,
          -0.020318958507408662,
          -0.014454555937903273,
          -0.0048032606665112665,
          -0.0035247230629460646,
          -0.0016739518462915524,
          0.0059391414369611975,
          -0.005380846084225884,
          0.015690215743087196,
          -0.008275909303859822,
          -0.001848429361782316,
          0.008658062743114751,
          -0.00847306598003029,
          0.0005547850350340533,
          -0.0025916341791918885,
          0.029585795587686155,
          0.01977792753064981,
          -0.0037118911377344026,
          -0.004792766785099883,
          0.020953315220625757,
          0.02001101792345518,
          0.00034153005796464577,
          0.01339797875743403,
          -0.0008426730084897132,
          -0.007446302810465371,
          0.0244978694125004,
          -0.015535266084071152,
          -0.003034903695154047,
          0.010916222263815516,
          0.017385983089700352,
          -0.009234894127313004,
          -0.0036514563392651303,
          0.02414901746609637,
          -0.0009743423960168939,
          -0.006847108589828387,
          -0.0029488881133534544,
          0.0057259870148851635,
          -0.010330500987959162
         ],
         "xaxis": "x3",
         "yaxis": "y3"
        },
        {
         "histfunc": "count",
         "histnorm": "",
         "marker": {
          "color": "rgba(128, 0, 128, 1.0)",
          "line": {
           "color": "#4D5663",
           "width": 1.3
          }
         },
         "name": "MS",
         "opacity": 0.8,
         "orientation": "v",
         "type": "histogram",
         "x": [
          null,
          0.013153529899743171,
          -0.009212409694742999,
          0.014471367739452156,
          -0.02634163396481696,
          0.008161407082841882,
          0.014066875561252624,
          -0.0009163803619513303,
          0.0041171146902888684,
          -0.0386274173779427,
          0.016704305597566423,
          -0.009612077288074521,
          0.003292571177765909,
          -0.014902700407025743,
          0.018184466127837053,
          0.026101493333808682,
          0.003641333108573583,
          -0.008440793812704465,
          -0.012216355684869565,
          -0.014718172474021421,
          0.004930166107858586,
          -0.013438844243653696,
          0.053154840956891894,
          0.00449136169336157,
          0.005363141346713322,
          -0.02162733541426587,
          0.02118150393117917,
          -0.0033500868852819744,
          0.012450138585868091,
          0.017086943648290533,
          0.009726651848811515,
          -0.008207389483879278,
          0.0008671147302470326,
          0.008844842474321343,
          -0.0008594757727187045,
          0.0012889368057312528,
          -0.02279981510950421,
          0.006785623059793566,
          -0.0037154452095765752,
          0.024655228115071523,
          -0.011386952986503393,
          0.011814120869974569,
          -0.005567466201164503,
          -0.005166857565728867,
          0.0012942193350953582,
          0.006231888654702878,
          -0.004078571715861803,
          -0.004959578899200332,
          -0.0015143323607790982,
          -0.007388125740040087,
          0.010414500726083147,
          -0.028682863949970674,
          -0.009597216839200846,
          -0.04424790559618097,
          -0.010604553248797,
          0.008962324140714793,
          -0.00305702766001211,
          -0.02094317384524325,
          0.02164947169685351,
          0.007269348461030879,
          0.014612343958979408,
          -0.01367820096718244,
          -0.003039160726172991,
          -0.004693742482676486,
          -0.01827944072164394,
          0.008350281133424524,
          -0.0033317498692640537,
          -0.0009539709762351536,
          -0.007905179507113261,
          -0.012341354461399587,
          -0.009295565954868638,
          0.019470072331178097,
          -0.0067714889940505545,
          0.019940600658024256,
          0.010882529921620697,
          -0.016607736399660636,
          0.04124295853404922,
          0.016167948679290035,
          0.0022563186467682655,
          -0.01888350958441669,
          -0.003912097959126601,
          0.008495057401346987,
          -0.008956312022070975,
          0.002994359026457734,
          -0.004610427714782497,
          -0.004631782250038325,
          -0.0013937284486036918,
          -0.004426332212304458,
          0.006284205482422522,
          -0.005350716499816501,
          -0.00327103095395215,
          0.016249196890796982,
          -0.0011519411480021204,
          -0.057158413839948755,
          0.008264509849893652,
          0.011791738122037362,
          -0.003354903697884745,
          0.018078513303710516,
          0.004938281640582577,
          0,
          0.004914014802429163,
          -0.013158084577511199,
          -0.012854259352982164,
          0.020629065862765975,
          -0.002114414038073371,
          0.008664145055041953,
          0.001165093921845716,
          0.007886842087591286,
          0.01876914791457419,
          0.01820070464684637,
          -0.0013368985948414083,
          0.006666691358189297,
          -0.005329792763347826,
          -0.004910724154286486,
          -0.0047101130030332535,
          0.02749618898428291,
          -0.004823512969705191,
          -0.01305183885725814,
          -0.006702437959473216,
          -0.02083880617682898,
          0.007070390954916628,
          0.004987541511038968,
          0.0022588670097282333,
          0.009655402281835925,
          -0.0042548491018357575,
          0.023290395104580364,
          0.011986631476235052,
          -0.0006501246301147933,
          -0.0017357348684133981,
          -0.0013037811494832697,
          -0.011151312669497327,
          -0.011499463296899593,
          0.012378584232639971,
          -0.007054702979890038,
          0.002871978114572377,
          -0.004200293563368206,
          0.03226086221822148,
          -0.0023622903716053983,
          0.001718582592699916,
          0.0025723486853113046,
          0.019084548692410698,
          -0.008437088648232016,
          -0.002545070302732061,
          -0.00917339766217944,
          0.005130408858949807,
          0.006588059105961848,
          0.0025386093599612516,
          -0.0014800721593948376,
          0.017202018468190396,
          0.004772288339363267,
          -0.007896965394775456,
          -0.005858983071328807,
          -0.028740669008022718,
          -0.014138354051210831,
          0.018663736195028088,
          -0.0017215412041752534,
          -0.009087037864453194,
          -0.020198271734384283,
          0.006631324035381383,
          -0.015765842267374288,
          0.019723631074791328,
          0.005034485844348036,
          0.004357305368955847,
          -0.0013051992281428672,
          -0.010063528378616897,
          -0.0028624923211895263,
          0.0068124645405036885,
          -0.003510315144744655,
          0.015050998485609146,
          -0.028102837342867323,
          0.0035563496029102056,
          -0.02243755784866124,
          -0.0013623980308956755,
          0.02579485845846128,
          0.012980052440069181,
          0.010220813124704279,
          0.004317796000056341,
          0.003870140285309159,
          0.015332497978585838,
          0.007369230106548368,
          0.004604445137783696,
          0.007696345842367535,
          -0.0008291874438606701,
          -0.010004251842340888,
          -0.0058823699030665245,
          0.012771030898251897,
          0.0016628563382651096,
          0.0004152823979948895,
          0.015449890176842273,
          0.007332008406292731,
          -0.005493960303808283,
          0.012571130677893498,
          0.002615958831574374,
          -0.00766596451389051,
          0.0022251450467612715,
          -0.006283592175748276,
          -0.012069288370234767,
          -0.005986187759284718,
          0.01316349735599864,
          0.0036712258243613493,
          0.020752230569057607,
          -0.007204353753853157,
          0.017717194798846956,
          -0.0013821702269516474,
          0.009048055433565886,
          -0.010630021355735337,
          0.004738409655485751,
          0.007652347751338807,
          -0.013777033497730226,
          -0.009157937784765645,
          -0.007427515828796584,
          0.015792432160424242,
          -0.007964996310300758,
          0.0023961672806741847,
          -0.01507111817761388,
          -0.007111682924577515,
          -0.004496226663141969,
          -0.0012297603517432627,
          -0.002669680197376221,
          -0.005154119233813242,
          -0.005804328070165777,
          0.01034135379473253,
          0.0020554991820959595,
          0.008383649962608953,
          0.005482803865880174,
          -0.00589013584707229,
          -0.0006113092396179325,
          -0.0012237407197166273,
          0.028170876966696224,
          0.018089364670112684,
          0.0056349124132001405,
          0.006566265384600772,
          0.013954159329843776,
          -0.012799869090099187,
          -0.006171668577033197,
          0.012687598108598095,
          0.010262347761342713,
          -0.0022714376603120185,
          0.020259556184821136,
          -0.012520017787523903,
          -0.010206098797812016,
          0.008700641230831295,
          0.002633065279017717,
          -0.005839707657014764,
          -0.00796665822012829,
          0.0070215678936629755,
          -0.0030303053491790963,
          -0.004753312495631354,
          0.0019040371327363214,
          0.001520623748627837,
          -0.003424660881364103
         ],
         "xaxis": "x4",
         "yaxis": "y4"
        },
        {
         "histfunc": "count",
         "histnorm": "",
         "marker": {
          "color": "rgba(219, 64, 82, 1.0)",
          "line": {
           "color": "#4D5663",
           "width": 1.3
          }
         },
         "name": "GS",
         "opacity": 0.8,
         "orientation": "v",
         "type": "histogram",
         "x": [
          null,
          0.006436993548716511,
          -0.007472426141380855,
          0.014726110385561052,
          -0.008241298002904641,
          -0.0013183374380877158,
          0.013065121442177625,
          -0.007843177461025893,
          0.0018847057654133464,
          -0.03566747546527134,
          -0.006169838519874913,
          -0.012368635240968186,
          0.0034080402262106537,
          0.0020220713754107804,
          0.004331517440283772,
          0.015161779410551619,
          0.009772952813147837,
          -0.011038241889587793,
          -0.012955474823463911,
          -0.01977526554995142,
          0.005869709672017155,
          -0.0011277870545584327,
          0.04472911242870114,
          -0.0040338565500989305,
          -0.0015012513244898242,
          -0.007918759301571803,
          0.01594091509023449,
          0.004832024599806305,
          0.014519979428062428,
          0.0128700866692786,
          0.004320006718482828,
          -0.0044001831065794686,
          0.0037613585220497804,
          0.005496488924635066,
          -0.00011916820606373732,
          -0.002147459665637559,
          -0.015405287210732607,
          0.007972982559327041,
          -0.005106667845861221,
          0.018571933839739735,
          -0.006550631836860795,
          0.007262657183398222,
          -0.003485842309685974,
          -0.004414315891398057,
          -0.002633996015430381,
          -0.0002397985703509521,
          -0.00722082726670887,
          -0.0008861320916577988,
          -0.0017746233583684897,
          -0.003801824599472467,
          0.005818198230987481,
          -0.01739315628628294,
          -0.007406222135498019,
          -0.03847761771389363,
          -0.008317758645285611,
          0.0035855493410710143,
          -0.015163984600943441,
          -0.012910796447168287,
          0.016930551062506474,
          -0.0038446462666001844,
          0.012052270237895223,
          -0.00650846225107988,
          -0.003313860187954959,
          0.0013094148787227587,
          -0.007003442789792993,
          0.004295426284486555,
          -0.003329539569362434,
          0.004422364192362092,
          -0.005036911422097945,
          -0.008776435085364158,
          -0.010822471854935145,
          0.013079060056161015,
          -0.04830632472840488,
          -0.0069819684112847205,
          0.018373766919604653,
          -0.005518270234199798,
          0.0289058481835328,
          0.015160899483270178,
          -0.0018991680288191265,
          -0.0017256259674697252,
          -0.008941141836725362,
          0.004680717338891491,
          0.0012000801493626035,
          0.005272147426576187,
          0.0012364762008112568,
          0.0012349492153030267,
          -0.008143439559114675,
          -0.005659677755950353,
          0.004992877704572088,
          -0.0005337603542789638,
          -0.008668895612826969,
          0.010269322734908602,
          0.002129926257824849,
          -0.054096772534333246,
          0.006715190315471134,
          0.0010684009842219008,
          0.002920657601064347,
          0.016618846420343714,
          0.01889699274086096,
          -0.006094574096490477,
          0.004753372178703646,
          -0.02312581846416352,
          -0.033330212374566195,
          0.017594936278921464,
          -0.007938031970211179,
          0.0031827782543301596,
          0.0025203037703578064,
          0.005809781394779691,
          0.013715868355377824,
          0.01668216384079137,
          -0.0023855080514772102,
          0.01026661637017349,
          0.010250583420816953,
          -0.014586463981597027,
          -0.0063814705145815755,
          0.019288895572204787,
          -0.004565307222216073,
          -0.011662591136620087,
          -0.012300611837946986,
          -0.01180899845389006,
          0.014853002530805072,
          -0.0007260846207538789,
          0.013258367833288006,
          0.005316903707916433,
          -0.011247905996936872,
          0.023955907607384138,
          0.003338314617448621,
          -0.005937606782947173,
          -0.0062393724107563785,
          0.0024827109755562664,
          0.004902944957240646,
          0.0019368760732252411,
          0.013150323846036281,
          -0.007843177461025893,
          0.002882979326153267,
          -0.026295790040067674,
          -0.001972298814971286,
          -0.0025608208616735924,
          -0.009582427327893803,
          -0.009124983472646418,
          0.015463287922916234,
          0.003019176301486987,
          -0.003470582439247555,
          0.009571171045288016,
          0.007662531365975635,
          0.007384023115372426,
          -0.0032210410181663135,
          -0.010127568461861377,
          0.025564440365469825,
          0.013529198602074202,
          -0.0037421812817342716,
          -0.004491866059088214,
          -0.024140840685363638,
          -0.006004688341284532,
          0.014219193747342119,
          0.0010111002070317529,
          -0.008737919673162339,
          -0.01874649445133914,
          0.003291478950596782,
          -0.006140805859666236,
          0.012557268319928542,
          -0.003764119877225591,
          0.001121755440357679,
          -0.002334666350269643,
          -0.009575069767046272,
          -0.0017714796483820044,
          0.011121774751081821,
          0.005917177028088739,
          0.009519221385851425,
          -0.036518505886721044,
          0.004809793748353859,
          -0.013757780206822895,
          0.006327235056156339,
          0.017569530367207077,
          0.021879577974479286,
          0.002696074648066205,
          0.0012791956046178633,
          -0.007211303841093383,
          0.010204395560155944,
          0.006046815374878263,
          0.0038369351629313725,
          0.006506486040562801,
          -0.001124762188139288,
          -0.003338466973750129,
          -0.0013906999199242206,
          0.020745310364539596,
          0.0030198011166983605,
          0.0072779909120229145,
          0.014482088030263445,
          0.004022648342299525,
          -0.005436487566503831,
          0.023645652107108915,
          -0.0001625751913838658,
          -0.013174774255295807,
          -0.0008240626753935378,
          -0.0008247423147902726,
          -0.010784011601745452,
          -0.005310154011912139,
          0.016135418888142006,
          -0.02641741920952199,
          0.024848597155446888,
          -0.008464429608323812,
          0.019558306227665263,
          -0.010680790030519633,
          0.011130163978478361,
          -0.012866275525654846,
          4.137103614341947e-05,
          -4.1371036143492944e-05,
          -0.0033982626984092245,
          0.006578834990742684,
          0.00731399899339471,
          0.010669156871908269,
          -0.010096161317410366,
          -0.0037303533799063677,
          -0.015228930775751829,
          0.005986797077313205,
          -0.001908555885953263,
          -0.002661456222308708,
          0.0004995628928672952,
          -0.01269100403317472,
          0.0015583871743957943,
          0.00737979784337768,
          -0.005655768234005517,
          0.00046203928155785047,
          -0.00046203928155791443,
          -0.0067025227206259,
          -0.0020322628612713875,
          -0.003566428439513475,
          0.01812407361300451,
          0.008112031504918083,
          0.02568648380022557,
          0.005275994437160345,
          0.006805470621320797,
          -0.009299036906941319,
          -0.009630243561222369,
          0.010556001843443106,
          0.00717567369116187,
          -0.0008791560668562736,
          0.02973772231384597,
          -0.00826128928880092,
          -0.000313087040754157,
          0.00659321612051441,
          0.01102120632011981,
          -0.01370786227277967,
          -0.005081510367645745,
          0.02258954227137215,
          -0.00784649589008751,
          -0.004838500604439979,
          -0.006891611366849623,
          0.0021465517072319913,
          -0.00680673910765926
         ],
         "xaxis": "x5",
         "yaxis": "y5"
        },
        {
         "histfunc": "count",
         "histnorm": "",
         "marker": {
          "color": "rgba(0, 128, 128, 1.0)",
          "line": {
           "color": "#4D5663",
           "width": 1.3
          }
         },
         "name": "C",
         "opacity": 0.8,
         "orientation": "v",
         "type": "histogram",
         "x": [
          null,
          0.0134428253844101,
          -0.017577454610392715,
          0.0034742362681860514,
          -0.005464946945513508,
          0.00016604400204185766,
          -0.004492893821232735,
          -0.012249502945523242,
          0.006730632846140911,
          -0.021185437709045844,
          -0.01710329330569755,
          -0.012801577717900803,
          -0.009754444639489806,
          -0.00769303373671638,
          0.018858413354541116,
          0.01660441888809276,
          -0.00573665197743312,
          -0.00436796361459336,
          -0.008793584628203035,
          -0.013874288726299488,
          0.003932790195899779,
          -0.0012496654308614683,
          0.03130201049726336,
          -0.002079723453249375,
          -0.00783771320409659,
          -0.01532934607743777,
          0.01655258782018195,
          0.006440965778605982,
          0.022646361534804905,
          0.014817580418560409,
          0.01113615763485538,
          -0.0019854407581029973,
          -0.0034840350464323913,
          0.006295580766840834,
          0.0011554016305558895,
          0,
          -0.0176406638138488,
          0.007693632196412913,
          -0.0035049689557554685,
          0.02851449883743001,
          -0.014897549810256426,
          0.006084044089671865,
          -0.011873490415016548,
          0.0036429912785010087,
          0.010032153870028458,
          0.0071743337236383495,
          -0.000975292665084104,
          0.0006503007870206233,
          -0.0014637719129822451,
          -0.00981362144832451,
          0.005082394742089153,
          -0.012837569324846632,
          -0.013004518049447144,
          -0.026355346742900514,
          -0.004662818222812829,
          0.004835098350726142,
          0.00034447124005811255,
          0.00446736138158768,
          0.018514329268915334,
          -0.0005050080066927344,
          0.01868277860646111,
          -0.01146858743242804,
          -0.0023430973062965646,
          0,
          -0.0015091811366177812,
          0.005021771517483495,
          -0.007710396897801827,
          -0.002527168390737728,
          -0.0042261917352334755,
          -0.008848109452453318,
          -0.008065251784157653,
          0.01623550999899687,
          -0.009709641055389025,
          -0.011881327886752788,
          0.011710138979375905,
          -0.011883374146547868,
          0.02936366650383362,
          0.012871051066852776,
          -0.0018286099351945543,
          -0.011883979513393117,
          -0.004556585387822537,
          0.005734540930005341,
          0.004195692988949468,
          0.008837072932737082,
          -0.0004981320152816726,
          0.0004981320152816992,
          0.004306781545157637,
          -0.004472797981166071,
          0.0023217257527050335,
          0.005451405257117963,
          0.006077049169590725,
          0.005714767777632967,
          0.017271028928313992,
          -0.04099537062012741,
          0.0016658341350163117,
          0.016834858721670398,
          -0.0006548788708178622,
          0.01058900502624361,
          0.009033776551385254,
          -0.005152160809209194,
          0.001935172350409965,
          -0.006951769973646323,
          -0.018006706858342478,
          0.00888017675685917,
          0.0004910385563923954,
          0.002288330518012216,
          -0.003926064261075359,
          0.014159240541104297,
          0.02126549077934191,
          0.01942721290098902,
          -0.002019104514485663,
          0.005736005185183121,
          0.0004636426943421377,
          -0.00962590882361199,
          -0.0032815093123723573,
          0.009192243584120918,
          -0.008879254536182539,
          -0.0012525443942244488,
          -0.0032954129469678632,
          -0.003306308609057857,
          0.005818083869971389,
          0.007030729687789676,
          0.014682282139714432,
          0.02724139395664292,
          -0.0014940985896124347,
          0.02042397470211494,
          0.0027796082558968907,
          -0.012051880147609474,
          0.004131627538851522,
          -0.0038359445089028257,
          -0.012344917688186737,
          0.0014954391900129636,
          0.001493206190540976,
          -0.004486324258672971,
          0.0016473234724874968,
          0.0008973976073380343,
          -0.0028445262087385763,
          -0.005110487599334371,
          -0.00543972329581821,
          0.0015140048312150113,
          0.028780037499328868,
          -0.0007352400889994219,
          -0.005605561219051697,
          -0.002517960302427694,
          0.015013528987967298,
          0.01666101560591593,
          -0.0025895569067336775,
          -0.01875736564806348,
          0.012398962723118134,
          0.0008694392664777153,
          -0.0023201866556973095,
          -0.0065545351550688686,
          -0.017840502667446915,
          -0.006267741754359625,
          0.016185667770955616,
          0.0011776830449910425,
          -0.0038325518609929007,
          -0.016529301951210582,
          -0.0003003453994645281,
          -0.009507352983555244,
          0.013554424384628517,
          0.005668272932993184,
          0.0068188820395707565,
          0.0023609277603618252,
          -0.0005897095851272858,
          -0.004878419017983121,
          0.007823495509779739,
          0.000294031169421978,
          0.008052162677804798,
          -0.02092311482543425,
          0.002379537113265216,
          -0.018893949359961512,
          0.001663768061324558,
          0.023006691473585843,
          0.01582450604036886,
          0.008684379373534569,
          -0.0021640346034491045,
          -0.002892683532835788,
          0.022344097724023657,
          0.007760180036665202,
          0.0043475280594022486,
          0.004189365155277146,
          -0.005029348405001973,
          -0.007874056430905996,
          0.0014106364308428781,
          0.018713016378552084,
          0.0051059242922642705,
          0.0012380495425508577,
          0.014467292047583923,
          0.004461577062201514,
          -0.0009447331831616363,
          0.02216675085565543,
          -0.001057082550865361,
          -0.003310603566646206,
          -0.0027894020875785254,
          -0.0031974447704907656,
          -0.03489594448750487,
          -0.0035991179493682886,
          -0.004726169486687668,
          0.005834970709089227,
          0.012800394994824946,
          -0.003287674194191861,
          0.008879233256428119,
          0,
          0.009609602269814098,
          -0.008386360527069965,
          0.0023064931194002815,
          0.0010835704703710796,
          -0.0012190993721168937,
          -0.0038022859497385706,
          0.007185010236216001,
          0.009545007602330763,
          -0.00927488334352998,
          -0.003381809107380968,
          -0.014879804944461426,
          -0.00510170013801341,
          0.0012433516832829527,
          -0.0024882512146932713,
          -0.0036051065113300797,
          -0.0064102783609189425,
          0.002792128018050579,
          -0.0008368201325152779,
          -0.004755253715881142,
          0.010043326155584243,
          0.004569695690065268,
          -0.0016592924161021058,
          -0.003326867498765069,
          -0.008786054706359916,
          0.03184499568092184,
          0.01801850550267843,
          0.006111351557009704,
          0.00013244156035531091,
          0.020838182753949563,
          -0.007289800571727465,
          -0.014475841672354234,
          -0.0061162270174359825,
          0.009688840807449238,
          0.0018474536793259841,
          0.003947373546629781,
          -0.013352039195348032,
          -0.01636961281239412,
          0.011433307678395465,
          0.011965045694606175,
          -0.012901688567658593,
          -0.0005356186523338683,
          0.015417636601750846,
          -0.004361912936655243,
          -0.009449727602565714,
          0.0014699007123079575,
          0.002533841457032413,
          -0.008963870309138186
         ],
         "xaxis": "x6",
         "yaxis": "y6"
        },
        {
         "histfunc": "count",
         "histnorm": "",
         "marker": {
          "color": "rgba(255, 255, 51, 1.0)",
          "line": {
           "color": "#4D5663",
           "width": 1.3
          }
         },
         "name": "BCS",
         "opacity": 0.8,
         "orientation": "v",
         "type": "histogram",
         "x": [
          null,
          0.020026790349874243,
          -0.005185837032365526,
          0,
          -0.018365186040038513,
          0.011408636246678533,
          0.0017436796048268374,
          -0.007870613432329579,
          -0.0008783487609058467,
          -0.0035211303985789363,
          -0.011530061215537329,
          0.000891663010481642,
          -0.0026773777707165144,
          0.005347606326595277,
          0.01849458263616453,
          0.02158046632303237,
          -0.0017094021256490257,
          -0.014649120216231883,
          -0.029064132943911355,
          -0.01078177560328825,
          0.014350022029806307,
          -0.009843479927915559,
          0.029244441177812268,
          -0.013187004281953688,
          0,
          -0.00265839766661,
          0.01671838323490862,
          -0.004372547412609304,
          0.013925377331600949,
          0.015437699384582731,
          0.011844470112522468,
          0,
          -0.010143789430505161,
          -0.003404258606801154,
          -0.002560820861673704,
          -0.018982450912290005,
          -0.022017622141068536,
          -0.0035682464265180116,
          0,
          0.014197221603577753,
          -0.015986130846302286,
          0.014222461958805617,
          -0.022312393720777157,
          -0.0036166404701885504,
          0.015281196235119521,
          0.002672607381476478,
          0.0017777782459993572,
          -0.0044503856274756915,
          -0.017094433359300183,
          0.00452694299577705,
          0.025859666572459666,
          0.0008798944694392958,
          -0.015957785438610806,
          0.008896855837736717,
          -0.009790910434617528,
          0.004462301023398686,
          0.0026678539611924477,
          0.005314450063492667,
          0.004407234987407606,
          -0.008833979710759752,
          0.011469027348764819,
          -0.014134510934904806,
          -0.01253373614725658,
          -0.021858793812499073,
          -0.005540180375615245,
          -0.003710579396535713,
          -0.0074627212015896,
          0.0028050509276086816,
          0.005586606708639776,
          -0.008391657636248401,
          -0.01699757636857102,
          0.01793346787347602,
          -0.00939856542363869,
          -0.001890359731168784,
          0.006600684031352093,
          -0.007547205635382966,
          0.05705318944883758,
          0.015091276200458624,
          0.009644967359181987,
          0.004353511447197618,
          -0.06274459108267433,
          0.012867824611392764,
          -0.014719676992466513,
          0.0009263548601308826,
          0.008298802814695064,
          -0.017601195477008717,
          -0.009389740349839032,
          0.004705891037412714,
          0.018605187831034268,
          -0.02331107886844711,
          0.0028261912358352663,
          0.019562803657643568,
          0.009182800982334982,
          -0.024052963461786304,
          0.029522439266321834,
          0.01264696170076739,
          0,
          0.0035842332278151067,
          -0.001790510773788233,
          -0.013532006218576273,
          -0.021111385253737586,
          -0.011194146743152587,
          0.010266072430598674,
          0.008321823337492278,
          -0.0027662534928900736,
          0.00276625349289011,
          -0.010180559932117493,
          0.002786810907179216,
          -0.014953549667058358,
          -0.0037735893836393797,
          -0.015238390104932498,
          0.012398823596854656,
          -0.004750602758597865,
          -0.013423020332140774,
          0.0038535693159899723,
          0.01242251999855711,
          -0.03380331502350742,
          -0.007889587275162932,
          -0.017982502550432357,
          0.012024192966801591,
          0.013847896858793535,
          0.019455866615366097,
          0.014347448408141355,
          0.010392157767614204,
          -0.004710324300183353,
          0.010333581854545398,
          -0.004683849312426314,
          0.013059887114609009,
          -0.00371402469637137,
          -0.0027945989310158,
          -0.007490671729157626,
          0.012144007254798713,
          0.017487790351572382,
          -0.0018264845260344098,
          -0.0036630077587370352,
          -0.013857034661426241,
          -0.001862197931064651,
          0.007428075008509708,
          -0.014911739495682787,
          0.010275662578204078,
          0.013844245111341165,
          0.011845241003969775,
          -0.01551833971583119,
          -0.004610427714782497,
          -0.008352716775728354,
          0.01938224035122787,
          0.0018264845260345028,
          -0.0036563112031105433,
          -0.0018331810816609605,
          0.0009170106098814064,
          -0.008283526426643987,
          -0.0037037079374844144,
          -0.02441435817128727,
          -0.01725833822928071,
          -0.0009675859487358597,
          -0.004852023104528186,
          0.0009722898189391861,
          -0.026589454189239498,
          0.002989538848366207,
          -0.011005613836602242,
          -0.0010065426114013946,
          -0.005047966297304698,
          0.008064559836730495,
          0.004008021397538647,
          -0.006018072325563021,
          -0.008080852053938672,
          -0.0030472344554687463,
          0.004060919286315012,
          0.007067167223092573,
          -0.023410738365248995,
          -0.002061856400558802,
          -0.007250161225059751,
          0.021594669481460146,
          -0.0010178117927006035,
          0.0310801958942176,
          -0.002965894413378399,
          -0.0009905894816961793,
          0.003956483895074507,
          0,
          0.003940891799876406,
          -0.007897375694951032,
          0.023507448766029643,
          0.002899953699789811,
          -0.01654538959670358,
          -0.00393314174683698,
          0.007850874475738854,
          0.01069528911674795,
          0.000966650631094974,
          -0.010684900100016267,
          0.002925404329105136,
          -0.008802012818090182,
          -0.014844409148532564,
          -0.004997511650471399,
          -0.006030169026591188,
          0.018972111735598523,
          -0.0019801986668624536,
          0.005928871122278874,
          0,
          -0.011893103513952296,
          0.003980104756626948,
          0.007912998757325504,
          -0.0009857073247591882,
          0.016626299865831428,
          -0.0038872740884017677,
          0.00968999830096898,
          0.006727560213056759,
          -0.0996298409488413,
          0.017829523171963745,
          0.004149383546811618,
          0.018462062839735352,
          -0.015361285161487206,
          0.002061856400558777,
          -0.014523076838370728,
          0.002087683430483895,
          -0.011536572628416402,
          -0.004228336109521176,
          0,
          0,
          -0.00851068966790862,
          0.015898586067798204,
          0.007333715425470193,
          0.01347869032046448,
          0.005136118121767492,
          0.02128818354874591,
          0.003004509020298722,
          0.003992021269537457,
          0.003976148379639417,
          -0.01197619104671565,
          0.00800004266707615,
          0.030409405447794916,
          0,
          -0.008733679968754553,
          0.011628037995119214,
          -0.01651324556116843,
          -0.006879634013537158,
          0.013712261863981794,
          0.022126924861840848,
          0.0056926149932864985,
          0.00754009227328786,
          0.011204599012863062,
          0.0046317822500382706,
          -0.012087548381381647,
          0.01485635494951471,
          0,
          -0.000922083974968425,
          0.006436803833479268,
          -0.005514719858510967,
          -0.0036934483353516095,
          0.000924641767218463,
          0.010115028770111747,
          -0.00274851295334916
         ],
         "xaxis": "x7",
         "yaxis": "y7"
        }
       ],
       "layout": {
        "barmode": "overlay",
        "legend": {
         "bgcolor": "#F5F6F9",
         "font": {
          "color": "#4D5663"
         }
        },
        "paper_bgcolor": "#F5F6F9",
        "plot_bgcolor": "#F5F6F9",
        "template": {
         "data": {
          "bar": [
           {
            "error_x": {
             "color": "#2a3f5f"
            },
            "error_y": {
             "color": "#2a3f5f"
            },
            "marker": {
             "line": {
              "color": "#E5ECF6",
              "width": 0.5
             },
             "pattern": {
              "fillmode": "overlay",
              "size": 10,
              "solidity": 0.2
             }
            },
            "type": "bar"
           }
          ],
          "barpolar": [
           {
            "marker": {
             "line": {
              "color": "#E5ECF6",
              "width": 0.5
             },
             "pattern": {
              "fillmode": "overlay",
              "size": 10,
              "solidity": 0.2
             }
            },
            "type": "barpolar"
           }
          ],
          "carpet": [
           {
            "aaxis": {
             "endlinecolor": "#2a3f5f",
             "gridcolor": "white",
             "linecolor": "white",
             "minorgridcolor": "white",
             "startlinecolor": "#2a3f5f"
            },
            "baxis": {
             "endlinecolor": "#2a3f5f",
             "gridcolor": "white",
             "linecolor": "white",
             "minorgridcolor": "white",
             "startlinecolor": "#2a3f5f"
            },
            "type": "carpet"
           }
          ],
          "choropleth": [
           {
            "colorbar": {
             "outlinewidth": 0,
             "ticks": ""
            },
            "type": "choropleth"
           }
          ],
          "contour": [
           {
            "colorbar": {
             "outlinewidth": 0,
             "ticks": ""
            },
            "colorscale": [
             [
              0,
              "#0d0887"
             ],
             [
              0.1111111111111111,
              "#46039f"
             ],
             [
              0.2222222222222222,
              "#7201a8"
             ],
             [
              0.3333333333333333,
              "#9c179e"
             ],
             [
              0.4444444444444444,
              "#bd3786"
             ],
             [
              0.5555555555555556,
              "#d8576b"
             ],
             [
              0.6666666666666666,
              "#ed7953"
             ],
             [
              0.7777777777777778,
              "#fb9f3a"
             ],
             [
              0.8888888888888888,
              "#fdca26"
             ],
             [
              1,
              "#f0f921"
             ]
            ],
            "type": "contour"
           }
          ],
          "contourcarpet": [
           {
            "colorbar": {
             "outlinewidth": 0,
             "ticks": ""
            },
            "type": "contourcarpet"
           }
          ],
          "heatmap": [
           {
            "colorbar": {
             "outlinewidth": 0,
             "ticks": ""
            },
            "colorscale": [
             [
              0,
              "#0d0887"
             ],
             [
              0.1111111111111111,
              "#46039f"
             ],
             [
              0.2222222222222222,
              "#7201a8"
             ],
             [
              0.3333333333333333,
              "#9c179e"
             ],
             [
              0.4444444444444444,
              "#bd3786"
             ],
             [
              0.5555555555555556,
              "#d8576b"
             ],
             [
              0.6666666666666666,
              "#ed7953"
             ],
             [
              0.7777777777777778,
              "#fb9f3a"
             ],
             [
              0.8888888888888888,
              "#fdca26"
             ],
             [
              1,
              "#f0f921"
             ]
            ],
            "type": "heatmap"
           }
          ],
          "heatmapgl": [
           {
            "colorbar": {
             "outlinewidth": 0,
             "ticks": ""
            },
            "colorscale": [
             [
              0,
              "#0d0887"
             ],
             [
              0.1111111111111111,
              "#46039f"
             ],
             [
              0.2222222222222222,
              "#7201a8"
             ],
             [
              0.3333333333333333,
              "#9c179e"
             ],
             [
              0.4444444444444444,
              "#bd3786"
             ],
             [
              0.5555555555555556,
              "#d8576b"
             ],
             [
              0.6666666666666666,
              "#ed7953"
             ],
             [
              0.7777777777777778,
              "#fb9f3a"
             ],
             [
              0.8888888888888888,
              "#fdca26"
             ],
             [
              1,
              "#f0f921"
             ]
            ],
            "type": "heatmapgl"
           }
          ],
          "histogram": [
           {
            "marker": {
             "pattern": {
              "fillmode": "overlay",
              "size": 10,
              "solidity": 0.2
             }
            },
            "type": "histogram"
           }
          ],
          "histogram2d": [
           {
            "colorbar": {
             "outlinewidth": 0,
             "ticks": ""
            },
            "colorscale": [
             [
              0,
              "#0d0887"
             ],
             [
              0.1111111111111111,
              "#46039f"
             ],
             [
              0.2222222222222222,
              "#7201a8"
             ],
             [
              0.3333333333333333,
              "#9c179e"
             ],
             [
              0.4444444444444444,
              "#bd3786"
             ],
             [
              0.5555555555555556,
              "#d8576b"
             ],
             [
              0.6666666666666666,
              "#ed7953"
             ],
             [
              0.7777777777777778,
              "#fb9f3a"
             ],
             [
              0.8888888888888888,
              "#fdca26"
             ],
             [
              1,
              "#f0f921"
             ]
            ],
            "type": "histogram2d"
           }
          ],
          "histogram2dcontour": [
           {
            "colorbar": {
             "outlinewidth": 0,
             "ticks": ""
            },
            "colorscale": [
             [
              0,
              "#0d0887"
             ],
             [
              0.1111111111111111,
              "#46039f"
             ],
             [
              0.2222222222222222,
              "#7201a8"
             ],
             [
              0.3333333333333333,
              "#9c179e"
             ],
             [
              0.4444444444444444,
              "#bd3786"
             ],
             [
              0.5555555555555556,
              "#d8576b"
             ],
             [
              0.6666666666666666,
              "#ed7953"
             ],
             [
              0.7777777777777778,
              "#fb9f3a"
             ],
             [
              0.8888888888888888,
              "#fdca26"
             ],
             [
              1,
              "#f0f921"
             ]
            ],
            "type": "histogram2dcontour"
           }
          ],
          "mesh3d": [
           {
            "colorbar": {
             "outlinewidth": 0,
             "ticks": ""
            },
            "type": "mesh3d"
           }
          ],
          "parcoords": [
           {
            "line": {
             "colorbar": {
              "outlinewidth": 0,
              "ticks": ""
             }
            },
            "type": "parcoords"
           }
          ],
          "pie": [
           {
            "automargin": true,
            "type": "pie"
           }
          ],
          "scatter": [
           {
            "fillpattern": {
             "fillmode": "overlay",
             "size": 10,
             "solidity": 0.2
            },
            "type": "scatter"
           }
          ],
          "scatter3d": [
           {
            "line": {
             "colorbar": {
              "outlinewidth": 0,
              "ticks": ""
             }
            },
            "marker": {
             "colorbar": {
              "outlinewidth": 0,
              "ticks": ""
             }
            },
            "type": "scatter3d"
           }
          ],
          "scattercarpet": [
           {
            "marker": {
             "colorbar": {
              "outlinewidth": 0,
              "ticks": ""
             }
            },
            "type": "scattercarpet"
           }
          ],
          "scattergeo": [
           {
            "marker": {
             "colorbar": {
              "outlinewidth": 0,
              "ticks": ""
             }
            },
            "type": "scattergeo"
           }
          ],
          "scattergl": [
           {
            "marker": {
             "colorbar": {
              "outlinewidth": 0,
              "ticks": ""
             }
            },
            "type": "scattergl"
           }
          ],
          "scattermapbox": [
           {
            "marker": {
             "colorbar": {
              "outlinewidth": 0,
              "ticks": ""
             }
            },
            "type": "scattermapbox"
           }
          ],
          "scatterpolar": [
           {
            "marker": {
             "colorbar": {
              "outlinewidth": 0,
              "ticks": ""
             }
            },
            "type": "scatterpolar"
           }
          ],
          "scatterpolargl": [
           {
            "marker": {
             "colorbar": {
              "outlinewidth": 0,
              "ticks": ""
             }
            },
            "type": "scatterpolargl"
           }
          ],
          "scatterternary": [
           {
            "marker": {
             "colorbar": {
              "outlinewidth": 0,
              "ticks": ""
             }
            },
            "type": "scatterternary"
           }
          ],
          "surface": [
           {
            "colorbar": {
             "outlinewidth": 0,
             "ticks": ""
            },
            "colorscale": [
             [
              0,
              "#0d0887"
             ],
             [
              0.1111111111111111,
              "#46039f"
             ],
             [
              0.2222222222222222,
              "#7201a8"
             ],
             [
              0.3333333333333333,
              "#9c179e"
             ],
             [
              0.4444444444444444,
              "#bd3786"
             ],
             [
              0.5555555555555556,
              "#d8576b"
             ],
             [
              0.6666666666666666,
              "#ed7953"
             ],
             [
              0.7777777777777778,
              "#fb9f3a"
             ],
             [
              0.8888888888888888,
              "#fdca26"
             ],
             [
              1,
              "#f0f921"
             ]
            ],
            "type": "surface"
           }
          ],
          "table": [
           {
            "cells": {
             "fill": {
              "color": "#EBF0F8"
             },
             "line": {
              "color": "white"
             }
            },
            "header": {
             "fill": {
              "color": "#C8D4E3"
             },
             "line": {
              "color": "white"
             }
            },
            "type": "table"
           }
          ]
         },
         "layout": {
          "annotationdefaults": {
           "arrowcolor": "#2a3f5f",
           "arrowhead": 0,
           "arrowwidth": 1
          },
          "autotypenumbers": "strict",
          "coloraxis": {
           "colorbar": {
            "outlinewidth": 0,
            "ticks": ""
           }
          },
          "colorscale": {
           "diverging": [
            [
             0,
             "#8e0152"
            ],
            [
             0.1,
             "#c51b7d"
            ],
            [
             0.2,
             "#de77ae"
            ],
            [
             0.3,
             "#f1b6da"
            ],
            [
             0.4,
             "#fde0ef"
            ],
            [
             0.5,
             "#f7f7f7"
            ],
            [
             0.6,
             "#e6f5d0"
            ],
            [
             0.7,
             "#b8e186"
            ],
            [
             0.8,
             "#7fbc41"
            ],
            [
             0.9,
             "#4d9221"
            ],
            [
             1,
             "#276419"
            ]
           ],
           "sequential": [
            [
             0,
             "#0d0887"
            ],
            [
             0.1111111111111111,
             "#46039f"
            ],
            [
             0.2222222222222222,
             "#7201a8"
            ],
            [
             0.3333333333333333,
             "#9c179e"
            ],
            [
             0.4444444444444444,
             "#bd3786"
            ],
            [
             0.5555555555555556,
             "#d8576b"
            ],
            [
             0.6666666666666666,
             "#ed7953"
            ],
            [
             0.7777777777777778,
             "#fb9f3a"
            ],
            [
             0.8888888888888888,
             "#fdca26"
            ],
            [
             1,
             "#f0f921"
            ]
           ],
           "sequentialminus": [
            [
             0,
             "#0d0887"
            ],
            [
             0.1111111111111111,
             "#46039f"
            ],
            [
             0.2222222222222222,
             "#7201a8"
            ],
            [
             0.3333333333333333,
             "#9c179e"
            ],
            [
             0.4444444444444444,
             "#bd3786"
            ],
            [
             0.5555555555555556,
             "#d8576b"
            ],
            [
             0.6666666666666666,
             "#ed7953"
            ],
            [
             0.7777777777777778,
             "#fb9f3a"
            ],
            [
             0.8888888888888888,
             "#fdca26"
            ],
            [
             1,
             "#f0f921"
            ]
           ]
          },
          "colorway": [
           "#636efa",
           "#EF553B",
           "#00cc96",
           "#ab63fa",
           "#FFA15A",
           "#19d3f3",
           "#FF6692",
           "#B6E880",
           "#FF97FF",
           "#FECB52"
          ],
          "font": {
           "color": "#2a3f5f"
          },
          "geo": {
           "bgcolor": "white",
           "lakecolor": "white",
           "landcolor": "#E5ECF6",
           "showlakes": true,
           "showland": true,
           "subunitcolor": "white"
          },
          "hoverlabel": {
           "align": "left"
          },
          "hovermode": "closest",
          "mapbox": {
           "style": "light"
          },
          "paper_bgcolor": "white",
          "plot_bgcolor": "#E5ECF6",
          "polar": {
           "angularaxis": {
            "gridcolor": "white",
            "linecolor": "white",
            "ticks": ""
           },
           "bgcolor": "#E5ECF6",
           "radialaxis": {
            "gridcolor": "white",
            "linecolor": "white",
            "ticks": ""
           }
          },
          "scene": {
           "xaxis": {
            "backgroundcolor": "#E5ECF6",
            "gridcolor": "white",
            "gridwidth": 2,
            "linecolor": "white",
            "showbackground": true,
            "ticks": "",
            "zerolinecolor": "white"
           },
           "yaxis": {
            "backgroundcolor": "#E5ECF6",
            "gridcolor": "white",
            "gridwidth": 2,
            "linecolor": "white",
            "showbackground": true,
            "ticks": "",
            "zerolinecolor": "white"
           },
           "zaxis": {
            "backgroundcolor": "#E5ECF6",
            "gridcolor": "white",
            "gridwidth": 2,
            "linecolor": "white",
            "showbackground": true,
            "ticks": "",
            "zerolinecolor": "white"
           }
          },
          "shapedefaults": {
           "line": {
            "color": "#2a3f5f"
           }
          },
          "ternary": {
           "aaxis": {
            "gridcolor": "white",
            "linecolor": "white",
            "ticks": ""
           },
           "baxis": {
            "gridcolor": "white",
            "linecolor": "white",
            "ticks": ""
           },
           "bgcolor": "#E5ECF6",
           "caxis": {
            "gridcolor": "white",
            "linecolor": "white",
            "ticks": ""
           }
          },
          "title": {
           "x": 0.05
          },
          "xaxis": {
           "automargin": true,
           "gridcolor": "white",
           "linecolor": "white",
           "ticks": "",
           "title": {
            "standoff": 15
           },
           "zerolinecolor": "white",
           "zerolinewidth": 2
          },
          "yaxis": {
           "automargin": true,
           "gridcolor": "white",
           "linecolor": "white",
           "ticks": "",
           "title": {
            "standoff": 15
           },
           "zerolinecolor": "white",
           "zerolinewidth": 2
          }
         }
        },
        "title": {
         "font": {
          "color": "#4D5663"
         }
        },
        "xaxis": {
         "anchor": "y",
         "domain": [
          0,
          0.45
         ],
         "gridcolor": "#E1E5ED",
         "showgrid": true,
         "tickfont": {
          "color": "#4D5663"
         },
         "title": {
          "font": {
           "color": "#4D5663"
          },
          "text": ""
         },
         "zerolinecolor": "#E1E5ED"
        },
        "xaxis2": {
         "anchor": "y2",
         "domain": [
          0.55,
          1
         ],
         "gridcolor": "#E1E5ED",
         "showgrid": true,
         "tickfont": {
          "color": "#4D5663"
         },
         "title": {
          "font": {
           "color": "#4D5663"
          },
          "text": ""
         },
         "zerolinecolor": "#E1E5ED"
        },
        "xaxis3": {
         "anchor": "y3",
         "domain": [
          0,
          0.45
         ],
         "gridcolor": "#E1E5ED",
         "showgrid": true,
         "tickfont": {
          "color": "#4D5663"
         },
         "title": {
          "font": {
           "color": "#4D5663"
          },
          "text": ""
         },
         "zerolinecolor": "#E1E5ED"
        },
        "xaxis4": {
         "anchor": "y4",
         "domain": [
          0.55,
          1
         ],
         "gridcolor": "#E1E5ED",
         "showgrid": true,
         "tickfont": {
          "color": "#4D5663"
         },
         "title": {
          "font": {
           "color": "#4D5663"
          },
          "text": ""
         },
         "zerolinecolor": "#E1E5ED"
        },
        "xaxis5": {
         "anchor": "y5",
         "domain": [
          0,
          0.45
         ],
         "gridcolor": "#E1E5ED",
         "showgrid": true,
         "tickfont": {
          "color": "#4D5663"
         },
         "title": {
          "font": {
           "color": "#4D5663"
          },
          "text": ""
         },
         "zerolinecolor": "#E1E5ED"
        },
        "xaxis6": {
         "anchor": "y6",
         "domain": [
          0.55,
          1
         ],
         "gridcolor": "#E1E5ED",
         "showgrid": true,
         "tickfont": {
          "color": "#4D5663"
         },
         "title": {
          "font": {
           "color": "#4D5663"
          },
          "text": ""
         },
         "zerolinecolor": "#E1E5ED"
        },
        "xaxis7": {
         "anchor": "y7",
         "domain": [
          0,
          0.45
         ],
         "gridcolor": "#E1E5ED",
         "showgrid": true,
         "tickfont": {
          "color": "#4D5663"
         },
         "title": {
          "font": {
           "color": "#4D5663"
          },
          "text": ""
         },
         "zerolinecolor": "#E1E5ED"
        },
        "yaxis": {
         "anchor": "x",
         "domain": [
          0.80625,
          1
         ],
         "gridcolor": "#E1E5ED",
         "showgrid": true,
         "tickfont": {
          "color": "#4D5663"
         },
         "title": {
          "font": {
           "color": "#4D5663"
          },
          "text": ""
         },
         "zerolinecolor": "#E1E5ED"
        },
        "yaxis2": {
         "anchor": "x2",
         "domain": [
          0.80625,
          1
         ],
         "gridcolor": "#E1E5ED",
         "showgrid": true,
         "tickfont": {
          "color": "#4D5663"
         },
         "title": {
          "font": {
           "color": "#4D5663"
          },
          "text": ""
         },
         "zerolinecolor": "#E1E5ED"
        },
        "yaxis3": {
         "anchor": "x3",
         "domain": [
          0.5375,
          0.73125
         ],
         "gridcolor": "#E1E5ED",
         "showgrid": true,
         "tickfont": {
          "color": "#4D5663"
         },
         "title": {
          "font": {
           "color": "#4D5663"
          },
          "text": ""
         },
         "zerolinecolor": "#E1E5ED"
        },
        "yaxis4": {
         "anchor": "x4",
         "domain": [
          0.5375,
          0.73125
         ],
         "gridcolor": "#E1E5ED",
         "showgrid": true,
         "tickfont": {
          "color": "#4D5663"
         },
         "title": {
          "font": {
           "color": "#4D5663"
          },
          "text": ""
         },
         "zerolinecolor": "#E1E5ED"
        },
        "yaxis5": {
         "anchor": "x5",
         "domain": [
          0.26875,
          0.4625
         ],
         "gridcolor": "#E1E5ED",
         "showgrid": true,
         "tickfont": {
          "color": "#4D5663"
         },
         "title": {
          "font": {
           "color": "#4D5663"
          },
          "text": ""
         },
         "zerolinecolor": "#E1E5ED"
        },
        "yaxis6": {
         "anchor": "x6",
         "domain": [
          0.26875,
          0.4625
         ],
         "gridcolor": "#E1E5ED",
         "showgrid": true,
         "tickfont": {
          "color": "#4D5663"
         },
         "title": {
          "font": {
           "color": "#4D5663"
          },
          "text": ""
         },
         "zerolinecolor": "#E1E5ED"
        },
        "yaxis7": {
         "anchor": "x7",
         "domain": [
          0,
          0.19375
         ],
         "gridcolor": "#E1E5ED",
         "showgrid": true,
         "tickfont": {
          "color": "#4D5663"
         },
         "title": {
          "font": {
           "color": "#4D5663"
          },
          "text": ""
         },
         "zerolinecolor": "#E1E5ED"
        }
       }
      },
      "text/html": [
       "<div>                            <div id=\"56c8b652-bb29-49b7-a9ca-1bb8c36e5e0d\" class=\"plotly-graph-div\" style=\"height:525px; width:100%;\"></div>            <script type=\"text/javascript\">                require([\"plotly\"], function(Plotly) {                    window.PLOTLYENV=window.PLOTLYENV || {};\n",
       "                    window.PLOTLYENV.BASE_URL='https://plot.ly';                                    if (document.getElementById(\"56c8b652-bb29-49b7-a9ca-1bb8c36e5e0d\")) {                    Plotly.newPlot(                        \"56c8b652-bb29-49b7-a9ca-1bb8c36e5e0d\",                        [{\"histfunc\":\"count\",\"histnorm\":\"\",\"marker\":{\"color\":\"rgba(255, 153, 51, 1.0)\",\"line\":{\"color\":\"#4D5663\",\"width\":1.3}},\"name\":\"JPM\",\"opacity\":0.8,\"orientation\":\"v\",\"x\":[null,-0.003675207995758522,-0.00924755174129482,0.00011612378808861422,0.0006964596915296963,0.0028967055768547656,0.007492398601799683,-0.00969312920565968,0.005319776625809223,-0.037008628745093565,0.004657002864042137,-0.007653708732647819,0.004431941134710349,0.00047795436445772235,0.01199325662118616,0.015344371340105658,0.008334346193711782,0.002072778264004428,-0.010407124457716235,-0.01640725895124227,0.0037740344359266133,-0.004246791802017897,0.030158890494323517,-0.0047140070048483276,-0.0005764021140622202,-0.00880246591702639,0.014322259140624398,-0.002296212260350268,0.01313179018929556,0.015868882886674745,0.011435039950642418,-0.0006625441938475151,-0.0033193214809396454,0.008607424582854933,0.0005492393173716478,0.0007684286013994361,-0.008817427346283232,0.0011064395906367748,0.0020988684866034136,0.03235544424455416,-0.015721223975775384,0.0071374802843840145,-0.009528006251654583,-0.0055637518747729715,-0.002190341473660357,0.00393916692757363,-0.003172001565820487,0.0008760403538798185,0.0016405100195867025,0.002401223594277475,-0.0009816219362694845,-0.010531031945966484,-0.007193877518942829,-0.029762088480932477,0.0016007321048937151,-0.0016007321048936956,-0.0011449508921944334,-0.0005729674138302442,0.01546891627760687,-0.0037315585788937236,0.008573092553438287,-0.013456413824359248,-0.003649639087549504,-0.0024023348509547714,-0.012910842163408442,0.003359011671645018,-0.0034750411432608874,-0.0034871591771118158,-0.0017481503199156259,-0.003856721896140414,-0.011778699192612763,0.017150661194502988,-0.008186222771135801,-0.008253790519481203,0.012822950832404952,-0.012112807590346528,0.03465060061571279,0.008648210477832527,0.0019242747462427077,-0.009316131909371389,-0.0069870280236887655,0.0006894174695677843,-0.0064531221863178955,0.005763704716750134,0.0011487652038733585,-0.0011487652038733708,0.0011487652038733585,-0.004026465031488516,0.007808054365831175,-0.0030929631163806454,-0.0027573546881901633,0.00482039266918606,0.0030865986208574387,-0.03886921689401049,-0.0036854348318297475,0.009719170972058827,-0.0009440642664823142,0.012437095664483182,-0.0005831924117006113,-0.004209055670341778,0.0001171577530482844,-0.01725199352033738,-0.021078768989883447,0.01101639371933042,-0.005069413391224449,0.0018134563393314449,0.0020512827705571396,0.011386231960706303,0.012318052235963122,0.023385394695012864,0.00022996435653836105,0.0033285540057275058,-0.0020646944705717102,-0.005988731476965911,-0.0045152030399903025,0.021693820629675974,-0.006264614143697051,-0.004580860048965925,-0.0011485013321710948,-0.0018403501858582326,0.004365314226752419,0.00924189360878679,0.019902832717376792,0.014698833465080222,0.0027389773354322177,0.014662223027440194,0.00997701780191748,-0.0032075297466711045,0.005020573489726949,-0.007057343234953638,-0.0038705563857229603,-0.0034531166286138914,0.006357437499794132,-0.009171901362384757,-0.009366219636526328,-0.003507621704383178,0.0014264555005585038,0.0,-0.0034049129496067356,0.004281721423141134,0.016514934238334722,-0.009419221916491527,-0.004142146755143699,-0.0029535655666994595,0.005680592072624579,0.013309724154022439,0.0008595681199710813,-0.006572945382058857,0.012462559237016191,0.0038363218405887438,-0.003622806306522439,-0.0016024788430023156,-0.014430575635956717,-0.008387391906904625,0.011636257662570378,0.0025915142459661,-0.006925685078859008,-0.01576042253241557,0.0009923370349577015,-0.0012129901691275806,0.010209211017675683,0.0012006768893183522,-0.0016376443421965542,0.004034681881305934,-0.003160937832709108,-0.005473467414171931,0.0023025063623360914,-0.004610326497569786,0.008872395131740256,-0.024172028379571584,0.006680795364098236,-0.01768966862398816,-0.0012432892248605463,0.015375422134620068,0.012176373597961811,0.0028565169939929933,-0.0019767192907016286,0.007119806624625618,0.014089319443612228,0.010917372696640504,0.007001195458983561,0.004535155165391363,-0.0021068163275878935,-0.007515251036474201,-0.004472374614785248,0.01567164644858801,0.00209907717711378,0.0013620411765680874,0.013829178023211439,0.00525259974835096,-0.010221554071538028,0.007547205635382904,-0.0017524874337285989,-0.005275965272036025,0.007440356737950153,-0.0029901553443813715,-0.008816112694412268,-0.0013552256439602949,0.020444697647431766,-0.0022511009199155272,0.00378304218872554,0.0012238655275724783,0.014168843451771397,-0.0017098319478663047,0.015779814093652464,0.0009903932670494062,0.007102022354712464,0.00029482580922127367,-0.0035436595799351743,-0.007920049319945598,0.003076467468897674,0.006616981330596552,-0.0017733994795486846,-0.00623178237145295,-0.020348519471220843,-0.011304158256471892,-0.00010242228717920995,-0.0012298863905523204,0.003582949013949707,-0.006047268979628566,0.009413760299849838,0.0028475560785119498,-0.0033569025979533203,0.008825824472665944,-0.000808325799292081,-0.002935670479042409,-0.00324939359830951,-0.003974527525076113,0.0344255982801804,0.023112833430853092,0.007587071208674986,0.002579906834438755,0.02040308804156427,-0.011567345792326189,-0.007500628566268769,-0.002958723227354604,0.012443760665939791,-0.002930751329617699,0.011578234486369491,-0.012620246611155765,-0.008088734209939058,0.014041976455687237,0.0076959553939387314,-0.004216055338613279,-0.0034799000553254757,0.015796935494232098,-0.003530289805461487,-0.004009890205361018,0.0018670655162331604,0.0053020913941455,-0.00791696027295167],\"xaxis\":\"x\",\"yaxis\":\"y\",\"type\":\"histogram\"},{\"histfunc\":\"count\",\"histnorm\":\"\",\"marker\":{\"color\":\"rgba(55, 128, 191, 1.0)\",\"line\":{\"color\":\"#4D5663\",\"width\":1.3}},\"name\":\"BAC\",\"opacity\":0.8,\"orientation\":\"v\",\"x\":[null,0.018470182062401055,-0.011834457647002796,0.0,-0.005748412910863897,0.017147045752537313,0.005650960484437601,-0.006523180339123372,0.003919012200735602,-0.04261630215441958,0.02596385775259098,-0.004428705201292813,0.004870498890829086,-0.0035398267051241737,0.01713950987669599,0.01813521204421258,0.0029908161580453475,-0.003418806748785609,-0.017707221453472203,-0.01359968317157189,0.01098188062949322,-0.00745454011152479,0.024778490043298955,-0.007326040092072786,-0.009561133243982847,-0.010094446040756239,0.01965557928473899,-0.0017316021642780463,0.013769580723757035,0.027814688182876978,0.021382393591355856,0.0,-0.002443993069878102,0.010547765132985904,0.00040346984610264075,-0.008507241909210463,-0.014341569309454264,0.013934651704653307,0.004467012504099228,0.03268525312719344,-0.010644689511414113,0.00828897581895508,-0.007496582750552631,-0.0015854145215403767,0.0019813757225165345,0.003556613114847021,-0.001579155480159582,-0.00039517882355808733,0.0007902015425008826,-0.005544568659774406,0.00158730192057241,-0.014377244454208394,-0.017038951779170395,-0.05985773100965803,-0.003481291592511891,0.005650960484437601,0.002164971618514349,-0.0039003299715829236,0.019351281127301775,-0.005552010844989358,0.022025456235832356,-0.011799546931155168,0.0,-0.006378928710771681,-0.011585626264527062,0.003876808646233512,-0.004308494385723955,-0.006063249411057968,-0.004353511447197664,-0.011850039917495956,-0.013781058287988313,0.020820242655242054,-0.004393680178829515,0.0013201322049228162,0.014407583863272354,-0.015727716068195154,0.03971173508134931,0.014703058400551677,-0.003760188261650018,-0.01009684639977632,-0.013194488079532019,0.011501724239011683,-0.0033941483581503163,0.010148078632831483,0.0033599359622477677,-0.004622828152828393,0.009224384065726733,0.0008343763521195829,0.007064230499213516,-0.0033181283036010653,-0.0029124214470350185,0.002496880198587146,-0.0029136336949296356,-0.06101548602215886,0.007503897492945586,0.013540281120267679,-0.0004339336149670938,0.015076744768397266,-0.001283422636061436,-0.004720025926660967,-0.00043020004965489206,-0.014301435518306248,-0.022066208652568524,0.009769171832610352,-0.007985845457182703,-0.001783326375427594,-0.008064559836730408,0.01650717830213503,0.01623911042276664,0.030019406824885752,0.004636467736743234,-0.0004206098905333207,-0.0004207868776582507,-0.009302392662313674,-0.004683849312426314,0.020279528950529088,-0.017721982799411968,-0.015444322427473631,-0.008684379373534709,-0.0048087524358834625,0.003062789530545731,0.01646484334972504,0.025876311210200967,0.018257768573564963,-0.0024701535820621447,0.017164295521282954,0.009677494882065438,-0.008462673918733767,0.004844579519556496,0.0024135168594254575,-0.011719673441183487,-0.010214593409718295,0.011027271227708696,-0.016793349806340313,-0.00787895429812964,-0.005008357714372519,0.006672251609067942,-0.0050000104167056405,-0.005865119452398134,0.004611200792804335,0.023559676173891996,-0.011090686694158173,-0.00413907875688754,-0.0033236424447020785,0.003738322110607158,0.013588844061896359,0.005709640307220206,-0.00898698859098632,0.024322236654566867,-0.00040056079045485744,-0.002406740030565088,-0.006446436506320104,-0.02537999510535707,-0.010837955189214758,0.023199052012788768,0.0020454087720215516,-0.011508552832644299,-0.02299913208403847,-0.0008463817686811865,-0.01021285472529398,0.019064335066728447,-0.0029417966162064617,0.0033613477027047063,-0.002940560825046444,-0.0021057072425778867,-0.005919679020299842,0.012223545241513995,0.0008375209869793744,0.008336855289061789,-0.03291436357911425,0.0042808284551536,-0.01897426480181255,-0.00348888273653147,0.020325023995550837,0.024943165896897882,0.015741832938506877,-0.003705995594317536,0.005758962852011695,0.013040119580806062,0.006456842448633647,0.008012863385357201,0.003982482364317568,-0.005579926793474761,-0.010446057222369626,0.0020173498873142536,0.023895999628363168,0.0015729456644590803,-0.004331568103538748,0.010989121575595165,0.009324076875123244,-0.0058173520659132024,0.016204058254722972,0.0030569378027939425,-0.013830416380876835,0.003089998596134904,-0.0038639924428239833,-0.014820864111217327,0.014820864111217327,0.015748356968139112,-0.0015255533088370686,0.01063032030175633,0.003769322216291696,0.02195437015315732,-0.00036812074776109853,0.01896482805897337,-0.0018079918141436508,0.003973275951360364,0.0021606058099059074,-0.00722024797348702,-0.007637789448117538,0.005098335879529238,0.012274522339340973,-0.0017956549985599628,-0.0025193463028533383,-0.020754431469445875,-0.014452725166480357,-0.011261380272539073,0.000754717016955996,-0.004158010148663788,-0.006079046076382226,0.02074371948062911,-0.0011204482964896065,-0.00524542229306218,0.00449775870683139,-0.0003740415229694193,-0.00262221540026501,-0.0026291094956341454,0.0,0.038728793644540675,0.0228908421289029,-0.003897259140090715,-0.002488005548581121,0.03359308180243657,-0.004483539154093044,-0.010074776895598846,0.0048763593667769355,0.009337781838698366,-0.0037937620945823745,0.013045155815112806,-0.01650656460170241,-0.0038214394255501405,0.010732316965397016,0.015037877364540502,-0.0010181572235402208,0.0010181572235401738,0.011467242015456508,0.0020100509280241,-0.003352333008753561,-0.0016803902458566334,0.0023517565013524023,-0.009440393779087073],\"xaxis\":\"x2\",\"yaxis\":\"y2\",\"type\":\"histogram\"},{\"histfunc\":\"count\",\"histnorm\":\"\",\"marker\":{\"color\":\"rgba(50, 171, 96, 1.0)\",\"line\":{\"color\":\"#4D5663\",\"width\":1.3}},\"name\":\"WFC\",\"opacity\":0.8,\"orientation\":\"v\",\"x\":[null,0.0008924587830195697,-0.015643580729028852,-0.002540375164051832,-0.014641549992948005,0.0069814724134187114,0.0032900779084108996,-0.005489492284771369,0.014753022337388299,-0.02805207316586801,0.009069937234594838,0.00569592720487882,0.008937587994197688,-0.015002110853821202,0.008260717007366532,0.034498570255817915,0.009841907210412247,-0.010371895739733178,-0.009053048428097957,0.004448010180288025,-0.0074839978680687255,-0.002865844698325757,0.026899516065537952,-0.012651723843636562,-0.003720440113902765,-0.012682138361024706,0.019580547251273905,0.0022889348843779657,0.0038616863857818947,0.01564433088487367,0.009782966550216932,-0.007371251341644151,-0.0005163066976408969,0.002750560441368776,0.001886631208774953,0.0022250758003496303,-0.011694028360549653,0.00431518750209915,-0.003105056833200687,0.03146250498093139,-0.017224336668120045,0.003061226880384751,-0.004765966468141552,-0.005303237131891155,-0.0015449320728025,0.008382565550406715,0.002552106872235017,-0.00255210687223494,0.0010216244716257697,-0.0008512812295819727,0.010336447193636744,-0.011017994331962823,-0.017885257489193507,-0.03137373993336523,-0.009354268605191429,-0.0014469165121561833,0.010443018924406935,-0.007912287277256543,0.010238077752267902,-0.005195747601864008,0.010186845306992997,-0.010366491404664885,-0.003058931759934778,-0.005239871054760283,-0.003993470545950079,0.007068448097776079,-0.0096180761407621,-0.005485477276671203,-0.006991748813422911,-0.019389123435841153,-0.033888568793611115,0.0263299538196844,-0.005134555351945508,-0.005736153395524857,0.02555747245517936,-0.009389740349839032,0.012189555524585696,0.01681954445849916,-0.0003666361177643039,-0.0018351996341771785,-0.011082492446792852,0.011449801909141135,0.00146789017182891,0.005667809303796848,0.005998382067900745,-0.0012693808939960648,-0.001270994270055777,-0.006562181769339366,0.0007312614585461406,-0.01807167012694981,-0.013488402326465629,0.005642294449628339,-0.0011259149247217393,-0.019337095417610434,0.002676354111390257,0.012898509630027784,-0.0009427737098789107,0.007142887512380204,-0.005634875916514723,-0.005856255520402096,-0.0070349182611031775,-0.004781495195677377,-0.019748947755356867,0.018214028037273185,-0.005197817073616841,-0.001738626923040245,0.001738626923040219,0.005389810930403206,0.008982382419254895,0.02331809299138363,0.005375858715596984,0.006633523495633877,0.0014681595590007532,-0.011620531023018759,-0.00018554596954613596,0.006473711686734737,-0.014484932921367238,-0.009019226866849367,-0.009291808579715165,-0.0007623404219021534,0.00854300402194743,0.004902894980790797,0.021770326718387186,0.026338821635911287,-0.006655299320084645,0.006655299320084671,0.0,-0.003951864313199878,0.0032345041676590976,-0.0026946930884240612,-0.00994313534028993,0.0023591336592513217,0.007763873972197273,-0.01103185073681333,-0.005104842443988808,0.0016436858782352328,0.0025514867131578908,-0.0010926972494979662,-0.013021733747822277,0.001844338405505939,0.014451911639147842,-0.0027280184236800667,-0.003648973215046648,-0.026110176903935797,0.011935986539785077,0.0025921140231246744,-0.008542298926895444,-0.004111386841664102,-0.010542266312024545,-0.005693695396730814,0.0032304066097216433,0.0015165879684092532,-0.01604006129028838,-0.00019251131063410175,0.01717927341952237,0.00018923266212202077,-0.003032028095052299,-0.017035534955757083,-0.0023192897910908937,0.002705315659617424,0.007689388137018748,-0.003645087968770615,0.0024954423161851966,-0.007505086704587387,-0.002707932022252286,-0.004075697053814357,-0.0011675424560377012,-0.005662418722153214,-0.0019600163076022212,-0.017216216261131175,-0.004400887278983418,-0.004017683186612418,-0.002014911018178889,0.02154911796648472,0.0178034634893384,-0.002135301209269411,-0.003309005452421103,0.007187986266517238,0.020121403199421243,0.012256210740252784,0.0072822654004039596,0.005750873840529434,0.0035084515722673517,-0.004063544564594522,-0.004265980688235778,0.00759192610450806,0.0007375991483220427,0.01645375327894243,0.005785588367631671,0.001981090247214421,-0.011217776400263696,0.0077934241309186,0.003424352269345057,-0.007948018718706939,0.00848763560382181,0.0008987148982720303,-0.008117659801791443,-0.027917331861475197,0.002046702733260578,-0.011403058413512504,0.00412758559745275,0.006345672656093384,0.0215339138919982,-0.00018209960898909908,0.009245058144051209,-0.0030721990369701403,0.006674508407956477,0.004484714665238609,-0.00035803795584763776,0.0051790454185266215,0.0012461060802471558,0.004791916171002952,-0.002304352699201238,-0.0030214188096877098,-0.020318958507408662,-0.014454555937903273,-0.0048032606665112665,-0.0035247230629460646,-0.0016739518462915524,0.0059391414369611975,-0.005380846084225884,0.015690215743087196,-0.008275909303859822,-0.001848429361782316,0.008658062743114751,-0.00847306598003029,0.0005547850350340533,-0.0025916341791918885,0.029585795587686155,0.01977792753064981,-0.0037118911377344026,-0.004792766785099883,0.020953315220625757,0.02001101792345518,0.00034153005796464577,0.01339797875743403,-0.0008426730084897132,-0.007446302810465371,0.0244978694125004,-0.015535266084071152,-0.003034903695154047,0.010916222263815516,0.017385983089700352,-0.009234894127313004,-0.0036514563392651303,0.02414901746609637,-0.0009743423960168939,-0.006847108589828387,-0.0029488881133534544,0.0057259870148851635,-0.010330500987959162],\"xaxis\":\"x3\",\"yaxis\":\"y3\",\"type\":\"histogram\"},{\"histfunc\":\"count\",\"histnorm\":\"\",\"marker\":{\"color\":\"rgba(128, 0, 128, 1.0)\",\"line\":{\"color\":\"#4D5663\",\"width\":1.3}},\"name\":\"MS\",\"opacity\":0.8,\"orientation\":\"v\",\"x\":[null,0.013153529899743171,-0.009212409694742999,0.014471367739452156,-0.02634163396481696,0.008161407082841882,0.014066875561252624,-0.0009163803619513303,0.0041171146902888684,-0.0386274173779427,0.016704305597566423,-0.009612077288074521,0.003292571177765909,-0.014902700407025743,0.018184466127837053,0.026101493333808682,0.003641333108573583,-0.008440793812704465,-0.012216355684869565,-0.014718172474021421,0.004930166107858586,-0.013438844243653696,0.053154840956891894,0.00449136169336157,0.005363141346713322,-0.02162733541426587,0.02118150393117917,-0.0033500868852819744,0.012450138585868091,0.017086943648290533,0.009726651848811515,-0.008207389483879278,0.0008671147302470326,0.008844842474321343,-0.0008594757727187045,0.0012889368057312528,-0.02279981510950421,0.006785623059793566,-0.0037154452095765752,0.024655228115071523,-0.011386952986503393,0.011814120869974569,-0.005567466201164503,-0.005166857565728867,0.0012942193350953582,0.006231888654702878,-0.004078571715861803,-0.004959578899200332,-0.0015143323607790982,-0.007388125740040087,0.010414500726083147,-0.028682863949970674,-0.009597216839200846,-0.04424790559618097,-0.010604553248797,0.008962324140714793,-0.00305702766001211,-0.02094317384524325,0.02164947169685351,0.007269348461030879,0.014612343958979408,-0.01367820096718244,-0.003039160726172991,-0.004693742482676486,-0.01827944072164394,0.008350281133424524,-0.0033317498692640537,-0.0009539709762351536,-0.007905179507113261,-0.012341354461399587,-0.009295565954868638,0.019470072331178097,-0.0067714889940505545,0.019940600658024256,0.010882529921620697,-0.016607736399660636,0.04124295853404922,0.016167948679290035,0.0022563186467682655,-0.01888350958441669,-0.003912097959126601,0.008495057401346987,-0.008956312022070975,0.002994359026457734,-0.004610427714782497,-0.004631782250038325,-0.0013937284486036918,-0.004426332212304458,0.006284205482422522,-0.005350716499816501,-0.00327103095395215,0.016249196890796982,-0.0011519411480021204,-0.057158413839948755,0.008264509849893652,0.011791738122037362,-0.003354903697884745,0.018078513303710516,0.004938281640582577,0.0,0.004914014802429163,-0.013158084577511199,-0.012854259352982164,0.020629065862765975,-0.002114414038073371,0.008664145055041953,0.001165093921845716,0.007886842087591286,0.01876914791457419,0.01820070464684637,-0.0013368985948414083,0.006666691358189297,-0.005329792763347826,-0.004910724154286486,-0.0047101130030332535,0.02749618898428291,-0.004823512969705191,-0.01305183885725814,-0.006702437959473216,-0.02083880617682898,0.007070390954916628,0.004987541511038968,0.0022588670097282333,0.009655402281835925,-0.0042548491018357575,0.023290395104580364,0.011986631476235052,-0.0006501246301147933,-0.0017357348684133981,-0.0013037811494832697,-0.011151312669497327,-0.011499463296899593,0.012378584232639971,-0.007054702979890038,0.002871978114572377,-0.004200293563368206,0.03226086221822148,-0.0023622903716053983,0.001718582592699916,0.0025723486853113046,0.019084548692410698,-0.008437088648232016,-0.002545070302732061,-0.00917339766217944,0.005130408858949807,0.006588059105961848,0.0025386093599612516,-0.0014800721593948376,0.017202018468190396,0.004772288339363267,-0.007896965394775456,-0.005858983071328807,-0.028740669008022718,-0.014138354051210831,0.018663736195028088,-0.0017215412041752534,-0.009087037864453194,-0.020198271734384283,0.006631324035381383,-0.015765842267374288,0.019723631074791328,0.005034485844348036,0.004357305368955847,-0.0013051992281428672,-0.010063528378616897,-0.0028624923211895263,0.0068124645405036885,-0.003510315144744655,0.015050998485609146,-0.028102837342867323,0.0035563496029102056,-0.02243755784866124,-0.0013623980308956755,0.02579485845846128,0.012980052440069181,0.010220813124704279,0.004317796000056341,0.003870140285309159,0.015332497978585838,0.007369230106548368,0.004604445137783696,0.007696345842367535,-0.0008291874438606701,-0.010004251842340888,-0.0058823699030665245,0.012771030898251897,0.0016628563382651096,0.0004152823979948895,0.015449890176842273,0.007332008406292731,-0.005493960303808283,0.012571130677893498,0.002615958831574374,-0.00766596451389051,0.0022251450467612715,-0.006283592175748276,-0.012069288370234767,-0.005986187759284718,0.01316349735599864,0.0036712258243613493,0.020752230569057607,-0.007204353753853157,0.017717194798846956,-0.0013821702269516474,0.009048055433565886,-0.010630021355735337,0.004738409655485751,0.007652347751338807,-0.013777033497730226,-0.009157937784765645,-0.007427515828796584,0.015792432160424242,-0.007964996310300758,0.0023961672806741847,-0.01507111817761388,-0.007111682924577515,-0.004496226663141969,-0.0012297603517432627,-0.002669680197376221,-0.005154119233813242,-0.005804328070165777,0.01034135379473253,0.0020554991820959595,0.008383649962608953,0.005482803865880174,-0.00589013584707229,-0.0006113092396179325,-0.0012237407197166273,0.028170876966696224,0.018089364670112684,0.0056349124132001405,0.006566265384600772,0.013954159329843776,-0.012799869090099187,-0.006171668577033197,0.012687598108598095,0.010262347761342713,-0.0022714376603120185,0.020259556184821136,-0.012520017787523903,-0.010206098797812016,0.008700641230831295,0.002633065279017717,-0.005839707657014764,-0.00796665822012829,0.0070215678936629755,-0.0030303053491790963,-0.004753312495631354,0.0019040371327363214,0.001520623748627837,-0.003424660881364103],\"xaxis\":\"x4\",\"yaxis\":\"y4\",\"type\":\"histogram\"},{\"histfunc\":\"count\",\"histnorm\":\"\",\"marker\":{\"color\":\"rgba(219, 64, 82, 1.0)\",\"line\":{\"color\":\"#4D5663\",\"width\":1.3}},\"name\":\"GS\",\"opacity\":0.8,\"orientation\":\"v\",\"x\":[null,0.006436993548716511,-0.007472426141380855,0.014726110385561052,-0.008241298002904641,-0.0013183374380877158,0.013065121442177625,-0.007843177461025893,0.0018847057654133464,-0.03566747546527134,-0.006169838519874913,-0.012368635240968186,0.0034080402262106537,0.0020220713754107804,0.004331517440283772,0.015161779410551619,0.009772952813147837,-0.011038241889587793,-0.012955474823463911,-0.01977526554995142,0.005869709672017155,-0.0011277870545584327,0.04472911242870114,-0.0040338565500989305,-0.0015012513244898242,-0.007918759301571803,0.01594091509023449,0.004832024599806305,0.014519979428062428,0.0128700866692786,0.004320006718482828,-0.0044001831065794686,0.0037613585220497804,0.005496488924635066,-0.00011916820606373732,-0.002147459665637559,-0.015405287210732607,0.007972982559327041,-0.005106667845861221,0.018571933839739735,-0.006550631836860795,0.007262657183398222,-0.003485842309685974,-0.004414315891398057,-0.002633996015430381,-0.0002397985703509521,-0.00722082726670887,-0.0008861320916577988,-0.0017746233583684897,-0.003801824599472467,0.005818198230987481,-0.01739315628628294,-0.007406222135498019,-0.03847761771389363,-0.008317758645285611,0.0035855493410710143,-0.015163984600943441,-0.012910796447168287,0.016930551062506474,-0.0038446462666001844,0.012052270237895223,-0.00650846225107988,-0.003313860187954959,0.0013094148787227587,-0.007003442789792993,0.004295426284486555,-0.003329539569362434,0.004422364192362092,-0.005036911422097945,-0.008776435085364158,-0.010822471854935145,0.013079060056161015,-0.04830632472840488,-0.0069819684112847205,0.018373766919604653,-0.005518270234199798,0.0289058481835328,0.015160899483270178,-0.0018991680288191265,-0.0017256259674697252,-0.008941141836725362,0.004680717338891491,0.0012000801493626035,0.005272147426576187,0.0012364762008112568,0.0012349492153030267,-0.008143439559114675,-0.005659677755950353,0.004992877704572088,-0.0005337603542789638,-0.008668895612826969,0.010269322734908602,0.002129926257824849,-0.054096772534333246,0.006715190315471134,0.0010684009842219008,0.002920657601064347,0.016618846420343714,0.01889699274086096,-0.006094574096490477,0.004753372178703646,-0.02312581846416352,-0.033330212374566195,0.017594936278921464,-0.007938031970211179,0.0031827782543301596,0.0025203037703578064,0.005809781394779691,0.013715868355377824,0.01668216384079137,-0.0023855080514772102,0.01026661637017349,0.010250583420816953,-0.014586463981597027,-0.0063814705145815755,0.019288895572204787,-0.004565307222216073,-0.011662591136620087,-0.012300611837946986,-0.01180899845389006,0.014853002530805072,-0.0007260846207538789,0.013258367833288006,0.005316903707916433,-0.011247905996936872,0.023955907607384138,0.003338314617448621,-0.005937606782947173,-0.0062393724107563785,0.0024827109755562664,0.004902944957240646,0.0019368760732252411,0.013150323846036281,-0.007843177461025893,0.002882979326153267,-0.026295790040067674,-0.001972298814971286,-0.0025608208616735924,-0.009582427327893803,-0.009124983472646418,0.015463287922916234,0.003019176301486987,-0.003470582439247555,0.009571171045288016,0.007662531365975635,0.007384023115372426,-0.0032210410181663135,-0.010127568461861377,0.025564440365469825,0.013529198602074202,-0.0037421812817342716,-0.004491866059088214,-0.024140840685363638,-0.006004688341284532,0.014219193747342119,0.0010111002070317529,-0.008737919673162339,-0.01874649445133914,0.003291478950596782,-0.006140805859666236,0.012557268319928542,-0.003764119877225591,0.001121755440357679,-0.002334666350269643,-0.009575069767046272,-0.0017714796483820044,0.011121774751081821,0.005917177028088739,0.009519221385851425,-0.036518505886721044,0.004809793748353859,-0.013757780206822895,0.006327235056156339,0.017569530367207077,0.021879577974479286,0.002696074648066205,0.0012791956046178633,-0.007211303841093383,0.010204395560155944,0.006046815374878263,0.0038369351629313725,0.006506486040562801,-0.001124762188139288,-0.003338466973750129,-0.0013906999199242206,0.020745310364539596,0.0030198011166983605,0.0072779909120229145,0.014482088030263445,0.004022648342299525,-0.005436487566503831,0.023645652107108915,-0.0001625751913838658,-0.013174774255295807,-0.0008240626753935378,-0.0008247423147902726,-0.010784011601745452,-0.005310154011912139,0.016135418888142006,-0.02641741920952199,0.024848597155446888,-0.008464429608323812,0.019558306227665263,-0.010680790030519633,0.011130163978478361,-0.012866275525654846,4.137103614341947e-05,-4.1371036143492944e-05,-0.0033982626984092245,0.006578834990742684,0.00731399899339471,0.010669156871908269,-0.010096161317410366,-0.0037303533799063677,-0.015228930775751829,0.005986797077313205,-0.001908555885953263,-0.002661456222308708,0.0004995628928672952,-0.01269100403317472,0.0015583871743957943,0.00737979784337768,-0.005655768234005517,0.00046203928155785047,-0.00046203928155791443,-0.0067025227206259,-0.0020322628612713875,-0.003566428439513475,0.01812407361300451,0.008112031504918083,0.02568648380022557,0.005275994437160345,0.006805470621320797,-0.009299036906941319,-0.009630243561222369,0.010556001843443106,0.00717567369116187,-0.0008791560668562736,0.02973772231384597,-0.00826128928880092,-0.000313087040754157,0.00659321612051441,0.01102120632011981,-0.01370786227277967,-0.005081510367645745,0.02258954227137215,-0.00784649589008751,-0.004838500604439979,-0.006891611366849623,0.0021465517072319913,-0.00680673910765926],\"xaxis\":\"x5\",\"yaxis\":\"y5\",\"type\":\"histogram\"},{\"histfunc\":\"count\",\"histnorm\":\"\",\"marker\":{\"color\":\"rgba(0, 128, 128, 1.0)\",\"line\":{\"color\":\"#4D5663\",\"width\":1.3}},\"name\":\"C\",\"opacity\":0.8,\"orientation\":\"v\",\"x\":[null,0.0134428253844101,-0.017577454610392715,0.0034742362681860514,-0.005464946945513508,0.00016604400204185766,-0.004492893821232735,-0.012249502945523242,0.006730632846140911,-0.021185437709045844,-0.01710329330569755,-0.012801577717900803,-0.009754444639489806,-0.00769303373671638,0.018858413354541116,0.01660441888809276,-0.00573665197743312,-0.00436796361459336,-0.008793584628203035,-0.013874288726299488,0.003932790195899779,-0.0012496654308614683,0.03130201049726336,-0.002079723453249375,-0.00783771320409659,-0.01532934607743777,0.01655258782018195,0.006440965778605982,0.022646361534804905,0.014817580418560409,0.01113615763485538,-0.0019854407581029973,-0.0034840350464323913,0.006295580766840834,0.0011554016305558895,0.0,-0.0176406638138488,0.007693632196412913,-0.0035049689557554685,0.02851449883743001,-0.014897549810256426,0.006084044089671865,-0.011873490415016548,0.0036429912785010087,0.010032153870028458,0.0071743337236383495,-0.000975292665084104,0.0006503007870206233,-0.0014637719129822451,-0.00981362144832451,0.005082394742089153,-0.012837569324846632,-0.013004518049447144,-0.026355346742900514,-0.004662818222812829,0.004835098350726142,0.00034447124005811255,0.00446736138158768,0.018514329268915334,-0.0005050080066927344,0.01868277860646111,-0.01146858743242804,-0.0023430973062965646,0.0,-0.0015091811366177812,0.005021771517483495,-0.007710396897801827,-0.002527168390737728,-0.0042261917352334755,-0.008848109452453318,-0.008065251784157653,0.01623550999899687,-0.009709641055389025,-0.011881327886752788,0.011710138979375905,-0.011883374146547868,0.02936366650383362,0.012871051066852776,-0.0018286099351945543,-0.011883979513393117,-0.004556585387822537,0.005734540930005341,0.004195692988949468,0.008837072932737082,-0.0004981320152816726,0.0004981320152816992,0.004306781545157637,-0.004472797981166071,0.0023217257527050335,0.005451405257117963,0.006077049169590725,0.005714767777632967,0.017271028928313992,-0.04099537062012741,0.0016658341350163117,0.016834858721670398,-0.0006548788708178622,0.01058900502624361,0.009033776551385254,-0.005152160809209194,0.001935172350409965,-0.006951769973646323,-0.018006706858342478,0.00888017675685917,0.0004910385563923954,0.002288330518012216,-0.003926064261075359,0.014159240541104297,0.02126549077934191,0.01942721290098902,-0.002019104514485663,0.005736005185183121,0.0004636426943421377,-0.00962590882361199,-0.0032815093123723573,0.009192243584120918,-0.008879254536182539,-0.0012525443942244488,-0.0032954129469678632,-0.003306308609057857,0.005818083869971389,0.007030729687789676,0.014682282139714432,0.02724139395664292,-0.0014940985896124347,0.02042397470211494,0.0027796082558968907,-0.012051880147609474,0.004131627538851522,-0.0038359445089028257,-0.012344917688186737,0.0014954391900129636,0.001493206190540976,-0.004486324258672971,0.0016473234724874968,0.0008973976073380343,-0.0028445262087385763,-0.005110487599334371,-0.00543972329581821,0.0015140048312150113,0.028780037499328868,-0.0007352400889994219,-0.005605561219051697,-0.002517960302427694,0.015013528987967298,0.01666101560591593,-0.0025895569067336775,-0.01875736564806348,0.012398962723118134,0.0008694392664777153,-0.0023201866556973095,-0.0065545351550688686,-0.017840502667446915,-0.006267741754359625,0.016185667770955616,0.0011776830449910425,-0.0038325518609929007,-0.016529301951210582,-0.0003003453994645281,-0.009507352983555244,0.013554424384628517,0.005668272932993184,0.0068188820395707565,0.0023609277603618252,-0.0005897095851272858,-0.004878419017983121,0.007823495509779739,0.000294031169421978,0.008052162677804798,-0.02092311482543425,0.002379537113265216,-0.018893949359961512,0.001663768061324558,0.023006691473585843,0.01582450604036886,0.008684379373534569,-0.0021640346034491045,-0.002892683532835788,0.022344097724023657,0.007760180036665202,0.0043475280594022486,0.004189365155277146,-0.005029348405001973,-0.007874056430905996,0.0014106364308428781,0.018713016378552084,0.0051059242922642705,0.0012380495425508577,0.014467292047583923,0.004461577062201514,-0.0009447331831616363,0.02216675085565543,-0.001057082550865361,-0.003310603566646206,-0.0027894020875785254,-0.0031974447704907656,-0.03489594448750487,-0.0035991179493682886,-0.004726169486687668,0.005834970709089227,0.012800394994824946,-0.003287674194191861,0.008879233256428119,0.0,0.009609602269814098,-0.008386360527069965,0.0023064931194002815,0.0010835704703710796,-0.0012190993721168937,-0.0038022859497385706,0.007185010236216001,0.009545007602330763,-0.00927488334352998,-0.003381809107380968,-0.014879804944461426,-0.00510170013801341,0.0012433516832829527,-0.0024882512146932713,-0.0036051065113300797,-0.0064102783609189425,0.002792128018050579,-0.0008368201325152779,-0.004755253715881142,0.010043326155584243,0.004569695690065268,-0.0016592924161021058,-0.003326867498765069,-0.008786054706359916,0.03184499568092184,0.01801850550267843,0.006111351557009704,0.00013244156035531091,0.020838182753949563,-0.007289800571727465,-0.014475841672354234,-0.0061162270174359825,0.009688840807449238,0.0018474536793259841,0.003947373546629781,-0.013352039195348032,-0.01636961281239412,0.011433307678395465,0.011965045694606175,-0.012901688567658593,-0.0005356186523338683,0.015417636601750846,-0.004361912936655243,-0.009449727602565714,0.0014699007123079575,0.002533841457032413,-0.008963870309138186],\"xaxis\":\"x6\",\"yaxis\":\"y6\",\"type\":\"histogram\"},{\"histfunc\":\"count\",\"histnorm\":\"\",\"marker\":{\"color\":\"rgba(255, 255, 51, 1.0)\",\"line\":{\"color\":\"#4D5663\",\"width\":1.3}},\"name\":\"BCS\",\"opacity\":0.8,\"orientation\":\"v\",\"x\":[null,0.020026790349874243,-0.005185837032365526,0.0,-0.018365186040038513,0.011408636246678533,0.0017436796048268374,-0.007870613432329579,-0.0008783487609058467,-0.0035211303985789363,-0.011530061215537329,0.000891663010481642,-0.0026773777707165144,0.005347606326595277,0.01849458263616453,0.02158046632303237,-0.0017094021256490257,-0.014649120216231883,-0.029064132943911355,-0.01078177560328825,0.014350022029806307,-0.009843479927915559,0.029244441177812268,-0.013187004281953688,0.0,-0.00265839766661,0.01671838323490862,-0.004372547412609304,0.013925377331600949,0.015437699384582731,0.011844470112522468,0.0,-0.010143789430505161,-0.003404258606801154,-0.002560820861673704,-0.018982450912290005,-0.022017622141068536,-0.0035682464265180116,0.0,0.014197221603577753,-0.015986130846302286,0.014222461958805617,-0.022312393720777157,-0.0036166404701885504,0.015281196235119521,0.002672607381476478,0.0017777782459993572,-0.0044503856274756915,-0.017094433359300183,0.00452694299577705,0.025859666572459666,0.0008798944694392958,-0.015957785438610806,0.008896855837736717,-0.009790910434617528,0.004462301023398686,0.0026678539611924477,0.005314450063492667,0.004407234987407606,-0.008833979710759752,0.011469027348764819,-0.014134510934904806,-0.01253373614725658,-0.021858793812499073,-0.005540180375615245,-0.003710579396535713,-0.0074627212015896,0.0028050509276086816,0.005586606708639776,-0.008391657636248401,-0.01699757636857102,0.01793346787347602,-0.00939856542363869,-0.001890359731168784,0.006600684031352093,-0.007547205635382966,0.05705318944883758,0.015091276200458624,0.009644967359181987,0.004353511447197618,-0.06274459108267433,0.012867824611392764,-0.014719676992466513,0.0009263548601308826,0.008298802814695064,-0.017601195477008717,-0.009389740349839032,0.004705891037412714,0.018605187831034268,-0.02331107886844711,0.0028261912358352663,0.019562803657643568,0.009182800982334982,-0.024052963461786304,0.029522439266321834,0.01264696170076739,0.0,0.0035842332278151067,-0.001790510773788233,-0.013532006218576273,-0.021111385253737586,-0.011194146743152587,0.010266072430598674,0.008321823337492278,-0.0027662534928900736,0.00276625349289011,-0.010180559932117493,0.002786810907179216,-0.014953549667058358,-0.0037735893836393797,-0.015238390104932498,0.012398823596854656,-0.004750602758597865,-0.013423020332140774,0.0038535693159899723,0.01242251999855711,-0.03380331502350742,-0.007889587275162932,-0.017982502550432357,0.012024192966801591,0.013847896858793535,0.019455866615366097,0.014347448408141355,0.010392157767614204,-0.004710324300183353,0.010333581854545398,-0.004683849312426314,0.013059887114609009,-0.00371402469637137,-0.0027945989310158,-0.007490671729157626,0.012144007254798713,0.017487790351572382,-0.0018264845260344098,-0.0036630077587370352,-0.013857034661426241,-0.001862197931064651,0.007428075008509708,-0.014911739495682787,0.010275662578204078,0.013844245111341165,0.011845241003969775,-0.01551833971583119,-0.004610427714782497,-0.008352716775728354,0.01938224035122787,0.0018264845260345028,-0.0036563112031105433,-0.0018331810816609605,0.0009170106098814064,-0.008283526426643987,-0.0037037079374844144,-0.02441435817128727,-0.01725833822928071,-0.0009675859487358597,-0.004852023104528186,0.0009722898189391861,-0.026589454189239498,0.002989538848366207,-0.011005613836602242,-0.0010065426114013946,-0.005047966297304698,0.008064559836730495,0.004008021397538647,-0.006018072325563021,-0.008080852053938672,-0.0030472344554687463,0.004060919286315012,0.007067167223092573,-0.023410738365248995,-0.002061856400558802,-0.007250161225059751,0.021594669481460146,-0.0010178117927006035,0.0310801958942176,-0.002965894413378399,-0.0009905894816961793,0.003956483895074507,0.0,0.003940891799876406,-0.007897375694951032,0.023507448766029643,0.002899953699789811,-0.01654538959670358,-0.00393314174683698,0.007850874475738854,0.01069528911674795,0.000966650631094974,-0.010684900100016267,0.002925404329105136,-0.008802012818090182,-0.014844409148532564,-0.004997511650471399,-0.006030169026591188,0.018972111735598523,-0.0019801986668624536,0.005928871122278874,0.0,-0.011893103513952296,0.003980104756626948,0.007912998757325504,-0.0009857073247591882,0.016626299865831428,-0.0038872740884017677,0.00968999830096898,0.006727560213056759,-0.0996298409488413,0.017829523171963745,0.004149383546811618,0.018462062839735352,-0.015361285161487206,0.002061856400558777,-0.014523076838370728,0.002087683430483895,-0.011536572628416402,-0.004228336109521176,0.0,0.0,-0.00851068966790862,0.015898586067798204,0.007333715425470193,0.01347869032046448,0.005136118121767492,0.02128818354874591,0.003004509020298722,0.003992021269537457,0.003976148379639417,-0.01197619104671565,0.00800004266707615,0.030409405447794916,0.0,-0.008733679968754553,0.011628037995119214,-0.01651324556116843,-0.006879634013537158,0.013712261863981794,0.022126924861840848,0.0056926149932864985,0.00754009227328786,0.011204599012863062,0.0046317822500382706,-0.012087548381381647,0.01485635494951471,0.0,-0.000922083974968425,0.006436803833479268,-0.005514719858510967,-0.0036934483353516095,0.000924641767218463,0.010115028770111747,-0.00274851295334916],\"xaxis\":\"x7\",\"yaxis\":\"y7\",\"type\":\"histogram\"}],                        {\"barmode\":\"overlay\",\"legend\":{\"bgcolor\":\"#F5F6F9\",\"font\":{\"color\":\"#4D5663\"}},\"paper_bgcolor\":\"#F5F6F9\",\"plot_bgcolor\":\"#F5F6F9\",\"template\":{\"data\":{\"barpolar\":[{\"marker\":{\"line\":{\"color\":\"#E5ECF6\",\"width\":0.5},\"pattern\":{\"fillmode\":\"overlay\",\"size\":10,\"solidity\":0.2}},\"type\":\"barpolar\"}],\"bar\":[{\"error_x\":{\"color\":\"#2a3f5f\"},\"error_y\":{\"color\":\"#2a3f5f\"},\"marker\":{\"line\":{\"color\":\"#E5ECF6\",\"width\":0.5},\"pattern\":{\"fillmode\":\"overlay\",\"size\":10,\"solidity\":0.2}},\"type\":\"bar\"}],\"carpet\":[{\"aaxis\":{\"endlinecolor\":\"#2a3f5f\",\"gridcolor\":\"white\",\"linecolor\":\"white\",\"minorgridcolor\":\"white\",\"startlinecolor\":\"#2a3f5f\"},\"baxis\":{\"endlinecolor\":\"#2a3f5f\",\"gridcolor\":\"white\",\"linecolor\":\"white\",\"minorgridcolor\":\"white\",\"startlinecolor\":\"#2a3f5f\"},\"type\":\"carpet\"}],\"choropleth\":[{\"colorbar\":{\"outlinewidth\":0,\"ticks\":\"\"},\"type\":\"choropleth\"}],\"contourcarpet\":[{\"colorbar\":{\"outlinewidth\":0,\"ticks\":\"\"},\"type\":\"contourcarpet\"}],\"contour\":[{\"colorbar\":{\"outlinewidth\":0,\"ticks\":\"\"},\"colorscale\":[[0.0,\"#0d0887\"],[0.1111111111111111,\"#46039f\"],[0.2222222222222222,\"#7201a8\"],[0.3333333333333333,\"#9c179e\"],[0.4444444444444444,\"#bd3786\"],[0.5555555555555556,\"#d8576b\"],[0.6666666666666666,\"#ed7953\"],[0.7777777777777778,\"#fb9f3a\"],[0.8888888888888888,\"#fdca26\"],[1.0,\"#f0f921\"]],\"type\":\"contour\"}],\"heatmapgl\":[{\"colorbar\":{\"outlinewidth\":0,\"ticks\":\"\"},\"colorscale\":[[0.0,\"#0d0887\"],[0.1111111111111111,\"#46039f\"],[0.2222222222222222,\"#7201a8\"],[0.3333333333333333,\"#9c179e\"],[0.4444444444444444,\"#bd3786\"],[0.5555555555555556,\"#d8576b\"],[0.6666666666666666,\"#ed7953\"],[0.7777777777777778,\"#fb9f3a\"],[0.8888888888888888,\"#fdca26\"],[1.0,\"#f0f921\"]],\"type\":\"heatmapgl\"}],\"heatmap\":[{\"colorbar\":{\"outlinewidth\":0,\"ticks\":\"\"},\"colorscale\":[[0.0,\"#0d0887\"],[0.1111111111111111,\"#46039f\"],[0.2222222222222222,\"#7201a8\"],[0.3333333333333333,\"#9c179e\"],[0.4444444444444444,\"#bd3786\"],[0.5555555555555556,\"#d8576b\"],[0.6666666666666666,\"#ed7953\"],[0.7777777777777778,\"#fb9f3a\"],[0.8888888888888888,\"#fdca26\"],[1.0,\"#f0f921\"]],\"type\":\"heatmap\"}],\"histogram2dcontour\":[{\"colorbar\":{\"outlinewidth\":0,\"ticks\":\"\"},\"colorscale\":[[0.0,\"#0d0887\"],[0.1111111111111111,\"#46039f\"],[0.2222222222222222,\"#7201a8\"],[0.3333333333333333,\"#9c179e\"],[0.4444444444444444,\"#bd3786\"],[0.5555555555555556,\"#d8576b\"],[0.6666666666666666,\"#ed7953\"],[0.7777777777777778,\"#fb9f3a\"],[0.8888888888888888,\"#fdca26\"],[1.0,\"#f0f921\"]],\"type\":\"histogram2dcontour\"}],\"histogram2d\":[{\"colorbar\":{\"outlinewidth\":0,\"ticks\":\"\"},\"colorscale\":[[0.0,\"#0d0887\"],[0.1111111111111111,\"#46039f\"],[0.2222222222222222,\"#7201a8\"],[0.3333333333333333,\"#9c179e\"],[0.4444444444444444,\"#bd3786\"],[0.5555555555555556,\"#d8576b\"],[0.6666666666666666,\"#ed7953\"],[0.7777777777777778,\"#fb9f3a\"],[0.8888888888888888,\"#fdca26\"],[1.0,\"#f0f921\"]],\"type\":\"histogram2d\"}],\"histogram\":[{\"marker\":{\"pattern\":{\"fillmode\":\"overlay\",\"size\":10,\"solidity\":0.2}},\"type\":\"histogram\"}],\"mesh3d\":[{\"colorbar\":{\"outlinewidth\":0,\"ticks\":\"\"},\"type\":\"mesh3d\"}],\"parcoords\":[{\"line\":{\"colorbar\":{\"outlinewidth\":0,\"ticks\":\"\"}},\"type\":\"parcoords\"}],\"pie\":[{\"automargin\":true,\"type\":\"pie\"}],\"scatter3d\":[{\"line\":{\"colorbar\":{\"outlinewidth\":0,\"ticks\":\"\"}},\"marker\":{\"colorbar\":{\"outlinewidth\":0,\"ticks\":\"\"}},\"type\":\"scatter3d\"}],\"scattercarpet\":[{\"marker\":{\"colorbar\":{\"outlinewidth\":0,\"ticks\":\"\"}},\"type\":\"scattercarpet\"}],\"scattergeo\":[{\"marker\":{\"colorbar\":{\"outlinewidth\":0,\"ticks\":\"\"}},\"type\":\"scattergeo\"}],\"scattergl\":[{\"marker\":{\"colorbar\":{\"outlinewidth\":0,\"ticks\":\"\"}},\"type\":\"scattergl\"}],\"scattermapbox\":[{\"marker\":{\"colorbar\":{\"outlinewidth\":0,\"ticks\":\"\"}},\"type\":\"scattermapbox\"}],\"scatterpolargl\":[{\"marker\":{\"colorbar\":{\"outlinewidth\":0,\"ticks\":\"\"}},\"type\":\"scatterpolargl\"}],\"scatterpolar\":[{\"marker\":{\"colorbar\":{\"outlinewidth\":0,\"ticks\":\"\"}},\"type\":\"scatterpolar\"}],\"scatter\":[{\"fillpattern\":{\"fillmode\":\"overlay\",\"size\":10,\"solidity\":0.2},\"type\":\"scatter\"}],\"scatterternary\":[{\"marker\":{\"colorbar\":{\"outlinewidth\":0,\"ticks\":\"\"}},\"type\":\"scatterternary\"}],\"surface\":[{\"colorbar\":{\"outlinewidth\":0,\"ticks\":\"\"},\"colorscale\":[[0.0,\"#0d0887\"],[0.1111111111111111,\"#46039f\"],[0.2222222222222222,\"#7201a8\"],[0.3333333333333333,\"#9c179e\"],[0.4444444444444444,\"#bd3786\"],[0.5555555555555556,\"#d8576b\"],[0.6666666666666666,\"#ed7953\"],[0.7777777777777778,\"#fb9f3a\"],[0.8888888888888888,\"#fdca26\"],[1.0,\"#f0f921\"]],\"type\":\"surface\"}],\"table\":[{\"cells\":{\"fill\":{\"color\":\"#EBF0F8\"},\"line\":{\"color\":\"white\"}},\"header\":{\"fill\":{\"color\":\"#C8D4E3\"},\"line\":{\"color\":\"white\"}},\"type\":\"table\"}]},\"layout\":{\"annotationdefaults\":{\"arrowcolor\":\"#2a3f5f\",\"arrowhead\":0,\"arrowwidth\":1},\"autotypenumbers\":\"strict\",\"coloraxis\":{\"colorbar\":{\"outlinewidth\":0,\"ticks\":\"\"}},\"colorscale\":{\"diverging\":[[0,\"#8e0152\"],[0.1,\"#c51b7d\"],[0.2,\"#de77ae\"],[0.3,\"#f1b6da\"],[0.4,\"#fde0ef\"],[0.5,\"#f7f7f7\"],[0.6,\"#e6f5d0\"],[0.7,\"#b8e186\"],[0.8,\"#7fbc41\"],[0.9,\"#4d9221\"],[1,\"#276419\"]],\"sequential\":[[0.0,\"#0d0887\"],[0.1111111111111111,\"#46039f\"],[0.2222222222222222,\"#7201a8\"],[0.3333333333333333,\"#9c179e\"],[0.4444444444444444,\"#bd3786\"],[0.5555555555555556,\"#d8576b\"],[0.6666666666666666,\"#ed7953\"],[0.7777777777777778,\"#fb9f3a\"],[0.8888888888888888,\"#fdca26\"],[1.0,\"#f0f921\"]],\"sequentialminus\":[[0.0,\"#0d0887\"],[0.1111111111111111,\"#46039f\"],[0.2222222222222222,\"#7201a8\"],[0.3333333333333333,\"#9c179e\"],[0.4444444444444444,\"#bd3786\"],[0.5555555555555556,\"#d8576b\"],[0.6666666666666666,\"#ed7953\"],[0.7777777777777778,\"#fb9f3a\"],[0.8888888888888888,\"#fdca26\"],[1.0,\"#f0f921\"]]},\"colorway\":[\"#636efa\",\"#EF553B\",\"#00cc96\",\"#ab63fa\",\"#FFA15A\",\"#19d3f3\",\"#FF6692\",\"#B6E880\",\"#FF97FF\",\"#FECB52\"],\"font\":{\"color\":\"#2a3f5f\"},\"geo\":{\"bgcolor\":\"white\",\"lakecolor\":\"white\",\"landcolor\":\"#E5ECF6\",\"showlakes\":true,\"showland\":true,\"subunitcolor\":\"white\"},\"hoverlabel\":{\"align\":\"left\"},\"hovermode\":\"closest\",\"mapbox\":{\"style\":\"light\"},\"paper_bgcolor\":\"white\",\"plot_bgcolor\":\"#E5ECF6\",\"polar\":{\"angularaxis\":{\"gridcolor\":\"white\",\"linecolor\":\"white\",\"ticks\":\"\"},\"bgcolor\":\"#E5ECF6\",\"radialaxis\":{\"gridcolor\":\"white\",\"linecolor\":\"white\",\"ticks\":\"\"}},\"scene\":{\"xaxis\":{\"backgroundcolor\":\"#E5ECF6\",\"gridcolor\":\"white\",\"gridwidth\":2,\"linecolor\":\"white\",\"showbackground\":true,\"ticks\":\"\",\"zerolinecolor\":\"white\"},\"yaxis\":{\"backgroundcolor\":\"#E5ECF6\",\"gridcolor\":\"white\",\"gridwidth\":2,\"linecolor\":\"white\",\"showbackground\":true,\"ticks\":\"\",\"zerolinecolor\":\"white\"},\"zaxis\":{\"backgroundcolor\":\"#E5ECF6\",\"gridcolor\":\"white\",\"gridwidth\":2,\"linecolor\":\"white\",\"showbackground\":true,\"ticks\":\"\",\"zerolinecolor\":\"white\"}},\"shapedefaults\":{\"line\":{\"color\":\"#2a3f5f\"}},\"ternary\":{\"aaxis\":{\"gridcolor\":\"white\",\"linecolor\":\"white\",\"ticks\":\"\"},\"baxis\":{\"gridcolor\":\"white\",\"linecolor\":\"white\",\"ticks\":\"\"},\"bgcolor\":\"#E5ECF6\",\"caxis\":{\"gridcolor\":\"white\",\"linecolor\":\"white\",\"ticks\":\"\"}},\"title\":{\"x\":0.05},\"xaxis\":{\"automargin\":true,\"gridcolor\":\"white\",\"linecolor\":\"white\",\"ticks\":\"\",\"title\":{\"standoff\":15},\"zerolinecolor\":\"white\",\"zerolinewidth\":2},\"yaxis\":{\"automargin\":true,\"gridcolor\":\"white\",\"linecolor\":\"white\",\"ticks\":\"\",\"title\":{\"standoff\":15},\"zerolinecolor\":\"white\",\"zerolinewidth\":2}}},\"title\":{\"font\":{\"color\":\"#4D5663\"}},\"xaxis\":{\"anchor\":\"y\",\"domain\":[0.0,0.45],\"gridcolor\":\"#E1E5ED\",\"showgrid\":true,\"tickfont\":{\"color\":\"#4D5663\"},\"title\":{\"font\":{\"color\":\"#4D5663\"},\"text\":\"\"},\"zerolinecolor\":\"#E1E5ED\"},\"yaxis\":{\"anchor\":\"x\",\"domain\":[0.80625,1.0],\"gridcolor\":\"#E1E5ED\",\"showgrid\":true,\"tickfont\":{\"color\":\"#4D5663\"},\"title\":{\"font\":{\"color\":\"#4D5663\"},\"text\":\"\"},\"zerolinecolor\":\"#E1E5ED\"},\"xaxis2\":{\"anchor\":\"y2\",\"domain\":[0.55,1.0],\"gridcolor\":\"#E1E5ED\",\"showgrid\":true,\"tickfont\":{\"color\":\"#4D5663\"},\"title\":{\"font\":{\"color\":\"#4D5663\"},\"text\":\"\"},\"zerolinecolor\":\"#E1E5ED\"},\"yaxis2\":{\"anchor\":\"x2\",\"domain\":[0.80625,1.0],\"gridcolor\":\"#E1E5ED\",\"showgrid\":true,\"tickfont\":{\"color\":\"#4D5663\"},\"title\":{\"font\":{\"color\":\"#4D5663\"},\"text\":\"\"},\"zerolinecolor\":\"#E1E5ED\"},\"xaxis3\":{\"anchor\":\"y3\",\"domain\":[0.0,0.45],\"gridcolor\":\"#E1E5ED\",\"showgrid\":true,\"tickfont\":{\"color\":\"#4D5663\"},\"title\":{\"font\":{\"color\":\"#4D5663\"},\"text\":\"\"},\"zerolinecolor\":\"#E1E5ED\"},\"yaxis3\":{\"anchor\":\"x3\",\"domain\":[0.5375,0.73125],\"gridcolor\":\"#E1E5ED\",\"showgrid\":true,\"tickfont\":{\"color\":\"#4D5663\"},\"title\":{\"font\":{\"color\":\"#4D5663\"},\"text\":\"\"},\"zerolinecolor\":\"#E1E5ED\"},\"xaxis4\":{\"anchor\":\"y4\",\"domain\":[0.55,1.0],\"gridcolor\":\"#E1E5ED\",\"showgrid\":true,\"tickfont\":{\"color\":\"#4D5663\"},\"title\":{\"font\":{\"color\":\"#4D5663\"},\"text\":\"\"},\"zerolinecolor\":\"#E1E5ED\"},\"yaxis4\":{\"anchor\":\"x4\",\"domain\":[0.5375,0.73125],\"gridcolor\":\"#E1E5ED\",\"showgrid\":true,\"tickfont\":{\"color\":\"#4D5663\"},\"title\":{\"font\":{\"color\":\"#4D5663\"},\"text\":\"\"},\"zerolinecolor\":\"#E1E5ED\"},\"xaxis5\":{\"anchor\":\"y5\",\"domain\":[0.0,0.45],\"gridcolor\":\"#E1E5ED\",\"showgrid\":true,\"tickfont\":{\"color\":\"#4D5663\"},\"title\":{\"font\":{\"color\":\"#4D5663\"},\"text\":\"\"},\"zerolinecolor\":\"#E1E5ED\"},\"yaxis5\":{\"anchor\":\"x5\",\"domain\":[0.26875,0.4625],\"gridcolor\":\"#E1E5ED\",\"showgrid\":true,\"tickfont\":{\"color\":\"#4D5663\"},\"title\":{\"font\":{\"color\":\"#4D5663\"},\"text\":\"\"},\"zerolinecolor\":\"#E1E5ED\"},\"xaxis6\":{\"anchor\":\"y6\",\"domain\":[0.55,1.0],\"gridcolor\":\"#E1E5ED\",\"showgrid\":true,\"tickfont\":{\"color\":\"#4D5663\"},\"title\":{\"font\":{\"color\":\"#4D5663\"},\"text\":\"\"},\"zerolinecolor\":\"#E1E5ED\"},\"yaxis6\":{\"anchor\":\"x6\",\"domain\":[0.26875,0.4625],\"gridcolor\":\"#E1E5ED\",\"showgrid\":true,\"tickfont\":{\"color\":\"#4D5663\"},\"title\":{\"font\":{\"color\":\"#4D5663\"},\"text\":\"\"},\"zerolinecolor\":\"#E1E5ED\"},\"xaxis7\":{\"anchor\":\"y7\",\"domain\":[0.0,0.45],\"gridcolor\":\"#E1E5ED\",\"showgrid\":true,\"tickfont\":{\"color\":\"#4D5663\"},\"title\":{\"font\":{\"color\":\"#4D5663\"},\"text\":\"\"},\"zerolinecolor\":\"#E1E5ED\"},\"yaxis7\":{\"anchor\":\"x7\",\"domain\":[0.0,0.19375],\"gridcolor\":\"#E1E5ED\",\"showgrid\":true,\"tickfont\":{\"color\":\"#4D5663\"},\"title\":{\"font\":{\"color\":\"#4D5663\"},\"text\":\"\"},\"zerolinecolor\":\"#E1E5ED\"}},                        {\"showLink\": true, \"linkText\": \"Export to plot.ly\", \"plotlyServerURL\": \"https://plot.ly\", \"responsive\": true}                    ).then(function(){\n",
       "                            \n",
       "var gd = document.getElementById('56c8b652-bb29-49b7-a9ca-1bb8c36e5e0d');\n",
       "var x = new MutationObserver(function (mutations, observer) {{\n",
       "        var display = window.getComputedStyle(gd).display;\n",
       "        if (!display || display === 'none') {{\n",
       "            console.log([gd, 'removed!']);\n",
       "            Plotly.purge(gd);\n",
       "            observer.disconnect();\n",
       "        }}\n",
       "}});\n",
       "\n",
       "// Listen for the removal of the full notebook cells\n",
       "var notebookContainer = gd.closest('#notebook-container');\n",
       "if (notebookContainer) {{\n",
       "    x.observe(notebookContainer, {childList: true});\n",
       "}}\n",
       "\n",
       "// Listen for the clearing of the current output cell\n",
       "var outputEl = gd.closest('.output');\n",
       "if (outputEl) {{\n",
       "    x.observe(outputEl, {childList: true});\n",
       "}}\n",
       "\n",
       "                        })                };                });            </script>        </div>"
      ]
     },
     "metadata": {},
     "output_type": "display_data"
    }
   ],
   "source": [
    "rets.iplot(kind='histogram', subplots=True)"
   ]
  },
  {
   "cell_type": "markdown",
   "metadata": {},
   "source": [
    "The **heatmap** below visualizes the correlations between the financial time series."
   ]
  },
  {
   "cell_type": "code",
   "execution_count": 21,
   "metadata": {},
   "outputs": [
    {
     "data": {
      "application/vnd.plotly.v1+json": {
       "config": {
        "linkText": "Export to plot.ly",
        "plotlyServerURL": "https://plot.ly",
        "showLink": true
       },
       "data": [
        {
         "colorscale": [
          [
           0,
           "rgb(247,251,255)"
          ],
          [
           0.125,
           "rgb(222,235,247)"
          ],
          [
           0.25,
           "rgb(198,219,239)"
          ],
          [
           0.375,
           "rgb(158,202,225)"
          ],
          [
           0.5,
           "rgb(107,174,214)"
          ],
          [
           0.625,
           "rgb(66,146,198)"
          ],
          [
           0.75,
           "rgb(33,113,181)"
          ],
          [
           0.875,
           "rgb(8,81,156)"
          ],
          [
           1,
           "rgb(8,48,107)"
          ]
         ],
         "type": "heatmap",
         "x": [
          "JPM",
          "BAC",
          "WFC",
          "MS",
          "GS",
          "C",
          "BCS"
         ],
         "y": [
          "JPM",
          "BAC",
          "WFC",
          "MS",
          "GS",
          "C",
          "BCS"
         ],
         "z": [
          [
           1,
           0.9756046084774364,
           0.501026836906205,
           0.9680183430331969,
           0.6533947931478209,
           0.8910025682556104,
           -0.4310254184276431
          ],
          [
           0.9756046084774364,
           1,
           0.5882588863275957,
           0.9441509853345134,
           0.7055223542924298,
           0.8240346988168992,
           -0.35744137522520963
          ],
          [
           0.501026836906205,
           0.5882588863275957,
           1,
           0.476120203514186,
           0.840335628014383,
           0.1264739325350996,
           0.4229483972285432
          ],
          [
           0.9680183430331969,
           0.9441509853345134,
           0.476120203514186,
           1,
           0.659817891063306,
           0.8951043323804948,
           -0.4178478580696788
          ],
          [
           0.6533947931478209,
           0.7055223542924298,
           0.840335628014383,
           0.659817891063306,
           1,
           0.34307217522957995,
           0.1717607037419705
          ],
          [
           0.8910025682556104,
           0.8240346988168992,
           0.1264739325350996,
           0.8951043323804948,
           0.34307217522957995,
           1,
           -0.6807394524153598
          ],
          [
           -0.4310254184276431,
           -0.35744137522520963,
           0.4229483972285432,
           -0.4178478580696788,
           0.1717607037419705,
           -0.6807394524153598,
           1
          ]
         ],
         "zmax": 1,
         "zmin": -0.6807394524153598
        }
       ],
       "layout": {
        "legend": {
         "bgcolor": "#F5F6F9",
         "font": {
          "color": "#4D5663"
         }
        },
        "paper_bgcolor": "#F5F6F9",
        "plot_bgcolor": "#F5F6F9",
        "template": {
         "data": {
          "bar": [
           {
            "error_x": {
             "color": "#2a3f5f"
            },
            "error_y": {
             "color": "#2a3f5f"
            },
            "marker": {
             "line": {
              "color": "#E5ECF6",
              "width": 0.5
             },
             "pattern": {
              "fillmode": "overlay",
              "size": 10,
              "solidity": 0.2
             }
            },
            "type": "bar"
           }
          ],
          "barpolar": [
           {
            "marker": {
             "line": {
              "color": "#E5ECF6",
              "width": 0.5
             },
             "pattern": {
              "fillmode": "overlay",
              "size": 10,
              "solidity": 0.2
             }
            },
            "type": "barpolar"
           }
          ],
          "carpet": [
           {
            "aaxis": {
             "endlinecolor": "#2a3f5f",
             "gridcolor": "white",
             "linecolor": "white",
             "minorgridcolor": "white",
             "startlinecolor": "#2a3f5f"
            },
            "baxis": {
             "endlinecolor": "#2a3f5f",
             "gridcolor": "white",
             "linecolor": "white",
             "minorgridcolor": "white",
             "startlinecolor": "#2a3f5f"
            },
            "type": "carpet"
           }
          ],
          "choropleth": [
           {
            "colorbar": {
             "outlinewidth": 0,
             "ticks": ""
            },
            "type": "choropleth"
           }
          ],
          "contour": [
           {
            "colorbar": {
             "outlinewidth": 0,
             "ticks": ""
            },
            "colorscale": [
             [
              0,
              "#0d0887"
             ],
             [
              0.1111111111111111,
              "#46039f"
             ],
             [
              0.2222222222222222,
              "#7201a8"
             ],
             [
              0.3333333333333333,
              "#9c179e"
             ],
             [
              0.4444444444444444,
              "#bd3786"
             ],
             [
              0.5555555555555556,
              "#d8576b"
             ],
             [
              0.6666666666666666,
              "#ed7953"
             ],
             [
              0.7777777777777778,
              "#fb9f3a"
             ],
             [
              0.8888888888888888,
              "#fdca26"
             ],
             [
              1,
              "#f0f921"
             ]
            ],
            "type": "contour"
           }
          ],
          "contourcarpet": [
           {
            "colorbar": {
             "outlinewidth": 0,
             "ticks": ""
            },
            "type": "contourcarpet"
           }
          ],
          "heatmap": [
           {
            "colorbar": {
             "outlinewidth": 0,
             "ticks": ""
            },
            "colorscale": [
             [
              0,
              "#0d0887"
             ],
             [
              0.1111111111111111,
              "#46039f"
             ],
             [
              0.2222222222222222,
              "#7201a8"
             ],
             [
              0.3333333333333333,
              "#9c179e"
             ],
             [
              0.4444444444444444,
              "#bd3786"
             ],
             [
              0.5555555555555556,
              "#d8576b"
             ],
             [
              0.6666666666666666,
              "#ed7953"
             ],
             [
              0.7777777777777778,
              "#fb9f3a"
             ],
             [
              0.8888888888888888,
              "#fdca26"
             ],
             [
              1,
              "#f0f921"
             ]
            ],
            "type": "heatmap"
           }
          ],
          "heatmapgl": [
           {
            "colorbar": {
             "outlinewidth": 0,
             "ticks": ""
            },
            "colorscale": [
             [
              0,
              "#0d0887"
             ],
             [
              0.1111111111111111,
              "#46039f"
             ],
             [
              0.2222222222222222,
              "#7201a8"
             ],
             [
              0.3333333333333333,
              "#9c179e"
             ],
             [
              0.4444444444444444,
              "#bd3786"
             ],
             [
              0.5555555555555556,
              "#d8576b"
             ],
             [
              0.6666666666666666,
              "#ed7953"
             ],
             [
              0.7777777777777778,
              "#fb9f3a"
             ],
             [
              0.8888888888888888,
              "#fdca26"
             ],
             [
              1,
              "#f0f921"
             ]
            ],
            "type": "heatmapgl"
           }
          ],
          "histogram": [
           {
            "marker": {
             "pattern": {
              "fillmode": "overlay",
              "size": 10,
              "solidity": 0.2
             }
            },
            "type": "histogram"
           }
          ],
          "histogram2d": [
           {
            "colorbar": {
             "outlinewidth": 0,
             "ticks": ""
            },
            "colorscale": [
             [
              0,
              "#0d0887"
             ],
             [
              0.1111111111111111,
              "#46039f"
             ],
             [
              0.2222222222222222,
              "#7201a8"
             ],
             [
              0.3333333333333333,
              "#9c179e"
             ],
             [
              0.4444444444444444,
              "#bd3786"
             ],
             [
              0.5555555555555556,
              "#d8576b"
             ],
             [
              0.6666666666666666,
              "#ed7953"
             ],
             [
              0.7777777777777778,
              "#fb9f3a"
             ],
             [
              0.8888888888888888,
              "#fdca26"
             ],
             [
              1,
              "#f0f921"
             ]
            ],
            "type": "histogram2d"
           }
          ],
          "histogram2dcontour": [
           {
            "colorbar": {
             "outlinewidth": 0,
             "ticks": ""
            },
            "colorscale": [
             [
              0,
              "#0d0887"
             ],
             [
              0.1111111111111111,
              "#46039f"
             ],
             [
              0.2222222222222222,
              "#7201a8"
             ],
             [
              0.3333333333333333,
              "#9c179e"
             ],
             [
              0.4444444444444444,
              "#bd3786"
             ],
             [
              0.5555555555555556,
              "#d8576b"
             ],
             [
              0.6666666666666666,
              "#ed7953"
             ],
             [
              0.7777777777777778,
              "#fb9f3a"
             ],
             [
              0.8888888888888888,
              "#fdca26"
             ],
             [
              1,
              "#f0f921"
             ]
            ],
            "type": "histogram2dcontour"
           }
          ],
          "mesh3d": [
           {
            "colorbar": {
             "outlinewidth": 0,
             "ticks": ""
            },
            "type": "mesh3d"
           }
          ],
          "parcoords": [
           {
            "line": {
             "colorbar": {
              "outlinewidth": 0,
              "ticks": ""
             }
            },
            "type": "parcoords"
           }
          ],
          "pie": [
           {
            "automargin": true,
            "type": "pie"
           }
          ],
          "scatter": [
           {
            "fillpattern": {
             "fillmode": "overlay",
             "size": 10,
             "solidity": 0.2
            },
            "type": "scatter"
           }
          ],
          "scatter3d": [
           {
            "line": {
             "colorbar": {
              "outlinewidth": 0,
              "ticks": ""
             }
            },
            "marker": {
             "colorbar": {
              "outlinewidth": 0,
              "ticks": ""
             }
            },
            "type": "scatter3d"
           }
          ],
          "scattercarpet": [
           {
            "marker": {
             "colorbar": {
              "outlinewidth": 0,
              "ticks": ""
             }
            },
            "type": "scattercarpet"
           }
          ],
          "scattergeo": [
           {
            "marker": {
             "colorbar": {
              "outlinewidth": 0,
              "ticks": ""
             }
            },
            "type": "scattergeo"
           }
          ],
          "scattergl": [
           {
            "marker": {
             "colorbar": {
              "outlinewidth": 0,
              "ticks": ""
             }
            },
            "type": "scattergl"
           }
          ],
          "scattermapbox": [
           {
            "marker": {
             "colorbar": {
              "outlinewidth": 0,
              "ticks": ""
             }
            },
            "type": "scattermapbox"
           }
          ],
          "scatterpolar": [
           {
            "marker": {
             "colorbar": {
              "outlinewidth": 0,
              "ticks": ""
             }
            },
            "type": "scatterpolar"
           }
          ],
          "scatterpolargl": [
           {
            "marker": {
             "colorbar": {
              "outlinewidth": 0,
              "ticks": ""
             }
            },
            "type": "scatterpolargl"
           }
          ],
          "scatterternary": [
           {
            "marker": {
             "colorbar": {
              "outlinewidth": 0,
              "ticks": ""
             }
            },
            "type": "scatterternary"
           }
          ],
          "surface": [
           {
            "colorbar": {
             "outlinewidth": 0,
             "ticks": ""
            },
            "colorscale": [
             [
              0,
              "#0d0887"
             ],
             [
              0.1111111111111111,
              "#46039f"
             ],
             [
              0.2222222222222222,
              "#7201a8"
             ],
             [
              0.3333333333333333,
              "#9c179e"
             ],
             [
              0.4444444444444444,
              "#bd3786"
             ],
             [
              0.5555555555555556,
              "#d8576b"
             ],
             [
              0.6666666666666666,
              "#ed7953"
             ],
             [
              0.7777777777777778,
              "#fb9f3a"
             ],
             [
              0.8888888888888888,
              "#fdca26"
             ],
             [
              1,
              "#f0f921"
             ]
            ],
            "type": "surface"
           }
          ],
          "table": [
           {
            "cells": {
             "fill": {
              "color": "#EBF0F8"
             },
             "line": {
              "color": "white"
             }
            },
            "header": {
             "fill": {
              "color": "#C8D4E3"
             },
             "line": {
              "color": "white"
             }
            },
            "type": "table"
           }
          ]
         },
         "layout": {
          "annotationdefaults": {
           "arrowcolor": "#2a3f5f",
           "arrowhead": 0,
           "arrowwidth": 1
          },
          "autotypenumbers": "strict",
          "coloraxis": {
           "colorbar": {
            "outlinewidth": 0,
            "ticks": ""
           }
          },
          "colorscale": {
           "diverging": [
            [
             0,
             "#8e0152"
            ],
            [
             0.1,
             "#c51b7d"
            ],
            [
             0.2,
             "#de77ae"
            ],
            [
             0.3,
             "#f1b6da"
            ],
            [
             0.4,
             "#fde0ef"
            ],
            [
             0.5,
             "#f7f7f7"
            ],
            [
             0.6,
             "#e6f5d0"
            ],
            [
             0.7,
             "#b8e186"
            ],
            [
             0.8,
             "#7fbc41"
            ],
            [
             0.9,
             "#4d9221"
            ],
            [
             1,
             "#276419"
            ]
           ],
           "sequential": [
            [
             0,
             "#0d0887"
            ],
            [
             0.1111111111111111,
             "#46039f"
            ],
            [
             0.2222222222222222,
             "#7201a8"
            ],
            [
             0.3333333333333333,
             "#9c179e"
            ],
            [
             0.4444444444444444,
             "#bd3786"
            ],
            [
             0.5555555555555556,
             "#d8576b"
            ],
            [
             0.6666666666666666,
             "#ed7953"
            ],
            [
             0.7777777777777778,
             "#fb9f3a"
            ],
            [
             0.8888888888888888,
             "#fdca26"
            ],
            [
             1,
             "#f0f921"
            ]
           ],
           "sequentialminus": [
            [
             0,
             "#0d0887"
            ],
            [
             0.1111111111111111,
             "#46039f"
            ],
            [
             0.2222222222222222,
             "#7201a8"
            ],
            [
             0.3333333333333333,
             "#9c179e"
            ],
            [
             0.4444444444444444,
             "#bd3786"
            ],
            [
             0.5555555555555556,
             "#d8576b"
            ],
            [
             0.6666666666666666,
             "#ed7953"
            ],
            [
             0.7777777777777778,
             "#fb9f3a"
            ],
            [
             0.8888888888888888,
             "#fdca26"
            ],
            [
             1,
             "#f0f921"
            ]
           ]
          },
          "colorway": [
           "#636efa",
           "#EF553B",
           "#00cc96",
           "#ab63fa",
           "#FFA15A",
           "#19d3f3",
           "#FF6692",
           "#B6E880",
           "#FF97FF",
           "#FECB52"
          ],
          "font": {
           "color": "#2a3f5f"
          },
          "geo": {
           "bgcolor": "white",
           "lakecolor": "white",
           "landcolor": "#E5ECF6",
           "showlakes": true,
           "showland": true,
           "subunitcolor": "white"
          },
          "hoverlabel": {
           "align": "left"
          },
          "hovermode": "closest",
          "mapbox": {
           "style": "light"
          },
          "paper_bgcolor": "white",
          "plot_bgcolor": "#E5ECF6",
          "polar": {
           "angularaxis": {
            "gridcolor": "white",
            "linecolor": "white",
            "ticks": ""
           },
           "bgcolor": "#E5ECF6",
           "radialaxis": {
            "gridcolor": "white",
            "linecolor": "white",
            "ticks": ""
           }
          },
          "scene": {
           "xaxis": {
            "backgroundcolor": "#E5ECF6",
            "gridcolor": "white",
            "gridwidth": 2,
            "linecolor": "white",
            "showbackground": true,
            "ticks": "",
            "zerolinecolor": "white"
           },
           "yaxis": {
            "backgroundcolor": "#E5ECF6",
            "gridcolor": "white",
            "gridwidth": 2,
            "linecolor": "white",
            "showbackground": true,
            "ticks": "",
            "zerolinecolor": "white"
           },
           "zaxis": {
            "backgroundcolor": "#E5ECF6",
            "gridcolor": "white",
            "gridwidth": 2,
            "linecolor": "white",
            "showbackground": true,
            "ticks": "",
            "zerolinecolor": "white"
           }
          },
          "shapedefaults": {
           "line": {
            "color": "#2a3f5f"
           }
          },
          "ternary": {
           "aaxis": {
            "gridcolor": "white",
            "linecolor": "white",
            "ticks": ""
           },
           "baxis": {
            "gridcolor": "white",
            "linecolor": "white",
            "ticks": ""
           },
           "bgcolor": "#E5ECF6",
           "caxis": {
            "gridcolor": "white",
            "linecolor": "white",
            "ticks": ""
           }
          },
          "title": {
           "x": 0.05
          },
          "xaxis": {
           "automargin": true,
           "gridcolor": "white",
           "linecolor": "white",
           "ticks": "",
           "title": {
            "standoff": 15
           },
           "zerolinecolor": "white",
           "zerolinewidth": 2
          },
          "yaxis": {
           "automargin": true,
           "gridcolor": "white",
           "linecolor": "white",
           "ticks": "",
           "title": {
            "standoff": 15
           },
           "zerolinecolor": "white",
           "zerolinewidth": 2
          }
         }
        },
        "title": {
         "font": {
          "color": "#4D5663"
         }
        },
        "xaxis": {
         "gridcolor": "#E1E5ED",
         "showgrid": true,
         "tickfont": {
          "color": "#4D5663"
         },
         "title": {
          "font": {
           "color": "#4D5663"
          },
          "text": ""
         },
         "zerolinecolor": "#E1E5ED"
        },
        "yaxis": {
         "gridcolor": "#E1E5ED",
         "showgrid": true,
         "tickfont": {
          "color": "#4D5663"
         },
         "title": {
          "font": {
           "color": "#4D5663"
          },
          "text": ""
         },
         "zerolinecolor": "#E1E5ED"
        }
       }
      },
      "text/html": [
       "<div>                            <div id=\"61a86086-05a0-45f3-8daa-d085f6d5c3fb\" class=\"plotly-graph-div\" style=\"height:525px; width:100%;\"></div>            <script type=\"text/javascript\">                require([\"plotly\"], function(Plotly) {                    window.PLOTLYENV=window.PLOTLYENV || {};\n",
       "                    window.PLOTLYENV.BASE_URL='https://plot.ly';                                    if (document.getElementById(\"61a86086-05a0-45f3-8daa-d085f6d5c3fb\")) {                    Plotly.newPlot(                        \"61a86086-05a0-45f3-8daa-d085f6d5c3fb\",                        [{\"colorscale\":[[0.0,\"rgb(247,251,255)\"],[0.125,\"rgb(222,235,247)\"],[0.25,\"rgb(198,219,239)\"],[0.375,\"rgb(158,202,225)\"],[0.5,\"rgb(107,174,214)\"],[0.625,\"rgb(66,146,198)\"],[0.75,\"rgb(33,113,181)\"],[0.875,\"rgb(8,81,156)\"],[1.0,\"rgb(8,48,107)\"]],\"x\":[\"JPM\",\"BAC\",\"WFC\",\"MS\",\"GS\",\"C\",\"BCS\"],\"y\":[\"JPM\",\"BAC\",\"WFC\",\"MS\",\"GS\",\"C\",\"BCS\"],\"z\":[[1.0,0.9756046084774364,0.501026836906205,0.9680183430331969,0.6533947931478209,0.8910025682556104,-0.4310254184276431],[0.9756046084774364,1.0,0.5882588863275957,0.9441509853345134,0.7055223542924298,0.8240346988168992,-0.35744137522520963],[0.501026836906205,0.5882588863275957,1.0,0.476120203514186,0.840335628014383,0.1264739325350996,0.4229483972285432],[0.9680183430331969,0.9441509853345134,0.476120203514186,1.0,0.659817891063306,0.8951043323804948,-0.4178478580696788],[0.6533947931478209,0.7055223542924298,0.840335628014383,0.659817891063306,1.0,0.34307217522957995,0.1717607037419705],[0.8910025682556104,0.8240346988168992,0.1264739325350996,0.8951043323804948,0.34307217522957995,1.0,-0.6807394524153598],[-0.4310254184276431,-0.35744137522520963,0.4229483972285432,-0.4178478580696788,0.1717607037419705,-0.6807394524153598,1.0]],\"zmax\":1.0,\"zmin\":-0.6807394524153598,\"type\":\"heatmap\"}],                        {\"legend\":{\"bgcolor\":\"#F5F6F9\",\"font\":{\"color\":\"#4D5663\"}},\"paper_bgcolor\":\"#F5F6F9\",\"plot_bgcolor\":\"#F5F6F9\",\"template\":{\"data\":{\"barpolar\":[{\"marker\":{\"line\":{\"color\":\"#E5ECF6\",\"width\":0.5},\"pattern\":{\"fillmode\":\"overlay\",\"size\":10,\"solidity\":0.2}},\"type\":\"barpolar\"}],\"bar\":[{\"error_x\":{\"color\":\"#2a3f5f\"},\"error_y\":{\"color\":\"#2a3f5f\"},\"marker\":{\"line\":{\"color\":\"#E5ECF6\",\"width\":0.5},\"pattern\":{\"fillmode\":\"overlay\",\"size\":10,\"solidity\":0.2}},\"type\":\"bar\"}],\"carpet\":[{\"aaxis\":{\"endlinecolor\":\"#2a3f5f\",\"gridcolor\":\"white\",\"linecolor\":\"white\",\"minorgridcolor\":\"white\",\"startlinecolor\":\"#2a3f5f\"},\"baxis\":{\"endlinecolor\":\"#2a3f5f\",\"gridcolor\":\"white\",\"linecolor\":\"white\",\"minorgridcolor\":\"white\",\"startlinecolor\":\"#2a3f5f\"},\"type\":\"carpet\"}],\"choropleth\":[{\"colorbar\":{\"outlinewidth\":0,\"ticks\":\"\"},\"type\":\"choropleth\"}],\"contourcarpet\":[{\"colorbar\":{\"outlinewidth\":0,\"ticks\":\"\"},\"type\":\"contourcarpet\"}],\"contour\":[{\"colorbar\":{\"outlinewidth\":0,\"ticks\":\"\"},\"colorscale\":[[0.0,\"#0d0887\"],[0.1111111111111111,\"#46039f\"],[0.2222222222222222,\"#7201a8\"],[0.3333333333333333,\"#9c179e\"],[0.4444444444444444,\"#bd3786\"],[0.5555555555555556,\"#d8576b\"],[0.6666666666666666,\"#ed7953\"],[0.7777777777777778,\"#fb9f3a\"],[0.8888888888888888,\"#fdca26\"],[1.0,\"#f0f921\"]],\"type\":\"contour\"}],\"heatmapgl\":[{\"colorbar\":{\"outlinewidth\":0,\"ticks\":\"\"},\"colorscale\":[[0.0,\"#0d0887\"],[0.1111111111111111,\"#46039f\"],[0.2222222222222222,\"#7201a8\"],[0.3333333333333333,\"#9c179e\"],[0.4444444444444444,\"#bd3786\"],[0.5555555555555556,\"#d8576b\"],[0.6666666666666666,\"#ed7953\"],[0.7777777777777778,\"#fb9f3a\"],[0.8888888888888888,\"#fdca26\"],[1.0,\"#f0f921\"]],\"type\":\"heatmapgl\"}],\"heatmap\":[{\"colorbar\":{\"outlinewidth\":0,\"ticks\":\"\"},\"colorscale\":[[0.0,\"#0d0887\"],[0.1111111111111111,\"#46039f\"],[0.2222222222222222,\"#7201a8\"],[0.3333333333333333,\"#9c179e\"],[0.4444444444444444,\"#bd3786\"],[0.5555555555555556,\"#d8576b\"],[0.6666666666666666,\"#ed7953\"],[0.7777777777777778,\"#fb9f3a\"],[0.8888888888888888,\"#fdca26\"],[1.0,\"#f0f921\"]],\"type\":\"heatmap\"}],\"histogram2dcontour\":[{\"colorbar\":{\"outlinewidth\":0,\"ticks\":\"\"},\"colorscale\":[[0.0,\"#0d0887\"],[0.1111111111111111,\"#46039f\"],[0.2222222222222222,\"#7201a8\"],[0.3333333333333333,\"#9c179e\"],[0.4444444444444444,\"#bd3786\"],[0.5555555555555556,\"#d8576b\"],[0.6666666666666666,\"#ed7953\"],[0.7777777777777778,\"#fb9f3a\"],[0.8888888888888888,\"#fdca26\"],[1.0,\"#f0f921\"]],\"type\":\"histogram2dcontour\"}],\"histogram2d\":[{\"colorbar\":{\"outlinewidth\":0,\"ticks\":\"\"},\"colorscale\":[[0.0,\"#0d0887\"],[0.1111111111111111,\"#46039f\"],[0.2222222222222222,\"#7201a8\"],[0.3333333333333333,\"#9c179e\"],[0.4444444444444444,\"#bd3786\"],[0.5555555555555556,\"#d8576b\"],[0.6666666666666666,\"#ed7953\"],[0.7777777777777778,\"#fb9f3a\"],[0.8888888888888888,\"#fdca26\"],[1.0,\"#f0f921\"]],\"type\":\"histogram2d\"}],\"histogram\":[{\"marker\":{\"pattern\":{\"fillmode\":\"overlay\",\"size\":10,\"solidity\":0.2}},\"type\":\"histogram\"}],\"mesh3d\":[{\"colorbar\":{\"outlinewidth\":0,\"ticks\":\"\"},\"type\":\"mesh3d\"}],\"parcoords\":[{\"line\":{\"colorbar\":{\"outlinewidth\":0,\"ticks\":\"\"}},\"type\":\"parcoords\"}],\"pie\":[{\"automargin\":true,\"type\":\"pie\"}],\"scatter3d\":[{\"line\":{\"colorbar\":{\"outlinewidth\":0,\"ticks\":\"\"}},\"marker\":{\"colorbar\":{\"outlinewidth\":0,\"ticks\":\"\"}},\"type\":\"scatter3d\"}],\"scattercarpet\":[{\"marker\":{\"colorbar\":{\"outlinewidth\":0,\"ticks\":\"\"}},\"type\":\"scattercarpet\"}],\"scattergeo\":[{\"marker\":{\"colorbar\":{\"outlinewidth\":0,\"ticks\":\"\"}},\"type\":\"scattergeo\"}],\"scattergl\":[{\"marker\":{\"colorbar\":{\"outlinewidth\":0,\"ticks\":\"\"}},\"type\":\"scattergl\"}],\"scattermapbox\":[{\"marker\":{\"colorbar\":{\"outlinewidth\":0,\"ticks\":\"\"}},\"type\":\"scattermapbox\"}],\"scatterpolargl\":[{\"marker\":{\"colorbar\":{\"outlinewidth\":0,\"ticks\":\"\"}},\"type\":\"scatterpolargl\"}],\"scatterpolar\":[{\"marker\":{\"colorbar\":{\"outlinewidth\":0,\"ticks\":\"\"}},\"type\":\"scatterpolar\"}],\"scatter\":[{\"fillpattern\":{\"fillmode\":\"overlay\",\"size\":10,\"solidity\":0.2},\"type\":\"scatter\"}],\"scatterternary\":[{\"marker\":{\"colorbar\":{\"outlinewidth\":0,\"ticks\":\"\"}},\"type\":\"scatterternary\"}],\"surface\":[{\"colorbar\":{\"outlinewidth\":0,\"ticks\":\"\"},\"colorscale\":[[0.0,\"#0d0887\"],[0.1111111111111111,\"#46039f\"],[0.2222222222222222,\"#7201a8\"],[0.3333333333333333,\"#9c179e\"],[0.4444444444444444,\"#bd3786\"],[0.5555555555555556,\"#d8576b\"],[0.6666666666666666,\"#ed7953\"],[0.7777777777777778,\"#fb9f3a\"],[0.8888888888888888,\"#fdca26\"],[1.0,\"#f0f921\"]],\"type\":\"surface\"}],\"table\":[{\"cells\":{\"fill\":{\"color\":\"#EBF0F8\"},\"line\":{\"color\":\"white\"}},\"header\":{\"fill\":{\"color\":\"#C8D4E3\"},\"line\":{\"color\":\"white\"}},\"type\":\"table\"}]},\"layout\":{\"annotationdefaults\":{\"arrowcolor\":\"#2a3f5f\",\"arrowhead\":0,\"arrowwidth\":1},\"autotypenumbers\":\"strict\",\"coloraxis\":{\"colorbar\":{\"outlinewidth\":0,\"ticks\":\"\"}},\"colorscale\":{\"diverging\":[[0,\"#8e0152\"],[0.1,\"#c51b7d\"],[0.2,\"#de77ae\"],[0.3,\"#f1b6da\"],[0.4,\"#fde0ef\"],[0.5,\"#f7f7f7\"],[0.6,\"#e6f5d0\"],[0.7,\"#b8e186\"],[0.8,\"#7fbc41\"],[0.9,\"#4d9221\"],[1,\"#276419\"]],\"sequential\":[[0.0,\"#0d0887\"],[0.1111111111111111,\"#46039f\"],[0.2222222222222222,\"#7201a8\"],[0.3333333333333333,\"#9c179e\"],[0.4444444444444444,\"#bd3786\"],[0.5555555555555556,\"#d8576b\"],[0.6666666666666666,\"#ed7953\"],[0.7777777777777778,\"#fb9f3a\"],[0.8888888888888888,\"#fdca26\"],[1.0,\"#f0f921\"]],\"sequentialminus\":[[0.0,\"#0d0887\"],[0.1111111111111111,\"#46039f\"],[0.2222222222222222,\"#7201a8\"],[0.3333333333333333,\"#9c179e\"],[0.4444444444444444,\"#bd3786\"],[0.5555555555555556,\"#d8576b\"],[0.6666666666666666,\"#ed7953\"],[0.7777777777777778,\"#fb9f3a\"],[0.8888888888888888,\"#fdca26\"],[1.0,\"#f0f921\"]]},\"colorway\":[\"#636efa\",\"#EF553B\",\"#00cc96\",\"#ab63fa\",\"#FFA15A\",\"#19d3f3\",\"#FF6692\",\"#B6E880\",\"#FF97FF\",\"#FECB52\"],\"font\":{\"color\":\"#2a3f5f\"},\"geo\":{\"bgcolor\":\"white\",\"lakecolor\":\"white\",\"landcolor\":\"#E5ECF6\",\"showlakes\":true,\"showland\":true,\"subunitcolor\":\"white\"},\"hoverlabel\":{\"align\":\"left\"},\"hovermode\":\"closest\",\"mapbox\":{\"style\":\"light\"},\"paper_bgcolor\":\"white\",\"plot_bgcolor\":\"#E5ECF6\",\"polar\":{\"angularaxis\":{\"gridcolor\":\"white\",\"linecolor\":\"white\",\"ticks\":\"\"},\"bgcolor\":\"#E5ECF6\",\"radialaxis\":{\"gridcolor\":\"white\",\"linecolor\":\"white\",\"ticks\":\"\"}},\"scene\":{\"xaxis\":{\"backgroundcolor\":\"#E5ECF6\",\"gridcolor\":\"white\",\"gridwidth\":2,\"linecolor\":\"white\",\"showbackground\":true,\"ticks\":\"\",\"zerolinecolor\":\"white\"},\"yaxis\":{\"backgroundcolor\":\"#E5ECF6\",\"gridcolor\":\"white\",\"gridwidth\":2,\"linecolor\":\"white\",\"showbackground\":true,\"ticks\":\"\",\"zerolinecolor\":\"white\"},\"zaxis\":{\"backgroundcolor\":\"#E5ECF6\",\"gridcolor\":\"white\",\"gridwidth\":2,\"linecolor\":\"white\",\"showbackground\":true,\"ticks\":\"\",\"zerolinecolor\":\"white\"}},\"shapedefaults\":{\"line\":{\"color\":\"#2a3f5f\"}},\"ternary\":{\"aaxis\":{\"gridcolor\":\"white\",\"linecolor\":\"white\",\"ticks\":\"\"},\"baxis\":{\"gridcolor\":\"white\",\"linecolor\":\"white\",\"ticks\":\"\"},\"bgcolor\":\"#E5ECF6\",\"caxis\":{\"gridcolor\":\"white\",\"linecolor\":\"white\",\"ticks\":\"\"}},\"title\":{\"x\":0.05},\"xaxis\":{\"automargin\":true,\"gridcolor\":\"white\",\"linecolor\":\"white\",\"ticks\":\"\",\"title\":{\"standoff\":15},\"zerolinecolor\":\"white\",\"zerolinewidth\":2},\"yaxis\":{\"automargin\":true,\"gridcolor\":\"white\",\"linecolor\":\"white\",\"ticks\":\"\",\"title\":{\"standoff\":15},\"zerolinecolor\":\"white\",\"zerolinewidth\":2}}},\"title\":{\"font\":{\"color\":\"#4D5663\"}},\"xaxis\":{\"gridcolor\":\"#E1E5ED\",\"showgrid\":true,\"tickfont\":{\"color\":\"#4D5663\"},\"title\":{\"font\":{\"color\":\"#4D5663\"},\"text\":\"\"},\"zerolinecolor\":\"#E1E5ED\"},\"yaxis\":{\"gridcolor\":\"#E1E5ED\",\"showgrid\":true,\"tickfont\":{\"color\":\"#4D5663\"},\"title\":{\"font\":{\"color\":\"#4D5663\"},\"text\":\"\"},\"zerolinecolor\":\"#E1E5ED\"}},                        {\"showLink\": true, \"linkText\": \"Export to plot.ly\", \"plotlyServerURL\": \"https://plot.ly\", \"responsive\": true}                    ).then(function(){\n",
       "                            \n",
       "var gd = document.getElementById('61a86086-05a0-45f3-8daa-d085f6d5c3fb');\n",
       "var x = new MutationObserver(function (mutations, observer) {{\n",
       "        var display = window.getComputedStyle(gd).display;\n",
       "        if (!display || display === 'none') {{\n",
       "            console.log([gd, 'removed!']);\n",
       "            Plotly.purge(gd);\n",
       "            observer.disconnect();\n",
       "        }}\n",
       "}});\n",
       "\n",
       "// Listen for the removal of the full notebook cells\n",
       "var notebookContainer = gd.closest('#notebook-container');\n",
       "if (notebookContainer) {{\n",
       "    x.observe(notebookContainer, {childList: true});\n",
       "}}\n",
       "\n",
       "// Listen for the clearing of the current output cell\n",
       "var outputEl = gd.closest('.output');\n",
       "if (outputEl) {{\n",
       "    x.observe(outputEl, {childList: true});\n",
       "}}\n",
       "\n",
       "                        })                };                });            </script>        </div>"
      ]
     },
     "metadata": {},
     "output_type": "display_data"
    }
   ],
   "source": [
    "data.corr().iplot(kind='heatmap', colorscale='blues')"
   ]
  },
  {
   "cell_type": "markdown",
   "metadata": {},
   "source": [
    "## Preparing Lagged Data"
   ]
  },
  {
   "cell_type": "markdown",
   "metadata": {},
   "source": [
    "To gain insights into whether the random walk hypothesis holds true, we work with **five lags**. The code that follows derives the **lagged data** for every single `RIC`. First, a function that adds columns with lagged data to a `DataFrame` object."
   ]
  },
  {
   "cell_type": "code",
   "execution_count": 22,
   "metadata": {},
   "outputs": [],
   "source": [
    "def add_lags(data, ric, lags):\n",
    "    cols = []\n",
    "    df = pd.DataFrame(data[ric])\n",
    "    for lag in range(1, lags + 1):\n",
    "        col = 'lag_{}'.format(lag)  # defines the column name\n",
    "        df[col] = df[ric].shift(lag)  # creates the lagged data column\n",
    "        cols.append(col)  # stores the column name\n",
    "    df.dropna(inplace=True)  # gets rid of incomplete data rows\n",
    "    return df, cols"
   ]
  },
  {
   "cell_type": "markdown",
   "metadata": {},
   "source": [
    "Second, the iterations over all `RICs`, using the `add_lags` function and storing the resulting `DataFrame` objects in a dictonary."
   ]
  },
  {
   "cell_type": "code",
   "execution_count": 23,
   "metadata": {},
   "outputs": [],
   "source": [
    "lags = 5  # five historical lags"
   ]
  },
  {
   "cell_type": "code",
   "execution_count": 24,
   "metadata": {},
   "outputs": [],
   "source": [
    "dfs = {}\n",
    "for ric in rics:\n",
    "    df, cols = add_lags(data, ric, lags)\n",
    "    dfs[ric] = df"
   ]
  },
  {
   "cell_type": "code",
   "execution_count": 25,
   "metadata": {},
   "outputs": [
    {
     "data": {
      "text/plain": [
       "['lag_1', 'lag_2', 'lag_3', 'lag_4', 'lag_5']"
      ]
     },
     "execution_count": 25,
     "metadata": {},
     "output_type": "execute_result"
    }
   ],
   "source": [
    "cols  # the column names for the lags"
   ]
  },
  {
   "cell_type": "code",
   "execution_count": 26,
   "metadata": {},
   "outputs": [
    {
     "data": {
      "text/plain": [
       "dict_keys(['JPM', 'BAC', 'WFC', 'MS', 'GS', 'C', 'BCS'])"
      ]
     },
     "execution_count": 26,
     "metadata": {},
     "output_type": "execute_result"
    }
   ],
   "source": [
    "dfs.keys()  # the keys of the dictonary"
   ]
  },
  {
   "cell_type": "code",
   "execution_count": 27,
   "metadata": {},
   "outputs": [
    {
     "data": {
      "text/html": [
       "<div>\n",
       "<style scoped>\n",
       "    .dataframe tbody tr th:only-of-type {\n",
       "        vertical-align: middle;\n",
       "    }\n",
       "\n",
       "    .dataframe tbody tr th {\n",
       "        vertical-align: top;\n",
       "    }\n",
       "\n",
       "    .dataframe thead th {\n",
       "        text-align: right;\n",
       "    }\n",
       "</style>\n",
       "<table border=\"1\" class=\"dataframe\">\n",
       "  <thead>\n",
       "    <tr style=\"text-align: right;\">\n",
       "      <th></th>\n",
       "      <th>JPM</th>\n",
       "      <th>lag_1</th>\n",
       "      <th>lag_2</th>\n",
       "      <th>lag_3</th>\n",
       "      <th>lag_4</th>\n",
       "      <th>lag_5</th>\n",
       "    </tr>\n",
       "    <tr>\n",
       "      <th>Date</th>\n",
       "      <th></th>\n",
       "      <th></th>\n",
       "      <th></th>\n",
       "      <th></th>\n",
       "      <th></th>\n",
       "      <th></th>\n",
       "    </tr>\n",
       "  </thead>\n",
       "  <tbody>\n",
       "    <tr>\n",
       "      <th>2017-01-10</th>\n",
       "      <td>86.43</td>\n",
       "      <td>86.18</td>\n",
       "      <td>86.12</td>\n",
       "      <td>86.11</td>\n",
       "      <td>86.91</td>\n",
       "      <td>87.23</td>\n",
       "    </tr>\n",
       "    <tr>\n",
       "      <th>2017-01-11</th>\n",
       "      <td>87.08</td>\n",
       "      <td>86.43</td>\n",
       "      <td>86.18</td>\n",
       "      <td>86.12</td>\n",
       "      <td>86.11</td>\n",
       "      <td>86.91</td>\n",
       "    </tr>\n",
       "    <tr>\n",
       "      <th>2017-01-12</th>\n",
       "      <td>86.24</td>\n",
       "      <td>87.08</td>\n",
       "      <td>86.43</td>\n",
       "      <td>86.18</td>\n",
       "      <td>86.12</td>\n",
       "      <td>86.11</td>\n",
       "    </tr>\n",
       "    <tr>\n",
       "      <th>2017-01-13</th>\n",
       "      <td>86.7</td>\n",
       "      <td>86.24</td>\n",
       "      <td>87.08</td>\n",
       "      <td>86.43</td>\n",
       "      <td>86.18</td>\n",
       "      <td>86.12</td>\n",
       "    </tr>\n",
       "    <tr>\n",
       "      <th>2017-01-17</th>\n",
       "      <td>83.55</td>\n",
       "      <td>86.7</td>\n",
       "      <td>86.24</td>\n",
       "      <td>87.08</td>\n",
       "      <td>86.43</td>\n",
       "      <td>86.18</td>\n",
       "    </tr>\n",
       "    <tr>\n",
       "      <th>2017-01-18</th>\n",
       "      <td>83.94</td>\n",
       "      <td>83.55</td>\n",
       "      <td>86.7</td>\n",
       "      <td>86.24</td>\n",
       "      <td>87.08</td>\n",
       "      <td>86.43</td>\n",
       "    </tr>\n",
       "    <tr>\n",
       "      <th>2017-01-19</th>\n",
       "      <td>83.3</td>\n",
       "      <td>83.94</td>\n",
       "      <td>83.55</td>\n",
       "      <td>86.7</td>\n",
       "      <td>86.24</td>\n",
       "      <td>87.08</td>\n",
       "    </tr>\n",
       "  </tbody>\n",
       "</table>\n",
       "</div>"
      ],
      "text/plain": [
       "              JPM  lag_1  lag_2  lag_3  lag_4  lag_5\n",
       "Date                                                \n",
       "2017-01-10  86.43  86.18  86.12  86.11  86.91  87.23\n",
       "2017-01-11  87.08  86.43  86.18  86.12  86.11  86.91\n",
       "2017-01-12  86.24  87.08  86.43  86.18  86.12  86.11\n",
       "2017-01-13   86.7  86.24  87.08  86.43  86.18  86.12\n",
       "2017-01-17  83.55   86.7  86.24  87.08  86.43  86.18\n",
       "2017-01-18  83.94  83.55   86.7  86.24  87.08  86.43\n",
       "2017-01-19   83.3  83.94  83.55   86.7  86.24  87.08"
      ]
     },
     "execution_count": 27,
     "metadata": {},
     "output_type": "execute_result"
    }
   ],
   "source": [
    "dfs['JPM'].head(7)"
   ]
  },
  {
   "cell_type": "markdown",
   "metadata": {},
   "source": [
    "## Implementing OLS Regression"
   ]
  },
  {
   "cell_type": "markdown",
   "metadata": {},
   "source": [
    "The matrix consisting of the lagged data columns is used to \"predict\" the next day's value of the `RIC` via **linear OLS regression**."
   ]
  },
  {
   "cell_type": "code",
   "execution_count": 28,
   "metadata": {},
   "outputs": [],
   "source": [
    "regs = {}\n",
    "for ric in rics:\n",
    "    df = dfs[ric]  # getting data for the RIC\n",
    "    df.dropna(inplace=True)\n",
    "    reg = np.linalg.lstsq(df[cols].astype('float64'), df[ric].astype('float64'), rcond=-1)[0]  # the OLS regression\n",
    "    regs[ric] = reg  # storing the results"
   ]
  },
  {
   "cell_type": "code",
   "execution_count": 29,
   "metadata": {},
   "outputs": [
    {
     "name": "stdout",
     "output_type": "stream",
     "text": [
      "JPM        | [ 1.01921487  0.04640413 -0.13249244  0.06492666  0.00283701]\n",
      "BAC        | [ 1.05205605 -0.04358253 -0.04135156  0.03892146 -0.0049737 ]\n",
      "WFC        | [ 1.01496864 -0.03666907  0.04284017  0.05001041 -0.07075771]\n",
      "MS         | [ 0.95341171  0.07994752 -0.12674928  0.1082215  -0.01394681]\n",
      "GS         | [ 0.9453596   0.11760367 -0.12582698 -0.03101206  0.09407309]\n",
      "C          | [ 1.08017855 -0.11059699 -0.02724082  0.04463796  0.01387277]\n",
      "BCS        | [ 0.94438099  0.05941509 -0.09017798  0.00341724  0.08265393]\n"
     ]
    }
   ],
   "source": [
    "for ric in rics:\n",
    "    print('{:10} | {}'.format(ric, regs[ric]))"
   ]
  },
  {
   "cell_type": "markdown",
   "metadata": {},
   "source": [
    "## Taking a Closer Look"
   ]
  },
  {
   "cell_type": "markdown",
   "metadata": {},
   "source": [
    "Let's pick one `RIC` and compare the original time series with the OLS predicted one."
   ]
  },
  {
   "cell_type": "code",
   "execution_count": 30,
   "metadata": {},
   "outputs": [],
   "source": [
    "ric = 'JPM'"
   ]
  },
  {
   "cell_type": "code",
   "execution_count": 31,
   "metadata": {},
   "outputs": [],
   "source": [
    "res = pd.DataFrame(dfs[ric][ric])  # picks the original time series"
   ]
  },
  {
   "cell_type": "code",
   "execution_count": 32,
   "metadata": {},
   "outputs": [],
   "source": [
    "res['PRED'] = np.dot(dfs[ric][cols], regs[ric])  # creates the \"prediction\" values"
   ]
  },
  {
   "cell_type": "markdown",
   "metadata": {},
   "source": [
    "The **predicted prices** are almost exactly the prices from the day before."
   ]
  },
  {
   "cell_type": "code",
   "execution_count": 33,
   "metadata": {},
   "outputs": [
    {
     "data": {
      "application/vnd.plotly.v1+json": {
       "config": {
        "linkText": "Export to plot.ly",
        "plotlyServerURL": "https://plot.ly",
        "showLink": true
       },
       "data": [
        {
         "line": {
          "color": "rgba(255, 153, 51, 1.0)",
          "dash": "solid",
          "shape": "linear",
          "width": 1.3
         },
         "mode": "lines",
         "name": "JPM",
         "text": "",
         "type": "scatter",
         "x": [
          "2017-10-19",
          "2017-10-20",
          "2017-10-23",
          "2017-10-24",
          "2017-10-25",
          "2017-10-26",
          "2017-10-27",
          "2017-10-30",
          "2017-10-31",
          "2017-11-01",
          "2017-11-02",
          "2017-11-03",
          "2017-11-06",
          "2017-11-07",
          "2017-11-08",
          "2017-11-09",
          "2017-11-10",
          "2017-11-13",
          "2017-11-14",
          "2017-11-15",
          "2017-11-16",
          "2017-11-17",
          "2017-11-20",
          "2017-11-21",
          "2017-11-22",
          "2017-11-24",
          "2017-11-27",
          "2017-11-28",
          "2017-11-29",
          "2017-11-30",
          "2017-12-01",
          "2017-12-04",
          "2017-12-05",
          "2017-12-06",
          "2017-12-07",
          "2017-12-08",
          "2017-12-11",
          "2017-12-12",
          "2017-12-13",
          "2017-12-14",
          "2017-12-15",
          "2017-12-18",
          "2017-12-19",
          "2017-12-20",
          "2017-12-21",
          "2017-12-22",
          "2017-12-26",
          "2017-12-27",
          "2017-12-28",
          "2017-12-29"
         ],
         "y": [
          98.11,
          99.51,
          99.34,
          100.92,
          101.02,
          101.74,
          101.77,
          101.41,
          100.61,
          100.92,
          101.59,
          101.41,
          100.78,
          98.75,
          97.64,
          97.63,
          97.51,
          97.86,
          97.27,
          98.19,
          98.47,
          98.14,
          99.01,
          98.93,
          98.64,
          98.32,
          97.93,
          101.36,
          103.73,
          104.52,
          104.79,
          106.95,
          105.72,
          104.93,
          104.62,
          105.93,
          105.62,
          106.85,
          105.51,
          104.66,
          106.14,
          106.96,
          106.51,
          106.14,
          107.83,
          107.45,
          107.02,
          107.22,
          107.79,
          106.94
         ]
        },
        {
         "line": {
          "color": "rgba(55, 128, 191, 1.0)",
          "dash": "solid",
          "shape": "linear",
          "width": 1.3
         },
         "mode": "lines",
         "name": "PRED",
         "text": "",
         "type": "scatter",
         "x": [
          "2017-10-19",
          "2017-10-20",
          "2017-10-23",
          "2017-10-24",
          "2017-10-25",
          "2017-10-26",
          "2017-10-27",
          "2017-10-30",
          "2017-10-31",
          "2017-11-01",
          "2017-11-02",
          "2017-11-03",
          "2017-11-06",
          "2017-11-07",
          "2017-11-08",
          "2017-11-09",
          "2017-11-10",
          "2017-11-13",
          "2017-11-14",
          "2017-11-15",
          "2017-11-16",
          "2017-11-17",
          "2017-11-20",
          "2017-11-21",
          "2017-11-22",
          "2017-11-24",
          "2017-11-27",
          "2017-11-28",
          "2017-11-29",
          "2017-11-30",
          "2017-12-01",
          "2017-12-04",
          "2017-12-05",
          "2017-12-06",
          "2017-12-07",
          "2017-12-08",
          "2017-12-11",
          "2017-12-12",
          "2017-12-13",
          "2017-12-14",
          "2017-12-15",
          "2017-12-18",
          "2017-12-19",
          "2017-12-20",
          "2017-12-21",
          "2017-12-22",
          "2017-12-26",
          "2017-12-27",
          "2017-12-28",
          "2017-12-29"
         ],
         "y": [
          97.93597034718259,
          98.2327799745584,
          99.60756049659854,
          99.50675937744732,
          100.93258165379748,
          101.22158314340037,
          101.74365449310383,
          101.89649450208981,
          101.44654985755294,
          100.65752860017291,
          100.98804963050814,
          101.76801433297305,
          101.52161111387845,
          100.80024073028923,
          98.77022891813228,
          97.61838426466308,
          97.78422872010272,
          97.67493705839226,
          97.94959097144918,
          97.37659638951277,
          98.23270371337534,
          98.66133010148734,
          98.17877553135385,
          99.07113991944385,
          99.09448633636937,
          98.65930183876235,
          98.38584526190594,
          98.00919901181864,
          101.5103502939292,
          104.11512847739142,
          104.54960771196991,
          104.76903993406748,
          107.04201127003478,
          105.91085270759024,
          104.78218365864356,
          104.73354106648236,
          106.08526443307035,
          105.81638830188885,
          106.85970372139384,
          105.67627998144263,
          104.56838933102142,
          106.29390401655859,
          107.22744468004159,
          106.55177131511061,
          106.13881616265743,
          107.96117999669383,
          107.67443286982996,
          106.96932517329348,
          107.31223786450917,
          107.93956532442797
         ]
        }
       ],
       "layout": {
        "legend": {
         "bgcolor": "#F5F6F9",
         "font": {
          "color": "#4D5663"
         }
        },
        "paper_bgcolor": "#F5F6F9",
        "plot_bgcolor": "#F5F6F9",
        "template": {
         "data": {
          "bar": [
           {
            "error_x": {
             "color": "#2a3f5f"
            },
            "error_y": {
             "color": "#2a3f5f"
            },
            "marker": {
             "line": {
              "color": "#E5ECF6",
              "width": 0.5
             },
             "pattern": {
              "fillmode": "overlay",
              "size": 10,
              "solidity": 0.2
             }
            },
            "type": "bar"
           }
          ],
          "barpolar": [
           {
            "marker": {
             "line": {
              "color": "#E5ECF6",
              "width": 0.5
             },
             "pattern": {
              "fillmode": "overlay",
              "size": 10,
              "solidity": 0.2
             }
            },
            "type": "barpolar"
           }
          ],
          "carpet": [
           {
            "aaxis": {
             "endlinecolor": "#2a3f5f",
             "gridcolor": "white",
             "linecolor": "white",
             "minorgridcolor": "white",
             "startlinecolor": "#2a3f5f"
            },
            "baxis": {
             "endlinecolor": "#2a3f5f",
             "gridcolor": "white",
             "linecolor": "white",
             "minorgridcolor": "white",
             "startlinecolor": "#2a3f5f"
            },
            "type": "carpet"
           }
          ],
          "choropleth": [
           {
            "colorbar": {
             "outlinewidth": 0,
             "ticks": ""
            },
            "type": "choropleth"
           }
          ],
          "contour": [
           {
            "colorbar": {
             "outlinewidth": 0,
             "ticks": ""
            },
            "colorscale": [
             [
              0,
              "#0d0887"
             ],
             [
              0.1111111111111111,
              "#46039f"
             ],
             [
              0.2222222222222222,
              "#7201a8"
             ],
             [
              0.3333333333333333,
              "#9c179e"
             ],
             [
              0.4444444444444444,
              "#bd3786"
             ],
             [
              0.5555555555555556,
              "#d8576b"
             ],
             [
              0.6666666666666666,
              "#ed7953"
             ],
             [
              0.7777777777777778,
              "#fb9f3a"
             ],
             [
              0.8888888888888888,
              "#fdca26"
             ],
             [
              1,
              "#f0f921"
             ]
            ],
            "type": "contour"
           }
          ],
          "contourcarpet": [
           {
            "colorbar": {
             "outlinewidth": 0,
             "ticks": ""
            },
            "type": "contourcarpet"
           }
          ],
          "heatmap": [
           {
            "colorbar": {
             "outlinewidth": 0,
             "ticks": ""
            },
            "colorscale": [
             [
              0,
              "#0d0887"
             ],
             [
              0.1111111111111111,
              "#46039f"
             ],
             [
              0.2222222222222222,
              "#7201a8"
             ],
             [
              0.3333333333333333,
              "#9c179e"
             ],
             [
              0.4444444444444444,
              "#bd3786"
             ],
             [
              0.5555555555555556,
              "#d8576b"
             ],
             [
              0.6666666666666666,
              "#ed7953"
             ],
             [
              0.7777777777777778,
              "#fb9f3a"
             ],
             [
              0.8888888888888888,
              "#fdca26"
             ],
             [
              1,
              "#f0f921"
             ]
            ],
            "type": "heatmap"
           }
          ],
          "heatmapgl": [
           {
            "colorbar": {
             "outlinewidth": 0,
             "ticks": ""
            },
            "colorscale": [
             [
              0,
              "#0d0887"
             ],
             [
              0.1111111111111111,
              "#46039f"
             ],
             [
              0.2222222222222222,
              "#7201a8"
             ],
             [
              0.3333333333333333,
              "#9c179e"
             ],
             [
              0.4444444444444444,
              "#bd3786"
             ],
             [
              0.5555555555555556,
              "#d8576b"
             ],
             [
              0.6666666666666666,
              "#ed7953"
             ],
             [
              0.7777777777777778,
              "#fb9f3a"
             ],
             [
              0.8888888888888888,
              "#fdca26"
             ],
             [
              1,
              "#f0f921"
             ]
            ],
            "type": "heatmapgl"
           }
          ],
          "histogram": [
           {
            "marker": {
             "pattern": {
              "fillmode": "overlay",
              "size": 10,
              "solidity": 0.2
             }
            },
            "type": "histogram"
           }
          ],
          "histogram2d": [
           {
            "colorbar": {
             "outlinewidth": 0,
             "ticks": ""
            },
            "colorscale": [
             [
              0,
              "#0d0887"
             ],
             [
              0.1111111111111111,
              "#46039f"
             ],
             [
              0.2222222222222222,
              "#7201a8"
             ],
             [
              0.3333333333333333,
              "#9c179e"
             ],
             [
              0.4444444444444444,
              "#bd3786"
             ],
             [
              0.5555555555555556,
              "#d8576b"
             ],
             [
              0.6666666666666666,
              "#ed7953"
             ],
             [
              0.7777777777777778,
              "#fb9f3a"
             ],
             [
              0.8888888888888888,
              "#fdca26"
             ],
             [
              1,
              "#f0f921"
             ]
            ],
            "type": "histogram2d"
           }
          ],
          "histogram2dcontour": [
           {
            "colorbar": {
             "outlinewidth": 0,
             "ticks": ""
            },
            "colorscale": [
             [
              0,
              "#0d0887"
             ],
             [
              0.1111111111111111,
              "#46039f"
             ],
             [
              0.2222222222222222,
              "#7201a8"
             ],
             [
              0.3333333333333333,
              "#9c179e"
             ],
             [
              0.4444444444444444,
              "#bd3786"
             ],
             [
              0.5555555555555556,
              "#d8576b"
             ],
             [
              0.6666666666666666,
              "#ed7953"
             ],
             [
              0.7777777777777778,
              "#fb9f3a"
             ],
             [
              0.8888888888888888,
              "#fdca26"
             ],
             [
              1,
              "#f0f921"
             ]
            ],
            "type": "histogram2dcontour"
           }
          ],
          "mesh3d": [
           {
            "colorbar": {
             "outlinewidth": 0,
             "ticks": ""
            },
            "type": "mesh3d"
           }
          ],
          "parcoords": [
           {
            "line": {
             "colorbar": {
              "outlinewidth": 0,
              "ticks": ""
             }
            },
            "type": "parcoords"
           }
          ],
          "pie": [
           {
            "automargin": true,
            "type": "pie"
           }
          ],
          "scatter": [
           {
            "fillpattern": {
             "fillmode": "overlay",
             "size": 10,
             "solidity": 0.2
            },
            "type": "scatter"
           }
          ],
          "scatter3d": [
           {
            "line": {
             "colorbar": {
              "outlinewidth": 0,
              "ticks": ""
             }
            },
            "marker": {
             "colorbar": {
              "outlinewidth": 0,
              "ticks": ""
             }
            },
            "type": "scatter3d"
           }
          ],
          "scattercarpet": [
           {
            "marker": {
             "colorbar": {
              "outlinewidth": 0,
              "ticks": ""
             }
            },
            "type": "scattercarpet"
           }
          ],
          "scattergeo": [
           {
            "marker": {
             "colorbar": {
              "outlinewidth": 0,
              "ticks": ""
             }
            },
            "type": "scattergeo"
           }
          ],
          "scattergl": [
           {
            "marker": {
             "colorbar": {
              "outlinewidth": 0,
              "ticks": ""
             }
            },
            "type": "scattergl"
           }
          ],
          "scattermapbox": [
           {
            "marker": {
             "colorbar": {
              "outlinewidth": 0,
              "ticks": ""
             }
            },
            "type": "scattermapbox"
           }
          ],
          "scatterpolar": [
           {
            "marker": {
             "colorbar": {
              "outlinewidth": 0,
              "ticks": ""
             }
            },
            "type": "scatterpolar"
           }
          ],
          "scatterpolargl": [
           {
            "marker": {
             "colorbar": {
              "outlinewidth": 0,
              "ticks": ""
             }
            },
            "type": "scatterpolargl"
           }
          ],
          "scatterternary": [
           {
            "marker": {
             "colorbar": {
              "outlinewidth": 0,
              "ticks": ""
             }
            },
            "type": "scatterternary"
           }
          ],
          "surface": [
           {
            "colorbar": {
             "outlinewidth": 0,
             "ticks": ""
            },
            "colorscale": [
             [
              0,
              "#0d0887"
             ],
             [
              0.1111111111111111,
              "#46039f"
             ],
             [
              0.2222222222222222,
              "#7201a8"
             ],
             [
              0.3333333333333333,
              "#9c179e"
             ],
             [
              0.4444444444444444,
              "#bd3786"
             ],
             [
              0.5555555555555556,
              "#d8576b"
             ],
             [
              0.6666666666666666,
              "#ed7953"
             ],
             [
              0.7777777777777778,
              "#fb9f3a"
             ],
             [
              0.8888888888888888,
              "#fdca26"
             ],
             [
              1,
              "#f0f921"
             ]
            ],
            "type": "surface"
           }
          ],
          "table": [
           {
            "cells": {
             "fill": {
              "color": "#EBF0F8"
             },
             "line": {
              "color": "white"
             }
            },
            "header": {
             "fill": {
              "color": "#C8D4E3"
             },
             "line": {
              "color": "white"
             }
            },
            "type": "table"
           }
          ]
         },
         "layout": {
          "annotationdefaults": {
           "arrowcolor": "#2a3f5f",
           "arrowhead": 0,
           "arrowwidth": 1
          },
          "autotypenumbers": "strict",
          "coloraxis": {
           "colorbar": {
            "outlinewidth": 0,
            "ticks": ""
           }
          },
          "colorscale": {
           "diverging": [
            [
             0,
             "#8e0152"
            ],
            [
             0.1,
             "#c51b7d"
            ],
            [
             0.2,
             "#de77ae"
            ],
            [
             0.3,
             "#f1b6da"
            ],
            [
             0.4,
             "#fde0ef"
            ],
            [
             0.5,
             "#f7f7f7"
            ],
            [
             0.6,
             "#e6f5d0"
            ],
            [
             0.7,
             "#b8e186"
            ],
            [
             0.8,
             "#7fbc41"
            ],
            [
             0.9,
             "#4d9221"
            ],
            [
             1,
             "#276419"
            ]
           ],
           "sequential": [
            [
             0,
             "#0d0887"
            ],
            [
             0.1111111111111111,
             "#46039f"
            ],
            [
             0.2222222222222222,
             "#7201a8"
            ],
            [
             0.3333333333333333,
             "#9c179e"
            ],
            [
             0.4444444444444444,
             "#bd3786"
            ],
            [
             0.5555555555555556,
             "#d8576b"
            ],
            [
             0.6666666666666666,
             "#ed7953"
            ],
            [
             0.7777777777777778,
             "#fb9f3a"
            ],
            [
             0.8888888888888888,
             "#fdca26"
            ],
            [
             1,
             "#f0f921"
            ]
           ],
           "sequentialminus": [
            [
             0,
             "#0d0887"
            ],
            [
             0.1111111111111111,
             "#46039f"
            ],
            [
             0.2222222222222222,
             "#7201a8"
            ],
            [
             0.3333333333333333,
             "#9c179e"
            ],
            [
             0.4444444444444444,
             "#bd3786"
            ],
            [
             0.5555555555555556,
             "#d8576b"
            ],
            [
             0.6666666666666666,
             "#ed7953"
            ],
            [
             0.7777777777777778,
             "#fb9f3a"
            ],
            [
             0.8888888888888888,
             "#fdca26"
            ],
            [
             1,
             "#f0f921"
            ]
           ]
          },
          "colorway": [
           "#636efa",
           "#EF553B",
           "#00cc96",
           "#ab63fa",
           "#FFA15A",
           "#19d3f3",
           "#FF6692",
           "#B6E880",
           "#FF97FF",
           "#FECB52"
          ],
          "font": {
           "color": "#2a3f5f"
          },
          "geo": {
           "bgcolor": "white",
           "lakecolor": "white",
           "landcolor": "#E5ECF6",
           "showlakes": true,
           "showland": true,
           "subunitcolor": "white"
          },
          "hoverlabel": {
           "align": "left"
          },
          "hovermode": "closest",
          "mapbox": {
           "style": "light"
          },
          "paper_bgcolor": "white",
          "plot_bgcolor": "#E5ECF6",
          "polar": {
           "angularaxis": {
            "gridcolor": "white",
            "linecolor": "white",
            "ticks": ""
           },
           "bgcolor": "#E5ECF6",
           "radialaxis": {
            "gridcolor": "white",
            "linecolor": "white",
            "ticks": ""
           }
          },
          "scene": {
           "xaxis": {
            "backgroundcolor": "#E5ECF6",
            "gridcolor": "white",
            "gridwidth": 2,
            "linecolor": "white",
            "showbackground": true,
            "ticks": "",
            "zerolinecolor": "white"
           },
           "yaxis": {
            "backgroundcolor": "#E5ECF6",
            "gridcolor": "white",
            "gridwidth": 2,
            "linecolor": "white",
            "showbackground": true,
            "ticks": "",
            "zerolinecolor": "white"
           },
           "zaxis": {
            "backgroundcolor": "#E5ECF6",
            "gridcolor": "white",
            "gridwidth": 2,
            "linecolor": "white",
            "showbackground": true,
            "ticks": "",
            "zerolinecolor": "white"
           }
          },
          "shapedefaults": {
           "line": {
            "color": "#2a3f5f"
           }
          },
          "ternary": {
           "aaxis": {
            "gridcolor": "white",
            "linecolor": "white",
            "ticks": ""
           },
           "baxis": {
            "gridcolor": "white",
            "linecolor": "white",
            "ticks": ""
           },
           "bgcolor": "#E5ECF6",
           "caxis": {
            "gridcolor": "white",
            "linecolor": "white",
            "ticks": ""
           }
          },
          "title": {
           "x": 0.05
          },
          "xaxis": {
           "automargin": true,
           "gridcolor": "white",
           "linecolor": "white",
           "ticks": "",
           "title": {
            "standoff": 15
           },
           "zerolinecolor": "white",
           "zerolinewidth": 2
          },
          "yaxis": {
           "automargin": true,
           "gridcolor": "white",
           "linecolor": "white",
           "ticks": "",
           "title": {
            "standoff": 15
           },
           "zerolinecolor": "white",
           "zerolinewidth": 2
          }
         }
        },
        "title": {
         "font": {
          "color": "#4D5663"
         }
        },
        "xaxis": {
         "gridcolor": "#E1E5ED",
         "showgrid": true,
         "tickfont": {
          "color": "#4D5663"
         },
         "title": {
          "font": {
           "color": "#4D5663"
          },
          "text": ""
         },
         "zerolinecolor": "#E1E5ED"
        },
        "yaxis": {
         "gridcolor": "#E1E5ED",
         "showgrid": true,
         "tickfont": {
          "color": "#4D5663"
         },
         "title": {
          "font": {
           "color": "#4D5663"
          },
          "text": ""
         },
         "zerolinecolor": "#E1E5ED"
        }
       }
      },
      "text/html": [
       "<div>                            <div id=\"3933c61f-f1b1-49b0-ae3f-f7dad38aab26\" class=\"plotly-graph-div\" style=\"height:525px; width:100%;\"></div>            <script type=\"text/javascript\">                require([\"plotly\"], function(Plotly) {                    window.PLOTLYENV=window.PLOTLYENV || {};\n",
       "                    window.PLOTLYENV.BASE_URL='https://plot.ly';                                    if (document.getElementById(\"3933c61f-f1b1-49b0-ae3f-f7dad38aab26\")) {                    Plotly.newPlot(                        \"3933c61f-f1b1-49b0-ae3f-f7dad38aab26\",                        [{\"line\":{\"color\":\"rgba(255, 153, 51, 1.0)\",\"dash\":\"solid\",\"shape\":\"linear\",\"width\":1.3},\"mode\":\"lines\",\"name\":\"JPM\",\"text\":\"\",\"x\":[\"2017-10-19\",\"2017-10-20\",\"2017-10-23\",\"2017-10-24\",\"2017-10-25\",\"2017-10-26\",\"2017-10-27\",\"2017-10-30\",\"2017-10-31\",\"2017-11-01\",\"2017-11-02\",\"2017-11-03\",\"2017-11-06\",\"2017-11-07\",\"2017-11-08\",\"2017-11-09\",\"2017-11-10\",\"2017-11-13\",\"2017-11-14\",\"2017-11-15\",\"2017-11-16\",\"2017-11-17\",\"2017-11-20\",\"2017-11-21\",\"2017-11-22\",\"2017-11-24\",\"2017-11-27\",\"2017-11-28\",\"2017-11-29\",\"2017-11-30\",\"2017-12-01\",\"2017-12-04\",\"2017-12-05\",\"2017-12-06\",\"2017-12-07\",\"2017-12-08\",\"2017-12-11\",\"2017-12-12\",\"2017-12-13\",\"2017-12-14\",\"2017-12-15\",\"2017-12-18\",\"2017-12-19\",\"2017-12-20\",\"2017-12-21\",\"2017-12-22\",\"2017-12-26\",\"2017-12-27\",\"2017-12-28\",\"2017-12-29\"],\"y\":[98.11,99.51,99.34,100.92,101.02,101.74,101.77,101.41,100.61,100.92,101.59,101.41,100.78,98.75,97.64,97.63,97.51,97.86,97.27,98.19,98.47,98.14,99.01,98.93,98.64,98.32,97.93,101.36,103.73,104.52,104.79,106.95,105.72,104.93,104.62,105.93,105.62,106.85,105.51,104.66,106.14,106.96,106.51,106.14,107.83,107.45,107.02,107.22,107.79,106.94],\"type\":\"scatter\"},{\"line\":{\"color\":\"rgba(55, 128, 191, 1.0)\",\"dash\":\"solid\",\"shape\":\"linear\",\"width\":1.3},\"mode\":\"lines\",\"name\":\"PRED\",\"text\":\"\",\"x\":[\"2017-10-19\",\"2017-10-20\",\"2017-10-23\",\"2017-10-24\",\"2017-10-25\",\"2017-10-26\",\"2017-10-27\",\"2017-10-30\",\"2017-10-31\",\"2017-11-01\",\"2017-11-02\",\"2017-11-03\",\"2017-11-06\",\"2017-11-07\",\"2017-11-08\",\"2017-11-09\",\"2017-11-10\",\"2017-11-13\",\"2017-11-14\",\"2017-11-15\",\"2017-11-16\",\"2017-11-17\",\"2017-11-20\",\"2017-11-21\",\"2017-11-22\",\"2017-11-24\",\"2017-11-27\",\"2017-11-28\",\"2017-11-29\",\"2017-11-30\",\"2017-12-01\",\"2017-12-04\",\"2017-12-05\",\"2017-12-06\",\"2017-12-07\",\"2017-12-08\",\"2017-12-11\",\"2017-12-12\",\"2017-12-13\",\"2017-12-14\",\"2017-12-15\",\"2017-12-18\",\"2017-12-19\",\"2017-12-20\",\"2017-12-21\",\"2017-12-22\",\"2017-12-26\",\"2017-12-27\",\"2017-12-28\",\"2017-12-29\"],\"y\":[97.93597034718259,98.2327799745584,99.60756049659854,99.50675937744732,100.93258165379748,101.22158314340037,101.74365449310383,101.89649450208981,101.44654985755294,100.65752860017291,100.98804963050814,101.76801433297305,101.52161111387845,100.80024073028923,98.77022891813228,97.61838426466308,97.78422872010272,97.67493705839226,97.94959097144918,97.37659638951277,98.23270371337534,98.66133010148734,98.17877553135385,99.07113991944385,99.09448633636937,98.65930183876235,98.38584526190594,98.00919901181864,101.5103502939292,104.11512847739142,104.54960771196991,104.76903993406748,107.04201127003478,105.91085270759024,104.78218365864356,104.73354106648236,106.08526443307035,105.81638830188885,106.85970372139384,105.67627998144263,104.56838933102142,106.29390401655859,107.22744468004159,106.55177131511061,106.13881616265743,107.96117999669383,107.67443286982996,106.96932517329348,107.31223786450917,107.93956532442797],\"type\":\"scatter\"}],                        {\"legend\":{\"bgcolor\":\"#F5F6F9\",\"font\":{\"color\":\"#4D5663\"}},\"paper_bgcolor\":\"#F5F6F9\",\"plot_bgcolor\":\"#F5F6F9\",\"template\":{\"data\":{\"barpolar\":[{\"marker\":{\"line\":{\"color\":\"#E5ECF6\",\"width\":0.5},\"pattern\":{\"fillmode\":\"overlay\",\"size\":10,\"solidity\":0.2}},\"type\":\"barpolar\"}],\"bar\":[{\"error_x\":{\"color\":\"#2a3f5f\"},\"error_y\":{\"color\":\"#2a3f5f\"},\"marker\":{\"line\":{\"color\":\"#E5ECF6\",\"width\":0.5},\"pattern\":{\"fillmode\":\"overlay\",\"size\":10,\"solidity\":0.2}},\"type\":\"bar\"}],\"carpet\":[{\"aaxis\":{\"endlinecolor\":\"#2a3f5f\",\"gridcolor\":\"white\",\"linecolor\":\"white\",\"minorgridcolor\":\"white\",\"startlinecolor\":\"#2a3f5f\"},\"baxis\":{\"endlinecolor\":\"#2a3f5f\",\"gridcolor\":\"white\",\"linecolor\":\"white\",\"minorgridcolor\":\"white\",\"startlinecolor\":\"#2a3f5f\"},\"type\":\"carpet\"}],\"choropleth\":[{\"colorbar\":{\"outlinewidth\":0,\"ticks\":\"\"},\"type\":\"choropleth\"}],\"contourcarpet\":[{\"colorbar\":{\"outlinewidth\":0,\"ticks\":\"\"},\"type\":\"contourcarpet\"}],\"contour\":[{\"colorbar\":{\"outlinewidth\":0,\"ticks\":\"\"},\"colorscale\":[[0.0,\"#0d0887\"],[0.1111111111111111,\"#46039f\"],[0.2222222222222222,\"#7201a8\"],[0.3333333333333333,\"#9c179e\"],[0.4444444444444444,\"#bd3786\"],[0.5555555555555556,\"#d8576b\"],[0.6666666666666666,\"#ed7953\"],[0.7777777777777778,\"#fb9f3a\"],[0.8888888888888888,\"#fdca26\"],[1.0,\"#f0f921\"]],\"type\":\"contour\"}],\"heatmapgl\":[{\"colorbar\":{\"outlinewidth\":0,\"ticks\":\"\"},\"colorscale\":[[0.0,\"#0d0887\"],[0.1111111111111111,\"#46039f\"],[0.2222222222222222,\"#7201a8\"],[0.3333333333333333,\"#9c179e\"],[0.4444444444444444,\"#bd3786\"],[0.5555555555555556,\"#d8576b\"],[0.6666666666666666,\"#ed7953\"],[0.7777777777777778,\"#fb9f3a\"],[0.8888888888888888,\"#fdca26\"],[1.0,\"#f0f921\"]],\"type\":\"heatmapgl\"}],\"heatmap\":[{\"colorbar\":{\"outlinewidth\":0,\"ticks\":\"\"},\"colorscale\":[[0.0,\"#0d0887\"],[0.1111111111111111,\"#46039f\"],[0.2222222222222222,\"#7201a8\"],[0.3333333333333333,\"#9c179e\"],[0.4444444444444444,\"#bd3786\"],[0.5555555555555556,\"#d8576b\"],[0.6666666666666666,\"#ed7953\"],[0.7777777777777778,\"#fb9f3a\"],[0.8888888888888888,\"#fdca26\"],[1.0,\"#f0f921\"]],\"type\":\"heatmap\"}],\"histogram2dcontour\":[{\"colorbar\":{\"outlinewidth\":0,\"ticks\":\"\"},\"colorscale\":[[0.0,\"#0d0887\"],[0.1111111111111111,\"#46039f\"],[0.2222222222222222,\"#7201a8\"],[0.3333333333333333,\"#9c179e\"],[0.4444444444444444,\"#bd3786\"],[0.5555555555555556,\"#d8576b\"],[0.6666666666666666,\"#ed7953\"],[0.7777777777777778,\"#fb9f3a\"],[0.8888888888888888,\"#fdca26\"],[1.0,\"#f0f921\"]],\"type\":\"histogram2dcontour\"}],\"histogram2d\":[{\"colorbar\":{\"outlinewidth\":0,\"ticks\":\"\"},\"colorscale\":[[0.0,\"#0d0887\"],[0.1111111111111111,\"#46039f\"],[0.2222222222222222,\"#7201a8\"],[0.3333333333333333,\"#9c179e\"],[0.4444444444444444,\"#bd3786\"],[0.5555555555555556,\"#d8576b\"],[0.6666666666666666,\"#ed7953\"],[0.7777777777777778,\"#fb9f3a\"],[0.8888888888888888,\"#fdca26\"],[1.0,\"#f0f921\"]],\"type\":\"histogram2d\"}],\"histogram\":[{\"marker\":{\"pattern\":{\"fillmode\":\"overlay\",\"size\":10,\"solidity\":0.2}},\"type\":\"histogram\"}],\"mesh3d\":[{\"colorbar\":{\"outlinewidth\":0,\"ticks\":\"\"},\"type\":\"mesh3d\"}],\"parcoords\":[{\"line\":{\"colorbar\":{\"outlinewidth\":0,\"ticks\":\"\"}},\"type\":\"parcoords\"}],\"pie\":[{\"automargin\":true,\"type\":\"pie\"}],\"scatter3d\":[{\"line\":{\"colorbar\":{\"outlinewidth\":0,\"ticks\":\"\"}},\"marker\":{\"colorbar\":{\"outlinewidth\":0,\"ticks\":\"\"}},\"type\":\"scatter3d\"}],\"scattercarpet\":[{\"marker\":{\"colorbar\":{\"outlinewidth\":0,\"ticks\":\"\"}},\"type\":\"scattercarpet\"}],\"scattergeo\":[{\"marker\":{\"colorbar\":{\"outlinewidth\":0,\"ticks\":\"\"}},\"type\":\"scattergeo\"}],\"scattergl\":[{\"marker\":{\"colorbar\":{\"outlinewidth\":0,\"ticks\":\"\"}},\"type\":\"scattergl\"}],\"scattermapbox\":[{\"marker\":{\"colorbar\":{\"outlinewidth\":0,\"ticks\":\"\"}},\"type\":\"scattermapbox\"}],\"scatterpolargl\":[{\"marker\":{\"colorbar\":{\"outlinewidth\":0,\"ticks\":\"\"}},\"type\":\"scatterpolargl\"}],\"scatterpolar\":[{\"marker\":{\"colorbar\":{\"outlinewidth\":0,\"ticks\":\"\"}},\"type\":\"scatterpolar\"}],\"scatter\":[{\"fillpattern\":{\"fillmode\":\"overlay\",\"size\":10,\"solidity\":0.2},\"type\":\"scatter\"}],\"scatterternary\":[{\"marker\":{\"colorbar\":{\"outlinewidth\":0,\"ticks\":\"\"}},\"type\":\"scatterternary\"}],\"surface\":[{\"colorbar\":{\"outlinewidth\":0,\"ticks\":\"\"},\"colorscale\":[[0.0,\"#0d0887\"],[0.1111111111111111,\"#46039f\"],[0.2222222222222222,\"#7201a8\"],[0.3333333333333333,\"#9c179e\"],[0.4444444444444444,\"#bd3786\"],[0.5555555555555556,\"#d8576b\"],[0.6666666666666666,\"#ed7953\"],[0.7777777777777778,\"#fb9f3a\"],[0.8888888888888888,\"#fdca26\"],[1.0,\"#f0f921\"]],\"type\":\"surface\"}],\"table\":[{\"cells\":{\"fill\":{\"color\":\"#EBF0F8\"},\"line\":{\"color\":\"white\"}},\"header\":{\"fill\":{\"color\":\"#C8D4E3\"},\"line\":{\"color\":\"white\"}},\"type\":\"table\"}]},\"layout\":{\"annotationdefaults\":{\"arrowcolor\":\"#2a3f5f\",\"arrowhead\":0,\"arrowwidth\":1},\"autotypenumbers\":\"strict\",\"coloraxis\":{\"colorbar\":{\"outlinewidth\":0,\"ticks\":\"\"}},\"colorscale\":{\"diverging\":[[0,\"#8e0152\"],[0.1,\"#c51b7d\"],[0.2,\"#de77ae\"],[0.3,\"#f1b6da\"],[0.4,\"#fde0ef\"],[0.5,\"#f7f7f7\"],[0.6,\"#e6f5d0\"],[0.7,\"#b8e186\"],[0.8,\"#7fbc41\"],[0.9,\"#4d9221\"],[1,\"#276419\"]],\"sequential\":[[0.0,\"#0d0887\"],[0.1111111111111111,\"#46039f\"],[0.2222222222222222,\"#7201a8\"],[0.3333333333333333,\"#9c179e\"],[0.4444444444444444,\"#bd3786\"],[0.5555555555555556,\"#d8576b\"],[0.6666666666666666,\"#ed7953\"],[0.7777777777777778,\"#fb9f3a\"],[0.8888888888888888,\"#fdca26\"],[1.0,\"#f0f921\"]],\"sequentialminus\":[[0.0,\"#0d0887\"],[0.1111111111111111,\"#46039f\"],[0.2222222222222222,\"#7201a8\"],[0.3333333333333333,\"#9c179e\"],[0.4444444444444444,\"#bd3786\"],[0.5555555555555556,\"#d8576b\"],[0.6666666666666666,\"#ed7953\"],[0.7777777777777778,\"#fb9f3a\"],[0.8888888888888888,\"#fdca26\"],[1.0,\"#f0f921\"]]},\"colorway\":[\"#636efa\",\"#EF553B\",\"#00cc96\",\"#ab63fa\",\"#FFA15A\",\"#19d3f3\",\"#FF6692\",\"#B6E880\",\"#FF97FF\",\"#FECB52\"],\"font\":{\"color\":\"#2a3f5f\"},\"geo\":{\"bgcolor\":\"white\",\"lakecolor\":\"white\",\"landcolor\":\"#E5ECF6\",\"showlakes\":true,\"showland\":true,\"subunitcolor\":\"white\"},\"hoverlabel\":{\"align\":\"left\"},\"hovermode\":\"closest\",\"mapbox\":{\"style\":\"light\"},\"paper_bgcolor\":\"white\",\"plot_bgcolor\":\"#E5ECF6\",\"polar\":{\"angularaxis\":{\"gridcolor\":\"white\",\"linecolor\":\"white\",\"ticks\":\"\"},\"bgcolor\":\"#E5ECF6\",\"radialaxis\":{\"gridcolor\":\"white\",\"linecolor\":\"white\",\"ticks\":\"\"}},\"scene\":{\"xaxis\":{\"backgroundcolor\":\"#E5ECF6\",\"gridcolor\":\"white\",\"gridwidth\":2,\"linecolor\":\"white\",\"showbackground\":true,\"ticks\":\"\",\"zerolinecolor\":\"white\"},\"yaxis\":{\"backgroundcolor\":\"#E5ECF6\",\"gridcolor\":\"white\",\"gridwidth\":2,\"linecolor\":\"white\",\"showbackground\":true,\"ticks\":\"\",\"zerolinecolor\":\"white\"},\"zaxis\":{\"backgroundcolor\":\"#E5ECF6\",\"gridcolor\":\"white\",\"gridwidth\":2,\"linecolor\":\"white\",\"showbackground\":true,\"ticks\":\"\",\"zerolinecolor\":\"white\"}},\"shapedefaults\":{\"line\":{\"color\":\"#2a3f5f\"}},\"ternary\":{\"aaxis\":{\"gridcolor\":\"white\",\"linecolor\":\"white\",\"ticks\":\"\"},\"baxis\":{\"gridcolor\":\"white\",\"linecolor\":\"white\",\"ticks\":\"\"},\"bgcolor\":\"#E5ECF6\",\"caxis\":{\"gridcolor\":\"white\",\"linecolor\":\"white\",\"ticks\":\"\"}},\"title\":{\"x\":0.05},\"xaxis\":{\"automargin\":true,\"gridcolor\":\"white\",\"linecolor\":\"white\",\"ticks\":\"\",\"title\":{\"standoff\":15},\"zerolinecolor\":\"white\",\"zerolinewidth\":2},\"yaxis\":{\"automargin\":true,\"gridcolor\":\"white\",\"linecolor\":\"white\",\"ticks\":\"\",\"title\":{\"standoff\":15},\"zerolinecolor\":\"white\",\"zerolinewidth\":2}}},\"title\":{\"font\":{\"color\":\"#4D5663\"}},\"xaxis\":{\"gridcolor\":\"#E1E5ED\",\"showgrid\":true,\"tickfont\":{\"color\":\"#4D5663\"},\"title\":{\"font\":{\"color\":\"#4D5663\"},\"text\":\"\"},\"zerolinecolor\":\"#E1E5ED\"},\"yaxis\":{\"gridcolor\":\"#E1E5ED\",\"showgrid\":true,\"tickfont\":{\"color\":\"#4D5663\"},\"title\":{\"font\":{\"color\":\"#4D5663\"},\"text\":\"\"},\"zerolinecolor\":\"#E1E5ED\"}},                        {\"showLink\": true, \"linkText\": \"Export to plot.ly\", \"plotlyServerURL\": \"https://plot.ly\", \"responsive\": true}                    ).then(function(){\n",
       "                            \n",
       "var gd = document.getElementById('3933c61f-f1b1-49b0-ae3f-f7dad38aab26');\n",
       "var x = new MutationObserver(function (mutations, observer) {{\n",
       "        var display = window.getComputedStyle(gd).display;\n",
       "        if (!display || display === 'none') {{\n",
       "            console.log([gd, 'removed!']);\n",
       "            Plotly.purge(gd);\n",
       "            observer.disconnect();\n",
       "        }}\n",
       "}});\n",
       "\n",
       "// Listen for the removal of the full notebook cells\n",
       "var notebookContainer = gd.closest('#notebook-container');\n",
       "if (notebookContainer) {{\n",
       "    x.observe(notebookContainer, {childList: true});\n",
       "}}\n",
       "\n",
       "// Listen for the clearing of the current output cell\n",
       "var outputEl = gd.closest('.output');\n",
       "if (outputEl) {{\n",
       "    x.observe(outputEl, {childList: true});\n",
       "}}\n",
       "\n",
       "                        })                };                });            </script>        </div>"
      ]
     },
     "metadata": {},
     "output_type": "display_data"
    }
   ],
   "source": [
    "res.iloc[-50:].iplot()"
   ]
  },
  {
   "cell_type": "code",
   "execution_count": 34,
   "metadata": {},
   "outputs": [
    {
     "data": {
      "text/html": [
       "<div>\n",
       "<style scoped>\n",
       "    .dataframe tbody tr th:only-of-type {\n",
       "        vertical-align: middle;\n",
       "    }\n",
       "\n",
       "    .dataframe tbody tr th {\n",
       "        vertical-align: top;\n",
       "    }\n",
       "\n",
       "    .dataframe thead th {\n",
       "        text-align: right;\n",
       "    }\n",
       "</style>\n",
       "<table border=\"1\" class=\"dataframe\">\n",
       "  <thead>\n",
       "    <tr style=\"text-align: right;\">\n",
       "      <th></th>\n",
       "      <th>JPM</th>\n",
       "      <th>PRED</th>\n",
       "    </tr>\n",
       "    <tr>\n",
       "      <th>Date</th>\n",
       "      <th></th>\n",
       "      <th></th>\n",
       "    </tr>\n",
       "  </thead>\n",
       "  <tbody>\n",
       "    <tr>\n",
       "      <th>2017-01-10</th>\n",
       "      <td>86.43</td>\n",
       "      <td>86.313586</td>\n",
       "    </tr>\n",
       "    <tr>\n",
       "      <th>2017-01-11</th>\n",
       "      <td>87.08</td>\n",
       "      <td>86.517</td>\n",
       "    </tr>\n",
       "    <tr>\n",
       "      <th>2017-01-12</th>\n",
       "      <td>86.24</td>\n",
       "      <td>87.18152</td>\n",
       "    </tr>\n",
       "    <tr>\n",
       "      <th>2017-01-13</th>\n",
       "      <td>86.7</td>\n",
       "      <td>86.326343</td>\n",
       "    </tr>\n",
       "    <tr>\n",
       "      <th>2017-01-17</th>\n",
       "      <td>83.55</td>\n",
       "      <td>86.686485</td>\n",
       "    </tr>\n",
       "  </tbody>\n",
       "</table>\n",
       "</div>"
      ],
      "text/plain": [
       "              JPM       PRED\n",
       "Date                        \n",
       "2017-01-10  86.43  86.313586\n",
       "2017-01-11  87.08     86.517\n",
       "2017-01-12  86.24   87.18152\n",
       "2017-01-13   86.7  86.326343\n",
       "2017-01-17  83.55  86.686485"
      ]
     },
     "execution_count": 34,
     "metadata": {},
     "output_type": "execute_result"
    }
   ],
   "source": [
    "res.head()"
   ]
  },
  {
   "cell_type": "markdown",
   "metadata": {},
   "source": [
    "## Analyzing the Results"
   ]
  },
  {
   "cell_type": "markdown",
   "metadata": {},
   "source": [
    "Now analyzing the **regression results** a bit more formally."
   ]
  },
  {
   "cell_type": "code",
   "execution_count": 35,
   "metadata": {},
   "outputs": [
    {
     "name": "stderr",
     "output_type": "stream",
     "text": [
      "C:\\ProgramData\\Anaconda3\\lib\\site-packages\\IPython\\core\\interactiveshell.py:3377: FutureWarning:\n",
      "\n",
      "arrays to stack must be passed as a \"sequence\" type such as list or tuple. Support for non-sequence iterables such as generators is deprecated as of NumPy 1.16 and will raise an error in the future.\n",
      "\n"
     ]
    },
    {
     "data": {
      "text/plain": [
       "array([[ 1.01921487,  0.04640413, -0.13249244,  0.06492666,  0.00283701],\n",
       "       [ 1.05205605, -0.04358253, -0.04135156,  0.03892146, -0.0049737 ],\n",
       "       [ 1.01496864, -0.03666907,  0.04284017,  0.05001041, -0.07075771],\n",
       "       [ 0.95341171,  0.07994752, -0.12674928,  0.1082215 , -0.01394681],\n",
       "       [ 0.9453596 ,  0.11760367, -0.12582698, -0.03101206,  0.09407309],\n",
       "       [ 1.08017855, -0.11059699, -0.02724082,  0.04463796,  0.01387277],\n",
       "       [ 0.94438099,  0.05941509, -0.09017798,  0.00341724,  0.08265393]])"
      ]
     },
     "execution_count": 35,
     "metadata": {},
     "output_type": "execute_result"
    }
   ],
   "source": [
    "rega = np.stack(regs.values())  # combines the regression results\n",
    "rega"
   ]
  },
  {
   "cell_type": "markdown",
   "metadata": {},
   "source": [
    "Almost all the weight lies on the most recent price (`lag_1`)."
   ]
  },
  {
   "cell_type": "code",
   "execution_count": 36,
   "metadata": {},
   "outputs": [
    {
     "data": {
      "text/plain": [
       "array([ 1.0013672 ,  0.01607454, -0.07157127,  0.03987474,  0.01482265])"
      ]
     },
     "execution_count": 36,
     "metadata": {},
     "output_type": "execute_result"
    }
   ],
   "source": [
    "rega.mean(axis=0)  # mean values by column"
   ]
  },
  {
   "cell_type": "code",
   "execution_count": 37,
   "metadata": {},
   "outputs": [],
   "source": [
    "regd = pd.DataFrame(rega, columns=cols, index=rics)  # converting the results to DataFrame"
   ]
  },
  {
   "cell_type": "code",
   "execution_count": 38,
   "metadata": {},
   "outputs": [
    {
     "data": {
      "text/html": [
       "<div>\n",
       "<style scoped>\n",
       "    .dataframe tbody tr th:only-of-type {\n",
       "        vertical-align: middle;\n",
       "    }\n",
       "\n",
       "    .dataframe tbody tr th {\n",
       "        vertical-align: top;\n",
       "    }\n",
       "\n",
       "    .dataframe thead th {\n",
       "        text-align: right;\n",
       "    }\n",
       "</style>\n",
       "<table border=\"1\" class=\"dataframe\">\n",
       "  <thead>\n",
       "    <tr style=\"text-align: right;\">\n",
       "      <th></th>\n",
       "      <th>lag_1</th>\n",
       "      <th>lag_2</th>\n",
       "      <th>lag_3</th>\n",
       "      <th>lag_4</th>\n",
       "      <th>lag_5</th>\n",
       "    </tr>\n",
       "  </thead>\n",
       "  <tbody>\n",
       "    <tr>\n",
       "      <th>JPM</th>\n",
       "      <td>1.019215</td>\n",
       "      <td>0.046404</td>\n",
       "      <td>-0.132492</td>\n",
       "      <td>0.064927</td>\n",
       "      <td>0.002837</td>\n",
       "    </tr>\n",
       "    <tr>\n",
       "      <th>BAC</th>\n",
       "      <td>1.052056</td>\n",
       "      <td>-0.043583</td>\n",
       "      <td>-0.041352</td>\n",
       "      <td>0.038921</td>\n",
       "      <td>-0.004974</td>\n",
       "    </tr>\n",
       "    <tr>\n",
       "      <th>WFC</th>\n",
       "      <td>1.014969</td>\n",
       "      <td>-0.036669</td>\n",
       "      <td>0.042840</td>\n",
       "      <td>0.050010</td>\n",
       "      <td>-0.070758</td>\n",
       "    </tr>\n",
       "    <tr>\n",
       "      <th>MS</th>\n",
       "      <td>0.953412</td>\n",
       "      <td>0.079948</td>\n",
       "      <td>-0.126749</td>\n",
       "      <td>0.108222</td>\n",
       "      <td>-0.013947</td>\n",
       "    </tr>\n",
       "    <tr>\n",
       "      <th>GS</th>\n",
       "      <td>0.945360</td>\n",
       "      <td>0.117604</td>\n",
       "      <td>-0.125827</td>\n",
       "      <td>-0.031012</td>\n",
       "      <td>0.094073</td>\n",
       "    </tr>\n",
       "    <tr>\n",
       "      <th>C</th>\n",
       "      <td>1.080179</td>\n",
       "      <td>-0.110597</td>\n",
       "      <td>-0.027241</td>\n",
       "      <td>0.044638</td>\n",
       "      <td>0.013873</td>\n",
       "    </tr>\n",
       "    <tr>\n",
       "      <th>BCS</th>\n",
       "      <td>0.944381</td>\n",
       "      <td>0.059415</td>\n",
       "      <td>-0.090178</td>\n",
       "      <td>0.003417</td>\n",
       "      <td>0.082654</td>\n",
       "    </tr>\n",
       "  </tbody>\n",
       "</table>\n",
       "</div>"
      ],
      "text/plain": [
       "        lag_1     lag_2     lag_3     lag_4     lag_5\n",
       "JPM  1.019215  0.046404 -0.132492  0.064927  0.002837\n",
       "BAC  1.052056 -0.043583 -0.041352  0.038921 -0.004974\n",
       "WFC  1.014969 -0.036669  0.042840  0.050010 -0.070758\n",
       "MS   0.953412  0.079948 -0.126749  0.108222 -0.013947\n",
       "GS   0.945360  0.117604 -0.125827 -0.031012  0.094073\n",
       "C    1.080179 -0.110597 -0.027241  0.044638  0.013873\n",
       "BCS  0.944381  0.059415 -0.090178  0.003417  0.082654"
      ]
     },
     "execution_count": 38,
     "metadata": {},
     "output_type": "execute_result"
    }
   ],
   "source": [
    "regd"
   ]
  },
  {
   "cell_type": "code",
   "execution_count": 39,
   "metadata": {},
   "outputs": [
    {
     "data": {
      "text/html": [
       "<div>\n",
       "<style scoped>\n",
       "    .dataframe tbody tr th:only-of-type {\n",
       "        vertical-align: middle;\n",
       "    }\n",
       "\n",
       "    .dataframe tbody tr th {\n",
       "        vertical-align: top;\n",
       "    }\n",
       "\n",
       "    .dataframe thead th {\n",
       "        text-align: right;\n",
       "    }\n",
       "</style>\n",
       "<table border=\"1\" class=\"dataframe\">\n",
       "  <thead>\n",
       "    <tr style=\"text-align: right;\">\n",
       "      <th></th>\n",
       "      <th>lag_1</th>\n",
       "      <th>lag_2</th>\n",
       "      <th>lag_3</th>\n",
       "      <th>lag_4</th>\n",
       "      <th>lag_5</th>\n",
       "    </tr>\n",
       "  </thead>\n",
       "  <tbody>\n",
       "    <tr>\n",
       "      <th>count</th>\n",
       "      <td>7.000000</td>\n",
       "      <td>7.000000</td>\n",
       "      <td>7.000000</td>\n",
       "      <td>7.000000</td>\n",
       "      <td>7.000000</td>\n",
       "    </tr>\n",
       "    <tr>\n",
       "      <th>mean</th>\n",
       "      <td>1.001367</td>\n",
       "      <td>0.016075</td>\n",
       "      <td>-0.071571</td>\n",
       "      <td>0.039875</td>\n",
       "      <td>0.014823</td>\n",
       "    </tr>\n",
       "    <tr>\n",
       "      <th>std</th>\n",
       "      <td>0.054724</td>\n",
       "      <td>0.081212</td>\n",
       "      <td>0.065846</td>\n",
       "      <td>0.044308</td>\n",
       "      <td>0.057111</td>\n",
       "    </tr>\n",
       "    <tr>\n",
       "      <th>min</th>\n",
       "      <td>0.944381</td>\n",
       "      <td>-0.110597</td>\n",
       "      <td>-0.132492</td>\n",
       "      <td>-0.031012</td>\n",
       "      <td>-0.070758</td>\n",
       "    </tr>\n",
       "    <tr>\n",
       "      <th>25%</th>\n",
       "      <td>0.949386</td>\n",
       "      <td>-0.040126</td>\n",
       "      <td>-0.126288</td>\n",
       "      <td>0.021169</td>\n",
       "      <td>-0.009460</td>\n",
       "    </tr>\n",
       "    <tr>\n",
       "      <th>50%</th>\n",
       "      <td>1.014969</td>\n",
       "      <td>0.046404</td>\n",
       "      <td>-0.090178</td>\n",
       "      <td>0.044638</td>\n",
       "      <td>0.002837</td>\n",
       "    </tr>\n",
       "    <tr>\n",
       "      <th>75%</th>\n",
       "      <td>1.035635</td>\n",
       "      <td>0.069681</td>\n",
       "      <td>-0.034296</td>\n",
       "      <td>0.057469</td>\n",
       "      <td>0.048263</td>\n",
       "    </tr>\n",
       "    <tr>\n",
       "      <th>max</th>\n",
       "      <td>1.080179</td>\n",
       "      <td>0.117604</td>\n",
       "      <td>0.042840</td>\n",
       "      <td>0.108222</td>\n",
       "      <td>0.094073</td>\n",
       "    </tr>\n",
       "  </tbody>\n",
       "</table>\n",
       "</div>"
      ],
      "text/plain": [
       "          lag_1     lag_2     lag_3     lag_4     lag_5\n",
       "count  7.000000  7.000000  7.000000  7.000000  7.000000\n",
       "mean   1.001367  0.016075 -0.071571  0.039875  0.014823\n",
       "std    0.054724  0.081212  0.065846  0.044308  0.057111\n",
       "min    0.944381 -0.110597 -0.132492 -0.031012 -0.070758\n",
       "25%    0.949386 -0.040126 -0.126288  0.021169 -0.009460\n",
       "50%    1.014969  0.046404 -0.090178  0.044638  0.002837\n",
       "75%    1.035635  0.069681 -0.034296  0.057469  0.048263\n",
       "max    1.080179  0.117604  0.042840  0.108222  0.094073"
      ]
     },
     "execution_count": 39,
     "metadata": {},
     "output_type": "execute_result"
    }
   ],
   "source": [
    "regd.describe()  # summary statistics"
   ]
  },
  {
   "cell_type": "markdown",
   "metadata": {},
   "source": [
    "## Visualizing the Results"
   ]
  },
  {
   "cell_type": "markdown",
   "metadata": {},
   "source": [
    "The following bar chart illustrates that the results a qualitatively similar for all `RICS` analyzed &mdash; \"_today's price is the best predictor, in a least-squares sense, for tomorrow's price_\"."
   ]
  },
  {
   "cell_type": "code",
   "execution_count": 40,
   "metadata": {},
   "outputs": [
    {
     "data": {
      "application/vnd.plotly.v1+json": {
       "config": {
        "linkText": "Export to plot.ly",
        "plotlyServerURL": "https://plot.ly",
        "showLink": true
       },
       "data": [
        {
         "marker": {
          "color": "rgba(255, 153, 51, 0.6)",
          "line": {
           "color": "rgba(255, 153, 51, 1.0)",
           "width": 1
          }
         },
         "name": "lag_1",
         "orientation": "v",
         "text": "",
         "type": "bar",
         "x": [
          "JPM",
          "BAC",
          "WFC",
          "MS",
          "GS",
          "C",
          "BCS"
         ],
         "y": [
          1.019214870257216,
          1.0520560475957281,
          1.0149686365924413,
          0.9534117120207589,
          0.9453596005919098,
          1.080178546053094,
          0.9443809875863283
         ]
        },
        {
         "marker": {
          "color": "rgba(55, 128, 191, 0.6)",
          "line": {
           "color": "rgba(55, 128, 191, 1.0)",
           "width": 1
          }
         },
         "name": "lag_2",
         "orientation": "v",
         "text": "",
         "type": "bar",
         "x": [
          "JPM",
          "BAC",
          "WFC",
          "MS",
          "GS",
          "C",
          "BCS"
         ],
         "y": [
          0.04640412691971728,
          -0.043582526846569505,
          -0.0366690744857213,
          0.07994751672410995,
          0.1176036683159272,
          -0.11059698500126897,
          0.059415088800925504
         ]
        },
        {
         "marker": {
          "color": "rgba(50, 171, 96, 0.6)",
          "line": {
           "color": "rgba(50, 171, 96, 1.0)",
           "width": 1
          }
         },
         "name": "lag_3",
         "orientation": "v",
         "text": "",
         "type": "bar",
         "x": [
          "JPM",
          "BAC",
          "WFC",
          "MS",
          "GS",
          "C",
          "BCS"
         ],
         "y": [
          -0.13249243527641488,
          -0.041351560356794895,
          0.042840171784668604,
          -0.12674928064567026,
          -0.12582697878683521,
          -0.02724082074912846,
          -0.09017797686495892
         ]
        },
        {
         "marker": {
          "color": "rgba(128, 0, 128, 0.6)",
          "line": {
           "color": "rgba(128, 0, 128, 1.0)",
           "width": 1
          }
         },
         "name": "lag_4",
         "orientation": "v",
         "text": "",
         "type": "bar",
         "x": [
          "JPM",
          "BAC",
          "WFC",
          "MS",
          "GS",
          "C",
          "BCS"
         ],
         "y": [
          0.06492666223301628,
          0.03892145778711317,
          0.050010410705917205,
          0.10822150134604223,
          -0.031012056362214154,
          0.044637961953166105,
          0.0034172369207444786
         ]
        },
        {
         "marker": {
          "color": "rgba(219, 64, 82, 0.6)",
          "line": {
           "color": "rgba(219, 64, 82, 1.0)",
           "width": 1
          }
         },
         "name": "lag_5",
         "orientation": "v",
         "text": "",
         "type": "bar",
         "x": [
          "JPM",
          "BAC",
          "WFC",
          "MS",
          "GS",
          "C",
          "BCS"
         ],
         "y": [
          0.002837007673327391,
          -0.004973704461717775,
          -0.07075770521783244,
          -0.013946814281915715,
          0.0940730948855266,
          0.013872771193777429,
          0.08265393083189182
         ]
        }
       ],
       "layout": {
        "legend": {
         "bgcolor": "#F5F6F9",
         "font": {
          "color": "#4D5663"
         }
        },
        "paper_bgcolor": "#F5F6F9",
        "plot_bgcolor": "#F5F6F9",
        "template": {
         "data": {
          "bar": [
           {
            "error_x": {
             "color": "#2a3f5f"
            },
            "error_y": {
             "color": "#2a3f5f"
            },
            "marker": {
             "line": {
              "color": "#E5ECF6",
              "width": 0.5
             },
             "pattern": {
              "fillmode": "overlay",
              "size": 10,
              "solidity": 0.2
             }
            },
            "type": "bar"
           }
          ],
          "barpolar": [
           {
            "marker": {
             "line": {
              "color": "#E5ECF6",
              "width": 0.5
             },
             "pattern": {
              "fillmode": "overlay",
              "size": 10,
              "solidity": 0.2
             }
            },
            "type": "barpolar"
           }
          ],
          "carpet": [
           {
            "aaxis": {
             "endlinecolor": "#2a3f5f",
             "gridcolor": "white",
             "linecolor": "white",
             "minorgridcolor": "white",
             "startlinecolor": "#2a3f5f"
            },
            "baxis": {
             "endlinecolor": "#2a3f5f",
             "gridcolor": "white",
             "linecolor": "white",
             "minorgridcolor": "white",
             "startlinecolor": "#2a3f5f"
            },
            "type": "carpet"
           }
          ],
          "choropleth": [
           {
            "colorbar": {
             "outlinewidth": 0,
             "ticks": ""
            },
            "type": "choropleth"
           }
          ],
          "contour": [
           {
            "colorbar": {
             "outlinewidth": 0,
             "ticks": ""
            },
            "colorscale": [
             [
              0,
              "#0d0887"
             ],
             [
              0.1111111111111111,
              "#46039f"
             ],
             [
              0.2222222222222222,
              "#7201a8"
             ],
             [
              0.3333333333333333,
              "#9c179e"
             ],
             [
              0.4444444444444444,
              "#bd3786"
             ],
             [
              0.5555555555555556,
              "#d8576b"
             ],
             [
              0.6666666666666666,
              "#ed7953"
             ],
             [
              0.7777777777777778,
              "#fb9f3a"
             ],
             [
              0.8888888888888888,
              "#fdca26"
             ],
             [
              1,
              "#f0f921"
             ]
            ],
            "type": "contour"
           }
          ],
          "contourcarpet": [
           {
            "colorbar": {
             "outlinewidth": 0,
             "ticks": ""
            },
            "type": "contourcarpet"
           }
          ],
          "heatmap": [
           {
            "colorbar": {
             "outlinewidth": 0,
             "ticks": ""
            },
            "colorscale": [
             [
              0,
              "#0d0887"
             ],
             [
              0.1111111111111111,
              "#46039f"
             ],
             [
              0.2222222222222222,
              "#7201a8"
             ],
             [
              0.3333333333333333,
              "#9c179e"
             ],
             [
              0.4444444444444444,
              "#bd3786"
             ],
             [
              0.5555555555555556,
              "#d8576b"
             ],
             [
              0.6666666666666666,
              "#ed7953"
             ],
             [
              0.7777777777777778,
              "#fb9f3a"
             ],
             [
              0.8888888888888888,
              "#fdca26"
             ],
             [
              1,
              "#f0f921"
             ]
            ],
            "type": "heatmap"
           }
          ],
          "heatmapgl": [
           {
            "colorbar": {
             "outlinewidth": 0,
             "ticks": ""
            },
            "colorscale": [
             [
              0,
              "#0d0887"
             ],
             [
              0.1111111111111111,
              "#46039f"
             ],
             [
              0.2222222222222222,
              "#7201a8"
             ],
             [
              0.3333333333333333,
              "#9c179e"
             ],
             [
              0.4444444444444444,
              "#bd3786"
             ],
             [
              0.5555555555555556,
              "#d8576b"
             ],
             [
              0.6666666666666666,
              "#ed7953"
             ],
             [
              0.7777777777777778,
              "#fb9f3a"
             ],
             [
              0.8888888888888888,
              "#fdca26"
             ],
             [
              1,
              "#f0f921"
             ]
            ],
            "type": "heatmapgl"
           }
          ],
          "histogram": [
           {
            "marker": {
             "pattern": {
              "fillmode": "overlay",
              "size": 10,
              "solidity": 0.2
             }
            },
            "type": "histogram"
           }
          ],
          "histogram2d": [
           {
            "colorbar": {
             "outlinewidth": 0,
             "ticks": ""
            },
            "colorscale": [
             [
              0,
              "#0d0887"
             ],
             [
              0.1111111111111111,
              "#46039f"
             ],
             [
              0.2222222222222222,
              "#7201a8"
             ],
             [
              0.3333333333333333,
              "#9c179e"
             ],
             [
              0.4444444444444444,
              "#bd3786"
             ],
             [
              0.5555555555555556,
              "#d8576b"
             ],
             [
              0.6666666666666666,
              "#ed7953"
             ],
             [
              0.7777777777777778,
              "#fb9f3a"
             ],
             [
              0.8888888888888888,
              "#fdca26"
             ],
             [
              1,
              "#f0f921"
             ]
            ],
            "type": "histogram2d"
           }
          ],
          "histogram2dcontour": [
           {
            "colorbar": {
             "outlinewidth": 0,
             "ticks": ""
            },
            "colorscale": [
             [
              0,
              "#0d0887"
             ],
             [
              0.1111111111111111,
              "#46039f"
             ],
             [
              0.2222222222222222,
              "#7201a8"
             ],
             [
              0.3333333333333333,
              "#9c179e"
             ],
             [
              0.4444444444444444,
              "#bd3786"
             ],
             [
              0.5555555555555556,
              "#d8576b"
             ],
             [
              0.6666666666666666,
              "#ed7953"
             ],
             [
              0.7777777777777778,
              "#fb9f3a"
             ],
             [
              0.8888888888888888,
              "#fdca26"
             ],
             [
              1,
              "#f0f921"
             ]
            ],
            "type": "histogram2dcontour"
           }
          ],
          "mesh3d": [
           {
            "colorbar": {
             "outlinewidth": 0,
             "ticks": ""
            },
            "type": "mesh3d"
           }
          ],
          "parcoords": [
           {
            "line": {
             "colorbar": {
              "outlinewidth": 0,
              "ticks": ""
             }
            },
            "type": "parcoords"
           }
          ],
          "pie": [
           {
            "automargin": true,
            "type": "pie"
           }
          ],
          "scatter": [
           {
            "fillpattern": {
             "fillmode": "overlay",
             "size": 10,
             "solidity": 0.2
            },
            "type": "scatter"
           }
          ],
          "scatter3d": [
           {
            "line": {
             "colorbar": {
              "outlinewidth": 0,
              "ticks": ""
             }
            },
            "marker": {
             "colorbar": {
              "outlinewidth": 0,
              "ticks": ""
             }
            },
            "type": "scatter3d"
           }
          ],
          "scattercarpet": [
           {
            "marker": {
             "colorbar": {
              "outlinewidth": 0,
              "ticks": ""
             }
            },
            "type": "scattercarpet"
           }
          ],
          "scattergeo": [
           {
            "marker": {
             "colorbar": {
              "outlinewidth": 0,
              "ticks": ""
             }
            },
            "type": "scattergeo"
           }
          ],
          "scattergl": [
           {
            "marker": {
             "colorbar": {
              "outlinewidth": 0,
              "ticks": ""
             }
            },
            "type": "scattergl"
           }
          ],
          "scattermapbox": [
           {
            "marker": {
             "colorbar": {
              "outlinewidth": 0,
              "ticks": ""
             }
            },
            "type": "scattermapbox"
           }
          ],
          "scatterpolar": [
           {
            "marker": {
             "colorbar": {
              "outlinewidth": 0,
              "ticks": ""
             }
            },
            "type": "scatterpolar"
           }
          ],
          "scatterpolargl": [
           {
            "marker": {
             "colorbar": {
              "outlinewidth": 0,
              "ticks": ""
             }
            },
            "type": "scatterpolargl"
           }
          ],
          "scatterternary": [
           {
            "marker": {
             "colorbar": {
              "outlinewidth": 0,
              "ticks": ""
             }
            },
            "type": "scatterternary"
           }
          ],
          "surface": [
           {
            "colorbar": {
             "outlinewidth": 0,
             "ticks": ""
            },
            "colorscale": [
             [
              0,
              "#0d0887"
             ],
             [
              0.1111111111111111,
              "#46039f"
             ],
             [
              0.2222222222222222,
              "#7201a8"
             ],
             [
              0.3333333333333333,
              "#9c179e"
             ],
             [
              0.4444444444444444,
              "#bd3786"
             ],
             [
              0.5555555555555556,
              "#d8576b"
             ],
             [
              0.6666666666666666,
              "#ed7953"
             ],
             [
              0.7777777777777778,
              "#fb9f3a"
             ],
             [
              0.8888888888888888,
              "#fdca26"
             ],
             [
              1,
              "#f0f921"
             ]
            ],
            "type": "surface"
           }
          ],
          "table": [
           {
            "cells": {
             "fill": {
              "color": "#EBF0F8"
             },
             "line": {
              "color": "white"
             }
            },
            "header": {
             "fill": {
              "color": "#C8D4E3"
             },
             "line": {
              "color": "white"
             }
            },
            "type": "table"
           }
          ]
         },
         "layout": {
          "annotationdefaults": {
           "arrowcolor": "#2a3f5f",
           "arrowhead": 0,
           "arrowwidth": 1
          },
          "autotypenumbers": "strict",
          "coloraxis": {
           "colorbar": {
            "outlinewidth": 0,
            "ticks": ""
           }
          },
          "colorscale": {
           "diverging": [
            [
             0,
             "#8e0152"
            ],
            [
             0.1,
             "#c51b7d"
            ],
            [
             0.2,
             "#de77ae"
            ],
            [
             0.3,
             "#f1b6da"
            ],
            [
             0.4,
             "#fde0ef"
            ],
            [
             0.5,
             "#f7f7f7"
            ],
            [
             0.6,
             "#e6f5d0"
            ],
            [
             0.7,
             "#b8e186"
            ],
            [
             0.8,
             "#7fbc41"
            ],
            [
             0.9,
             "#4d9221"
            ],
            [
             1,
             "#276419"
            ]
           ],
           "sequential": [
            [
             0,
             "#0d0887"
            ],
            [
             0.1111111111111111,
             "#46039f"
            ],
            [
             0.2222222222222222,
             "#7201a8"
            ],
            [
             0.3333333333333333,
             "#9c179e"
            ],
            [
             0.4444444444444444,
             "#bd3786"
            ],
            [
             0.5555555555555556,
             "#d8576b"
            ],
            [
             0.6666666666666666,
             "#ed7953"
            ],
            [
             0.7777777777777778,
             "#fb9f3a"
            ],
            [
             0.8888888888888888,
             "#fdca26"
            ],
            [
             1,
             "#f0f921"
            ]
           ],
           "sequentialminus": [
            [
             0,
             "#0d0887"
            ],
            [
             0.1111111111111111,
             "#46039f"
            ],
            [
             0.2222222222222222,
             "#7201a8"
            ],
            [
             0.3333333333333333,
             "#9c179e"
            ],
            [
             0.4444444444444444,
             "#bd3786"
            ],
            [
             0.5555555555555556,
             "#d8576b"
            ],
            [
             0.6666666666666666,
             "#ed7953"
            ],
            [
             0.7777777777777778,
             "#fb9f3a"
            ],
            [
             0.8888888888888888,
             "#fdca26"
            ],
            [
             1,
             "#f0f921"
            ]
           ]
          },
          "colorway": [
           "#636efa",
           "#EF553B",
           "#00cc96",
           "#ab63fa",
           "#FFA15A",
           "#19d3f3",
           "#FF6692",
           "#B6E880",
           "#FF97FF",
           "#FECB52"
          ],
          "font": {
           "color": "#2a3f5f"
          },
          "geo": {
           "bgcolor": "white",
           "lakecolor": "white",
           "landcolor": "#E5ECF6",
           "showlakes": true,
           "showland": true,
           "subunitcolor": "white"
          },
          "hoverlabel": {
           "align": "left"
          },
          "hovermode": "closest",
          "mapbox": {
           "style": "light"
          },
          "paper_bgcolor": "white",
          "plot_bgcolor": "#E5ECF6",
          "polar": {
           "angularaxis": {
            "gridcolor": "white",
            "linecolor": "white",
            "ticks": ""
           },
           "bgcolor": "#E5ECF6",
           "radialaxis": {
            "gridcolor": "white",
            "linecolor": "white",
            "ticks": ""
           }
          },
          "scene": {
           "xaxis": {
            "backgroundcolor": "#E5ECF6",
            "gridcolor": "white",
            "gridwidth": 2,
            "linecolor": "white",
            "showbackground": true,
            "ticks": "",
            "zerolinecolor": "white"
           },
           "yaxis": {
            "backgroundcolor": "#E5ECF6",
            "gridcolor": "white",
            "gridwidth": 2,
            "linecolor": "white",
            "showbackground": true,
            "ticks": "",
            "zerolinecolor": "white"
           },
           "zaxis": {
            "backgroundcolor": "#E5ECF6",
            "gridcolor": "white",
            "gridwidth": 2,
            "linecolor": "white",
            "showbackground": true,
            "ticks": "",
            "zerolinecolor": "white"
           }
          },
          "shapedefaults": {
           "line": {
            "color": "#2a3f5f"
           }
          },
          "ternary": {
           "aaxis": {
            "gridcolor": "white",
            "linecolor": "white",
            "ticks": ""
           },
           "baxis": {
            "gridcolor": "white",
            "linecolor": "white",
            "ticks": ""
           },
           "bgcolor": "#E5ECF6",
           "caxis": {
            "gridcolor": "white",
            "linecolor": "white",
            "ticks": ""
           }
          },
          "title": {
           "x": 0.05
          },
          "xaxis": {
           "automargin": true,
           "gridcolor": "white",
           "linecolor": "white",
           "ticks": "",
           "title": {
            "standoff": 15
           },
           "zerolinecolor": "white",
           "zerolinewidth": 2
          },
          "yaxis": {
           "automargin": true,
           "gridcolor": "white",
           "linecolor": "white",
           "ticks": "",
           "title": {
            "standoff": 15
           },
           "zerolinecolor": "white",
           "zerolinewidth": 2
          }
         }
        },
        "title": {
         "font": {
          "color": "#4D5663"
         }
        },
        "xaxis": {
         "gridcolor": "#E1E5ED",
         "showgrid": true,
         "tickfont": {
          "color": "#4D5663"
         },
         "title": {
          "font": {
           "color": "#4D5663"
          },
          "text": ""
         },
         "zerolinecolor": "#E1E5ED"
        },
        "yaxis": {
         "gridcolor": "#E1E5ED",
         "showgrid": true,
         "tickfont": {
          "color": "#4D5663"
         },
         "title": {
          "font": {
           "color": "#4D5663"
          },
          "text": ""
         },
         "zerolinecolor": "#E1E5ED"
        }
       }
      },
      "text/html": [
       "<div>                            <div id=\"e9e557e7-bb64-4129-a164-e4b2a78c6358\" class=\"plotly-graph-div\" style=\"height:525px; width:100%;\"></div>            <script type=\"text/javascript\">                require([\"plotly\"], function(Plotly) {                    window.PLOTLYENV=window.PLOTLYENV || {};\n",
       "                    window.PLOTLYENV.BASE_URL='https://plot.ly';                                    if (document.getElementById(\"e9e557e7-bb64-4129-a164-e4b2a78c6358\")) {                    Plotly.newPlot(                        \"e9e557e7-bb64-4129-a164-e4b2a78c6358\",                        [{\"marker\":{\"color\":\"rgba(255, 153, 51, 0.6)\",\"line\":{\"color\":\"rgba(255, 153, 51, 1.0)\",\"width\":1}},\"name\":\"lag_1\",\"orientation\":\"v\",\"text\":\"\",\"x\":[\"JPM\",\"BAC\",\"WFC\",\"MS\",\"GS\",\"C\",\"BCS\"],\"y\":[1.019214870257216,1.0520560475957281,1.0149686365924413,0.9534117120207589,0.9453596005919098,1.080178546053094,0.9443809875863283],\"type\":\"bar\"},{\"marker\":{\"color\":\"rgba(55, 128, 191, 0.6)\",\"line\":{\"color\":\"rgba(55, 128, 191, 1.0)\",\"width\":1}},\"name\":\"lag_2\",\"orientation\":\"v\",\"text\":\"\",\"x\":[\"JPM\",\"BAC\",\"WFC\",\"MS\",\"GS\",\"C\",\"BCS\"],\"y\":[0.04640412691971728,-0.043582526846569505,-0.0366690744857213,0.07994751672410995,0.1176036683159272,-0.11059698500126897,0.059415088800925504],\"type\":\"bar\"},{\"marker\":{\"color\":\"rgba(50, 171, 96, 0.6)\",\"line\":{\"color\":\"rgba(50, 171, 96, 1.0)\",\"width\":1}},\"name\":\"lag_3\",\"orientation\":\"v\",\"text\":\"\",\"x\":[\"JPM\",\"BAC\",\"WFC\",\"MS\",\"GS\",\"C\",\"BCS\"],\"y\":[-0.13249243527641488,-0.041351560356794895,0.042840171784668604,-0.12674928064567026,-0.12582697878683521,-0.02724082074912846,-0.09017797686495892],\"type\":\"bar\"},{\"marker\":{\"color\":\"rgba(128, 0, 128, 0.6)\",\"line\":{\"color\":\"rgba(128, 0, 128, 1.0)\",\"width\":1}},\"name\":\"lag_4\",\"orientation\":\"v\",\"text\":\"\",\"x\":[\"JPM\",\"BAC\",\"WFC\",\"MS\",\"GS\",\"C\",\"BCS\"],\"y\":[0.06492666223301628,0.03892145778711317,0.050010410705917205,0.10822150134604223,-0.031012056362214154,0.044637961953166105,0.0034172369207444786],\"type\":\"bar\"},{\"marker\":{\"color\":\"rgba(219, 64, 82, 0.6)\",\"line\":{\"color\":\"rgba(219, 64, 82, 1.0)\",\"width\":1}},\"name\":\"lag_5\",\"orientation\":\"v\",\"text\":\"\",\"x\":[\"JPM\",\"BAC\",\"WFC\",\"MS\",\"GS\",\"C\",\"BCS\"],\"y\":[0.002837007673327391,-0.004973704461717775,-0.07075770521783244,-0.013946814281915715,0.0940730948855266,0.013872771193777429,0.08265393083189182],\"type\":\"bar\"}],                        {\"legend\":{\"bgcolor\":\"#F5F6F9\",\"font\":{\"color\":\"#4D5663\"}},\"paper_bgcolor\":\"#F5F6F9\",\"plot_bgcolor\":\"#F5F6F9\",\"template\":{\"data\":{\"barpolar\":[{\"marker\":{\"line\":{\"color\":\"#E5ECF6\",\"width\":0.5},\"pattern\":{\"fillmode\":\"overlay\",\"size\":10,\"solidity\":0.2}},\"type\":\"barpolar\"}],\"bar\":[{\"error_x\":{\"color\":\"#2a3f5f\"},\"error_y\":{\"color\":\"#2a3f5f\"},\"marker\":{\"line\":{\"color\":\"#E5ECF6\",\"width\":0.5},\"pattern\":{\"fillmode\":\"overlay\",\"size\":10,\"solidity\":0.2}},\"type\":\"bar\"}],\"carpet\":[{\"aaxis\":{\"endlinecolor\":\"#2a3f5f\",\"gridcolor\":\"white\",\"linecolor\":\"white\",\"minorgridcolor\":\"white\",\"startlinecolor\":\"#2a3f5f\"},\"baxis\":{\"endlinecolor\":\"#2a3f5f\",\"gridcolor\":\"white\",\"linecolor\":\"white\",\"minorgridcolor\":\"white\",\"startlinecolor\":\"#2a3f5f\"},\"type\":\"carpet\"}],\"choropleth\":[{\"colorbar\":{\"outlinewidth\":0,\"ticks\":\"\"},\"type\":\"choropleth\"}],\"contourcarpet\":[{\"colorbar\":{\"outlinewidth\":0,\"ticks\":\"\"},\"type\":\"contourcarpet\"}],\"contour\":[{\"colorbar\":{\"outlinewidth\":0,\"ticks\":\"\"},\"colorscale\":[[0.0,\"#0d0887\"],[0.1111111111111111,\"#46039f\"],[0.2222222222222222,\"#7201a8\"],[0.3333333333333333,\"#9c179e\"],[0.4444444444444444,\"#bd3786\"],[0.5555555555555556,\"#d8576b\"],[0.6666666666666666,\"#ed7953\"],[0.7777777777777778,\"#fb9f3a\"],[0.8888888888888888,\"#fdca26\"],[1.0,\"#f0f921\"]],\"type\":\"contour\"}],\"heatmapgl\":[{\"colorbar\":{\"outlinewidth\":0,\"ticks\":\"\"},\"colorscale\":[[0.0,\"#0d0887\"],[0.1111111111111111,\"#46039f\"],[0.2222222222222222,\"#7201a8\"],[0.3333333333333333,\"#9c179e\"],[0.4444444444444444,\"#bd3786\"],[0.5555555555555556,\"#d8576b\"],[0.6666666666666666,\"#ed7953\"],[0.7777777777777778,\"#fb9f3a\"],[0.8888888888888888,\"#fdca26\"],[1.0,\"#f0f921\"]],\"type\":\"heatmapgl\"}],\"heatmap\":[{\"colorbar\":{\"outlinewidth\":0,\"ticks\":\"\"},\"colorscale\":[[0.0,\"#0d0887\"],[0.1111111111111111,\"#46039f\"],[0.2222222222222222,\"#7201a8\"],[0.3333333333333333,\"#9c179e\"],[0.4444444444444444,\"#bd3786\"],[0.5555555555555556,\"#d8576b\"],[0.6666666666666666,\"#ed7953\"],[0.7777777777777778,\"#fb9f3a\"],[0.8888888888888888,\"#fdca26\"],[1.0,\"#f0f921\"]],\"type\":\"heatmap\"}],\"histogram2dcontour\":[{\"colorbar\":{\"outlinewidth\":0,\"ticks\":\"\"},\"colorscale\":[[0.0,\"#0d0887\"],[0.1111111111111111,\"#46039f\"],[0.2222222222222222,\"#7201a8\"],[0.3333333333333333,\"#9c179e\"],[0.4444444444444444,\"#bd3786\"],[0.5555555555555556,\"#d8576b\"],[0.6666666666666666,\"#ed7953\"],[0.7777777777777778,\"#fb9f3a\"],[0.8888888888888888,\"#fdca26\"],[1.0,\"#f0f921\"]],\"type\":\"histogram2dcontour\"}],\"histogram2d\":[{\"colorbar\":{\"outlinewidth\":0,\"ticks\":\"\"},\"colorscale\":[[0.0,\"#0d0887\"],[0.1111111111111111,\"#46039f\"],[0.2222222222222222,\"#7201a8\"],[0.3333333333333333,\"#9c179e\"],[0.4444444444444444,\"#bd3786\"],[0.5555555555555556,\"#d8576b\"],[0.6666666666666666,\"#ed7953\"],[0.7777777777777778,\"#fb9f3a\"],[0.8888888888888888,\"#fdca26\"],[1.0,\"#f0f921\"]],\"type\":\"histogram2d\"}],\"histogram\":[{\"marker\":{\"pattern\":{\"fillmode\":\"overlay\",\"size\":10,\"solidity\":0.2}},\"type\":\"histogram\"}],\"mesh3d\":[{\"colorbar\":{\"outlinewidth\":0,\"ticks\":\"\"},\"type\":\"mesh3d\"}],\"parcoords\":[{\"line\":{\"colorbar\":{\"outlinewidth\":0,\"ticks\":\"\"}},\"type\":\"parcoords\"}],\"pie\":[{\"automargin\":true,\"type\":\"pie\"}],\"scatter3d\":[{\"line\":{\"colorbar\":{\"outlinewidth\":0,\"ticks\":\"\"}},\"marker\":{\"colorbar\":{\"outlinewidth\":0,\"ticks\":\"\"}},\"type\":\"scatter3d\"}],\"scattercarpet\":[{\"marker\":{\"colorbar\":{\"outlinewidth\":0,\"ticks\":\"\"}},\"type\":\"scattercarpet\"}],\"scattergeo\":[{\"marker\":{\"colorbar\":{\"outlinewidth\":0,\"ticks\":\"\"}},\"type\":\"scattergeo\"}],\"scattergl\":[{\"marker\":{\"colorbar\":{\"outlinewidth\":0,\"ticks\":\"\"}},\"type\":\"scattergl\"}],\"scattermapbox\":[{\"marker\":{\"colorbar\":{\"outlinewidth\":0,\"ticks\":\"\"}},\"type\":\"scattermapbox\"}],\"scatterpolargl\":[{\"marker\":{\"colorbar\":{\"outlinewidth\":0,\"ticks\":\"\"}},\"type\":\"scatterpolargl\"}],\"scatterpolar\":[{\"marker\":{\"colorbar\":{\"outlinewidth\":0,\"ticks\":\"\"}},\"type\":\"scatterpolar\"}],\"scatter\":[{\"fillpattern\":{\"fillmode\":\"overlay\",\"size\":10,\"solidity\":0.2},\"type\":\"scatter\"}],\"scatterternary\":[{\"marker\":{\"colorbar\":{\"outlinewidth\":0,\"ticks\":\"\"}},\"type\":\"scatterternary\"}],\"surface\":[{\"colorbar\":{\"outlinewidth\":0,\"ticks\":\"\"},\"colorscale\":[[0.0,\"#0d0887\"],[0.1111111111111111,\"#46039f\"],[0.2222222222222222,\"#7201a8\"],[0.3333333333333333,\"#9c179e\"],[0.4444444444444444,\"#bd3786\"],[0.5555555555555556,\"#d8576b\"],[0.6666666666666666,\"#ed7953\"],[0.7777777777777778,\"#fb9f3a\"],[0.8888888888888888,\"#fdca26\"],[1.0,\"#f0f921\"]],\"type\":\"surface\"}],\"table\":[{\"cells\":{\"fill\":{\"color\":\"#EBF0F8\"},\"line\":{\"color\":\"white\"}},\"header\":{\"fill\":{\"color\":\"#C8D4E3\"},\"line\":{\"color\":\"white\"}},\"type\":\"table\"}]},\"layout\":{\"annotationdefaults\":{\"arrowcolor\":\"#2a3f5f\",\"arrowhead\":0,\"arrowwidth\":1},\"autotypenumbers\":\"strict\",\"coloraxis\":{\"colorbar\":{\"outlinewidth\":0,\"ticks\":\"\"}},\"colorscale\":{\"diverging\":[[0,\"#8e0152\"],[0.1,\"#c51b7d\"],[0.2,\"#de77ae\"],[0.3,\"#f1b6da\"],[0.4,\"#fde0ef\"],[0.5,\"#f7f7f7\"],[0.6,\"#e6f5d0\"],[0.7,\"#b8e186\"],[0.8,\"#7fbc41\"],[0.9,\"#4d9221\"],[1,\"#276419\"]],\"sequential\":[[0.0,\"#0d0887\"],[0.1111111111111111,\"#46039f\"],[0.2222222222222222,\"#7201a8\"],[0.3333333333333333,\"#9c179e\"],[0.4444444444444444,\"#bd3786\"],[0.5555555555555556,\"#d8576b\"],[0.6666666666666666,\"#ed7953\"],[0.7777777777777778,\"#fb9f3a\"],[0.8888888888888888,\"#fdca26\"],[1.0,\"#f0f921\"]],\"sequentialminus\":[[0.0,\"#0d0887\"],[0.1111111111111111,\"#46039f\"],[0.2222222222222222,\"#7201a8\"],[0.3333333333333333,\"#9c179e\"],[0.4444444444444444,\"#bd3786\"],[0.5555555555555556,\"#d8576b\"],[0.6666666666666666,\"#ed7953\"],[0.7777777777777778,\"#fb9f3a\"],[0.8888888888888888,\"#fdca26\"],[1.0,\"#f0f921\"]]},\"colorway\":[\"#636efa\",\"#EF553B\",\"#00cc96\",\"#ab63fa\",\"#FFA15A\",\"#19d3f3\",\"#FF6692\",\"#B6E880\",\"#FF97FF\",\"#FECB52\"],\"font\":{\"color\":\"#2a3f5f\"},\"geo\":{\"bgcolor\":\"white\",\"lakecolor\":\"white\",\"landcolor\":\"#E5ECF6\",\"showlakes\":true,\"showland\":true,\"subunitcolor\":\"white\"},\"hoverlabel\":{\"align\":\"left\"},\"hovermode\":\"closest\",\"mapbox\":{\"style\":\"light\"},\"paper_bgcolor\":\"white\",\"plot_bgcolor\":\"#E5ECF6\",\"polar\":{\"angularaxis\":{\"gridcolor\":\"white\",\"linecolor\":\"white\",\"ticks\":\"\"},\"bgcolor\":\"#E5ECF6\",\"radialaxis\":{\"gridcolor\":\"white\",\"linecolor\":\"white\",\"ticks\":\"\"}},\"scene\":{\"xaxis\":{\"backgroundcolor\":\"#E5ECF6\",\"gridcolor\":\"white\",\"gridwidth\":2,\"linecolor\":\"white\",\"showbackground\":true,\"ticks\":\"\",\"zerolinecolor\":\"white\"},\"yaxis\":{\"backgroundcolor\":\"#E5ECF6\",\"gridcolor\":\"white\",\"gridwidth\":2,\"linecolor\":\"white\",\"showbackground\":true,\"ticks\":\"\",\"zerolinecolor\":\"white\"},\"zaxis\":{\"backgroundcolor\":\"#E5ECF6\",\"gridcolor\":\"white\",\"gridwidth\":2,\"linecolor\":\"white\",\"showbackground\":true,\"ticks\":\"\",\"zerolinecolor\":\"white\"}},\"shapedefaults\":{\"line\":{\"color\":\"#2a3f5f\"}},\"ternary\":{\"aaxis\":{\"gridcolor\":\"white\",\"linecolor\":\"white\",\"ticks\":\"\"},\"baxis\":{\"gridcolor\":\"white\",\"linecolor\":\"white\",\"ticks\":\"\"},\"bgcolor\":\"#E5ECF6\",\"caxis\":{\"gridcolor\":\"white\",\"linecolor\":\"white\",\"ticks\":\"\"}},\"title\":{\"x\":0.05},\"xaxis\":{\"automargin\":true,\"gridcolor\":\"white\",\"linecolor\":\"white\",\"ticks\":\"\",\"title\":{\"standoff\":15},\"zerolinecolor\":\"white\",\"zerolinewidth\":2},\"yaxis\":{\"automargin\":true,\"gridcolor\":\"white\",\"linecolor\":\"white\",\"ticks\":\"\",\"title\":{\"standoff\":15},\"zerolinecolor\":\"white\",\"zerolinewidth\":2}}},\"title\":{\"font\":{\"color\":\"#4D5663\"}},\"xaxis\":{\"gridcolor\":\"#E1E5ED\",\"showgrid\":true,\"tickfont\":{\"color\":\"#4D5663\"},\"title\":{\"font\":{\"color\":\"#4D5663\"},\"text\":\"\"},\"zerolinecolor\":\"#E1E5ED\"},\"yaxis\":{\"gridcolor\":\"#E1E5ED\",\"showgrid\":true,\"tickfont\":{\"color\":\"#4D5663\"},\"title\":{\"font\":{\"color\":\"#4D5663\"},\"text\":\"\"},\"zerolinecolor\":\"#E1E5ED\"}},                        {\"showLink\": true, \"linkText\": \"Export to plot.ly\", \"plotlyServerURL\": \"https://plot.ly\", \"responsive\": true}                    ).then(function(){\n",
       "                            \n",
       "var gd = document.getElementById('e9e557e7-bb64-4129-a164-e4b2a78c6358');\n",
       "var x = new MutationObserver(function (mutations, observer) {{\n",
       "        var display = window.getComputedStyle(gd).display;\n",
       "        if (!display || display === 'none') {{\n",
       "            console.log([gd, 'removed!']);\n",
       "            Plotly.purge(gd);\n",
       "            observer.disconnect();\n",
       "        }}\n",
       "}});\n",
       "\n",
       "// Listen for the removal of the full notebook cells\n",
       "var notebookContainer = gd.closest('#notebook-container');\n",
       "if (notebookContainer) {{\n",
       "    x.observe(notebookContainer, {childList: true});\n",
       "}}\n",
       "\n",
       "// Listen for the clearing of the current output cell\n",
       "var outputEl = gd.closest('.output');\n",
       "if (outputEl) {{\n",
       "    x.observe(outputEl, {childList: true});\n",
       "}}\n",
       "\n",
       "                        })                };                });            </script>        </div>"
      ]
     },
     "metadata": {},
     "output_type": "display_data"
    }
   ],
   "source": [
    "regd.iplot(kind='bar')"
   ]
  },
  {
   "cell_type": "markdown",
   "metadata": {},
   "source": [
    "The **mean values** for the single optimal regression parameters."
   ]
  },
  {
   "cell_type": "code",
   "execution_count": 41,
   "metadata": {},
   "outputs": [
    {
     "data": {
      "application/vnd.plotly.v1+json": {
       "config": {
        "linkText": "Export to plot.ly",
        "plotlyServerURL": "https://plot.ly",
        "showLink": true
       },
       "data": [
        {
         "marker": {
          "color": "rgba(255, 153, 51, 0.6)",
          "line": {
           "color": "rgba(255, 153, 51, 1.0)",
           "width": 1
          }
         },
         "name": "None",
         "orientation": "v",
         "text": "",
         "type": "bar",
         "x": [
          "lag_1",
          "lag_2",
          "lag_3",
          "lag_4",
          "lag_5"
         ],
         "y": [
          1.0013672000996396,
          0.01607454491816002,
          -0.07157126869930486,
          0.03987473922625505,
          0.014822654374722475
         ]
        }
       ],
       "layout": {
        "legend": {
         "bgcolor": "#F5F6F9",
         "font": {
          "color": "#4D5663"
         }
        },
        "paper_bgcolor": "#F5F6F9",
        "plot_bgcolor": "#F5F6F9",
        "template": {
         "data": {
          "bar": [
           {
            "error_x": {
             "color": "#2a3f5f"
            },
            "error_y": {
             "color": "#2a3f5f"
            },
            "marker": {
             "line": {
              "color": "#E5ECF6",
              "width": 0.5
             },
             "pattern": {
              "fillmode": "overlay",
              "size": 10,
              "solidity": 0.2
             }
            },
            "type": "bar"
           }
          ],
          "barpolar": [
           {
            "marker": {
             "line": {
              "color": "#E5ECF6",
              "width": 0.5
             },
             "pattern": {
              "fillmode": "overlay",
              "size": 10,
              "solidity": 0.2
             }
            },
            "type": "barpolar"
           }
          ],
          "carpet": [
           {
            "aaxis": {
             "endlinecolor": "#2a3f5f",
             "gridcolor": "white",
             "linecolor": "white",
             "minorgridcolor": "white",
             "startlinecolor": "#2a3f5f"
            },
            "baxis": {
             "endlinecolor": "#2a3f5f",
             "gridcolor": "white",
             "linecolor": "white",
             "minorgridcolor": "white",
             "startlinecolor": "#2a3f5f"
            },
            "type": "carpet"
           }
          ],
          "choropleth": [
           {
            "colorbar": {
             "outlinewidth": 0,
             "ticks": ""
            },
            "type": "choropleth"
           }
          ],
          "contour": [
           {
            "colorbar": {
             "outlinewidth": 0,
             "ticks": ""
            },
            "colorscale": [
             [
              0,
              "#0d0887"
             ],
             [
              0.1111111111111111,
              "#46039f"
             ],
             [
              0.2222222222222222,
              "#7201a8"
             ],
             [
              0.3333333333333333,
              "#9c179e"
             ],
             [
              0.4444444444444444,
              "#bd3786"
             ],
             [
              0.5555555555555556,
              "#d8576b"
             ],
             [
              0.6666666666666666,
              "#ed7953"
             ],
             [
              0.7777777777777778,
              "#fb9f3a"
             ],
             [
              0.8888888888888888,
              "#fdca26"
             ],
             [
              1,
              "#f0f921"
             ]
            ],
            "type": "contour"
           }
          ],
          "contourcarpet": [
           {
            "colorbar": {
             "outlinewidth": 0,
             "ticks": ""
            },
            "type": "contourcarpet"
           }
          ],
          "heatmap": [
           {
            "colorbar": {
             "outlinewidth": 0,
             "ticks": ""
            },
            "colorscale": [
             [
              0,
              "#0d0887"
             ],
             [
              0.1111111111111111,
              "#46039f"
             ],
             [
              0.2222222222222222,
              "#7201a8"
             ],
             [
              0.3333333333333333,
              "#9c179e"
             ],
             [
              0.4444444444444444,
              "#bd3786"
             ],
             [
              0.5555555555555556,
              "#d8576b"
             ],
             [
              0.6666666666666666,
              "#ed7953"
             ],
             [
              0.7777777777777778,
              "#fb9f3a"
             ],
             [
              0.8888888888888888,
              "#fdca26"
             ],
             [
              1,
              "#f0f921"
             ]
            ],
            "type": "heatmap"
           }
          ],
          "heatmapgl": [
           {
            "colorbar": {
             "outlinewidth": 0,
             "ticks": ""
            },
            "colorscale": [
             [
              0,
              "#0d0887"
             ],
             [
              0.1111111111111111,
              "#46039f"
             ],
             [
              0.2222222222222222,
              "#7201a8"
             ],
             [
              0.3333333333333333,
              "#9c179e"
             ],
             [
              0.4444444444444444,
              "#bd3786"
             ],
             [
              0.5555555555555556,
              "#d8576b"
             ],
             [
              0.6666666666666666,
              "#ed7953"
             ],
             [
              0.7777777777777778,
              "#fb9f3a"
             ],
             [
              0.8888888888888888,
              "#fdca26"
             ],
             [
              1,
              "#f0f921"
             ]
            ],
            "type": "heatmapgl"
           }
          ],
          "histogram": [
           {
            "marker": {
             "pattern": {
              "fillmode": "overlay",
              "size": 10,
              "solidity": 0.2
             }
            },
            "type": "histogram"
           }
          ],
          "histogram2d": [
           {
            "colorbar": {
             "outlinewidth": 0,
             "ticks": ""
            },
            "colorscale": [
             [
              0,
              "#0d0887"
             ],
             [
              0.1111111111111111,
              "#46039f"
             ],
             [
              0.2222222222222222,
              "#7201a8"
             ],
             [
              0.3333333333333333,
              "#9c179e"
             ],
             [
              0.4444444444444444,
              "#bd3786"
             ],
             [
              0.5555555555555556,
              "#d8576b"
             ],
             [
              0.6666666666666666,
              "#ed7953"
             ],
             [
              0.7777777777777778,
              "#fb9f3a"
             ],
             [
              0.8888888888888888,
              "#fdca26"
             ],
             [
              1,
              "#f0f921"
             ]
            ],
            "type": "histogram2d"
           }
          ],
          "histogram2dcontour": [
           {
            "colorbar": {
             "outlinewidth": 0,
             "ticks": ""
            },
            "colorscale": [
             [
              0,
              "#0d0887"
             ],
             [
              0.1111111111111111,
              "#46039f"
             ],
             [
              0.2222222222222222,
              "#7201a8"
             ],
             [
              0.3333333333333333,
              "#9c179e"
             ],
             [
              0.4444444444444444,
              "#bd3786"
             ],
             [
              0.5555555555555556,
              "#d8576b"
             ],
             [
              0.6666666666666666,
              "#ed7953"
             ],
             [
              0.7777777777777778,
              "#fb9f3a"
             ],
             [
              0.8888888888888888,
              "#fdca26"
             ],
             [
              1,
              "#f0f921"
             ]
            ],
            "type": "histogram2dcontour"
           }
          ],
          "mesh3d": [
           {
            "colorbar": {
             "outlinewidth": 0,
             "ticks": ""
            },
            "type": "mesh3d"
           }
          ],
          "parcoords": [
           {
            "line": {
             "colorbar": {
              "outlinewidth": 0,
              "ticks": ""
             }
            },
            "type": "parcoords"
           }
          ],
          "pie": [
           {
            "automargin": true,
            "type": "pie"
           }
          ],
          "scatter": [
           {
            "fillpattern": {
             "fillmode": "overlay",
             "size": 10,
             "solidity": 0.2
            },
            "type": "scatter"
           }
          ],
          "scatter3d": [
           {
            "line": {
             "colorbar": {
              "outlinewidth": 0,
              "ticks": ""
             }
            },
            "marker": {
             "colorbar": {
              "outlinewidth": 0,
              "ticks": ""
             }
            },
            "type": "scatter3d"
           }
          ],
          "scattercarpet": [
           {
            "marker": {
             "colorbar": {
              "outlinewidth": 0,
              "ticks": ""
             }
            },
            "type": "scattercarpet"
           }
          ],
          "scattergeo": [
           {
            "marker": {
             "colorbar": {
              "outlinewidth": 0,
              "ticks": ""
             }
            },
            "type": "scattergeo"
           }
          ],
          "scattergl": [
           {
            "marker": {
             "colorbar": {
              "outlinewidth": 0,
              "ticks": ""
             }
            },
            "type": "scattergl"
           }
          ],
          "scattermapbox": [
           {
            "marker": {
             "colorbar": {
              "outlinewidth": 0,
              "ticks": ""
             }
            },
            "type": "scattermapbox"
           }
          ],
          "scatterpolar": [
           {
            "marker": {
             "colorbar": {
              "outlinewidth": 0,
              "ticks": ""
             }
            },
            "type": "scatterpolar"
           }
          ],
          "scatterpolargl": [
           {
            "marker": {
             "colorbar": {
              "outlinewidth": 0,
              "ticks": ""
             }
            },
            "type": "scatterpolargl"
           }
          ],
          "scatterternary": [
           {
            "marker": {
             "colorbar": {
              "outlinewidth": 0,
              "ticks": ""
             }
            },
            "type": "scatterternary"
           }
          ],
          "surface": [
           {
            "colorbar": {
             "outlinewidth": 0,
             "ticks": ""
            },
            "colorscale": [
             [
              0,
              "#0d0887"
             ],
             [
              0.1111111111111111,
              "#46039f"
             ],
             [
              0.2222222222222222,
              "#7201a8"
             ],
             [
              0.3333333333333333,
              "#9c179e"
             ],
             [
              0.4444444444444444,
              "#bd3786"
             ],
             [
              0.5555555555555556,
              "#d8576b"
             ],
             [
              0.6666666666666666,
              "#ed7953"
             ],
             [
              0.7777777777777778,
              "#fb9f3a"
             ],
             [
              0.8888888888888888,
              "#fdca26"
             ],
             [
              1,
              "#f0f921"
             ]
            ],
            "type": "surface"
           }
          ],
          "table": [
           {
            "cells": {
             "fill": {
              "color": "#EBF0F8"
             },
             "line": {
              "color": "white"
             }
            },
            "header": {
             "fill": {
              "color": "#C8D4E3"
             },
             "line": {
              "color": "white"
             }
            },
            "type": "table"
           }
          ]
         },
         "layout": {
          "annotationdefaults": {
           "arrowcolor": "#2a3f5f",
           "arrowhead": 0,
           "arrowwidth": 1
          },
          "autotypenumbers": "strict",
          "coloraxis": {
           "colorbar": {
            "outlinewidth": 0,
            "ticks": ""
           }
          },
          "colorscale": {
           "diverging": [
            [
             0,
             "#8e0152"
            ],
            [
             0.1,
             "#c51b7d"
            ],
            [
             0.2,
             "#de77ae"
            ],
            [
             0.3,
             "#f1b6da"
            ],
            [
             0.4,
             "#fde0ef"
            ],
            [
             0.5,
             "#f7f7f7"
            ],
            [
             0.6,
             "#e6f5d0"
            ],
            [
             0.7,
             "#b8e186"
            ],
            [
             0.8,
             "#7fbc41"
            ],
            [
             0.9,
             "#4d9221"
            ],
            [
             1,
             "#276419"
            ]
           ],
           "sequential": [
            [
             0,
             "#0d0887"
            ],
            [
             0.1111111111111111,
             "#46039f"
            ],
            [
             0.2222222222222222,
             "#7201a8"
            ],
            [
             0.3333333333333333,
             "#9c179e"
            ],
            [
             0.4444444444444444,
             "#bd3786"
            ],
            [
             0.5555555555555556,
             "#d8576b"
            ],
            [
             0.6666666666666666,
             "#ed7953"
            ],
            [
             0.7777777777777778,
             "#fb9f3a"
            ],
            [
             0.8888888888888888,
             "#fdca26"
            ],
            [
             1,
             "#f0f921"
            ]
           ],
           "sequentialminus": [
            [
             0,
             "#0d0887"
            ],
            [
             0.1111111111111111,
             "#46039f"
            ],
            [
             0.2222222222222222,
             "#7201a8"
            ],
            [
             0.3333333333333333,
             "#9c179e"
            ],
            [
             0.4444444444444444,
             "#bd3786"
            ],
            [
             0.5555555555555556,
             "#d8576b"
            ],
            [
             0.6666666666666666,
             "#ed7953"
            ],
            [
             0.7777777777777778,
             "#fb9f3a"
            ],
            [
             0.8888888888888888,
             "#fdca26"
            ],
            [
             1,
             "#f0f921"
            ]
           ]
          },
          "colorway": [
           "#636efa",
           "#EF553B",
           "#00cc96",
           "#ab63fa",
           "#FFA15A",
           "#19d3f3",
           "#FF6692",
           "#B6E880",
           "#FF97FF",
           "#FECB52"
          ],
          "font": {
           "color": "#2a3f5f"
          },
          "geo": {
           "bgcolor": "white",
           "lakecolor": "white",
           "landcolor": "#E5ECF6",
           "showlakes": true,
           "showland": true,
           "subunitcolor": "white"
          },
          "hoverlabel": {
           "align": "left"
          },
          "hovermode": "closest",
          "mapbox": {
           "style": "light"
          },
          "paper_bgcolor": "white",
          "plot_bgcolor": "#E5ECF6",
          "polar": {
           "angularaxis": {
            "gridcolor": "white",
            "linecolor": "white",
            "ticks": ""
           },
           "bgcolor": "#E5ECF6",
           "radialaxis": {
            "gridcolor": "white",
            "linecolor": "white",
            "ticks": ""
           }
          },
          "scene": {
           "xaxis": {
            "backgroundcolor": "#E5ECF6",
            "gridcolor": "white",
            "gridwidth": 2,
            "linecolor": "white",
            "showbackground": true,
            "ticks": "",
            "zerolinecolor": "white"
           },
           "yaxis": {
            "backgroundcolor": "#E5ECF6",
            "gridcolor": "white",
            "gridwidth": 2,
            "linecolor": "white",
            "showbackground": true,
            "ticks": "",
            "zerolinecolor": "white"
           },
           "zaxis": {
            "backgroundcolor": "#E5ECF6",
            "gridcolor": "white",
            "gridwidth": 2,
            "linecolor": "white",
            "showbackground": true,
            "ticks": "",
            "zerolinecolor": "white"
           }
          },
          "shapedefaults": {
           "line": {
            "color": "#2a3f5f"
           }
          },
          "ternary": {
           "aaxis": {
            "gridcolor": "white",
            "linecolor": "white",
            "ticks": ""
           },
           "baxis": {
            "gridcolor": "white",
            "linecolor": "white",
            "ticks": ""
           },
           "bgcolor": "#E5ECF6",
           "caxis": {
            "gridcolor": "white",
            "linecolor": "white",
            "ticks": ""
           }
          },
          "title": {
           "x": 0.05
          },
          "xaxis": {
           "automargin": true,
           "gridcolor": "white",
           "linecolor": "white",
           "ticks": "",
           "title": {
            "standoff": 15
           },
           "zerolinecolor": "white",
           "zerolinewidth": 2
          },
          "yaxis": {
           "automargin": true,
           "gridcolor": "white",
           "linecolor": "white",
           "ticks": "",
           "title": {
            "standoff": 15
           },
           "zerolinecolor": "white",
           "zerolinewidth": 2
          }
         }
        },
        "title": {
         "font": {
          "color": "#4D5663"
         }
        },
        "xaxis": {
         "gridcolor": "#E1E5ED",
         "showgrid": true,
         "tickfont": {
          "color": "#4D5663"
         },
         "title": {
          "font": {
           "color": "#4D5663"
          },
          "text": ""
         },
         "zerolinecolor": "#E1E5ED"
        },
        "yaxis": {
         "gridcolor": "#E1E5ED",
         "showgrid": true,
         "tickfont": {
          "color": "#4D5663"
         },
         "title": {
          "font": {
           "color": "#4D5663"
          },
          "text": ""
         },
         "zerolinecolor": "#E1E5ED"
        }
       }
      },
      "text/html": [
       "<div>                            <div id=\"f076e771-27cf-475f-a87a-ab9d26c1a18d\" class=\"plotly-graph-div\" style=\"height:525px; width:100%;\"></div>            <script type=\"text/javascript\">                require([\"plotly\"], function(Plotly) {                    window.PLOTLYENV=window.PLOTLYENV || {};\n",
       "                    window.PLOTLYENV.BASE_URL='https://plot.ly';                                    if (document.getElementById(\"f076e771-27cf-475f-a87a-ab9d26c1a18d\")) {                    Plotly.newPlot(                        \"f076e771-27cf-475f-a87a-ab9d26c1a18d\",                        [{\"marker\":{\"color\":\"rgba(255, 153, 51, 0.6)\",\"line\":{\"color\":\"rgba(255, 153, 51, 1.0)\",\"width\":1}},\"name\":\"None\",\"orientation\":\"v\",\"text\":\"\",\"x\":[\"lag_1\",\"lag_2\",\"lag_3\",\"lag_4\",\"lag_5\"],\"y\":[1.0013672000996396,0.01607454491816002,-0.07157126869930486,0.03987473922625505,0.014822654374722475],\"type\":\"bar\"}],                        {\"legend\":{\"bgcolor\":\"#F5F6F9\",\"font\":{\"color\":\"#4D5663\"}},\"paper_bgcolor\":\"#F5F6F9\",\"plot_bgcolor\":\"#F5F6F9\",\"template\":{\"data\":{\"barpolar\":[{\"marker\":{\"line\":{\"color\":\"#E5ECF6\",\"width\":0.5},\"pattern\":{\"fillmode\":\"overlay\",\"size\":10,\"solidity\":0.2}},\"type\":\"barpolar\"}],\"bar\":[{\"error_x\":{\"color\":\"#2a3f5f\"},\"error_y\":{\"color\":\"#2a3f5f\"},\"marker\":{\"line\":{\"color\":\"#E5ECF6\",\"width\":0.5},\"pattern\":{\"fillmode\":\"overlay\",\"size\":10,\"solidity\":0.2}},\"type\":\"bar\"}],\"carpet\":[{\"aaxis\":{\"endlinecolor\":\"#2a3f5f\",\"gridcolor\":\"white\",\"linecolor\":\"white\",\"minorgridcolor\":\"white\",\"startlinecolor\":\"#2a3f5f\"},\"baxis\":{\"endlinecolor\":\"#2a3f5f\",\"gridcolor\":\"white\",\"linecolor\":\"white\",\"minorgridcolor\":\"white\",\"startlinecolor\":\"#2a3f5f\"},\"type\":\"carpet\"}],\"choropleth\":[{\"colorbar\":{\"outlinewidth\":0,\"ticks\":\"\"},\"type\":\"choropleth\"}],\"contourcarpet\":[{\"colorbar\":{\"outlinewidth\":0,\"ticks\":\"\"},\"type\":\"contourcarpet\"}],\"contour\":[{\"colorbar\":{\"outlinewidth\":0,\"ticks\":\"\"},\"colorscale\":[[0.0,\"#0d0887\"],[0.1111111111111111,\"#46039f\"],[0.2222222222222222,\"#7201a8\"],[0.3333333333333333,\"#9c179e\"],[0.4444444444444444,\"#bd3786\"],[0.5555555555555556,\"#d8576b\"],[0.6666666666666666,\"#ed7953\"],[0.7777777777777778,\"#fb9f3a\"],[0.8888888888888888,\"#fdca26\"],[1.0,\"#f0f921\"]],\"type\":\"contour\"}],\"heatmapgl\":[{\"colorbar\":{\"outlinewidth\":0,\"ticks\":\"\"},\"colorscale\":[[0.0,\"#0d0887\"],[0.1111111111111111,\"#46039f\"],[0.2222222222222222,\"#7201a8\"],[0.3333333333333333,\"#9c179e\"],[0.4444444444444444,\"#bd3786\"],[0.5555555555555556,\"#d8576b\"],[0.6666666666666666,\"#ed7953\"],[0.7777777777777778,\"#fb9f3a\"],[0.8888888888888888,\"#fdca26\"],[1.0,\"#f0f921\"]],\"type\":\"heatmapgl\"}],\"heatmap\":[{\"colorbar\":{\"outlinewidth\":0,\"ticks\":\"\"},\"colorscale\":[[0.0,\"#0d0887\"],[0.1111111111111111,\"#46039f\"],[0.2222222222222222,\"#7201a8\"],[0.3333333333333333,\"#9c179e\"],[0.4444444444444444,\"#bd3786\"],[0.5555555555555556,\"#d8576b\"],[0.6666666666666666,\"#ed7953\"],[0.7777777777777778,\"#fb9f3a\"],[0.8888888888888888,\"#fdca26\"],[1.0,\"#f0f921\"]],\"type\":\"heatmap\"}],\"histogram2dcontour\":[{\"colorbar\":{\"outlinewidth\":0,\"ticks\":\"\"},\"colorscale\":[[0.0,\"#0d0887\"],[0.1111111111111111,\"#46039f\"],[0.2222222222222222,\"#7201a8\"],[0.3333333333333333,\"#9c179e\"],[0.4444444444444444,\"#bd3786\"],[0.5555555555555556,\"#d8576b\"],[0.6666666666666666,\"#ed7953\"],[0.7777777777777778,\"#fb9f3a\"],[0.8888888888888888,\"#fdca26\"],[1.0,\"#f0f921\"]],\"type\":\"histogram2dcontour\"}],\"histogram2d\":[{\"colorbar\":{\"outlinewidth\":0,\"ticks\":\"\"},\"colorscale\":[[0.0,\"#0d0887\"],[0.1111111111111111,\"#46039f\"],[0.2222222222222222,\"#7201a8\"],[0.3333333333333333,\"#9c179e\"],[0.4444444444444444,\"#bd3786\"],[0.5555555555555556,\"#d8576b\"],[0.6666666666666666,\"#ed7953\"],[0.7777777777777778,\"#fb9f3a\"],[0.8888888888888888,\"#fdca26\"],[1.0,\"#f0f921\"]],\"type\":\"histogram2d\"}],\"histogram\":[{\"marker\":{\"pattern\":{\"fillmode\":\"overlay\",\"size\":10,\"solidity\":0.2}},\"type\":\"histogram\"}],\"mesh3d\":[{\"colorbar\":{\"outlinewidth\":0,\"ticks\":\"\"},\"type\":\"mesh3d\"}],\"parcoords\":[{\"line\":{\"colorbar\":{\"outlinewidth\":0,\"ticks\":\"\"}},\"type\":\"parcoords\"}],\"pie\":[{\"automargin\":true,\"type\":\"pie\"}],\"scatter3d\":[{\"line\":{\"colorbar\":{\"outlinewidth\":0,\"ticks\":\"\"}},\"marker\":{\"colorbar\":{\"outlinewidth\":0,\"ticks\":\"\"}},\"type\":\"scatter3d\"}],\"scattercarpet\":[{\"marker\":{\"colorbar\":{\"outlinewidth\":0,\"ticks\":\"\"}},\"type\":\"scattercarpet\"}],\"scattergeo\":[{\"marker\":{\"colorbar\":{\"outlinewidth\":0,\"ticks\":\"\"}},\"type\":\"scattergeo\"}],\"scattergl\":[{\"marker\":{\"colorbar\":{\"outlinewidth\":0,\"ticks\":\"\"}},\"type\":\"scattergl\"}],\"scattermapbox\":[{\"marker\":{\"colorbar\":{\"outlinewidth\":0,\"ticks\":\"\"}},\"type\":\"scattermapbox\"}],\"scatterpolargl\":[{\"marker\":{\"colorbar\":{\"outlinewidth\":0,\"ticks\":\"\"}},\"type\":\"scatterpolargl\"}],\"scatterpolar\":[{\"marker\":{\"colorbar\":{\"outlinewidth\":0,\"ticks\":\"\"}},\"type\":\"scatterpolar\"}],\"scatter\":[{\"fillpattern\":{\"fillmode\":\"overlay\",\"size\":10,\"solidity\":0.2},\"type\":\"scatter\"}],\"scatterternary\":[{\"marker\":{\"colorbar\":{\"outlinewidth\":0,\"ticks\":\"\"}},\"type\":\"scatterternary\"}],\"surface\":[{\"colorbar\":{\"outlinewidth\":0,\"ticks\":\"\"},\"colorscale\":[[0.0,\"#0d0887\"],[0.1111111111111111,\"#46039f\"],[0.2222222222222222,\"#7201a8\"],[0.3333333333333333,\"#9c179e\"],[0.4444444444444444,\"#bd3786\"],[0.5555555555555556,\"#d8576b\"],[0.6666666666666666,\"#ed7953\"],[0.7777777777777778,\"#fb9f3a\"],[0.8888888888888888,\"#fdca26\"],[1.0,\"#f0f921\"]],\"type\":\"surface\"}],\"table\":[{\"cells\":{\"fill\":{\"color\":\"#EBF0F8\"},\"line\":{\"color\":\"white\"}},\"header\":{\"fill\":{\"color\":\"#C8D4E3\"},\"line\":{\"color\":\"white\"}},\"type\":\"table\"}]},\"layout\":{\"annotationdefaults\":{\"arrowcolor\":\"#2a3f5f\",\"arrowhead\":0,\"arrowwidth\":1},\"autotypenumbers\":\"strict\",\"coloraxis\":{\"colorbar\":{\"outlinewidth\":0,\"ticks\":\"\"}},\"colorscale\":{\"diverging\":[[0,\"#8e0152\"],[0.1,\"#c51b7d\"],[0.2,\"#de77ae\"],[0.3,\"#f1b6da\"],[0.4,\"#fde0ef\"],[0.5,\"#f7f7f7\"],[0.6,\"#e6f5d0\"],[0.7,\"#b8e186\"],[0.8,\"#7fbc41\"],[0.9,\"#4d9221\"],[1,\"#276419\"]],\"sequential\":[[0.0,\"#0d0887\"],[0.1111111111111111,\"#46039f\"],[0.2222222222222222,\"#7201a8\"],[0.3333333333333333,\"#9c179e\"],[0.4444444444444444,\"#bd3786\"],[0.5555555555555556,\"#d8576b\"],[0.6666666666666666,\"#ed7953\"],[0.7777777777777778,\"#fb9f3a\"],[0.8888888888888888,\"#fdca26\"],[1.0,\"#f0f921\"]],\"sequentialminus\":[[0.0,\"#0d0887\"],[0.1111111111111111,\"#46039f\"],[0.2222222222222222,\"#7201a8\"],[0.3333333333333333,\"#9c179e\"],[0.4444444444444444,\"#bd3786\"],[0.5555555555555556,\"#d8576b\"],[0.6666666666666666,\"#ed7953\"],[0.7777777777777778,\"#fb9f3a\"],[0.8888888888888888,\"#fdca26\"],[1.0,\"#f0f921\"]]},\"colorway\":[\"#636efa\",\"#EF553B\",\"#00cc96\",\"#ab63fa\",\"#FFA15A\",\"#19d3f3\",\"#FF6692\",\"#B6E880\",\"#FF97FF\",\"#FECB52\"],\"font\":{\"color\":\"#2a3f5f\"},\"geo\":{\"bgcolor\":\"white\",\"lakecolor\":\"white\",\"landcolor\":\"#E5ECF6\",\"showlakes\":true,\"showland\":true,\"subunitcolor\":\"white\"},\"hoverlabel\":{\"align\":\"left\"},\"hovermode\":\"closest\",\"mapbox\":{\"style\":\"light\"},\"paper_bgcolor\":\"white\",\"plot_bgcolor\":\"#E5ECF6\",\"polar\":{\"angularaxis\":{\"gridcolor\":\"white\",\"linecolor\":\"white\",\"ticks\":\"\"},\"bgcolor\":\"#E5ECF6\",\"radialaxis\":{\"gridcolor\":\"white\",\"linecolor\":\"white\",\"ticks\":\"\"}},\"scene\":{\"xaxis\":{\"backgroundcolor\":\"#E5ECF6\",\"gridcolor\":\"white\",\"gridwidth\":2,\"linecolor\":\"white\",\"showbackground\":true,\"ticks\":\"\",\"zerolinecolor\":\"white\"},\"yaxis\":{\"backgroundcolor\":\"#E5ECF6\",\"gridcolor\":\"white\",\"gridwidth\":2,\"linecolor\":\"white\",\"showbackground\":true,\"ticks\":\"\",\"zerolinecolor\":\"white\"},\"zaxis\":{\"backgroundcolor\":\"#E5ECF6\",\"gridcolor\":\"white\",\"gridwidth\":2,\"linecolor\":\"white\",\"showbackground\":true,\"ticks\":\"\",\"zerolinecolor\":\"white\"}},\"shapedefaults\":{\"line\":{\"color\":\"#2a3f5f\"}},\"ternary\":{\"aaxis\":{\"gridcolor\":\"white\",\"linecolor\":\"white\",\"ticks\":\"\"},\"baxis\":{\"gridcolor\":\"white\",\"linecolor\":\"white\",\"ticks\":\"\"},\"bgcolor\":\"#E5ECF6\",\"caxis\":{\"gridcolor\":\"white\",\"linecolor\":\"white\",\"ticks\":\"\"}},\"title\":{\"x\":0.05},\"xaxis\":{\"automargin\":true,\"gridcolor\":\"white\",\"linecolor\":\"white\",\"ticks\":\"\",\"title\":{\"standoff\":15},\"zerolinecolor\":\"white\",\"zerolinewidth\":2},\"yaxis\":{\"automargin\":true,\"gridcolor\":\"white\",\"linecolor\":\"white\",\"ticks\":\"\",\"title\":{\"standoff\":15},\"zerolinecolor\":\"white\",\"zerolinewidth\":2}}},\"title\":{\"font\":{\"color\":\"#4D5663\"}},\"xaxis\":{\"gridcolor\":\"#E1E5ED\",\"showgrid\":true,\"tickfont\":{\"color\":\"#4D5663\"},\"title\":{\"font\":{\"color\":\"#4D5663\"},\"text\":\"\"},\"zerolinecolor\":\"#E1E5ED\"},\"yaxis\":{\"gridcolor\":\"#E1E5ED\",\"showgrid\":true,\"tickfont\":{\"color\":\"#4D5663\"},\"title\":{\"font\":{\"color\":\"#4D5663\"},\"text\":\"\"},\"zerolinecolor\":\"#E1E5ED\"}},                        {\"showLink\": true, \"linkText\": \"Export to plot.ly\", \"plotlyServerURL\": \"https://plot.ly\", \"responsive\": true}                    ).then(function(){\n",
       "                            \n",
       "var gd = document.getElementById('f076e771-27cf-475f-a87a-ab9d26c1a18d');\n",
       "var x = new MutationObserver(function (mutations, observer) {{\n",
       "        var display = window.getComputedStyle(gd).display;\n",
       "        if (!display || display === 'none') {{\n",
       "            console.log([gd, 'removed!']);\n",
       "            Plotly.purge(gd);\n",
       "            observer.disconnect();\n",
       "        }}\n",
       "}});\n",
       "\n",
       "// Listen for the removal of the full notebook cells\n",
       "var notebookContainer = gd.closest('#notebook-container');\n",
       "if (notebookContainer) {{\n",
       "    x.observe(notebookContainer, {childList: true});\n",
       "}}\n",
       "\n",
       "// Listen for the clearing of the current output cell\n",
       "var outputEl = gd.closest('.output');\n",
       "if (outputEl) {{\n",
       "    x.observe(outputEl, {childList: true});\n",
       "}}\n",
       "\n",
       "                        })                };                });            </script>        </div>"
      ]
     },
     "metadata": {},
     "output_type": "display_data"
    }
   ],
   "source": [
    "regd.mean().iplot(kind='bar')"
   ]
  },
  {
   "cell_type": "markdown",
   "metadata": {},
   "source": [
    "## Analyzing Intraday Data"
   ]
  },
  {
   "cell_type": "markdown",
   "metadata": {},
   "source": [
    "Let us quickly check, whether the results are similar on an **intraday basis**."
   ]
  },
  {
   "cell_type": "code",
   "execution_count": 46,
   "metadata": {},
   "outputs": [],
   "source": [
    "data = ek.get_timeseries(rics,  # RICs\n",
    "              fields='CLOSE',  # fields to be retrieved\n",
    "              start_date='2023-07-17 14:00:00',  # start time\n",
    "              end_date='2023-07-17 18:00:00',  # end time\n",
    "              interval='minute')  # bar length"
   ]
  },
  {
   "cell_type": "code",
   "execution_count": 47,
   "metadata": {},
   "outputs": [
    {
     "name": "stdout",
     "output_type": "stream",
     "text": [
      "<class 'pandas.core.frame.DataFrame'>\n",
      "DatetimeIndex: 241 entries, 2023-07-17 14:00:00 to 2023-07-17 18:00:00\n",
      "Freq: T\n",
      "Data columns (total 7 columns):\n",
      " #   Column  Non-Null Count  Dtype  \n",
      "---  ------  --------------  -----  \n",
      " 0   JPM     241 non-null    Float64\n",
      " 1   BAC     241 non-null    Float64\n",
      " 2   WFC     241 non-null    Float64\n",
      " 3   MS      241 non-null    Float64\n",
      " 4   GS      241 non-null    Float64\n",
      " 5   C       241 non-null    Float64\n",
      " 6   BCS     239 non-null    Float64\n",
      "dtypes: Float64(7)\n",
      "memory usage: 16.7 KB\n"
     ]
    }
   ],
   "source": [
    "data.info()"
   ]
  },
  {
   "cell_type": "code",
   "execution_count": 48,
   "metadata": {},
   "outputs": [
    {
     "data": {
      "text/html": [
       "<div>\n",
       "<style scoped>\n",
       "    .dataframe tbody tr th:only-of-type {\n",
       "        vertical-align: middle;\n",
       "    }\n",
       "\n",
       "    .dataframe tbody tr th {\n",
       "        vertical-align: top;\n",
       "    }\n",
       "\n",
       "    .dataframe thead th {\n",
       "        text-align: right;\n",
       "    }\n",
       "</style>\n",
       "<table border=\"1\" class=\"dataframe\">\n",
       "  <thead>\n",
       "    <tr style=\"text-align: right;\">\n",
       "      <th>CLOSE</th>\n",
       "      <th>JPM</th>\n",
       "      <th>BAC</th>\n",
       "      <th>WFC</th>\n",
       "      <th>MS</th>\n",
       "      <th>GS</th>\n",
       "      <th>C</th>\n",
       "      <th>BCS</th>\n",
       "    </tr>\n",
       "    <tr>\n",
       "      <th>Date</th>\n",
       "      <th></th>\n",
       "      <th></th>\n",
       "      <th></th>\n",
       "      <th></th>\n",
       "      <th></th>\n",
       "      <th></th>\n",
       "      <th></th>\n",
       "    </tr>\n",
       "  </thead>\n",
       "  <tbody>\n",
       "    <tr>\n",
       "      <th>2023-07-17 17:56:00</th>\n",
       "      <td>153.535</td>\n",
       "      <td>29.4881</td>\n",
       "      <td>45.025</td>\n",
       "      <td>86.48</td>\n",
       "      <td>325.65</td>\n",
       "      <td>46.3002</td>\n",
       "      <td>8.205</td>\n",
       "    </tr>\n",
       "    <tr>\n",
       "      <th>2023-07-17 17:57:00</th>\n",
       "      <td>153.44</td>\n",
       "      <td>29.4708</td>\n",
       "      <td>45.015</td>\n",
       "      <td>86.4787</td>\n",
       "      <td>325.3</td>\n",
       "      <td>46.3179</td>\n",
       "      <td>8.205</td>\n",
       "    </tr>\n",
       "    <tr>\n",
       "      <th>2023-07-17 17:58:00</th>\n",
       "      <td>153.45</td>\n",
       "      <td>29.4729</td>\n",
       "      <td>45.015</td>\n",
       "      <td>86.43</td>\n",
       "      <td>325.29</td>\n",
       "      <td>46.325</td>\n",
       "      <td>8.205</td>\n",
       "    </tr>\n",
       "    <tr>\n",
       "      <th>2023-07-17 17:59:00</th>\n",
       "      <td>153.45</td>\n",
       "      <td>29.4736</td>\n",
       "      <td>45.0326</td>\n",
       "      <td>86.45</td>\n",
       "      <td>325.515</td>\n",
       "      <td>46.295</td>\n",
       "      <td>8.205</td>\n",
       "    </tr>\n",
       "    <tr>\n",
       "      <th>2023-07-17 18:00:00</th>\n",
       "      <td>153.42</td>\n",
       "      <td>29.4789</td>\n",
       "      <td>45.035</td>\n",
       "      <td>86.4599</td>\n",
       "      <td>325.33</td>\n",
       "      <td>46.265</td>\n",
       "      <td>8.2001</td>\n",
       "    </tr>\n",
       "  </tbody>\n",
       "</table>\n",
       "</div>"
      ],
      "text/plain": [
       "CLOSE                    JPM      BAC      WFC       MS       GS        C  \\\n",
       "Date                                                                        \n",
       "2023-07-17 17:56:00  153.535  29.4881   45.025    86.48   325.65  46.3002   \n",
       "2023-07-17 17:57:00   153.44  29.4708   45.015  86.4787    325.3  46.3179   \n",
       "2023-07-17 17:58:00   153.45  29.4729   45.015    86.43   325.29   46.325   \n",
       "2023-07-17 17:59:00   153.45  29.4736  45.0326    86.45  325.515   46.295   \n",
       "2023-07-17 18:00:00   153.42  29.4789   45.035  86.4599   325.33   46.265   \n",
       "\n",
       "CLOSE                   BCS  \n",
       "Date                         \n",
       "2023-07-17 17:56:00   8.205  \n",
       "2023-07-17 17:57:00   8.205  \n",
       "2023-07-17 17:58:00   8.205  \n",
       "2023-07-17 17:59:00   8.205  \n",
       "2023-07-17 18:00:00  8.2001  "
      ]
     },
     "execution_count": 48,
     "metadata": {},
     "output_type": "execute_result"
    }
   ],
   "source": [
    "data.tail()"
   ]
  },
  {
   "cell_type": "code",
   "execution_count": 49,
   "metadata": {},
   "outputs": [],
   "source": [
    "dfs = {}\n",
    "for ric in rics:\n",
    "    df, cols = add_lags(data, ric, lags)\n",
    "    dfs[ric] = df"
   ]
  },
  {
   "cell_type": "code",
   "execution_count": 51,
   "metadata": {},
   "outputs": [],
   "source": [
    "regs = {}\n",
    "for ric in rics:\n",
    "    df = dfs[ric]\n",
    "    reg = np.linalg.lstsq(df[cols].astype('float64'), df[ric].astype('float64'), rcond=-1)[0]\n",
    "    regs[ric] = reg"
   ]
  },
  {
   "cell_type": "code",
   "execution_count": 52,
   "metadata": {},
   "outputs": [
    {
     "name": "stderr",
     "output_type": "stream",
     "text": [
      "C:\\ProgramData\\Anaconda3\\lib\\site-packages\\IPython\\core\\interactiveshell.py:3377: FutureWarning:\n",
      "\n",
      "arrays to stack must be passed as a \"sequence\" type such as list or tuple. Support for non-sequence iterables such as generators is deprecated as of NumPy 1.16 and will raise an error in the future.\n",
      "\n"
     ]
    }
   ],
   "source": [
    "rega = np.stack(regs.values())"
   ]
  },
  {
   "cell_type": "code",
   "execution_count": 53,
   "metadata": {},
   "outputs": [],
   "source": [
    "regd = pd.DataFrame(rega, columns=cols, index=rics)"
   ]
  },
  {
   "cell_type": "markdown",
   "metadata": {},
   "source": [
    "**Intraday** the optimal regression parameters show more variation."
   ]
  },
  {
   "cell_type": "code",
   "execution_count": 54,
   "metadata": {},
   "outputs": [
    {
     "data": {
      "application/vnd.plotly.v1+json": {
       "config": {
        "linkText": "Export to plot.ly",
        "plotlyServerURL": "https://plot.ly",
        "showLink": true
       },
       "data": [
        {
         "marker": {
          "color": "rgba(255, 153, 51, 0.6)",
          "line": {
           "color": "rgba(255, 153, 51, 1.0)",
           "width": 1
          }
         },
         "name": "lag_1",
         "orientation": "v",
         "text": "",
         "type": "bar",
         "x": [
          "JPM",
          "BAC",
          "WFC",
          "MS",
          "GS",
          "C",
          "BCS"
         ],
         "y": [
          0.9021159457402974,
          0.9134703445849233,
          0.9991665091473952,
          0.8454143840509226,
          0.861522124305987,
          1.0349806784151825,
          0.6786442737922256
         ]
        },
        {
         "marker": {
          "color": "rgba(55, 128, 191, 0.6)",
          "line": {
           "color": "rgba(55, 128, 191, 1.0)",
           "width": 1
          }
         },
         "name": "lag_2",
         "orientation": "v",
         "text": "",
         "type": "bar",
         "x": [
          "JPM",
          "BAC",
          "WFC",
          "MS",
          "GS",
          "C",
          "BCS"
         ],
         "y": [
          0.13486101308397266,
          0.06553555619544792,
          -0.007039287292931548,
          0.066052362348872,
          0.16544636963822892,
          -0.11315492764433076,
          0.236636333234488
         ]
        },
        {
         "marker": {
          "color": "rgba(50, 171, 96, 0.6)",
          "line": {
           "color": "rgba(50, 171, 96, 1.0)",
           "width": 1
          }
         },
         "name": "lag_3",
         "orientation": "v",
         "text": "",
         "type": "bar",
         "x": [
          "JPM",
          "BAC",
          "WFC",
          "MS",
          "GS",
          "C",
          "BCS"
         ],
         "y": [
          0.050334030133171524,
          0.075638235462905,
          0.05195183324682099,
          0.1293232182315794,
          0.01984483905734943,
          0.14375071369405937,
          0.15261030591370708
         ]
        },
        {
         "marker": {
          "color": "rgba(128, 0, 128, 0.6)",
          "line": {
           "color": "rgba(128, 0, 128, 1.0)",
           "width": 1
          }
         },
         "name": "lag_4",
         "orientation": "v",
         "text": "",
         "type": "bar",
         "x": [
          "JPM",
          "BAC",
          "WFC",
          "MS",
          "GS",
          "C",
          "BCS"
         ],
         "y": [
          -0.00046463565924281656,
          -0.003946840407089335,
          -0.18626826312695746,
          -0.05157075786865622,
          -0.02112286611791406,
          -0.20990181797810037,
          -0.0301469426004646
         ]
        },
        {
         "marker": {
          "color": "rgba(219, 64, 82, 0.6)",
          "line": {
           "color": "rgba(219, 64, 82, 1.0)",
           "width": 1
          }
         },
         "name": "lag_5",
         "orientation": "v",
         "text": "",
         "type": "bar",
         "x": [
          "JPM",
          "BAC",
          "WFC",
          "MS",
          "GS",
          "C",
          "BCS"
         ],
         "y": [
          -0.08679418461597403,
          -0.050691789710713496,
          0.14226579494490496,
          0.01078673594494156,
          -0.02570955348892697,
          0.14431662015565835,
          -0.03777220645264017
         ]
        }
       ],
       "layout": {
        "legend": {
         "bgcolor": "#F5F6F9",
         "font": {
          "color": "#4D5663"
         }
        },
        "paper_bgcolor": "#F5F6F9",
        "plot_bgcolor": "#F5F6F9",
        "template": {
         "data": {
          "bar": [
           {
            "error_x": {
             "color": "#2a3f5f"
            },
            "error_y": {
             "color": "#2a3f5f"
            },
            "marker": {
             "line": {
              "color": "#E5ECF6",
              "width": 0.5
             },
             "pattern": {
              "fillmode": "overlay",
              "size": 10,
              "solidity": 0.2
             }
            },
            "type": "bar"
           }
          ],
          "barpolar": [
           {
            "marker": {
             "line": {
              "color": "#E5ECF6",
              "width": 0.5
             },
             "pattern": {
              "fillmode": "overlay",
              "size": 10,
              "solidity": 0.2
             }
            },
            "type": "barpolar"
           }
          ],
          "carpet": [
           {
            "aaxis": {
             "endlinecolor": "#2a3f5f",
             "gridcolor": "white",
             "linecolor": "white",
             "minorgridcolor": "white",
             "startlinecolor": "#2a3f5f"
            },
            "baxis": {
             "endlinecolor": "#2a3f5f",
             "gridcolor": "white",
             "linecolor": "white",
             "minorgridcolor": "white",
             "startlinecolor": "#2a3f5f"
            },
            "type": "carpet"
           }
          ],
          "choropleth": [
           {
            "colorbar": {
             "outlinewidth": 0,
             "ticks": ""
            },
            "type": "choropleth"
           }
          ],
          "contour": [
           {
            "colorbar": {
             "outlinewidth": 0,
             "ticks": ""
            },
            "colorscale": [
             [
              0,
              "#0d0887"
             ],
             [
              0.1111111111111111,
              "#46039f"
             ],
             [
              0.2222222222222222,
              "#7201a8"
             ],
             [
              0.3333333333333333,
              "#9c179e"
             ],
             [
              0.4444444444444444,
              "#bd3786"
             ],
             [
              0.5555555555555556,
              "#d8576b"
             ],
             [
              0.6666666666666666,
              "#ed7953"
             ],
             [
              0.7777777777777778,
              "#fb9f3a"
             ],
             [
              0.8888888888888888,
              "#fdca26"
             ],
             [
              1,
              "#f0f921"
             ]
            ],
            "type": "contour"
           }
          ],
          "contourcarpet": [
           {
            "colorbar": {
             "outlinewidth": 0,
             "ticks": ""
            },
            "type": "contourcarpet"
           }
          ],
          "heatmap": [
           {
            "colorbar": {
             "outlinewidth": 0,
             "ticks": ""
            },
            "colorscale": [
             [
              0,
              "#0d0887"
             ],
             [
              0.1111111111111111,
              "#46039f"
             ],
             [
              0.2222222222222222,
              "#7201a8"
             ],
             [
              0.3333333333333333,
              "#9c179e"
             ],
             [
              0.4444444444444444,
              "#bd3786"
             ],
             [
              0.5555555555555556,
              "#d8576b"
             ],
             [
              0.6666666666666666,
              "#ed7953"
             ],
             [
              0.7777777777777778,
              "#fb9f3a"
             ],
             [
              0.8888888888888888,
              "#fdca26"
             ],
             [
              1,
              "#f0f921"
             ]
            ],
            "type": "heatmap"
           }
          ],
          "heatmapgl": [
           {
            "colorbar": {
             "outlinewidth": 0,
             "ticks": ""
            },
            "colorscale": [
             [
              0,
              "#0d0887"
             ],
             [
              0.1111111111111111,
              "#46039f"
             ],
             [
              0.2222222222222222,
              "#7201a8"
             ],
             [
              0.3333333333333333,
              "#9c179e"
             ],
             [
              0.4444444444444444,
              "#bd3786"
             ],
             [
              0.5555555555555556,
              "#d8576b"
             ],
             [
              0.6666666666666666,
              "#ed7953"
             ],
             [
              0.7777777777777778,
              "#fb9f3a"
             ],
             [
              0.8888888888888888,
              "#fdca26"
             ],
             [
              1,
              "#f0f921"
             ]
            ],
            "type": "heatmapgl"
           }
          ],
          "histogram": [
           {
            "marker": {
             "pattern": {
              "fillmode": "overlay",
              "size": 10,
              "solidity": 0.2
             }
            },
            "type": "histogram"
           }
          ],
          "histogram2d": [
           {
            "colorbar": {
             "outlinewidth": 0,
             "ticks": ""
            },
            "colorscale": [
             [
              0,
              "#0d0887"
             ],
             [
              0.1111111111111111,
              "#46039f"
             ],
             [
              0.2222222222222222,
              "#7201a8"
             ],
             [
              0.3333333333333333,
              "#9c179e"
             ],
             [
              0.4444444444444444,
              "#bd3786"
             ],
             [
              0.5555555555555556,
              "#d8576b"
             ],
             [
              0.6666666666666666,
              "#ed7953"
             ],
             [
              0.7777777777777778,
              "#fb9f3a"
             ],
             [
              0.8888888888888888,
              "#fdca26"
             ],
             [
              1,
              "#f0f921"
             ]
            ],
            "type": "histogram2d"
           }
          ],
          "histogram2dcontour": [
           {
            "colorbar": {
             "outlinewidth": 0,
             "ticks": ""
            },
            "colorscale": [
             [
              0,
              "#0d0887"
             ],
             [
              0.1111111111111111,
              "#46039f"
             ],
             [
              0.2222222222222222,
              "#7201a8"
             ],
             [
              0.3333333333333333,
              "#9c179e"
             ],
             [
              0.4444444444444444,
              "#bd3786"
             ],
             [
              0.5555555555555556,
              "#d8576b"
             ],
             [
              0.6666666666666666,
              "#ed7953"
             ],
             [
              0.7777777777777778,
              "#fb9f3a"
             ],
             [
              0.8888888888888888,
              "#fdca26"
             ],
             [
              1,
              "#f0f921"
             ]
            ],
            "type": "histogram2dcontour"
           }
          ],
          "mesh3d": [
           {
            "colorbar": {
             "outlinewidth": 0,
             "ticks": ""
            },
            "type": "mesh3d"
           }
          ],
          "parcoords": [
           {
            "line": {
             "colorbar": {
              "outlinewidth": 0,
              "ticks": ""
             }
            },
            "type": "parcoords"
           }
          ],
          "pie": [
           {
            "automargin": true,
            "type": "pie"
           }
          ],
          "scatter": [
           {
            "fillpattern": {
             "fillmode": "overlay",
             "size": 10,
             "solidity": 0.2
            },
            "type": "scatter"
           }
          ],
          "scatter3d": [
           {
            "line": {
             "colorbar": {
              "outlinewidth": 0,
              "ticks": ""
             }
            },
            "marker": {
             "colorbar": {
              "outlinewidth": 0,
              "ticks": ""
             }
            },
            "type": "scatter3d"
           }
          ],
          "scattercarpet": [
           {
            "marker": {
             "colorbar": {
              "outlinewidth": 0,
              "ticks": ""
             }
            },
            "type": "scattercarpet"
           }
          ],
          "scattergeo": [
           {
            "marker": {
             "colorbar": {
              "outlinewidth": 0,
              "ticks": ""
             }
            },
            "type": "scattergeo"
           }
          ],
          "scattergl": [
           {
            "marker": {
             "colorbar": {
              "outlinewidth": 0,
              "ticks": ""
             }
            },
            "type": "scattergl"
           }
          ],
          "scattermapbox": [
           {
            "marker": {
             "colorbar": {
              "outlinewidth": 0,
              "ticks": ""
             }
            },
            "type": "scattermapbox"
           }
          ],
          "scatterpolar": [
           {
            "marker": {
             "colorbar": {
              "outlinewidth": 0,
              "ticks": ""
             }
            },
            "type": "scatterpolar"
           }
          ],
          "scatterpolargl": [
           {
            "marker": {
             "colorbar": {
              "outlinewidth": 0,
              "ticks": ""
             }
            },
            "type": "scatterpolargl"
           }
          ],
          "scatterternary": [
           {
            "marker": {
             "colorbar": {
              "outlinewidth": 0,
              "ticks": ""
             }
            },
            "type": "scatterternary"
           }
          ],
          "surface": [
           {
            "colorbar": {
             "outlinewidth": 0,
             "ticks": ""
            },
            "colorscale": [
             [
              0,
              "#0d0887"
             ],
             [
              0.1111111111111111,
              "#46039f"
             ],
             [
              0.2222222222222222,
              "#7201a8"
             ],
             [
              0.3333333333333333,
              "#9c179e"
             ],
             [
              0.4444444444444444,
              "#bd3786"
             ],
             [
              0.5555555555555556,
              "#d8576b"
             ],
             [
              0.6666666666666666,
              "#ed7953"
             ],
             [
              0.7777777777777778,
              "#fb9f3a"
             ],
             [
              0.8888888888888888,
              "#fdca26"
             ],
             [
              1,
              "#f0f921"
             ]
            ],
            "type": "surface"
           }
          ],
          "table": [
           {
            "cells": {
             "fill": {
              "color": "#EBF0F8"
             },
             "line": {
              "color": "white"
             }
            },
            "header": {
             "fill": {
              "color": "#C8D4E3"
             },
             "line": {
              "color": "white"
             }
            },
            "type": "table"
           }
          ]
         },
         "layout": {
          "annotationdefaults": {
           "arrowcolor": "#2a3f5f",
           "arrowhead": 0,
           "arrowwidth": 1
          },
          "autotypenumbers": "strict",
          "coloraxis": {
           "colorbar": {
            "outlinewidth": 0,
            "ticks": ""
           }
          },
          "colorscale": {
           "diverging": [
            [
             0,
             "#8e0152"
            ],
            [
             0.1,
             "#c51b7d"
            ],
            [
             0.2,
             "#de77ae"
            ],
            [
             0.3,
             "#f1b6da"
            ],
            [
             0.4,
             "#fde0ef"
            ],
            [
             0.5,
             "#f7f7f7"
            ],
            [
             0.6,
             "#e6f5d0"
            ],
            [
             0.7,
             "#b8e186"
            ],
            [
             0.8,
             "#7fbc41"
            ],
            [
             0.9,
             "#4d9221"
            ],
            [
             1,
             "#276419"
            ]
           ],
           "sequential": [
            [
             0,
             "#0d0887"
            ],
            [
             0.1111111111111111,
             "#46039f"
            ],
            [
             0.2222222222222222,
             "#7201a8"
            ],
            [
             0.3333333333333333,
             "#9c179e"
            ],
            [
             0.4444444444444444,
             "#bd3786"
            ],
            [
             0.5555555555555556,
             "#d8576b"
            ],
            [
             0.6666666666666666,
             "#ed7953"
            ],
            [
             0.7777777777777778,
             "#fb9f3a"
            ],
            [
             0.8888888888888888,
             "#fdca26"
            ],
            [
             1,
             "#f0f921"
            ]
           ],
           "sequentialminus": [
            [
             0,
             "#0d0887"
            ],
            [
             0.1111111111111111,
             "#46039f"
            ],
            [
             0.2222222222222222,
             "#7201a8"
            ],
            [
             0.3333333333333333,
             "#9c179e"
            ],
            [
             0.4444444444444444,
             "#bd3786"
            ],
            [
             0.5555555555555556,
             "#d8576b"
            ],
            [
             0.6666666666666666,
             "#ed7953"
            ],
            [
             0.7777777777777778,
             "#fb9f3a"
            ],
            [
             0.8888888888888888,
             "#fdca26"
            ],
            [
             1,
             "#f0f921"
            ]
           ]
          },
          "colorway": [
           "#636efa",
           "#EF553B",
           "#00cc96",
           "#ab63fa",
           "#FFA15A",
           "#19d3f3",
           "#FF6692",
           "#B6E880",
           "#FF97FF",
           "#FECB52"
          ],
          "font": {
           "color": "#2a3f5f"
          },
          "geo": {
           "bgcolor": "white",
           "lakecolor": "white",
           "landcolor": "#E5ECF6",
           "showlakes": true,
           "showland": true,
           "subunitcolor": "white"
          },
          "hoverlabel": {
           "align": "left"
          },
          "hovermode": "closest",
          "mapbox": {
           "style": "light"
          },
          "paper_bgcolor": "white",
          "plot_bgcolor": "#E5ECF6",
          "polar": {
           "angularaxis": {
            "gridcolor": "white",
            "linecolor": "white",
            "ticks": ""
           },
           "bgcolor": "#E5ECF6",
           "radialaxis": {
            "gridcolor": "white",
            "linecolor": "white",
            "ticks": ""
           }
          },
          "scene": {
           "xaxis": {
            "backgroundcolor": "#E5ECF6",
            "gridcolor": "white",
            "gridwidth": 2,
            "linecolor": "white",
            "showbackground": true,
            "ticks": "",
            "zerolinecolor": "white"
           },
           "yaxis": {
            "backgroundcolor": "#E5ECF6",
            "gridcolor": "white",
            "gridwidth": 2,
            "linecolor": "white",
            "showbackground": true,
            "ticks": "",
            "zerolinecolor": "white"
           },
           "zaxis": {
            "backgroundcolor": "#E5ECF6",
            "gridcolor": "white",
            "gridwidth": 2,
            "linecolor": "white",
            "showbackground": true,
            "ticks": "",
            "zerolinecolor": "white"
           }
          },
          "shapedefaults": {
           "line": {
            "color": "#2a3f5f"
           }
          },
          "ternary": {
           "aaxis": {
            "gridcolor": "white",
            "linecolor": "white",
            "ticks": ""
           },
           "baxis": {
            "gridcolor": "white",
            "linecolor": "white",
            "ticks": ""
           },
           "bgcolor": "#E5ECF6",
           "caxis": {
            "gridcolor": "white",
            "linecolor": "white",
            "ticks": ""
           }
          },
          "title": {
           "x": 0.05
          },
          "xaxis": {
           "automargin": true,
           "gridcolor": "white",
           "linecolor": "white",
           "ticks": "",
           "title": {
            "standoff": 15
           },
           "zerolinecolor": "white",
           "zerolinewidth": 2
          },
          "yaxis": {
           "automargin": true,
           "gridcolor": "white",
           "linecolor": "white",
           "ticks": "",
           "title": {
            "standoff": 15
           },
           "zerolinecolor": "white",
           "zerolinewidth": 2
          }
         }
        },
        "title": {
         "font": {
          "color": "#4D5663"
         }
        },
        "xaxis": {
         "gridcolor": "#E1E5ED",
         "showgrid": true,
         "tickfont": {
          "color": "#4D5663"
         },
         "title": {
          "font": {
           "color": "#4D5663"
          },
          "text": ""
         },
         "zerolinecolor": "#E1E5ED"
        },
        "yaxis": {
         "gridcolor": "#E1E5ED",
         "showgrid": true,
         "tickfont": {
          "color": "#4D5663"
         },
         "title": {
          "font": {
           "color": "#4D5663"
          },
          "text": ""
         },
         "zerolinecolor": "#E1E5ED"
        }
       }
      },
      "text/html": [
       "<div>                            <div id=\"88712427-7164-460d-bf81-b6f5ad4b4322\" class=\"plotly-graph-div\" style=\"height:525px; width:100%;\"></div>            <script type=\"text/javascript\">                require([\"plotly\"], function(Plotly) {                    window.PLOTLYENV=window.PLOTLYENV || {};\n",
       "                    window.PLOTLYENV.BASE_URL='https://plot.ly';                                    if (document.getElementById(\"88712427-7164-460d-bf81-b6f5ad4b4322\")) {                    Plotly.newPlot(                        \"88712427-7164-460d-bf81-b6f5ad4b4322\",                        [{\"marker\":{\"color\":\"rgba(255, 153, 51, 0.6)\",\"line\":{\"color\":\"rgba(255, 153, 51, 1.0)\",\"width\":1}},\"name\":\"lag_1\",\"orientation\":\"v\",\"text\":\"\",\"x\":[\"JPM\",\"BAC\",\"WFC\",\"MS\",\"GS\",\"C\",\"BCS\"],\"y\":[0.9021159457402974,0.9134703445849233,0.9991665091473952,0.8454143840509226,0.861522124305987,1.0349806784151825,0.6786442737922256],\"type\":\"bar\"},{\"marker\":{\"color\":\"rgba(55, 128, 191, 0.6)\",\"line\":{\"color\":\"rgba(55, 128, 191, 1.0)\",\"width\":1}},\"name\":\"lag_2\",\"orientation\":\"v\",\"text\":\"\",\"x\":[\"JPM\",\"BAC\",\"WFC\",\"MS\",\"GS\",\"C\",\"BCS\"],\"y\":[0.13486101308397266,0.06553555619544792,-0.007039287292931548,0.066052362348872,0.16544636963822892,-0.11315492764433076,0.236636333234488],\"type\":\"bar\"},{\"marker\":{\"color\":\"rgba(50, 171, 96, 0.6)\",\"line\":{\"color\":\"rgba(50, 171, 96, 1.0)\",\"width\":1}},\"name\":\"lag_3\",\"orientation\":\"v\",\"text\":\"\",\"x\":[\"JPM\",\"BAC\",\"WFC\",\"MS\",\"GS\",\"C\",\"BCS\"],\"y\":[0.050334030133171524,0.075638235462905,0.05195183324682099,0.1293232182315794,0.01984483905734943,0.14375071369405937,0.15261030591370708],\"type\":\"bar\"},{\"marker\":{\"color\":\"rgba(128, 0, 128, 0.6)\",\"line\":{\"color\":\"rgba(128, 0, 128, 1.0)\",\"width\":1}},\"name\":\"lag_4\",\"orientation\":\"v\",\"text\":\"\",\"x\":[\"JPM\",\"BAC\",\"WFC\",\"MS\",\"GS\",\"C\",\"BCS\"],\"y\":[-0.00046463565924281656,-0.003946840407089335,-0.18626826312695746,-0.05157075786865622,-0.02112286611791406,-0.20990181797810037,-0.0301469426004646],\"type\":\"bar\"},{\"marker\":{\"color\":\"rgba(219, 64, 82, 0.6)\",\"line\":{\"color\":\"rgba(219, 64, 82, 1.0)\",\"width\":1}},\"name\":\"lag_5\",\"orientation\":\"v\",\"text\":\"\",\"x\":[\"JPM\",\"BAC\",\"WFC\",\"MS\",\"GS\",\"C\",\"BCS\"],\"y\":[-0.08679418461597403,-0.050691789710713496,0.14226579494490496,0.01078673594494156,-0.02570955348892697,0.14431662015565835,-0.03777220645264017],\"type\":\"bar\"}],                        {\"legend\":{\"bgcolor\":\"#F5F6F9\",\"font\":{\"color\":\"#4D5663\"}},\"paper_bgcolor\":\"#F5F6F9\",\"plot_bgcolor\":\"#F5F6F9\",\"template\":{\"data\":{\"barpolar\":[{\"marker\":{\"line\":{\"color\":\"#E5ECF6\",\"width\":0.5},\"pattern\":{\"fillmode\":\"overlay\",\"size\":10,\"solidity\":0.2}},\"type\":\"barpolar\"}],\"bar\":[{\"error_x\":{\"color\":\"#2a3f5f\"},\"error_y\":{\"color\":\"#2a3f5f\"},\"marker\":{\"line\":{\"color\":\"#E5ECF6\",\"width\":0.5},\"pattern\":{\"fillmode\":\"overlay\",\"size\":10,\"solidity\":0.2}},\"type\":\"bar\"}],\"carpet\":[{\"aaxis\":{\"endlinecolor\":\"#2a3f5f\",\"gridcolor\":\"white\",\"linecolor\":\"white\",\"minorgridcolor\":\"white\",\"startlinecolor\":\"#2a3f5f\"},\"baxis\":{\"endlinecolor\":\"#2a3f5f\",\"gridcolor\":\"white\",\"linecolor\":\"white\",\"minorgridcolor\":\"white\",\"startlinecolor\":\"#2a3f5f\"},\"type\":\"carpet\"}],\"choropleth\":[{\"colorbar\":{\"outlinewidth\":0,\"ticks\":\"\"},\"type\":\"choropleth\"}],\"contourcarpet\":[{\"colorbar\":{\"outlinewidth\":0,\"ticks\":\"\"},\"type\":\"contourcarpet\"}],\"contour\":[{\"colorbar\":{\"outlinewidth\":0,\"ticks\":\"\"},\"colorscale\":[[0.0,\"#0d0887\"],[0.1111111111111111,\"#46039f\"],[0.2222222222222222,\"#7201a8\"],[0.3333333333333333,\"#9c179e\"],[0.4444444444444444,\"#bd3786\"],[0.5555555555555556,\"#d8576b\"],[0.6666666666666666,\"#ed7953\"],[0.7777777777777778,\"#fb9f3a\"],[0.8888888888888888,\"#fdca26\"],[1.0,\"#f0f921\"]],\"type\":\"contour\"}],\"heatmapgl\":[{\"colorbar\":{\"outlinewidth\":0,\"ticks\":\"\"},\"colorscale\":[[0.0,\"#0d0887\"],[0.1111111111111111,\"#46039f\"],[0.2222222222222222,\"#7201a8\"],[0.3333333333333333,\"#9c179e\"],[0.4444444444444444,\"#bd3786\"],[0.5555555555555556,\"#d8576b\"],[0.6666666666666666,\"#ed7953\"],[0.7777777777777778,\"#fb9f3a\"],[0.8888888888888888,\"#fdca26\"],[1.0,\"#f0f921\"]],\"type\":\"heatmapgl\"}],\"heatmap\":[{\"colorbar\":{\"outlinewidth\":0,\"ticks\":\"\"},\"colorscale\":[[0.0,\"#0d0887\"],[0.1111111111111111,\"#46039f\"],[0.2222222222222222,\"#7201a8\"],[0.3333333333333333,\"#9c179e\"],[0.4444444444444444,\"#bd3786\"],[0.5555555555555556,\"#d8576b\"],[0.6666666666666666,\"#ed7953\"],[0.7777777777777778,\"#fb9f3a\"],[0.8888888888888888,\"#fdca26\"],[1.0,\"#f0f921\"]],\"type\":\"heatmap\"}],\"histogram2dcontour\":[{\"colorbar\":{\"outlinewidth\":0,\"ticks\":\"\"},\"colorscale\":[[0.0,\"#0d0887\"],[0.1111111111111111,\"#46039f\"],[0.2222222222222222,\"#7201a8\"],[0.3333333333333333,\"#9c179e\"],[0.4444444444444444,\"#bd3786\"],[0.5555555555555556,\"#d8576b\"],[0.6666666666666666,\"#ed7953\"],[0.7777777777777778,\"#fb9f3a\"],[0.8888888888888888,\"#fdca26\"],[1.0,\"#f0f921\"]],\"type\":\"histogram2dcontour\"}],\"histogram2d\":[{\"colorbar\":{\"outlinewidth\":0,\"ticks\":\"\"},\"colorscale\":[[0.0,\"#0d0887\"],[0.1111111111111111,\"#46039f\"],[0.2222222222222222,\"#7201a8\"],[0.3333333333333333,\"#9c179e\"],[0.4444444444444444,\"#bd3786\"],[0.5555555555555556,\"#d8576b\"],[0.6666666666666666,\"#ed7953\"],[0.7777777777777778,\"#fb9f3a\"],[0.8888888888888888,\"#fdca26\"],[1.0,\"#f0f921\"]],\"type\":\"histogram2d\"}],\"histogram\":[{\"marker\":{\"pattern\":{\"fillmode\":\"overlay\",\"size\":10,\"solidity\":0.2}},\"type\":\"histogram\"}],\"mesh3d\":[{\"colorbar\":{\"outlinewidth\":0,\"ticks\":\"\"},\"type\":\"mesh3d\"}],\"parcoords\":[{\"line\":{\"colorbar\":{\"outlinewidth\":0,\"ticks\":\"\"}},\"type\":\"parcoords\"}],\"pie\":[{\"automargin\":true,\"type\":\"pie\"}],\"scatter3d\":[{\"line\":{\"colorbar\":{\"outlinewidth\":0,\"ticks\":\"\"}},\"marker\":{\"colorbar\":{\"outlinewidth\":0,\"ticks\":\"\"}},\"type\":\"scatter3d\"}],\"scattercarpet\":[{\"marker\":{\"colorbar\":{\"outlinewidth\":0,\"ticks\":\"\"}},\"type\":\"scattercarpet\"}],\"scattergeo\":[{\"marker\":{\"colorbar\":{\"outlinewidth\":0,\"ticks\":\"\"}},\"type\":\"scattergeo\"}],\"scattergl\":[{\"marker\":{\"colorbar\":{\"outlinewidth\":0,\"ticks\":\"\"}},\"type\":\"scattergl\"}],\"scattermapbox\":[{\"marker\":{\"colorbar\":{\"outlinewidth\":0,\"ticks\":\"\"}},\"type\":\"scattermapbox\"}],\"scatterpolargl\":[{\"marker\":{\"colorbar\":{\"outlinewidth\":0,\"ticks\":\"\"}},\"type\":\"scatterpolargl\"}],\"scatterpolar\":[{\"marker\":{\"colorbar\":{\"outlinewidth\":0,\"ticks\":\"\"}},\"type\":\"scatterpolar\"}],\"scatter\":[{\"fillpattern\":{\"fillmode\":\"overlay\",\"size\":10,\"solidity\":0.2},\"type\":\"scatter\"}],\"scatterternary\":[{\"marker\":{\"colorbar\":{\"outlinewidth\":0,\"ticks\":\"\"}},\"type\":\"scatterternary\"}],\"surface\":[{\"colorbar\":{\"outlinewidth\":0,\"ticks\":\"\"},\"colorscale\":[[0.0,\"#0d0887\"],[0.1111111111111111,\"#46039f\"],[0.2222222222222222,\"#7201a8\"],[0.3333333333333333,\"#9c179e\"],[0.4444444444444444,\"#bd3786\"],[0.5555555555555556,\"#d8576b\"],[0.6666666666666666,\"#ed7953\"],[0.7777777777777778,\"#fb9f3a\"],[0.8888888888888888,\"#fdca26\"],[1.0,\"#f0f921\"]],\"type\":\"surface\"}],\"table\":[{\"cells\":{\"fill\":{\"color\":\"#EBF0F8\"},\"line\":{\"color\":\"white\"}},\"header\":{\"fill\":{\"color\":\"#C8D4E3\"},\"line\":{\"color\":\"white\"}},\"type\":\"table\"}]},\"layout\":{\"annotationdefaults\":{\"arrowcolor\":\"#2a3f5f\",\"arrowhead\":0,\"arrowwidth\":1},\"autotypenumbers\":\"strict\",\"coloraxis\":{\"colorbar\":{\"outlinewidth\":0,\"ticks\":\"\"}},\"colorscale\":{\"diverging\":[[0,\"#8e0152\"],[0.1,\"#c51b7d\"],[0.2,\"#de77ae\"],[0.3,\"#f1b6da\"],[0.4,\"#fde0ef\"],[0.5,\"#f7f7f7\"],[0.6,\"#e6f5d0\"],[0.7,\"#b8e186\"],[0.8,\"#7fbc41\"],[0.9,\"#4d9221\"],[1,\"#276419\"]],\"sequential\":[[0.0,\"#0d0887\"],[0.1111111111111111,\"#46039f\"],[0.2222222222222222,\"#7201a8\"],[0.3333333333333333,\"#9c179e\"],[0.4444444444444444,\"#bd3786\"],[0.5555555555555556,\"#d8576b\"],[0.6666666666666666,\"#ed7953\"],[0.7777777777777778,\"#fb9f3a\"],[0.8888888888888888,\"#fdca26\"],[1.0,\"#f0f921\"]],\"sequentialminus\":[[0.0,\"#0d0887\"],[0.1111111111111111,\"#46039f\"],[0.2222222222222222,\"#7201a8\"],[0.3333333333333333,\"#9c179e\"],[0.4444444444444444,\"#bd3786\"],[0.5555555555555556,\"#d8576b\"],[0.6666666666666666,\"#ed7953\"],[0.7777777777777778,\"#fb9f3a\"],[0.8888888888888888,\"#fdca26\"],[1.0,\"#f0f921\"]]},\"colorway\":[\"#636efa\",\"#EF553B\",\"#00cc96\",\"#ab63fa\",\"#FFA15A\",\"#19d3f3\",\"#FF6692\",\"#B6E880\",\"#FF97FF\",\"#FECB52\"],\"font\":{\"color\":\"#2a3f5f\"},\"geo\":{\"bgcolor\":\"white\",\"lakecolor\":\"white\",\"landcolor\":\"#E5ECF6\",\"showlakes\":true,\"showland\":true,\"subunitcolor\":\"white\"},\"hoverlabel\":{\"align\":\"left\"},\"hovermode\":\"closest\",\"mapbox\":{\"style\":\"light\"},\"paper_bgcolor\":\"white\",\"plot_bgcolor\":\"#E5ECF6\",\"polar\":{\"angularaxis\":{\"gridcolor\":\"white\",\"linecolor\":\"white\",\"ticks\":\"\"},\"bgcolor\":\"#E5ECF6\",\"radialaxis\":{\"gridcolor\":\"white\",\"linecolor\":\"white\",\"ticks\":\"\"}},\"scene\":{\"xaxis\":{\"backgroundcolor\":\"#E5ECF6\",\"gridcolor\":\"white\",\"gridwidth\":2,\"linecolor\":\"white\",\"showbackground\":true,\"ticks\":\"\",\"zerolinecolor\":\"white\"},\"yaxis\":{\"backgroundcolor\":\"#E5ECF6\",\"gridcolor\":\"white\",\"gridwidth\":2,\"linecolor\":\"white\",\"showbackground\":true,\"ticks\":\"\",\"zerolinecolor\":\"white\"},\"zaxis\":{\"backgroundcolor\":\"#E5ECF6\",\"gridcolor\":\"white\",\"gridwidth\":2,\"linecolor\":\"white\",\"showbackground\":true,\"ticks\":\"\",\"zerolinecolor\":\"white\"}},\"shapedefaults\":{\"line\":{\"color\":\"#2a3f5f\"}},\"ternary\":{\"aaxis\":{\"gridcolor\":\"white\",\"linecolor\":\"white\",\"ticks\":\"\"},\"baxis\":{\"gridcolor\":\"white\",\"linecolor\":\"white\",\"ticks\":\"\"},\"bgcolor\":\"#E5ECF6\",\"caxis\":{\"gridcolor\":\"white\",\"linecolor\":\"white\",\"ticks\":\"\"}},\"title\":{\"x\":0.05},\"xaxis\":{\"automargin\":true,\"gridcolor\":\"white\",\"linecolor\":\"white\",\"ticks\":\"\",\"title\":{\"standoff\":15},\"zerolinecolor\":\"white\",\"zerolinewidth\":2},\"yaxis\":{\"automargin\":true,\"gridcolor\":\"white\",\"linecolor\":\"white\",\"ticks\":\"\",\"title\":{\"standoff\":15},\"zerolinecolor\":\"white\",\"zerolinewidth\":2}}},\"title\":{\"font\":{\"color\":\"#4D5663\"}},\"xaxis\":{\"gridcolor\":\"#E1E5ED\",\"showgrid\":true,\"tickfont\":{\"color\":\"#4D5663\"},\"title\":{\"font\":{\"color\":\"#4D5663\"},\"text\":\"\"},\"zerolinecolor\":\"#E1E5ED\"},\"yaxis\":{\"gridcolor\":\"#E1E5ED\",\"showgrid\":true,\"tickfont\":{\"color\":\"#4D5663\"},\"title\":{\"font\":{\"color\":\"#4D5663\"},\"text\":\"\"},\"zerolinecolor\":\"#E1E5ED\"}},                        {\"showLink\": true, \"linkText\": \"Export to plot.ly\", \"plotlyServerURL\": \"https://plot.ly\", \"responsive\": true}                    ).then(function(){\n",
       "                            \n",
       "var gd = document.getElementById('88712427-7164-460d-bf81-b6f5ad4b4322');\n",
       "var x = new MutationObserver(function (mutations, observer) {{\n",
       "        var display = window.getComputedStyle(gd).display;\n",
       "        if (!display || display === 'none') {{\n",
       "            console.log([gd, 'removed!']);\n",
       "            Plotly.purge(gd);\n",
       "            observer.disconnect();\n",
       "        }}\n",
       "}});\n",
       "\n",
       "// Listen for the removal of the full notebook cells\n",
       "var notebookContainer = gd.closest('#notebook-container');\n",
       "if (notebookContainer) {{\n",
       "    x.observe(notebookContainer, {childList: true});\n",
       "}}\n",
       "\n",
       "// Listen for the clearing of the current output cell\n",
       "var outputEl = gd.closest('.output');\n",
       "if (outputEl) {{\n",
       "    x.observe(outputEl, {childList: true});\n",
       "}}\n",
       "\n",
       "                        })                };                });            </script>        </div>"
      ]
     },
     "metadata": {},
     "output_type": "display_data"
    }
   ],
   "source": [
    "regd.iplot(kind='bar')"
   ]
  },
  {
   "cell_type": "code",
   "execution_count": 55,
   "metadata": {
    "scrolled": false
   },
   "outputs": [
    {
     "data": {
      "application/vnd.plotly.v1+json": {
       "config": {
        "linkText": "Export to plot.ly",
        "plotlyServerURL": "https://plot.ly",
        "showLink": true
       },
       "data": [
        {
         "marker": {
          "color": "rgba(255, 153, 51, 0.6)",
          "line": {
           "color": "rgba(255, 153, 51, 1.0)",
           "width": 1
          }
         },
         "name": "None",
         "orientation": "v",
         "text": "",
         "type": "bar",
         "x": [
          "lag_1",
          "lag_2",
          "lag_3",
          "lag_4",
          "lag_5"
         ],
         "y": [
          0.8907591800052763,
          0.0783339170805353,
          0.0890647393913704,
          -0.07191744625120355,
          0.0137716309681786
         ]
        }
       ],
       "layout": {
        "legend": {
         "bgcolor": "#F5F6F9",
         "font": {
          "color": "#4D5663"
         }
        },
        "paper_bgcolor": "#F5F6F9",
        "plot_bgcolor": "#F5F6F9",
        "template": {
         "data": {
          "bar": [
           {
            "error_x": {
             "color": "#2a3f5f"
            },
            "error_y": {
             "color": "#2a3f5f"
            },
            "marker": {
             "line": {
              "color": "#E5ECF6",
              "width": 0.5
             },
             "pattern": {
              "fillmode": "overlay",
              "size": 10,
              "solidity": 0.2
             }
            },
            "type": "bar"
           }
          ],
          "barpolar": [
           {
            "marker": {
             "line": {
              "color": "#E5ECF6",
              "width": 0.5
             },
             "pattern": {
              "fillmode": "overlay",
              "size": 10,
              "solidity": 0.2
             }
            },
            "type": "barpolar"
           }
          ],
          "carpet": [
           {
            "aaxis": {
             "endlinecolor": "#2a3f5f",
             "gridcolor": "white",
             "linecolor": "white",
             "minorgridcolor": "white",
             "startlinecolor": "#2a3f5f"
            },
            "baxis": {
             "endlinecolor": "#2a3f5f",
             "gridcolor": "white",
             "linecolor": "white",
             "minorgridcolor": "white",
             "startlinecolor": "#2a3f5f"
            },
            "type": "carpet"
           }
          ],
          "choropleth": [
           {
            "colorbar": {
             "outlinewidth": 0,
             "ticks": ""
            },
            "type": "choropleth"
           }
          ],
          "contour": [
           {
            "colorbar": {
             "outlinewidth": 0,
             "ticks": ""
            },
            "colorscale": [
             [
              0,
              "#0d0887"
             ],
             [
              0.1111111111111111,
              "#46039f"
             ],
             [
              0.2222222222222222,
              "#7201a8"
             ],
             [
              0.3333333333333333,
              "#9c179e"
             ],
             [
              0.4444444444444444,
              "#bd3786"
             ],
             [
              0.5555555555555556,
              "#d8576b"
             ],
             [
              0.6666666666666666,
              "#ed7953"
             ],
             [
              0.7777777777777778,
              "#fb9f3a"
             ],
             [
              0.8888888888888888,
              "#fdca26"
             ],
             [
              1,
              "#f0f921"
             ]
            ],
            "type": "contour"
           }
          ],
          "contourcarpet": [
           {
            "colorbar": {
             "outlinewidth": 0,
             "ticks": ""
            },
            "type": "contourcarpet"
           }
          ],
          "heatmap": [
           {
            "colorbar": {
             "outlinewidth": 0,
             "ticks": ""
            },
            "colorscale": [
             [
              0,
              "#0d0887"
             ],
             [
              0.1111111111111111,
              "#46039f"
             ],
             [
              0.2222222222222222,
              "#7201a8"
             ],
             [
              0.3333333333333333,
              "#9c179e"
             ],
             [
              0.4444444444444444,
              "#bd3786"
             ],
             [
              0.5555555555555556,
              "#d8576b"
             ],
             [
              0.6666666666666666,
              "#ed7953"
             ],
             [
              0.7777777777777778,
              "#fb9f3a"
             ],
             [
              0.8888888888888888,
              "#fdca26"
             ],
             [
              1,
              "#f0f921"
             ]
            ],
            "type": "heatmap"
           }
          ],
          "heatmapgl": [
           {
            "colorbar": {
             "outlinewidth": 0,
             "ticks": ""
            },
            "colorscale": [
             [
              0,
              "#0d0887"
             ],
             [
              0.1111111111111111,
              "#46039f"
             ],
             [
              0.2222222222222222,
              "#7201a8"
             ],
             [
              0.3333333333333333,
              "#9c179e"
             ],
             [
              0.4444444444444444,
              "#bd3786"
             ],
             [
              0.5555555555555556,
              "#d8576b"
             ],
             [
              0.6666666666666666,
              "#ed7953"
             ],
             [
              0.7777777777777778,
              "#fb9f3a"
             ],
             [
              0.8888888888888888,
              "#fdca26"
             ],
             [
              1,
              "#f0f921"
             ]
            ],
            "type": "heatmapgl"
           }
          ],
          "histogram": [
           {
            "marker": {
             "pattern": {
              "fillmode": "overlay",
              "size": 10,
              "solidity": 0.2
             }
            },
            "type": "histogram"
           }
          ],
          "histogram2d": [
           {
            "colorbar": {
             "outlinewidth": 0,
             "ticks": ""
            },
            "colorscale": [
             [
              0,
              "#0d0887"
             ],
             [
              0.1111111111111111,
              "#46039f"
             ],
             [
              0.2222222222222222,
              "#7201a8"
             ],
             [
              0.3333333333333333,
              "#9c179e"
             ],
             [
              0.4444444444444444,
              "#bd3786"
             ],
             [
              0.5555555555555556,
              "#d8576b"
             ],
             [
              0.6666666666666666,
              "#ed7953"
             ],
             [
              0.7777777777777778,
              "#fb9f3a"
             ],
             [
              0.8888888888888888,
              "#fdca26"
             ],
             [
              1,
              "#f0f921"
             ]
            ],
            "type": "histogram2d"
           }
          ],
          "histogram2dcontour": [
           {
            "colorbar": {
             "outlinewidth": 0,
             "ticks": ""
            },
            "colorscale": [
             [
              0,
              "#0d0887"
             ],
             [
              0.1111111111111111,
              "#46039f"
             ],
             [
              0.2222222222222222,
              "#7201a8"
             ],
             [
              0.3333333333333333,
              "#9c179e"
             ],
             [
              0.4444444444444444,
              "#bd3786"
             ],
             [
              0.5555555555555556,
              "#d8576b"
             ],
             [
              0.6666666666666666,
              "#ed7953"
             ],
             [
              0.7777777777777778,
              "#fb9f3a"
             ],
             [
              0.8888888888888888,
              "#fdca26"
             ],
             [
              1,
              "#f0f921"
             ]
            ],
            "type": "histogram2dcontour"
           }
          ],
          "mesh3d": [
           {
            "colorbar": {
             "outlinewidth": 0,
             "ticks": ""
            },
            "type": "mesh3d"
           }
          ],
          "parcoords": [
           {
            "line": {
             "colorbar": {
              "outlinewidth": 0,
              "ticks": ""
             }
            },
            "type": "parcoords"
           }
          ],
          "pie": [
           {
            "automargin": true,
            "type": "pie"
           }
          ],
          "scatter": [
           {
            "fillpattern": {
             "fillmode": "overlay",
             "size": 10,
             "solidity": 0.2
            },
            "type": "scatter"
           }
          ],
          "scatter3d": [
           {
            "line": {
             "colorbar": {
              "outlinewidth": 0,
              "ticks": ""
             }
            },
            "marker": {
             "colorbar": {
              "outlinewidth": 0,
              "ticks": ""
             }
            },
            "type": "scatter3d"
           }
          ],
          "scattercarpet": [
           {
            "marker": {
             "colorbar": {
              "outlinewidth": 0,
              "ticks": ""
             }
            },
            "type": "scattercarpet"
           }
          ],
          "scattergeo": [
           {
            "marker": {
             "colorbar": {
              "outlinewidth": 0,
              "ticks": ""
             }
            },
            "type": "scattergeo"
           }
          ],
          "scattergl": [
           {
            "marker": {
             "colorbar": {
              "outlinewidth": 0,
              "ticks": ""
             }
            },
            "type": "scattergl"
           }
          ],
          "scattermapbox": [
           {
            "marker": {
             "colorbar": {
              "outlinewidth": 0,
              "ticks": ""
             }
            },
            "type": "scattermapbox"
           }
          ],
          "scatterpolar": [
           {
            "marker": {
             "colorbar": {
              "outlinewidth": 0,
              "ticks": ""
             }
            },
            "type": "scatterpolar"
           }
          ],
          "scatterpolargl": [
           {
            "marker": {
             "colorbar": {
              "outlinewidth": 0,
              "ticks": ""
             }
            },
            "type": "scatterpolargl"
           }
          ],
          "scatterternary": [
           {
            "marker": {
             "colorbar": {
              "outlinewidth": 0,
              "ticks": ""
             }
            },
            "type": "scatterternary"
           }
          ],
          "surface": [
           {
            "colorbar": {
             "outlinewidth": 0,
             "ticks": ""
            },
            "colorscale": [
             [
              0,
              "#0d0887"
             ],
             [
              0.1111111111111111,
              "#46039f"
             ],
             [
              0.2222222222222222,
              "#7201a8"
             ],
             [
              0.3333333333333333,
              "#9c179e"
             ],
             [
              0.4444444444444444,
              "#bd3786"
             ],
             [
              0.5555555555555556,
              "#d8576b"
             ],
             [
              0.6666666666666666,
              "#ed7953"
             ],
             [
              0.7777777777777778,
              "#fb9f3a"
             ],
             [
              0.8888888888888888,
              "#fdca26"
             ],
             [
              1,
              "#f0f921"
             ]
            ],
            "type": "surface"
           }
          ],
          "table": [
           {
            "cells": {
             "fill": {
              "color": "#EBF0F8"
             },
             "line": {
              "color": "white"
             }
            },
            "header": {
             "fill": {
              "color": "#C8D4E3"
             },
             "line": {
              "color": "white"
             }
            },
            "type": "table"
           }
          ]
         },
         "layout": {
          "annotationdefaults": {
           "arrowcolor": "#2a3f5f",
           "arrowhead": 0,
           "arrowwidth": 1
          },
          "autotypenumbers": "strict",
          "coloraxis": {
           "colorbar": {
            "outlinewidth": 0,
            "ticks": ""
           }
          },
          "colorscale": {
           "diverging": [
            [
             0,
             "#8e0152"
            ],
            [
             0.1,
             "#c51b7d"
            ],
            [
             0.2,
             "#de77ae"
            ],
            [
             0.3,
             "#f1b6da"
            ],
            [
             0.4,
             "#fde0ef"
            ],
            [
             0.5,
             "#f7f7f7"
            ],
            [
             0.6,
             "#e6f5d0"
            ],
            [
             0.7,
             "#b8e186"
            ],
            [
             0.8,
             "#7fbc41"
            ],
            [
             0.9,
             "#4d9221"
            ],
            [
             1,
             "#276419"
            ]
           ],
           "sequential": [
            [
             0,
             "#0d0887"
            ],
            [
             0.1111111111111111,
             "#46039f"
            ],
            [
             0.2222222222222222,
             "#7201a8"
            ],
            [
             0.3333333333333333,
             "#9c179e"
            ],
            [
             0.4444444444444444,
             "#bd3786"
            ],
            [
             0.5555555555555556,
             "#d8576b"
            ],
            [
             0.6666666666666666,
             "#ed7953"
            ],
            [
             0.7777777777777778,
             "#fb9f3a"
            ],
            [
             0.8888888888888888,
             "#fdca26"
            ],
            [
             1,
             "#f0f921"
            ]
           ],
           "sequentialminus": [
            [
             0,
             "#0d0887"
            ],
            [
             0.1111111111111111,
             "#46039f"
            ],
            [
             0.2222222222222222,
             "#7201a8"
            ],
            [
             0.3333333333333333,
             "#9c179e"
            ],
            [
             0.4444444444444444,
             "#bd3786"
            ],
            [
             0.5555555555555556,
             "#d8576b"
            ],
            [
             0.6666666666666666,
             "#ed7953"
            ],
            [
             0.7777777777777778,
             "#fb9f3a"
            ],
            [
             0.8888888888888888,
             "#fdca26"
            ],
            [
             1,
             "#f0f921"
            ]
           ]
          },
          "colorway": [
           "#636efa",
           "#EF553B",
           "#00cc96",
           "#ab63fa",
           "#FFA15A",
           "#19d3f3",
           "#FF6692",
           "#B6E880",
           "#FF97FF",
           "#FECB52"
          ],
          "font": {
           "color": "#2a3f5f"
          },
          "geo": {
           "bgcolor": "white",
           "lakecolor": "white",
           "landcolor": "#E5ECF6",
           "showlakes": true,
           "showland": true,
           "subunitcolor": "white"
          },
          "hoverlabel": {
           "align": "left"
          },
          "hovermode": "closest",
          "mapbox": {
           "style": "light"
          },
          "paper_bgcolor": "white",
          "plot_bgcolor": "#E5ECF6",
          "polar": {
           "angularaxis": {
            "gridcolor": "white",
            "linecolor": "white",
            "ticks": ""
           },
           "bgcolor": "#E5ECF6",
           "radialaxis": {
            "gridcolor": "white",
            "linecolor": "white",
            "ticks": ""
           }
          },
          "scene": {
           "xaxis": {
            "backgroundcolor": "#E5ECF6",
            "gridcolor": "white",
            "gridwidth": 2,
            "linecolor": "white",
            "showbackground": true,
            "ticks": "",
            "zerolinecolor": "white"
           },
           "yaxis": {
            "backgroundcolor": "#E5ECF6",
            "gridcolor": "white",
            "gridwidth": 2,
            "linecolor": "white",
            "showbackground": true,
            "ticks": "",
            "zerolinecolor": "white"
           },
           "zaxis": {
            "backgroundcolor": "#E5ECF6",
            "gridcolor": "white",
            "gridwidth": 2,
            "linecolor": "white",
            "showbackground": true,
            "ticks": "",
            "zerolinecolor": "white"
           }
          },
          "shapedefaults": {
           "line": {
            "color": "#2a3f5f"
           }
          },
          "ternary": {
           "aaxis": {
            "gridcolor": "white",
            "linecolor": "white",
            "ticks": ""
           },
           "baxis": {
            "gridcolor": "white",
            "linecolor": "white",
            "ticks": ""
           },
           "bgcolor": "#E5ECF6",
           "caxis": {
            "gridcolor": "white",
            "linecolor": "white",
            "ticks": ""
           }
          },
          "title": {
           "x": 0.05
          },
          "xaxis": {
           "automargin": true,
           "gridcolor": "white",
           "linecolor": "white",
           "ticks": "",
           "title": {
            "standoff": 15
           },
           "zerolinecolor": "white",
           "zerolinewidth": 2
          },
          "yaxis": {
           "automargin": true,
           "gridcolor": "white",
           "linecolor": "white",
           "ticks": "",
           "title": {
            "standoff": 15
           },
           "zerolinecolor": "white",
           "zerolinewidth": 2
          }
         }
        },
        "title": {
         "font": {
          "color": "#4D5663"
         }
        },
        "xaxis": {
         "gridcolor": "#E1E5ED",
         "showgrid": true,
         "tickfont": {
          "color": "#4D5663"
         },
         "title": {
          "font": {
           "color": "#4D5663"
          },
          "text": ""
         },
         "zerolinecolor": "#E1E5ED"
        },
        "yaxis": {
         "gridcolor": "#E1E5ED",
         "showgrid": true,
         "tickfont": {
          "color": "#4D5663"
         },
         "title": {
          "font": {
           "color": "#4D5663"
          },
          "text": ""
         },
         "zerolinecolor": "#E1E5ED"
        }
       }
      },
      "text/html": [
       "<div>                            <div id=\"3ae58440-2026-40be-b8e1-b7c23b920759\" class=\"plotly-graph-div\" style=\"height:525px; width:100%;\"></div>            <script type=\"text/javascript\">                require([\"plotly\"], function(Plotly) {                    window.PLOTLYENV=window.PLOTLYENV || {};\n",
       "                    window.PLOTLYENV.BASE_URL='https://plot.ly';                                    if (document.getElementById(\"3ae58440-2026-40be-b8e1-b7c23b920759\")) {                    Plotly.newPlot(                        \"3ae58440-2026-40be-b8e1-b7c23b920759\",                        [{\"marker\":{\"color\":\"rgba(255, 153, 51, 0.6)\",\"line\":{\"color\":\"rgba(255, 153, 51, 1.0)\",\"width\":1}},\"name\":\"None\",\"orientation\":\"v\",\"text\":\"\",\"x\":[\"lag_1\",\"lag_2\",\"lag_3\",\"lag_4\",\"lag_5\"],\"y\":[0.8907591800052763,0.0783339170805353,0.0890647393913704,-0.07191744625120355,0.0137716309681786],\"type\":\"bar\"}],                        {\"legend\":{\"bgcolor\":\"#F5F6F9\",\"font\":{\"color\":\"#4D5663\"}},\"paper_bgcolor\":\"#F5F6F9\",\"plot_bgcolor\":\"#F5F6F9\",\"template\":{\"data\":{\"barpolar\":[{\"marker\":{\"line\":{\"color\":\"#E5ECF6\",\"width\":0.5},\"pattern\":{\"fillmode\":\"overlay\",\"size\":10,\"solidity\":0.2}},\"type\":\"barpolar\"}],\"bar\":[{\"error_x\":{\"color\":\"#2a3f5f\"},\"error_y\":{\"color\":\"#2a3f5f\"},\"marker\":{\"line\":{\"color\":\"#E5ECF6\",\"width\":0.5},\"pattern\":{\"fillmode\":\"overlay\",\"size\":10,\"solidity\":0.2}},\"type\":\"bar\"}],\"carpet\":[{\"aaxis\":{\"endlinecolor\":\"#2a3f5f\",\"gridcolor\":\"white\",\"linecolor\":\"white\",\"minorgridcolor\":\"white\",\"startlinecolor\":\"#2a3f5f\"},\"baxis\":{\"endlinecolor\":\"#2a3f5f\",\"gridcolor\":\"white\",\"linecolor\":\"white\",\"minorgridcolor\":\"white\",\"startlinecolor\":\"#2a3f5f\"},\"type\":\"carpet\"}],\"choropleth\":[{\"colorbar\":{\"outlinewidth\":0,\"ticks\":\"\"},\"type\":\"choropleth\"}],\"contourcarpet\":[{\"colorbar\":{\"outlinewidth\":0,\"ticks\":\"\"},\"type\":\"contourcarpet\"}],\"contour\":[{\"colorbar\":{\"outlinewidth\":0,\"ticks\":\"\"},\"colorscale\":[[0.0,\"#0d0887\"],[0.1111111111111111,\"#46039f\"],[0.2222222222222222,\"#7201a8\"],[0.3333333333333333,\"#9c179e\"],[0.4444444444444444,\"#bd3786\"],[0.5555555555555556,\"#d8576b\"],[0.6666666666666666,\"#ed7953\"],[0.7777777777777778,\"#fb9f3a\"],[0.8888888888888888,\"#fdca26\"],[1.0,\"#f0f921\"]],\"type\":\"contour\"}],\"heatmapgl\":[{\"colorbar\":{\"outlinewidth\":0,\"ticks\":\"\"},\"colorscale\":[[0.0,\"#0d0887\"],[0.1111111111111111,\"#46039f\"],[0.2222222222222222,\"#7201a8\"],[0.3333333333333333,\"#9c179e\"],[0.4444444444444444,\"#bd3786\"],[0.5555555555555556,\"#d8576b\"],[0.6666666666666666,\"#ed7953\"],[0.7777777777777778,\"#fb9f3a\"],[0.8888888888888888,\"#fdca26\"],[1.0,\"#f0f921\"]],\"type\":\"heatmapgl\"}],\"heatmap\":[{\"colorbar\":{\"outlinewidth\":0,\"ticks\":\"\"},\"colorscale\":[[0.0,\"#0d0887\"],[0.1111111111111111,\"#46039f\"],[0.2222222222222222,\"#7201a8\"],[0.3333333333333333,\"#9c179e\"],[0.4444444444444444,\"#bd3786\"],[0.5555555555555556,\"#d8576b\"],[0.6666666666666666,\"#ed7953\"],[0.7777777777777778,\"#fb9f3a\"],[0.8888888888888888,\"#fdca26\"],[1.0,\"#f0f921\"]],\"type\":\"heatmap\"}],\"histogram2dcontour\":[{\"colorbar\":{\"outlinewidth\":0,\"ticks\":\"\"},\"colorscale\":[[0.0,\"#0d0887\"],[0.1111111111111111,\"#46039f\"],[0.2222222222222222,\"#7201a8\"],[0.3333333333333333,\"#9c179e\"],[0.4444444444444444,\"#bd3786\"],[0.5555555555555556,\"#d8576b\"],[0.6666666666666666,\"#ed7953\"],[0.7777777777777778,\"#fb9f3a\"],[0.8888888888888888,\"#fdca26\"],[1.0,\"#f0f921\"]],\"type\":\"histogram2dcontour\"}],\"histogram2d\":[{\"colorbar\":{\"outlinewidth\":0,\"ticks\":\"\"},\"colorscale\":[[0.0,\"#0d0887\"],[0.1111111111111111,\"#46039f\"],[0.2222222222222222,\"#7201a8\"],[0.3333333333333333,\"#9c179e\"],[0.4444444444444444,\"#bd3786\"],[0.5555555555555556,\"#d8576b\"],[0.6666666666666666,\"#ed7953\"],[0.7777777777777778,\"#fb9f3a\"],[0.8888888888888888,\"#fdca26\"],[1.0,\"#f0f921\"]],\"type\":\"histogram2d\"}],\"histogram\":[{\"marker\":{\"pattern\":{\"fillmode\":\"overlay\",\"size\":10,\"solidity\":0.2}},\"type\":\"histogram\"}],\"mesh3d\":[{\"colorbar\":{\"outlinewidth\":0,\"ticks\":\"\"},\"type\":\"mesh3d\"}],\"parcoords\":[{\"line\":{\"colorbar\":{\"outlinewidth\":0,\"ticks\":\"\"}},\"type\":\"parcoords\"}],\"pie\":[{\"automargin\":true,\"type\":\"pie\"}],\"scatter3d\":[{\"line\":{\"colorbar\":{\"outlinewidth\":0,\"ticks\":\"\"}},\"marker\":{\"colorbar\":{\"outlinewidth\":0,\"ticks\":\"\"}},\"type\":\"scatter3d\"}],\"scattercarpet\":[{\"marker\":{\"colorbar\":{\"outlinewidth\":0,\"ticks\":\"\"}},\"type\":\"scattercarpet\"}],\"scattergeo\":[{\"marker\":{\"colorbar\":{\"outlinewidth\":0,\"ticks\":\"\"}},\"type\":\"scattergeo\"}],\"scattergl\":[{\"marker\":{\"colorbar\":{\"outlinewidth\":0,\"ticks\":\"\"}},\"type\":\"scattergl\"}],\"scattermapbox\":[{\"marker\":{\"colorbar\":{\"outlinewidth\":0,\"ticks\":\"\"}},\"type\":\"scattermapbox\"}],\"scatterpolargl\":[{\"marker\":{\"colorbar\":{\"outlinewidth\":0,\"ticks\":\"\"}},\"type\":\"scatterpolargl\"}],\"scatterpolar\":[{\"marker\":{\"colorbar\":{\"outlinewidth\":0,\"ticks\":\"\"}},\"type\":\"scatterpolar\"}],\"scatter\":[{\"fillpattern\":{\"fillmode\":\"overlay\",\"size\":10,\"solidity\":0.2},\"type\":\"scatter\"}],\"scatterternary\":[{\"marker\":{\"colorbar\":{\"outlinewidth\":0,\"ticks\":\"\"}},\"type\":\"scatterternary\"}],\"surface\":[{\"colorbar\":{\"outlinewidth\":0,\"ticks\":\"\"},\"colorscale\":[[0.0,\"#0d0887\"],[0.1111111111111111,\"#46039f\"],[0.2222222222222222,\"#7201a8\"],[0.3333333333333333,\"#9c179e\"],[0.4444444444444444,\"#bd3786\"],[0.5555555555555556,\"#d8576b\"],[0.6666666666666666,\"#ed7953\"],[0.7777777777777778,\"#fb9f3a\"],[0.8888888888888888,\"#fdca26\"],[1.0,\"#f0f921\"]],\"type\":\"surface\"}],\"table\":[{\"cells\":{\"fill\":{\"color\":\"#EBF0F8\"},\"line\":{\"color\":\"white\"}},\"header\":{\"fill\":{\"color\":\"#C8D4E3\"},\"line\":{\"color\":\"white\"}},\"type\":\"table\"}]},\"layout\":{\"annotationdefaults\":{\"arrowcolor\":\"#2a3f5f\",\"arrowhead\":0,\"arrowwidth\":1},\"autotypenumbers\":\"strict\",\"coloraxis\":{\"colorbar\":{\"outlinewidth\":0,\"ticks\":\"\"}},\"colorscale\":{\"diverging\":[[0,\"#8e0152\"],[0.1,\"#c51b7d\"],[0.2,\"#de77ae\"],[0.3,\"#f1b6da\"],[0.4,\"#fde0ef\"],[0.5,\"#f7f7f7\"],[0.6,\"#e6f5d0\"],[0.7,\"#b8e186\"],[0.8,\"#7fbc41\"],[0.9,\"#4d9221\"],[1,\"#276419\"]],\"sequential\":[[0.0,\"#0d0887\"],[0.1111111111111111,\"#46039f\"],[0.2222222222222222,\"#7201a8\"],[0.3333333333333333,\"#9c179e\"],[0.4444444444444444,\"#bd3786\"],[0.5555555555555556,\"#d8576b\"],[0.6666666666666666,\"#ed7953\"],[0.7777777777777778,\"#fb9f3a\"],[0.8888888888888888,\"#fdca26\"],[1.0,\"#f0f921\"]],\"sequentialminus\":[[0.0,\"#0d0887\"],[0.1111111111111111,\"#46039f\"],[0.2222222222222222,\"#7201a8\"],[0.3333333333333333,\"#9c179e\"],[0.4444444444444444,\"#bd3786\"],[0.5555555555555556,\"#d8576b\"],[0.6666666666666666,\"#ed7953\"],[0.7777777777777778,\"#fb9f3a\"],[0.8888888888888888,\"#fdca26\"],[1.0,\"#f0f921\"]]},\"colorway\":[\"#636efa\",\"#EF553B\",\"#00cc96\",\"#ab63fa\",\"#FFA15A\",\"#19d3f3\",\"#FF6692\",\"#B6E880\",\"#FF97FF\",\"#FECB52\"],\"font\":{\"color\":\"#2a3f5f\"},\"geo\":{\"bgcolor\":\"white\",\"lakecolor\":\"white\",\"landcolor\":\"#E5ECF6\",\"showlakes\":true,\"showland\":true,\"subunitcolor\":\"white\"},\"hoverlabel\":{\"align\":\"left\"},\"hovermode\":\"closest\",\"mapbox\":{\"style\":\"light\"},\"paper_bgcolor\":\"white\",\"plot_bgcolor\":\"#E5ECF6\",\"polar\":{\"angularaxis\":{\"gridcolor\":\"white\",\"linecolor\":\"white\",\"ticks\":\"\"},\"bgcolor\":\"#E5ECF6\",\"radialaxis\":{\"gridcolor\":\"white\",\"linecolor\":\"white\",\"ticks\":\"\"}},\"scene\":{\"xaxis\":{\"backgroundcolor\":\"#E5ECF6\",\"gridcolor\":\"white\",\"gridwidth\":2,\"linecolor\":\"white\",\"showbackground\":true,\"ticks\":\"\",\"zerolinecolor\":\"white\"},\"yaxis\":{\"backgroundcolor\":\"#E5ECF6\",\"gridcolor\":\"white\",\"gridwidth\":2,\"linecolor\":\"white\",\"showbackground\":true,\"ticks\":\"\",\"zerolinecolor\":\"white\"},\"zaxis\":{\"backgroundcolor\":\"#E5ECF6\",\"gridcolor\":\"white\",\"gridwidth\":2,\"linecolor\":\"white\",\"showbackground\":true,\"ticks\":\"\",\"zerolinecolor\":\"white\"}},\"shapedefaults\":{\"line\":{\"color\":\"#2a3f5f\"}},\"ternary\":{\"aaxis\":{\"gridcolor\":\"white\",\"linecolor\":\"white\",\"ticks\":\"\"},\"baxis\":{\"gridcolor\":\"white\",\"linecolor\":\"white\",\"ticks\":\"\"},\"bgcolor\":\"#E5ECF6\",\"caxis\":{\"gridcolor\":\"white\",\"linecolor\":\"white\",\"ticks\":\"\"}},\"title\":{\"x\":0.05},\"xaxis\":{\"automargin\":true,\"gridcolor\":\"white\",\"linecolor\":\"white\",\"ticks\":\"\",\"title\":{\"standoff\":15},\"zerolinecolor\":\"white\",\"zerolinewidth\":2},\"yaxis\":{\"automargin\":true,\"gridcolor\":\"white\",\"linecolor\":\"white\",\"ticks\":\"\",\"title\":{\"standoff\":15},\"zerolinecolor\":\"white\",\"zerolinewidth\":2}}},\"title\":{\"font\":{\"color\":\"#4D5663\"}},\"xaxis\":{\"gridcolor\":\"#E1E5ED\",\"showgrid\":true,\"tickfont\":{\"color\":\"#4D5663\"},\"title\":{\"font\":{\"color\":\"#4D5663\"},\"text\":\"\"},\"zerolinecolor\":\"#E1E5ED\"},\"yaxis\":{\"gridcolor\":\"#E1E5ED\",\"showgrid\":true,\"tickfont\":{\"color\":\"#4D5663\"},\"title\":{\"font\":{\"color\":\"#4D5663\"},\"text\":\"\"},\"zerolinecolor\":\"#E1E5ED\"}},                        {\"showLink\": true, \"linkText\": \"Export to plot.ly\", \"plotlyServerURL\": \"https://plot.ly\", \"responsive\": true}                    ).then(function(){\n",
       "                            \n",
       "var gd = document.getElementById('3ae58440-2026-40be-b8e1-b7c23b920759');\n",
       "var x = new MutationObserver(function (mutations, observer) {{\n",
       "        var display = window.getComputedStyle(gd).display;\n",
       "        if (!display || display === 'none') {{\n",
       "            console.log([gd, 'removed!']);\n",
       "            Plotly.purge(gd);\n",
       "            observer.disconnect();\n",
       "        }}\n",
       "}});\n",
       "\n",
       "// Listen for the removal of the full notebook cells\n",
       "var notebookContainer = gd.closest('#notebook-container');\n",
       "if (notebookContainer) {{\n",
       "    x.observe(notebookContainer, {childList: true});\n",
       "}}\n",
       "\n",
       "// Listen for the clearing of the current output cell\n",
       "var outputEl = gd.closest('.output');\n",
       "if (outputEl) {{\n",
       "    x.observe(outputEl, {childList: true});\n",
       "}}\n",
       "\n",
       "                        })                };                });            </script>        </div>"
      ]
     },
     "metadata": {},
     "output_type": "display_data"
    }
   ],
   "source": [
    "regd.mean().iplot(kind='bar')"
   ]
  },
  {
   "cell_type": "markdown",
   "metadata": {},
   "source": [
    "## Conclusions"
   ]
  },
  {
   "cell_type": "markdown",
   "metadata": {},
   "source": [
    "Based on this tutorial, we can conclude that\n",
    "\n",
    "* it is easy to retrieve **historical end-of-day and intraday data across asset classes** via the Eikon Data API,\n",
    "* `Plotly` and `Cufflinks` make **financial data visualization** convenient and\n",
    "* there is **support for the Random Walk Hypothesis** based on the OLS regression analysis (both daily and a little bit less so intraday)."
   ]
  },
  {
   "cell_type": "markdown",
   "metadata": {},
   "source": [
    "## Eikon Data API Developer Resources"
   ]
  },
  {
   "cell_type": "markdown",
   "metadata": {},
   "source": [
    "* [Overview](https://developers.thomsonreuters.com/eikon-data-apis) \n",
    "* [Quick Start ](https://developers.thomsonreuters.com/eikon-data-apis/quick-start)\n",
    "* [Documentation](https://developers.thomsonreuters.com/eikon-data-apis/docs)\n",
    "* [Downloads](https://developers.thomsonreuters.com/eikon-data-apis/downloads)\n",
    "* [Tutorials](https://developers.thomsonreuters.com/eikon-data-apis/learning)\n",
    "* [Q&A Forums](https://developers.thomsonreuters.com/eikon-data-apis/qa) \n",
    "\n",
    "Data Item Browser Application: Type `DIB` into Eikon Search Bar."
   ]
  },
  {
   "cell_type": "markdown",
   "metadata": {},
   "source": [
    "<img src=\"http://eikon.tpq.io/refinitiv_logo.png\" width=\"28%\" align=\"left\" style=\"vertical-align: top; padding-top: 23px;\">\n",
    "<img src=\"http://hilpisch.com/tpq_logo_long.png\" width=\"36%\" align=\"right\" style=\"vertical-align: top;\">"
   ]
  },
  {
   "cell_type": "code",
   "execution_count": null,
   "metadata": {},
   "outputs": [],
   "source": []
  }
 ],
 "metadata": {
  "kernelspec": {
   "display_name": "Python 3 (ipykernel)",
   "language": "python",
   "name": "python3"
  },
  "language_info": {
   "codemirror_mode": {
    "name": "ipython",
    "version": 3
   },
   "file_extension": ".py",
   "mimetype": "text/x-python",
   "name": "python",
   "nbconvert_exporter": "python",
   "pygments_lexer": "ipython3",
   "version": "3.9.13"
  }
 },
 "nbformat": 4,
 "nbformat_minor": 2
}

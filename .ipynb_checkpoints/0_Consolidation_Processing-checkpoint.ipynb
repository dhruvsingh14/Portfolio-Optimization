{
 "cells": [
  {
   "cell_type": "markdown",
   "id": "57fdd5b4",
   "metadata": {},
   "source": [
    "#### Task: Survey Response Processing <br> POC: Dhruv Singh <br> Date Updated: 7/11/2023"
   ]
  },
  {
   "cell_type": "markdown",
   "id": "f614e300",
   "metadata": {},
   "source": [
    "# Consolidation"
   ]
  },
  {
   "cell_type": "markdown",
   "id": "ed04824d",
   "metadata": {},
   "source": [
    "### Step 0: Setup"
   ]
  },
  {
   "cell_type": "code",
   "execution_count": null,
   "id": "46c6e4e5",
   "metadata": {},
   "outputs": [],
   "source": [
    "# libraries\n",
    "import os\n",
    "import json\n",
    "import glob\n",
    "import warnings\n",
    "import numpy as np\n",
    "import pandas as pd\n",
    "import re\n",
    "import utils\n",
    "import datetime\n",
    "from IPython.display import display, Markdown\n",
    "warnings.filterwarnings(\"ignore\")\n",
    "pd.set_option('display.max_columns', None)\n",
    "# pd.reset_option('display.max_columns')"
   ]
  },
  {
   "cell_type": "code",
   "execution_count": null,
   "id": "f4ac1c78",
   "metadata": {},
   "outputs": [],
   "source": [
    "# all filepaths\n",
    "survey_data = \"0_readonly/Survey_Responses/\"\n",
    "roster_path = \"0_readonly/Synthetic_Roster.xlsx\"\n",
    "sharepoint_path = \"0_readonly/Example_SharePoint_Synthetic.xlsx\""
   ]
  },
  {
   "cell_type": "code",
   "execution_count": null,
   "id": "a41f081f",
   "metadata": {},
   "outputs": [],
   "source": [
    "# USER INPUT REQUIRED\n",
    "month_current = 'June'\n",
    "month_previous = 'May'\n",
    "dod_id = 'DOD ID'\n",
    "date_input = datetime.datetime(2023, 6, 8)"
   ]
  },
  {
   "cell_type": "code",
   "execution_count": null,
   "id": "fb4c6991",
   "metadata": {},
   "outputs": [],
   "source": [
    "# global variables\n",
    "month_current_abv = month_current[0:3]\n",
    "month_previous_abv = month_previous[0:3]\n",
    "\n",
    "month = date_input.month\n",
    "year = date_input.year"
   ]
  },
  {
   "cell_type": "markdown",
   "id": "cb637d70",
   "metadata": {},
   "source": [
    "### Step 1: Reading in Data"
   ]
  },
  {
   "cell_type": "code",
   "execution_count": null,
   "id": "217ae8f4",
   "metadata": {},
   "outputs": [],
   "source": [
    "# roster data\n",
    "roster = utils.clean_roster(roster_path)[2]\n",
    "\n",
    "# saving out updated roster\n",
    "with pd.ExcelWriter(\"./1_cleaned_data/Synthetic_Roster_{}{}.xlsx\".format(month_current_abv, year)) as writer:\n",
    "    roster.to_excel(writer, sheet_name=\"Synthetic_Roster\", index=False);\n",
    "\n",
    "# printing \n",
    "display(roster.sample(n=5), roster.shape)"
   ]
  },
  {
   "cell_type": "code",
   "execution_count": null,
   "id": "89b92e75",
   "metadata": {},
   "outputs": [],
   "source": [
    "# sharepoint data\n",
    "sharepoint = utils.clean_sharepoint(sharepoint_path)\n",
    "sharepoint = sharepoint.rename(columns={'DOD ID': dod_id}) # redundant while testing\n",
    "\n",
    "# reading in roster_specialty\n",
    "specialties = pd.read_excel(\"0_readonly/Specialties_Mapping.xlsx\", sheet_name=\"Specialties_Mapping\", dtype={'Specialty Code': str})\n",
    "\n",
    "# dmis uic mapping\n",
    "dmis_uic = pd.read_excel(\"0_readonly/DMIS_UIC_mapping.xlsx\", sheet_name='Sheet1', dtype={'DMIS Code': str, 'UIC': str})\n",
    "\n",
    "# printing\n",
    "display(sharepoint.sample(n=5), sharepoint.shape, specialties.sample(n=5), specialties.shape, dmis_uic.head(), dmis_uic.shape)"
   ]
  },
  {
   "cell_type": "markdown",
   "id": "246ae12f",
   "metadata": {},
   "source": [
    "### Step 1: Early Delinquency Report"
   ]
  },
  {
   "cell_type": "code",
   "execution_count": null,
   "id": "5748a871",
   "metadata": {},
   "outputs": [],
   "source": [
    "# get roster for participants not found in sharepoint pull\n",
    "early_del = roster.loc[~roster[dod_id].isin(sharepoint[dod_id])]\n",
    "# early_del = early_del.drop(columns=['SSAN',dod_id,'xUIC','SSN','PRD']) # GFE specific columns\n",
    "\n",
    "# saving out early delinquency report\n",
    "early_del.to_excel('2_output/Early_Delinquency_Reports_{}{}.xlsx'.format(month_current_abv, year), index=False)\n",
    "display(early_del.sample(n=5), early_del.shape)"
   ]
  },
  {
   "cell_type": "markdown",
   "id": "9d2370e4",
   "metadata": {},
   "source": [
    "### Step 2: Combining Survey Data"
   ]
  },
  {
   "cell_type": "code",
   "execution_count": null,
   "id": "2b55e918",
   "metadata": {},
   "outputs": [],
   "source": [
    "# corps_specialty codes \n",
    "corps_specialty = specialties['Corps Code'] + \"_\" + specialties['Specialty Code']\n",
    "\n",
    "# printing\n",
    "display(corps_specialty[0:10])\n",
    "print(\"Length of Corps_Specialty: \", len(corps_specialty))"
   ]
  },
  {
   "cell_type": "code",
   "execution_count": null,
   "id": "d4d25943",
   "metadata": {},
   "outputs": [],
   "source": [
    "dfs = [] # to contain all dataframes\n",
    "total_responses = 0\n",
    "\n",
    "# reading in survey responses\n",
    "for cor_spec in corps_specialty:\n",
    "    file_list = glob.glob(survey_data + cor_spec + '*.xlsx')    \n",
    "    print(cor_spec, ':', len(file_list)) # submissions per corps/specialty\n",
    "    \n",
    "    # pulling responses within each specialty (same CADC questions)\n",
    "    list_mapper = map(lambda filename: pd.read_excel(filename, dtype={dod_id: str}), file_list) # map object: each specialty \n",
    "    df_list = list(list_mapper) # useable list of dfs\n",
    "    \n",
    "    # filename column\n",
    "    for i in range(len(df_list)):\n",
    "        path = file_list[i]\n",
    "        parts = path.split(\"/\") + path.split(\"\\\\\")\n",
    "        filename = parts[-1]\n",
    "        df_list[i]['Filename'] = filename    \n",
    "    \n",
    "    # combining responses within each specialty (same CADC questions)\n",
    "    try:\n",
    "        df_concat = pd.concat(df_list, axis=0, ignore_index=True)    \n",
    "    \n",
    "        # converting to long form\n",
    "        df_concat = pd.melt(df_concat, id_vars=['Number of Entries', dod_id, 'First Name', 'Last Name', \n",
    "                                                'DMIS-Location', 'From_Date', 'To_Date', 'Filename'], \n",
    "                                                 var_name='Metrics', value_name='Value')\n",
    "    except ValueError:\n",
    "        df_concat = pd.DataFrame()\n",
    "\n",
    "    # appending all dataframes\n",
    "    dfs.append(df_concat)\n",
    "    total_responses+= len(file_list)    \n",
    "\n",
    "concatenated_df = pd.concat(dfs)\n",
    "\n",
    "# printing\n",
    "print(\"Total responses:\",total_responses, \"\\n\")\n",
    "\n",
    "display(Markdown('**' + \"Local Variables:\" + '**' + \"\\n\"))\n",
    "print(\"file_list: \\n\", file_list[0:5])\n",
    "print(\"length: \", len(file_list), \"\\n\")\n",
    "print(\"list_mapper:\", list_mapper, \"\\n\")\n",
    "print(\"df_list: \\n\", df_list[0])\n",
    "print(\"length: \", len(df_list), \"\\n\")\n",
    "print(\"filename: \\n\", filename)\n",
    "display(Markdown(\"df_concat:\"), df_concat[0:1], Markdown(\"length: \" + str(len(df_concat))))\n",
    "display(Markdown(\"dfs:\"), dfs[0:1], Markdown(\"length: \" + str(len(dfs))))\n",
    "\n",
    "display(Markdown('**' + \"Concatenated df\" + '**'), concatenated_df.sample(n=5), concatenated_df.shape)"
   ]
  },
  {
   "cell_type": "markdown",
   "id": "a4508025",
   "metadata": {},
   "source": [
    "### Step 3: Master Dataframe\n",
    "* Combining following dataframes: Roster, Sharepoint, Survey, DMIS Mapping\n",
    "* Adding the following columns: Site Names, Region, DMIS Code, Corps, Specialties"
   ]
  },
  {
   "cell_type": "markdown",
   "id": "d184c1f8",
   "metadata": {},
   "source": [
    "#### Merging"
   ]
  },
  {
   "cell_type": "code",
   "execution_count": null,
   "id": "a256acae",
   "metadata": {},
   "outputs": [],
   "source": [
    "# adding dmis site name to roster\n",
    "roster_dmis = pd.merge(roster, dmis_uic[['UIC', 'Official DMIS Facility Name', 'Report Site Name', 'CIC Site Name', 'Region']], on='UIC', how='left')\n",
    "\n",
    "# adding corps and specialties to submissions\n",
    "submissions = pd.merge(roster_dmis, specialties, on='Spec Name', how='left')\n",
    "\n",
    "# adding survey responses to roster+sharepoint\n",
    "submissions = pd.merge(submissions, concatenated_df, on=dod_id, how='outer')\n",
    "\n",
    "# adding sharepoint submissions to roster\n",
    "submissions = pd.merge(submissions, sharepoint.drop(columns='DMIS Code'), on=dod_id, how='left')"
   ]
  },
  {
   "cell_type": "code",
   "execution_count": null,
   "id": "af1efe95",
   "metadata": {},
   "outputs": [],
   "source": [
    "# dropping any rows without dod id\n",
    "submissions.dropna(subset=[dod_id], inplace=True)\n",
    "\n",
    "# identifying non-roster rows\n",
    "submissions.Category.fillna('Non-Roster', inplace=True)\n",
    "submissions.Category.value_counts()"
   ]
  },
  {
   "cell_type": "markdown",
   "id": "76fc52fe",
   "metadata": {},
   "source": [
    "#### Adding columns: Submission Time, Month, Trend"
   ]
  },
  {
   "cell_type": "code",
   "execution_count": null,
   "id": "74234955",
   "metadata": {},
   "outputs": [],
   "source": [
    "# submission time categories\n",
    "date_checker = lambda date_input, date: \"On-Time\" if (date_input - date).days < 30 else (\"Late\" if (date - date_input).days <=5 else \"Missing\")\n",
    "submissions['Time Submission'] = submissions['Modified'].apply(lambda x: date_checker(date_input, x))"
   ]
  },
  {
   "cell_type": "code",
   "execution_count": null,
   "id": "615b90c8",
   "metadata": {},
   "outputs": [],
   "source": [
    "# adding month and trend columns\n",
    "submissions['Month'] = month_current\n",
    "\n",
    "# received column based on time submission\n",
    "submissions['Received'] = 0\n",
    "submissions.loc[((submissions['Time Submission'] == 'On-Time') | (submissions['Time Submission'] == 'Late')), 'Received'] = 1"
   ]
  },
  {
   "cell_type": "markdown",
   "id": "cc096efc",
   "metadata": {},
   "source": [
    "### TEMPORARY PATCH: GROUPING SPECIALTIES\n",
    "#### TO BE PUSHED TO SUBSETTED MASTER DATAFRAME\n",
    "##### START >>>"
   ]
  },
  {
   "cell_type": "code",
   "execution_count": null,
   "id": "4f603bce",
   "metadata": {},
   "outputs": [],
   "source": [
    "submissions.loc[submissions['Specialties'] == 'Trauma Surgery', 'Specialties'] = 'General Surgery'"
   ]
  },
  {
   "cell_type": "code",
   "execution_count": null,
   "id": "0abec1c4",
   "metadata": {},
   "outputs": [],
   "source": [
    "submissions.Specialties = submissions.Specialties.str.replace('^Independent Duty Corpsman.*$', 'Independent Duty Corpsman')"
   ]
  },
  {
   "cell_type": "code",
   "execution_count": null,
   "id": "96333652",
   "metadata": {},
   "outputs": [],
   "source": [
    "submissions.loc[submissions['Specialties'] == 'Independent Duty Corpsman', 'Specialty Code'] = 'L01A'"
   ]
  },
  {
   "cell_type": "markdown",
   "id": "f36d0fde",
   "metadata": {},
   "source": [
    "##### <<< END"
   ]
  },
  {
   "cell_type": "markdown",
   "id": "6b555350",
   "metadata": {},
   "source": [
    "#### Saving out master dataframe"
   ]
  },
  {
   "cell_type": "code",
   "execution_count": null,
   "id": "329eedb6",
   "metadata": {},
   "outputs": [],
   "source": [
    "submissions.to_excel('1_cleaned_data/Master_df_{}{}.xlsx'.format(month_current_abv, year), index=False)\n",
    "submissions.sample(n=5)"
   ]
  },
  {
   "cell_type": "markdown",
   "id": "6a63fd94",
   "metadata": {},
   "source": [
    "### Step 4: CIC Metrics\n",
    "* Aggregating to DOD-ID level to obtain one row per roster name / submission (count)\n",
    "    * not using actual survey responses in calculation\n",
    "* Subsetting to relevant columns"
   ]
  },
  {
   "cell_type": "code",
   "execution_count": null,
   "id": "2535fc88",
   "metadata": {},
   "outputs": [],
   "source": [
    "# creating dataframe for CIC Metrics\n",
    "cic_df = submissions[[dod_id, 'Region', 'CIC Site Name', 'Category', 'Time Submission', 'Month', 'Corps', 'Specialties', 'Received']].groupby([dod_id, 'Region', 'CIC Site Name', 'Category', 'Time Submission', 'Month', 'Corps', 'Specialties', 'Received']).size().reset_index()\n",
    "cic_df = cic_df.rename(columns={'CIC Site Name': 'Site'}) # renaming\n",
    "cic_df.drop(columns=0, inplace=True)\n",
    "display(cic_df.head(), cic_df.shape)"
   ]
  },
  {
   "cell_type": "markdown",
   "id": "2a0f2965",
   "metadata": {},
   "source": [
    "#### TAB 1: Site Submissions"
   ]
  },
  {
   "cell_type": "code",
   "execution_count": null,
   "id": "5a653adc",
   "metadata": {},
   "outputs": [],
   "source": [
    "# metrics for each level\n",
    "overall = utils.tab1_df(cic_df, ['Category', 'Time Submission', 'Month'])\n",
    "region = utils.tab1_df(cic_df, ['Category', 'Region', 'Time Submission', 'Month'])\n",
    "site = utils.tab1_df(cic_df, ['Category', 'Region', 'Site', 'Time Submission', 'Month'])\n",
    "\n",
    "# recoding categories\n",
    "overall.insert(0, 'Region', 'OVERALL') \n",
    "overall.insert(1, 'Site', 'OVERALL')\n",
    "region.insert(1, 'Site', 'Total')\n",
    "\n",
    "# combining\n",
    "site_submissions = pd.concat([overall, region, site], ignore_index=True)"
   ]
  },
  {
   "cell_type": "code",
   "execution_count": null,
   "id": "02b148a3",
   "metadata": {},
   "outputs": [],
   "source": [
    "# converting long to wide: time submission categories to columns\n",
    "site_submissions = site_submissions.pivot_table(index=['Category', 'Region', 'Site', 'Month'], columns='Time Submission', values='count').reset_index()\n",
    "site_submissions.columns.name = None\n",
    "site_submissions = site_submissions[['Category', 'Region', 'Site', 'On-Time', 'Late', 'Missing', 'Month']] \n",
    "\n",
    "# qa: site total == roster personnel for site, should be true\n",
    "site_submissions.insert(6, 'Site Total', site_submissions['On-Time'] + site_submissions['Late'] + site_submissions['Missing'])"
   ]
  },
  {
   "cell_type": "markdown",
   "id": "3f3da7e5",
   "metadata": {},
   "source": [
    "Trend column"
   ]
  },
  {
   "cell_type": "markdown",
   "id": "c03af958",
   "metadata": {},
   "source": [
    "##### TO DO: Determine where to place last month's CIC metrics. Does it need to be moved manually? Or can it be referenced directly?"
   ]
  },
  {
   "cell_type": "code",
   "execution_count": null,
   "id": "f5966256",
   "metadata": {},
   "outputs": [],
   "source": [
    "# reading in prior month data\n",
    "site_submissions_prev = pd.read_excel(\"2_output/Submission_Metrics_CIC_{}{}.xlsx\".format(month_previous_abv, year), sheet_name=\"Site Submissions\")"
   ]
  },
  {
   "cell_type": "code",
   "execution_count": null,
   "id": "e1d2505e",
   "metadata": {},
   "outputs": [],
   "source": [
    "# adding trend column\n",
    "site_submissions = utils.tab1_trend(site_submissions, site_submissions_prev)\n",
    "display(site_submissions.tail(), site_submissions.shape)"
   ]
  },
  {
   "cell_type": "markdown",
   "id": "551050ad",
   "metadata": {},
   "source": [
    "#### TAB 2: Specialty Counts"
   ]
  },
  {
   "cell_type": "code",
   "execution_count": null,
   "id": "c015a4f8",
   "metadata": {},
   "outputs": [],
   "source": [
    "# aggregating\n",
    "specialty = utils.tab2_df(cic_df, ['Site', 'Corps', 'Specialties', 'Received', 'Month'], ['Site', 'Corps', 'Specialties', 'Month'])\n",
    "corps = utils.tab2_df(cic_df, ['Site', 'Corps', 'Received', 'Month'], ['Site', 'Corps', 'Month'])\n",
    "\n",
    "# recoding\n",
    "corps.insert(2, 'Specialties', 'OVERALL')\n",
    "\n",
    "# renaming aggregated column\n",
    "columns = specialty.columns.tolist()\n",
    "columns[-2] = 'Roster_NonRoster'\n",
    "specialty.columns = columns\n",
    "\n",
    "# renaming aggregated column\n",
    "columns = corps.columns.tolist()\n",
    "columns[-2] = 'Roster_NonRoster'\n",
    "corps.columns = columns"
   ]
  },
  {
   "cell_type": "code",
   "execution_count": null,
   "id": "12c64977",
   "metadata": {},
   "outputs": [],
   "source": [
    "# combining\n",
    "specialty_counts = pd.concat([specialty, corps], ignore_index=True)\n",
    "\n",
    "# recoding overall column\n",
    "specialty_counts.insert(1, 'Overall', 'No')\n",
    "specialty_counts.loc[specialty_counts['Specialties'] == 'OVERALL', 'Overall'] = 'Yes'\n",
    "# calculating submission rates\n",
    "specialty_counts.insert(7, 'Submission Rate', ((specialty_counts['Received'] / specialty_counts['Roster_NonRoster']) * 100 ).round(2))"
   ]
  },
  {
   "cell_type": "markdown",
   "id": "1dbbe152",
   "metadata": {},
   "source": [
    "Trend column"
   ]
  },
  {
   "cell_type": "code",
   "execution_count": null,
   "id": "24db9d1d",
   "metadata": {},
   "outputs": [],
   "source": [
    "specialty_counts_prev = pd.read_excel(\"2_output/Submission_Metrics_CIC_{}{}.xlsx\".format(month_previous_abv, year), sheet_name=\"Specialty Counts\").rename(columns={\"Specialty\" : \"Specialties\"}) # rename is temporary"
   ]
  },
  {
   "cell_type": "code",
   "execution_count": null,
   "id": "8bd6cc5f",
   "metadata": {},
   "outputs": [],
   "source": [
    "specialty_counts = utils.tab2_trend(specialty_counts, specialty_counts_prev)\n",
    "display(specialty_counts.head(), specialty_counts.shape)"
   ]
  },
  {
   "cell_type": "markdown",
   "id": "298e46e4",
   "metadata": {},
   "source": [
    "#### Saving out CIC Metrics"
   ]
  },
  {
   "cell_type": "code",
   "execution_count": null,
   "id": "09c1c4ca",
   "metadata": {},
   "outputs": [],
   "source": [
    "# CIC Metrics\n",
    "with pd.ExcelWriter(\"./2_output/Submission_Metrics_CIC_{}{}.xlsx\".format(month_current_abv, year)) as writer:\n",
    "    site_submissions.to_excel(writer, sheet_name=\"Site Submissions\", index=False)\n",
    "    specialty_counts.to_excel(writer, sheet_name=\"Specialty Counts\", index=False)"
   ]
  },
  {
   "cell_type": "markdown",
   "id": "d4349de3",
   "metadata": {},
   "source": [
    "### Step 5: QA Logs"
   ]
  },
  {
   "cell_type": "code",
   "execution_count": null,
   "id": "136134fb",
   "metadata": {},
   "outputs": [],
   "source": [
    "from datetime import datetime"
   ]
  },
  {
   "cell_type": "code",
   "execution_count": null,
   "id": "e538d29c",
   "metadata": {},
   "outputs": [],
   "source": [
    "time_current = datetime.now().strftime(\"%Y.%m.%d_%H.%M.%S\")\n",
    "\n",
    "# resetting output file\n",
    "if os.path.exists('1_cleaned_data/submissions_overview/{}_Submissions_Overview.txt'.format(time_current)):\n",
    "    os.remove('1_cleaned_data/submissions_overview/{}_Submissions_Overview.txt'.format(time_current))\n",
    "\n",
    "# overall count\n",
    "with open('1_cleaned_data/submissions_overview/{}_Submissions_Overview.txt'.format(time_current), 'a') as f:\n",
    "        print(\"Total overall submissions:{}\\n\".format(site_submissions[site_submissions.Region == 'OVERALL']['Site Total'].values[0]), file=f)\n",
    "        #print('\\n', file=f)\n",
    "        print('----------------', file=f)\n",
    "    \n",
    "# counts by submission time\n",
    "with open('1_cleaned_data/submissions_overview/{}_Submissions_Overview.txt'.format(time_current), 'a') as f:\n",
    "        print(\"On-Time:{}\".format(site_submissions[site_submissions.Region == 'OVERALL']['On-Time'].values[0]), file=f)\n",
    "        print(\"Late:{}\".format(site_submissions[site_submissions.Region == 'OVERALL']['Late'].values[0]), file=f)\n",
    "        print(\"Missing:{}\\n\".format(site_submissions[site_submissions.Region == 'OVERALL']['Missing'].values[0]), file=f)\n",
    "        print('----------------', file=f)\n",
    "\n",
    "# counts by site\n",
    "for site in sorted(site_submissions[(site_submissions.Site != 'Total') & (site_submissions.Site != 'OVERALL')]['Site']):\n",
    "    # saving output\n",
    "    with open('1_cleaned_data/submissions_overview/{}_Submissions_Overview.txt'.format(time_current), 'a') as f:\n",
    "        print(\"Total submissions from {}:{}\".format(site, site_submissions[site_submissions.Site == site]['Site Total'].values[0]), file=f)\n",
    "\n",
    "# line break\n",
    "with open('1_cleaned_data/submissions_overview/{}_Submissions_Overview.txt'.format(time_current), 'a') as f:\n",
    "    print('\\n----------------', file=f)\n",
    "\n",
    "# counts by specialty\n",
    "for specialty in sorted(specialty_counts[specialty_counts.Overall == 'No']['Specialties'].unique()):\n",
    "    # saving output\n",
    "    with open('1_cleaned_data/submissions_overview/{}_Submissions_Overview.txt'.format(time_current), 'a') as f:\n",
    "        print(\"Total submissions by {}:{}\".format(specialty, specialty_counts[specialty_counts.Specialties == specialty]['Received'].sum()), file=f)\n",
    "\n",
    "# printing\n",
    "with open('1_cleaned_data/submissions_overview/{}_Submissions_Overview.txt'.format(time_current), 'r') as f:\n",
    "        print(f.read())"
   ]
  },
  {
   "cell_type": "markdown",
   "id": "b5dc1761",
   "metadata": {},
   "source": [
    "### Step 6: Delinquency Reports\n",
    "* Aggregating to DOD-ID level to obtain one row per roster name / submission (count)\n",
    "* Subsetting to relevant columns"
   ]
  },
  {
   "cell_type": "code",
   "execution_count": null,
   "id": "67abf1a8",
   "metadata": {},
   "outputs": [],
   "source": [
    "# creating dataframe for delinquency reports\n",
    "delinquency_df = submissions[['XGRADE', 'NAME', 'Spec Name', dod_id, 'UIC', 'xUIC', 'Type', 'Received']].groupby(['XGRADE', 'NAME', 'Spec Name', dod_id, 'UIC', 'xUIC', 'Type', 'Received']).size().reset_index()\n",
    "\n",
    "# subsetting rows and columns to delinquent roster names\n",
    "delinquency_df = delinquency_df[delinquency_df.Received==0]\n",
    "delinquency_df.drop(columns=['Received', 0], inplace=True)"
   ]
  },
  {
   "cell_type": "markdown",
   "id": "b461dc49",
   "metadata": {},
   "source": [
    "#### Saving out Delinquency Reports"
   ]
  },
  {
   "cell_type": "code",
   "execution_count": null,
   "id": "354ae6f6",
   "metadata": {},
   "outputs": [],
   "source": [
    "# Save DataFrame to an Excel file\n",
    "delinquency_df.to_excel('2_output/Delinquency_Reports_{}{}.xlsx'.format(month_current_abv,year), index=False)\n",
    "display(delinquency_df.sample(n=5), delinquency_df.shape)"
   ]
  }
 ],
 "metadata": {
  "kernelspec": {
   "display_name": "Python 3 (ipykernel)",
   "language": "python",
   "name": "python3"
  },
  "language_info": {
   "codemirror_mode": {
    "name": "ipython",
    "version": 3
   },
   "file_extension": ".py",
   "mimetype": "text/x-python",
   "name": "python",
   "nbconvert_exporter": "python",
   "pygments_lexer": "ipython3",
   "version": "3.9.13"
  }
 },
 "nbformat": 4,
 "nbformat_minor": 5
}
